{
 "cells": [
  {
   "cell_type": "markdown",
   "metadata": {},
   "source": [
    "Bitte ausfüllen:\n",
    "- [ ] ich habe die Aufgaben alleine gelöst\n",
    "- [ ] Wir, ___________________ und ___________________, haben die Aufgaben als Zweierteam gelöst.\n",
    "\n",
    "Wenn Sie Ihren Komilitonen bei der Abgabe (Studenten-Adresse!) ins cc setzen, kann ich die Korrektur an beide schicken.\n",
    "\n",
    "# Korrektur\n",
    "\n",
    "Viel Erfolg!\n",
    "\n",
    "### Bewertung\n",
    "\n",
    "#### _/12 Punkte\n",
    "\n",
    "----"
   ]
  },
  {
   "cell_type": "code",
   "execution_count": 1,
   "metadata": {
    "collapsed": true
   },
   "outputs": [],
   "source": [
    "'''import standard libraries'''\n",
    "import numpy as np                       # mathematical methods\n",
    "from scipy import stats                  # contains some fitting routines\n",
    "from matplotlib import pyplot as plt     # plotting methods\n",
    "%matplotlib inline"
   ]
  },
  {
   "cell_type": "markdown",
   "metadata": {},
   "source": [
    "# Übungsaufgaben 03 - *Wahrscheinlichkeitstheorie*"
   ]
  },
  {
   "cell_type": "markdown",
   "metadata": {},
   "source": [
    "#### Bitte lösen sie die Aufgaben \n",
    "- innerhalb dieses Notebooks \n",
    "- welches Sie bitte umbenennen in `A03_IHRNAME.ipynb` (IHRNAME passend ersetzen)\n",
    "\n",
    "und schicken das ausgeführte Notebook dann\n",
    "\n",
    "#### bis spätestens zum Montag, 12. November,  22.00 Uhr\n",
    "als Anhang einer Email mit Titel \"`Angewandte Statistik I`\" an `uli.wannek@uni-tuebingen.de`\n",
    "\n",
    "#### Danke!"
   ]
  },
  {
   "cell_type": "markdown",
   "metadata": {},
   "source": [
    "### Hinweise\n",
    "- Text-Antworten sowie $\\LaTeX$-Formeln am besten in *markdown* Zellen\n",
    "    - Sie müssen nicht, dürfen aber durchaus, Text in `print('')`-Anweisungen ausgeben\n",
    "    - Wenn Sie Ergebnisse aus Zellen verwenden ist `print('{}'.format())` in code-Zellen hingegen extrem praktisch\n",
    "- Sie dürfen in diesem Notebook gerne alles, was nicht zu den Aufgaben gehört, löschen.\n",
    "- Sie dürfen gerne (zu Ihrem späteren **und** meinem jetzigen Verständnis) Kommentare in weiteren markdown-Zellen einfügen. Das hilft wirklich!\n",
    "- Es gibt Punkte für\n",
    "    - Ihre Überlegung\n",
    "    - Ihr Programm\n",
    "    - Ihre Kommentare(!)\n",
    "    - und schließlich für das richtige Ergebnis\n",
    "    - mit Zusammenfassung wie zB.: *\"der Mittelwert beträgt 17km/h\"*\n",
    "- Sie dürfen (müssen aber nicht) alle Antworten natürlich auch auch auf Deutsch verfassen.\n",
    "- Lediglich Kommentare in Code-Zellen sollten (müssen aber nicht) englisch sein.  \n",
    "- Für manche Programmieraufgaben werden nur Ergebnisse, die ausgewertet werden sollen, gezeigt ohne dass die zugrundeliegenden Daten hinterlegt sind. Wenn alle Zellen ausgeführt werden, verschwinden die Ergebnisse und Abbildungen und das Notebook muss zur korrekten Bearbeitung erneut heruntergeladen werden"
   ]
  },
  {
   "cell_type": "markdown",
   "metadata": {},
   "source": [
    "# 1. Erwartungswert\n",
    "### a) Was ist der Erwartungswert an Geld in Ihrem Geldbeutel, wenn sich 3 Münzen (Euro-Land) darin befinden?\n",
    "Begründen Sie Ihre Wahl der Zufallsvariable: den Wertebereich und die Wahrscheinlichkeiten!"
   ]
  },
  {
   "cell_type": "markdown",
   "metadata": {},
   "source": [
    "### b) Beschreiben Sie den Wahrscheinlichkeitsraum ($\\Omega, \\Sigma, P$)\n",
    "Hinweis: Geben Sie für $\\Sigma$ die Größe an und nennen Sie 3 Beispiele. "
   ]
  },
  {
   "cell_type": "markdown",
   "metadata": {},
   "source": [
    "$\\color{green}{2 \\text{ Punkte}}$"
   ]
  },
  {
   "cell_type": "markdown",
   "metadata": {},
   "source": [
    "---"
   ]
  },
  {
   "cell_type": "markdown",
   "metadata": {},
   "source": [
    "# 2. Abhängige / Unabhängige Zufallsexperimente\n",
    "#### Bemerkung zum Erwartungswert\n",
    "\n",
    "0. Normales Glücksrad, normale Münze, beide fair nach *Laplace*.\n",
    "1. Berechnen Sie die Erwartungswerte theoretisch\n",
    "2. Programmieren Sie den Erwartungswert \n",
    "    - mit numpy arrays und `.sum()` oder `.dot()`\n",
    "3. und vergleichen Sie Ihr theoretisches Ergebnis mit dem aus Ihrem Programm"
   ]
  },
  {
   "cell_type": "markdown",
   "metadata": {},
   "source": [
    "## 2.1) abhängig \n",
    "### a) Glücksrad\n",
    "Sie drehen ein Mal am Glücksrad. Dieses Glücksrad hat 8 gleich große Felder, die von 0 bis 7 durchnummeriert sind und  die jeweilige Punktzahl für das Feld angeben. \n",
    "\n",
    "- Wie groß ist der Erwartungswert für das Ergebnis Ra beim Drehen? \n",
    "\n",
    "### b) Bonus\n",
    "Ist Ihre im Glücksrad gedrehte Zahl größer/gleich 4, dann bekommen Sie einen zusätzlichen Bonus von +2 Punkten. \n",
    "\n",
    "- Wie groß ist der Erwartungswert für den Bonus Ba alleine?\n",
    "\n",
    "### c) Gesamt\n",
    "- Wie groß ist der Erwartungswert für die gesamte Punktzahl Ga aus Punkten mitsamt Bonus? "
   ]
  },
  {
   "cell_type": "markdown",
   "metadata": {},
   "source": [
    "## 2.2) unabhängig\n",
    "### a) Glücksrad\n",
    "Das Glücksrad ist das Selbe, das Sie in 2.1 verwendet haben. \n",
    "\n",
    "- Wie groß ist der Erwartungswert für das Ergebnis Ru beim Drehen?  \n",
    "\n",
    "### b) Bonus\n",
    "Diesmal bekommen Sie einen Bonus von +2 Punkten, wenn eine gleichzeitig geworfene Münze \"Zahl\" zeigt. \n",
    "\n",
    "- Wie groß ist der Erwartungswert für den Bonus Bu? \n",
    "\n",
    "### c) Gesamt\n",
    "- Wie groß ist der Erwartungswert für die gesamte Punktzahl Gu? "
   ]
  },
  {
   "cell_type": "markdown",
   "metadata": {},
   "source": [
    "## 2.3 Vergleich?\n",
    "Ausführliche Diskussion und Begründung."
   ]
  },
  {
   "cell_type": "markdown",
   "metadata": {},
   "source": [
    "$\\color{green}{4 \\text{ Punkte}}$"
   ]
  },
  {
   "cell_type": "markdown",
   "metadata": {},
   "source": [
    "----"
   ]
  },
  {
   "cell_type": "markdown",
   "metadata": {},
   "source": [
    "# 3. Varianz von Zufallsexperimenten\n",
    "Sie drehen und werfen wie unter der vorigen 2. Aufgabe.\n",
    "\n",
    "#### Bemerkungen zur Varianz\n",
    "\n",
    "0. wie oben\n",
    "1. Berechnen Sie die Varianzen theoretisch\n",
    "2. Programmieren Sie die Varianzberechnung mit numpy-arrays und der `sum()`- oder `var()`-Funktion/Methode\n",
    "3. und vergleichen Sie Ihr theoretisches Ergebnis mit dem aus dem Programm"
   ]
  },
  {
   "cell_type": "markdown",
   "metadata": {},
   "source": [
    "## 3.1) Abhängig\n",
    "Wie groß ist die Varianz für \n",
    "- das Ergebnis beim Drehen des Glücksrades Sa?\n",
    "- den Bonus Ca?\n",
    "- die gesamte Punktzahl Ha?"
   ]
  },
  {
   "cell_type": "markdown",
   "metadata": {},
   "source": [
    "## 3.2) Unabhängig\n",
    "Wie groß ist die Varianz für \n",
    "- das Ergebnis beim Drehen des Glücksrades Su?\n",
    "- den Bonus durch die Münze Cu?\n",
    "- die gesamte Punktzahl Hu?"
   ]
  },
  {
   "cell_type": "markdown",
   "metadata": {},
   "source": [
    "## 3.3) Begründung \n",
    "\n",
    "Begründen Sie den Unterschied der Varianzen abhängig vs. unabhängig in wenigen Sätzen (unterstützt durch eine Python-Graphik)."
   ]
  },
  {
   "cell_type": "markdown",
   "metadata": {},
   "source": [
    "### Bonus: \n",
    "Wie würden sich der Erwartungswert und die Varianz verändern, wenn man 3 mal am Glücksrad drehen würde? "
   ]
  },
  {
   "cell_type": "markdown",
   "metadata": {},
   "source": [
    "$\\color{green}{4 \\text{ Punkte}}$"
   ]
  },
  {
   "cell_type": "markdown",
   "metadata": {},
   "source": [
    "----"
   ]
  },
  {
   "cell_type": "markdown",
   "metadata": {},
   "source": [
    "# 4. Bayes Regel"
   ]
  },
  {
   "cell_type": "markdown",
   "metadata": {},
   "source": [
    "In Berlin wurde eine Gesichtserkennungs-Software getestet, z.B. aktuell https://www.tagesschau.de/inland/gesichtserkennung-berlin-test-103.html\n",
    "\n",
    "- die Erkennunsrate betrug $\\quad p(E|G) = 80\\%$ \n",
    "    - zwar \"besser als\", wir rechnen dennoch mit diesem Wert\n",
    "- $p(E|\\bar{G}) = 0,1\\%$ der Personen wurden verwechselt\n",
    "    - es waren \"weniger als\", wir rechnen dennoch mit diesem Wert\n",
    "- auf 100.000 Bahnhofsnutzer pro Tag (Schätzung) kamen 312 Freiwillige \"Straftäter\" "
   ]
  },
  {
   "cell_type": "markdown",
   "metadata": {},
   "source": [
    "### a) Schreiben Sie\n",
    "die entsprechende Bayes-Formel (LaTeX, ASCII, Bild) für die Frage auf\n",
    "\n",
    "**Wie groß ist die Wahrscheinlichkeit, daß jemand gefährlich *ist*, wenn die Software ihn als gefährlich *erkennt*?**"
   ]
  },
  {
   "cell_type": "markdown",
   "metadata": {},
   "source": [
    "### b) berechnen Sie\n",
    "das Ergebnis und "
   ]
  },
  {
   "cell_type": "markdown",
   "metadata": {},
   "source": [
    "### c) zeichnen Sie\n",
    "in einem Venn-Diagramm die **relevanten** Wahrscheinlichkeiten für a) passend ein (Schraffur oder Farbe oder Umrandung *und* Bezeichnung).\n",
    "- Zeichnen Sie mit einem Graphikprogramm Ihrer Wahl und eingebundenem Bild  -oder-\n",
    "- handgemalt und abphotographiert und eingebundenem Bild  -oder-\n",
    "- Python matplotlib siehe http://matplotlib.org/examples/shapes_and_collections/artist_reference.html ) \n",
    "\n",
    "#### Hinweis\n",
    "- Es gibt eine Bibliothek `matplotlib_venn`, diese finde ich nicht so ganz geeignet, Sie dürfen sich aber gerne daran versuchen \n",
    "- Ein Venn-Diagramm muß keineswegs runde Elemente enthalten\n",
    "- Es sollte flächenmäßig die Zahlen wiederspiegeln. \n",
    "- Für zu kleine Zahlen darf man Flächen über/untertreiben\n",
    "    - muß dann alle relevanten Zellen mit Zahlen beschriften"
   ]
  },
  {
   "cell_type": "markdown",
   "metadata": {},
   "source": [
    "$\\color{green}{2 \\text{ Punkte}}$"
   ]
  }
 ],
 "metadata": {
  "anaconda-cloud": {},
  "kernelspec": {
   "display_name": "Python 3",
   "language": "python",
   "name": "python3"
  },
  "language_info": {
   "codemirror_mode": {
    "name": "ipython",
    "version": 3
   },
   "file_extension": ".py",
   "mimetype": "text/x-python",
   "name": "python",
   "nbconvert_exporter": "python",
   "pygments_lexer": "ipython3",
   "version": "3.7.0"
  }
 },
 "nbformat": 4,
 "nbformat_minor": 2
}
