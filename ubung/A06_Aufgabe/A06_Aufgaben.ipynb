{
 "cells": [
  {
   "cell_type": "markdown",
   "metadata": {},
   "source": [
    "# Einzelabgabe\n",
    "\n",
    "Für die Bonusregelung ist es von jetzt an notwendig, daß Sie einzeln bearbeiten und abgeben.\n",
    "- Sie dürfen Aufgaben durchdiskutieren und Fragen stellen,\n",
    "- aber jede/r löst am Ende selbst und gibt ab.\n",
    "\n",
    "# Korrektur\n",
    "\n",
    "Viel Erfolg!\n",
    "\n",
    "### Bewertung\n",
    "\n",
    "#### _/12 Punkte\n",
    "\n",
    "----"
   ]
  },
  {
   "cell_type": "code",
   "execution_count": 6,
   "metadata": {},
   "outputs": [],
   "source": [
    "'''import standard libraries'''\n",
    "import numpy as np                       # mathematical methods\n",
    "from scipy import stats                  # contains statistics\n",
    "from matplotlib import pyplot as plt     # plotting methods within notebook\n",
    "import time\n",
    "%matplotlib inline"
   ]
  },
  {
   "cell_type": "markdown",
   "metadata": {},
   "source": [
    "# Übungsaufgaben 06 - Sätze der Statistik"
   ]
  },
  {
   "cell_type": "markdown",
   "metadata": {},
   "source": [
    "#### Bitte lösen sie die Aufgaben \n",
    "- innerhalb dieses Notebooks \n",
    "- welches Sie bitte umbenennen in `A06_IHRNAME.ipynb` (IHRNAME passend ersetzen)\n",
    "\n",
    "und schicken das ausgeführte Notebook dann\n",
    "\n",
    "#### bis zum Montag, 03. Dezember 22.00 Uhr\n",
    "als Anhang einer Email mit Titel \"`Angewandte Statistik I`\" an `uli.wannek@uni-tuebingen.de`\n",
    "\n",
    "#### Danke!"
   ]
  },
  {
   "cell_type": "markdown",
   "metadata": {},
   "source": [
    "### Hinweise\n",
    "wie gehabt."
   ]
  },
  {
   "cell_type": "markdown",
   "metadata": {},
   "source": [
    "# Aufgabe 1) *CLT*\n",
    "### a) Versuch\n",
    "Sie sind N=100 Leute auf dem Fußballfeld und führen ein Experiment durch \n",
    "- Jede Person hat eine Münze\n",
    "- Jede Person macht n=30 Schritte: bei Kopf vorwärts, bei Zahl rückwärts\n",
    "- alle Schritte sind gleich lang\n",
    "\n",
    "#### Daten\n",
    "Erstellen Sie einen Vektor mit den Endpostionen Y (in Schritten) der 100 Leute und \n",
    "\n",
    "#### Graphik\n",
    "Zeichnen Sie das Fußballfeld mit den Endpositionen\n",
    "- Was sehen Sie?"
   ]
  },
  {
   "cell_type": "markdown",
   "metadata": {},
   "source": [
    "### b) Verteilung der Daten\n",
    "#### Verteilung\n",
    "Stellen Sie die Verteilung der y-Werte in einem passenden Histogramm dar"
   ]
  },
  {
   "cell_type": "markdown",
   "metadata": {},
   "source": [
    "## Zentraler Grenzwertsatz\n",
    "### c) was sagt der Zentrale Grenzwertsatz aus?"
   ]
  },
  {
   "cell_type": "markdown",
   "metadata": {},
   "source": [
    "### d) Welche Voraussetzungen dazu erfüllen die hier vorliegenden Daten?"
   ]
  },
  {
   "cell_type": "markdown",
   "metadata": {},
   "source": [
    "### e) Welche Voraussetzungen dazu erfüllt die hier vorliegenden Daten *nicht*?"
   ]
  },
  {
   "cell_type": "markdown",
   "metadata": {},
   "source": [
    "### f) Fit\n",
    "- Fitten Sie an die Verteilung aus b) eine Normalverteilung an\n",
    "- Plotten Sie den Fit zusammen mit der Verteilung aus b)\n",
    "- Interpretieren Sie das Ergebnis"
   ]
  },
  {
   "cell_type": "markdown",
   "metadata": {},
   "source": [
    "### g) Ist der Zentrale Grenzwertsatz erfüllt?\n",
    "- mit Begründung für f) unter Beachtung von d) und e))"
   ]
  },
  {
   "cell_type": "markdown",
   "metadata": {},
   "source": [
    "$\\color{green}{4,5 \\text{ Punkte}}$"
   ]
  },
  {
   "cell_type": "markdown",
   "metadata": {},
   "source": [
    "---"
   ]
  },
  {
   "cell_type": "markdown",
   "metadata": {},
   "source": [
    "# Aufgabe 2) Zentraler Grenzwertsatz\n",
    "\n",
    "Um ca. 1 Kilogramm Kirschmarmelade zu kochen braucht man ungefähr 600 Kirschen. Aus jahrelanger Erfahrung wissen Sie, dass in 2 von hundert Kirschen ein Wurm ist. Wie groß ist die Wahrscheinlichkeit, dass in den 600 Kirschen in höchstens 5 ein Wurm ist? Berechnen Sie die Wahrscheinlichkeit jeweils (jeweils mit Erklärung!)\n",
    "\n",
    "### a) exakt"
   ]
  },
  {
   "cell_type": "markdown",
   "metadata": {},
   "source": [
    "### b) mit der Approximation durch die Poisson-Verteilung"
   ]
  },
  {
   "cell_type": "markdown",
   "metadata": {},
   "source": [
    "### c) mit dem zentralen Grenzwertsatz "
   ]
  },
  {
   "cell_type": "markdown",
   "metadata": {},
   "source": [
    "$\\color{green}{2\\text{ Punkte}}$"
   ]
  },
  {
   "cell_type": "markdown",
   "metadata": {},
   "source": [
    "---"
   ]
  },
  {
   "cell_type": "markdown",
   "metadata": {},
   "source": [
    "# Aufgabe 3) Gesetz der großen Zahlen\n",
    "\n",
    "Sie werfen N=120 mal einen normalen, fairen Würfel (mit Python).\n",
    "\n",
    "### a) Berechnen Sie\n",
    "- den Erwartungswert der gewürfelten Zahl theoretisch \n",
    "- empirisch den Mittelwert mit Hilfe der N zufälligen Würfe"
   ]
  },
  {
   "cell_type": "markdown",
   "metadata": {},
   "source": [
    "### b) Zeichnen Sie eine Grafik,\n",
    "- die auf der x-Achse die Anzahl n (1..N) der Würfe aufträgt\n",
    "- und auf der y-Achse den (mitlaufenden) Mittelwert über die bisherigen jeweiligen Würfe 1..n\n",
    "- und zusätzlich eine Linie für den Erwartungswert"
   ]
  },
  {
   "cell_type": "markdown",
   "metadata": {},
   "source": [
    "### c) Erklären Sie\n",
    "- mit Hilfe der Grafik\n",
    "- was das Gesetz der großen Zahlen aussagt "
   ]
  },
  {
   "cell_type": "markdown",
   "metadata": {},
   "source": [
    "$\\color{green}{2\\text{ Punkte}}$"
   ]
  },
  {
   "cell_type": "markdown",
   "metadata": {},
   "source": [
    "---"
   ]
  },
  {
   "cell_type": "markdown",
   "metadata": {},
   "source": [
    "# Aufgabe 4) Theorem von Bernoulli\n",
    "\n",
    "Werfen Sie wieder N=120 mal den sechseitigen Laplaceschen Würfel.\n",
    "\n",
    "### a) Berechnen Sie\n",
    "- die theoretischen Wahrscheinlichkeiten für die Zahlen 1 bis 6\n",
    "- Ihre erhaltene empirischen relativen Häufigkeiten für jede Zahl nach 120 Würfen "
   ]
  },
  {
   "cell_type": "markdown",
   "metadata": {},
   "source": [
    "### b) Zeichnen Sie eine Grafik\n",
    "- ähnlich (aber auch nur ähnlich) zu Aufgabe 3) für eine Zahl Ihrer Wahl\n",
    "    - Was stellen Sie also sinnvoller Weise auf der y-Achse dar?\n",
    "- Beschreiben Sie, was beim Würfeln geschieht anhand der Grafik"
   ]
  },
  {
   "cell_type": "markdown",
   "metadata": {},
   "source": [
    "### c) Erklären Sie anhand der Grafik das Theorem von Bernoulli"
   ]
  },
  {
   "cell_type": "markdown",
   "metadata": {},
   "source": [
    "$\\color{green}{2 \\text{ Punkte}}$"
   ]
  },
  {
   "cell_type": "markdown",
   "metadata": {},
   "source": [
    "---"
   ]
  },
  {
   "cell_type": "markdown",
   "metadata": {},
   "source": [
    "# Aufgabe 5) Hauptsatz der Statistik\n",
    "\n",
    "Werfen Sie nochmals N1=5, N2=50 und N3=500 mal den Würfel. "
   ]
  },
  {
   "cell_type": "markdown",
   "metadata": {},
   "source": [
    "### a) Stellen Sie die empirische (relative) Verteilung der gewürfelten Zahlen nach\n",
    "-   5\n",
    "-  50\n",
    "- 500 Würfen dar.\n",
    "\n",
    "(Entweder in drei aufeinanderfolgenden Grafiken oder farblich eindeutig unterschieden in einer Grafik)"
   ]
  },
  {
   "cell_type": "markdown",
   "metadata": {},
   "source": [
    "### b) Erklären Sie, \n",
    "- mit Hilfe der Grafik(en)\n",
    "- was der Hauptsatz der Statistik aussagt"
   ]
  },
  {
   "cell_type": "markdown",
   "metadata": {},
   "source": [
    "$\\color{green}{1,5 \\text{ Punkte}}$"
   ]
  },
  {
   "cell_type": "markdown",
   "metadata": {},
   "source": [
    "---"
   ]
  }
 ],
 "metadata": {
  "anaconda-cloud": {},
  "kernelspec": {
   "display_name": "Python 3",
   "language": "python",
   "name": "python3"
  },
  "language_info": {
   "codemirror_mode": {
    "name": "ipython",
    "version": 3
   },
   "file_extension": ".py",
   "mimetype": "text/x-python",
   "name": "python",
   "nbconvert_exporter": "python",
   "pygments_lexer": "ipython3",
   "version": "3.5.2"
  }
 },
 "nbformat": 4,
 "nbformat_minor": 2
}
