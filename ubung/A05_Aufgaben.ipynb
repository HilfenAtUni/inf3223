{
 "cells": [
  {
   "cell_type": "markdown",
   "metadata": {},
   "source": [
    "Bitte ausfüllen:\n",
    "- [ ] ich habe die Aufgaben alleine gelöst\n",
    "- [ ] Wir, ___________________ und ___________________, haben die Aufgaben als Zweierteam gelöst.\n",
    "\n",
    "Wenn Sie Ihre/n Komiliton[i/e]n bei der Abgabe (Studenten-Adresse!) ins cc setzen, kann ich die Korrektur an beide schicken.\n",
    "\n",
    "#### Korrektur\n",
    "\n",
    "Viel Erfolg!\n",
    "\n",
    "### Bewertung\n",
    "\n",
    "#### _/12 Punkte\n",
    "\n",
    "----"
   ]
  },
  {
   "cell_type": "code",
   "execution_count": 1,
   "metadata": {},
   "outputs": [],
   "source": [
    "'''import standard libraries'''\n",
    "import numpy as np                       # mathematical methods\n",
    "from scipy import stats                  # contains some fitting routines\n",
    "from matplotlib import pyplot as plt     # plotting methods within notebook\n",
    "%matplotlib inline"
   ]
  },
  {
   "cell_type": "markdown",
   "metadata": {},
   "source": [
    "# Übungsaufgaben 05 - Kontinuierliche Verteilungen"
   ]
  },
  {
   "cell_type": "markdown",
   "metadata": {},
   "source": [
    "#### Bitte lösen sie die Aufgaben \n",
    "- innerhalb dieses Notebooks \n",
    "- welches Sie bitte umbenennen in `A05_IHRNAME.ipynb` (IHRNAME passend ersetzen)\n",
    "\n",
    "und schicken das ausgeführte Notebook dann\n",
    "\n",
    "#### bis zum Montag, 19. November, 22.00 Uhr\n",
    "als Anhang einer Email mit Titel \"`Angewandte Statistik I`\" an `uli.wannek@uni-tuebingen.de`\n",
    "\n",
    "#### Danke!"
   ]
  },
  {
   "cell_type": "markdown",
   "metadata": {},
   "source": [
    "### Hinweise wie gehabt"
   ]
  },
  {
   "cell_type": "markdown",
   "metadata": {},
   "source": [
    "## Aufgabe 1) *Normalverteilung*\n",
    "\n",
    "Eine Zufallsvariable $X$ habe die Normalverteilung: $\\mathcal{N}(\\mu = 1.0, \\sigma^2=0.71)$.\n",
    "\n",
    "### a) 4*x\n",
    "Führen Sie 160 mal das zugehörige Zufallsexperiment $X$ durch. \n",
    "\n",
    "Setzen Sie eine neue Zufallsvariable $A=4\\cdot X$ so zusammen, daß \n",
    "$$a_i = 4 \\cdot x_i$$\n",
    "\n",
    "#### Erwartungswert\n",
    "- Was ist der Erwartungswert (theoretisch=Formel *und* berechnen mit `scipy.stats`) der Zufallsvariablen A?\n",
    "- Wie groß ist im Vergleich Ihr experimentell erhaltener Mittelwert?\n",
    "\n",
    "#### Varianz(en)\n",
    "- Wie groß ist die (theoretische=Formel *und* mit `scipy.stats` berechnete) Varianz der Zufallsvariablen A?\n",
    "- Wie groß ist im Vergleich Ihre experimentell erhaltene Varianz?"
   ]
  },
  {
   "cell_type": "markdown",
   "metadata": {},
   "source": [
    "### b) x+x+x+x\n",
    "Führen Sie 640 mal das Zufallsexperiment $X$ durch.\n",
    "\n",
    "Setzen Sie aus $X$ eine neue Zufallsvariable \"$B=X+X+X+X$\" so zusammen, daß \n",
    "$$b_i = x_{4\\cdot i}+x_{4\\cdot i+1} + x_{4\\cdot i+2} + x_{4\\cdot i+3}$$"
   ]
  },
  {
   "cell_type": "code",
   "execution_count": null,
   "metadata": {},
   "outputs": [],
   "source": [
    "'''hint: slicing'''\n",
    "import numpy as np\n",
    "e = np.arange(12)\n",
    "print(e[::3])\n",
    "print(e[0::3])\n",
    "print(e[1::3])"
   ]
  },
  {
   "cell_type": "markdown",
   "metadata": {},
   "source": [
    "#### Erwartungswert\n",
    "- Was ist der Erwartungswert (theoretisch=Formel *und* berechnet mit `scipy.stats`) der Zufallsvariablen B?\n",
    "- Wie groß ist Ihr experimentell erhaltener Mittelwert?\n",
    "\n",
    "#### Varianz(en)\n",
    "- Wie groß ist die (theoretische=Formel *und* mit `scipy.stats` berechnete) Varianz der Zufallsvariablen B?\n",
    "- Wie groß ist Ihre experimentell erhaltene empirische Varianz?"
   ]
  },
  {
   "cell_type": "markdown",
   "metadata": {},
   "source": [
    "### c) Vergleichen Sie a) und b)"
   ]
  },
  {
   "cell_type": "markdown",
   "metadata": {},
   "source": [
    "$\\color{green}{3\\text{ Punkte}}$"
   ]
  },
  {
   "cell_type": "markdown",
   "metadata": {},
   "source": [
    "---"
   ]
  },
  {
   "cell_type": "markdown",
   "metadata": {},
   "source": [
    "## Aufgabe 2) Standardnormalverteilung\n",
    "\n",
    "### a) Welche Transformation standardisiert eine Zufallsvariable $X$?\n",
    "- mathematisch allgemein (mit Formel)\n",
    "- speziell  $\\mathcal{N}(\\mu = 1.0, \\sigma=\\sqrt{2})$"
   ]
  },
  {
   "cell_type": "markdown",
   "metadata": {},
   "source": [
    "### b) Tabelle\n",
    "- Wie ist der Zusammenhang einer Standardnormalverteilung a) mit der Standard-Normalverteilungs-Tabelle zB. https://de.wikipedia.org/wiki/Standardnormalverteilungstabelle?\n",
    "- Was ist (mithilfe jener Tabelle) der Bereich, in dem (symmetrisch) 96% der Werte von $X$ aus a) liegen? Erklären Sie schrittweise Ihr Vorgehen."
   ]
  },
  {
   "cell_type": "markdown",
   "metadata": {},
   "source": [
    "### c) Programmiert\n",
    "- Testen Sie den gefundenen Bereich aus b) für die spezielle Verteilung aus a) mithilfe `scipy.stats`."
   ]
  },
  {
   "cell_type": "markdown",
   "metadata": {},
   "source": [
    "$\\color{green}{1,5\\text{ Punkte}}$"
   ]
  },
  {
   "cell_type": "markdown",
   "metadata": {},
   "source": [
    "---"
   ]
  },
  {
   "cell_type": "markdown",
   "metadata": {},
   "source": [
    "## Aufgabe 3) Schiefe Verteilung\n",
    "\n",
    "Gegeben ist folgende schiefe Verteilung für eine Zufallsvariable $X$: "
   ]
  },
  {
   "cell_type": "code",
   "execution_count": 3,
   "metadata": {},
   "outputs": [
    {
     "data": {
      "image/png": "[encoded data removed]",
      "text/plain": [
       "<Figure size 432x288 with 1 Axes>"
      ]
     },
     "metadata": {
      "needs_background": "light"
     },
     "output_type": "display_data"
    }
   ],
   "source": [
    "'''a (skewed) triangle distribution'''\n",
    "x = np.linspace(-3, 3, 60+1)                         # ROI\n",
    "tdistrib = stats.triang(loc=-1, scale=3, c=1./3.)    # the frozen triangle distribution\n",
    "\n",
    "plt.plot(x, tdistrib.pdf(x));                         # show its probability density f"
   ]
  },
  {
   "cell_type": "markdown",
   "metadata": {},
   "source": [
    "### a) Wahrscheinlichkeitsdichteverteilung?\n",
    "- Was ist in der Graphik dargestellt? (Achsen, Kurve)\n",
    "- Ist dies eine Wahrscheinlichkeitsdichteverteilung? (Begründen)"
   ]
  },
  {
   "cell_type": "markdown",
   "metadata": {},
   "source": [
    "### b) Wahrscheinlichkeitsdichteverteilung $f$\n",
    "- Geben Sie die (mathematische) Formel für die Wahrscheinlichkeitsdichte $f$ aus a) an"
   ]
  },
  {
   "cell_type": "markdown",
   "metadata": {},
   "source": [
    "#### Hinweis: \n",
    "b) c) und g) $\\LaTeX$ oder handschriftlich-und-eingebundenes-Bild oder ASCII-art"
   ]
  },
  {
   "cell_type": "markdown",
   "metadata": {},
   "source": [
    "### c) Herleitung  der kumulierten Wahrscheinlichkeitsfunktion\n",
    "- Berechnen Sie (mathematisch-theoretisch) die kumulierte Wahrscheinlichkeitsfunktion $F$."
   ]
  },
  {
   "cell_type": "markdown",
   "metadata": {},
   "source": [
    "### d) Was ist der Erwartungswert der Verteilung?\n",
    "- Mathematisch-theoretisch berechnet mit der Formel aus b)\n",
    "- Praktisch berechnet mit Python `scipy.stats`\n",
    "\n",
    "Vergleichen Sie Theorie und Praxis zur Kontrolle."
   ]
  },
  {
   "cell_type": "markdown",
   "metadata": {},
   "source": [
    "### e) Was ist die Varianz der Verteilung?\n",
    "- Praktisch berechnet mit Python `scipy.stats`"
   ]
  },
  {
   "cell_type": "markdown",
   "metadata": {},
   "source": [
    "### f) Wahrscheinlichkeit\n",
    "- Wie groß ist die Wahrscheinlichkeit, ein Ergebnis zu erhalten:\n",
    "    - im Bereich [-3, -1]?\n",
    "    - im Bereich [-1, +2]?\n",
    "    - im Bereich [-0.5, +0.5]?\n",
    "\n",
    "Berechnung mit Python `scipy.stats` genügt. Begründen Sie die Ergebnisse."
   ]
  },
  {
   "cell_type": "markdown",
   "metadata": {},
   "source": [
    "### g) *Bonus*\n",
    "- Leiten Sie theoretisch (mathematisch) die Varianz der Verteilung her (wie in Aufgabenteil e) berechnet, mit der Formel aus b))"
   ]
  },
  {
   "cell_type": "markdown",
   "metadata": {},
   "source": [
    "$\\color{green}{3,5 + 1\\text{ Punkte}}$"
   ]
  },
  {
   "cell_type": "markdown",
   "metadata": {},
   "source": [
    "---"
   ]
  },
  {
   "cell_type": "markdown",
   "metadata": {},
   "source": [
    "# Aufgabe 3) Audio *Rauschen*\n",
    "\n",
    "### Bonus: Aufnahme\n",
    "- Nehmen Sie an Ihrem PC über die Soundkarte ca. 5 Sekunden Stille (leises Rauschen) auf.\n",
    "    - Benutzen Sie Python selbst, z.B. `sounddevice`, siehe unten.\n",
    "    - Alternativ: Das Audio-Programm *audacity* gibt es für Linux und Windows\n",
    "- Sie erhalten ein Signal und speichern es ab (typischerweise in eine wav-Datei)\n",
    "- Da immer etwas rauscht (Mikrophon, interner Verstärker, vor allem bei Laptops), gibt es auch etwas zu sehen ;-)\n",
    "- Falls Knackser enthalten sind, können Sie diese wegschneiden\n",
    "\n",
    "#### Hinweis:\n",
    "Fügen Sie Ihre wav-Datei bitte *nicht* an!\n",
    "\n",
    "### ansonsten ...\n",
    "- Falls obiges nicht klappt: verwenden Sie die bereitgestellte wav-Datei\n",
    "\n",
    "### weiter:\n",
    "- Lesen Sie Ihre/die wav-Datei in Python ein\n",
    "- In den eingelesenen Daten finden Sie dann eine (oder bei Stereo 2) Arrays mit Audio-Daten\n",
    "    - nehmen Sie eines davon\n",
    "- `srate` ist die Aufnahme-Sample-Rate (meist 44100 Hz)"
   ]
  },
  {
   "cell_type": "markdown",
   "metadata": {},
   "source": [
    "Am Ende des Übungsblattes finden sich nützliche Code-Schnipsel, die Ihnen bei der Ausführung und Bearbeitung helfen. "
   ]
  },
  {
   "cell_type": "markdown",
   "metadata": {},
   "source": [
    "### a) Stellen Sie sinnvoll den zeitlichen Verlauf Ihrer Aufnahme dar\n",
    "- Beschreiben Sie den Verlauf Ihres Audio-Signals\n",
    "    - Form\n",
    "    - Wertebereich\n",
    "    - ..."
   ]
  },
  {
   "cell_type": "markdown",
   "metadata": {},
   "source": [
    "### b) Stellen Sie die Verteilung des Audio-Signals dar\n",
    "- Histogramm über s \n",
    "    - wählen Sie einen *sinnvollen* Bereich, so daß man etwas sieht\n",
    "    - eventuell müssen Sie Ausreisser (Knackser o.ä,) gesondert behandeln\n",
    "- Beschreiben Sie die Verteilung\n",
    "    - Form\n",
    "    - Wertebereich\n",
    "    - ..."
   ]
  },
  {
   "cell_type": "markdown",
   "metadata": {},
   "source": [
    "### c) Anfitten\n",
    "- Fitten Sie eine Normalverteilung an die Verteilung des Audio-Signals an\n",
    "- Zeichnen Sie nochmals b) und fügen den Fit mit ein\n",
    "\n",
    "#### Hinweis\n",
    "Die Option `density=True` hilft bei der Skalierung (warum?)"
   ]
  },
  {
   "cell_type": "markdown",
   "metadata": {},
   "source": [
    "### d)  Kennwerte \n",
    "Berechnen Sie die empirischen Werte\n",
    "- Mittelwert\n",
    "- Median\n",
    "- Varianz\n",
    "- Standardabweichung\n",
    "- Schiefe\n",
    "- Kurtosis"
   ]
  },
  {
   "cell_type": "markdown",
   "metadata": {},
   "source": [
    "### e) Disskussion\n",
    "- Was schließen Sie aus den Werten aus d)?\n",
    "- Was ist die Bedeutung des Mittelwertes?\n",
    "- Wie ist das Audio-Signal verteilt?\n",
    "- Vergleichen Sie mit den Werten des Fits aus c)"
   ]
  },
  {
   "cell_type": "markdown",
   "metadata": {},
   "source": [
    "$\\color{green}{4+1\\text{ Punkte}}$"
   ]
  },
  {
   "cell_type": "markdown",
   "metadata": {},
   "source": [
    "## Nützliche Code-Schnipsel"
   ]
  },
  {
   "cell_type": "code",
   "execution_count": null,
   "metadata": {
    "collapsed": true
   },
   "outputs": [],
   "source": [
    "'''plot and magnification'''\n",
    "plt.plot(s)              # if x values were skipped, the default index [0, 1, ...] will be used as x to show data s as y\n",
    "plt.plot(s[5000:6000])   # magnify to range of length 1000 starting at index 5000"
   ]
  },
  {
   "cell_type": "code",
   "execution_count": null,
   "metadata": {
    "collapsed": true
   },
   "outputs": [],
   "source": [
    "'''work with wav audio files'''\n",
    "from scipy.io import wavfile                # sound needs scipys Input/Output library \n",
    "\n",
    "srate, snd = wavfile.read(\"filename.wav\")   # read a wav-file\n",
    "print('recording sample rate was {}'.format(srate))\n",
    "if len(snd.shape)>1:\n",
    "    print('we have {} tracks with length {}'.format(snd.shape[1], snd.shape[0]))\n",
    "    s = snd[:, 0]                           # if stereo, only left channel; complete length\n",
    "else:\n",
    "    print('we have a mono track with length {}'.format(snd.shape[0]))\n",
    "    s = snd                                 # single channel already\n",
    "print('s has duration of {:.2f} secs'.format(s.size/srate))"
   ]
  },
  {
   "cell_type": "markdown",
   "metadata": {},
   "source": [
    "Ignorieren Sie \n",
    "\n",
    "    WavFileWarning: Chunk (non-data) not understood, skipping it\n",
    "    \n",
    "wenn Meta-Daten in der wav-Datei enhalten sind."
   ]
  },
  {
   "cell_type": "code",
   "execution_count": null,
   "metadata": {
    "collapsed": true
   },
   "outputs": [],
   "source": [
    "'''if you like to listen within a jupyter notebook'''\n",
    "from IPython.lib.display import Audio   # library not only for display but also audio\n",
    "Audio(s, rate=srate, autoplay=False)    # Python can make noise! \n",
    "                                        # In order to skip at startup cell execution, reset flag \"autoplay\""
   ]
  },
  {
   "cell_type": "code",
   "execution_count": null,
   "metadata": {
    "collapsed": true
   },
   "outputs": [],
   "source": [
    "'''equally spaced numbers in a desired range'''\n",
    "x1 = -10                                     # lower\n",
    "x2 = +10                                     #   and upper bound\n",
    "spacing = 2                                  # number of values within \"one\"\n",
    "x = np.linspace(x1, x2, (x2-x1)*spacing+1)   # +1: don't forget to include last border\n",
    "print(x[:5], '...', x[-5:])                  # result as expected?"
   ]
  },
  {
   "cell_type": "code",
   "execution_count": null,
   "metadata": {
    "collapsed": true
   },
   "outputs": [],
   "source": [
    "'''freeze a distribution in order to reuse the parameters'''\n",
    "mean = 1.5\n",
    "sigma = 2.5\n",
    "mydistribution = stats.norm(loc=mean, scale=sigma)\n",
    "# now we have access to all the nice funtions at shorthand\n",
    "# without the need of repeating all the parameters...\n",
    "# -------------v\n",
    "plt.plot(x, mydistribution.cdf(x));"
   ]
  },
  {
   "cell_type": "code",
   "execution_count": null,
   "metadata": {
    "collapsed": true
   },
   "outputs": [],
   "source": [
    "'''help could be obtained (one after another) by'''\n",
    "stats.norm.fit?\n",
    "stats.norm.pdf?\n",
    "stats.norm.cdf?\n",
    "stats.norm.ppf?\n",
    "stats.triangle.pdf?\n",
    "stats.triangle.cdf?\n",
    "stats.triangle.expect?"
   ]
  },
  {
   "cell_type": "markdown",
   "metadata": {},
   "source": [
    "#### Record sound directly from within Python: sounddevice\n",
    "\n",
    "See https://pypi.python.org/pypi/sounddevice\n",
    "\n",
    "Installation (m=module, user=without admin-privileges):\n",
    "\n",
    "    python -m pip install sounddevice --user"
   ]
  },
  {
   "cell_type": "code",
   "execution_count": null,
   "metadata": {
    "collapsed": true
   },
   "outputs": [],
   "source": [
    "'''python can sound: sounddevice'''\n",
    "import sounddevice as sd\n",
    "sd.query_devices()"
   ]
  },
  {
   "cell_type": "code",
   "execution_count": null,
   "metadata": {
    "collapsed": true
   },
   "outputs": [],
   "source": [
    "duration = 5.5 # [seconds]\n",
    "fs = 44100     # sample rate [Hz]\n",
    "myrecording = sd.rec(int(duration*fs), samplerate=fs, channels=2)"
   ]
  },
  {
   "cell_type": "code",
   "execution_count": null,
   "metadata": {
    "collapsed": true
   },
   "outputs": [],
   "source": [
    "myrecording.shape"
   ]
  },
  {
   "cell_type": "code",
   "execution_count": null,
   "metadata": {
    "collapsed": true
   },
   "outputs": [],
   "source": [
    "'''and save as wav file'''\n",
    "from scipy.io import wavfile                # sound needs scipys Input/Output library \n",
    "\n",
    "scaled = np.int16(myrecording/np.max(np.abs(myrecording))*30000)  # scale to 16bit int, w. little head room\n",
    "wavfile.write('myrecording.wav', fs, scaled)                      # data to wav-file with sample rate"
   ]
  }
 ],
 "metadata": {
  "anaconda-cloud": {},
  "kernelspec": {
   "display_name": "Python 3",
   "language": "python",
   "name": "python3"
  },
  "language_info": {
   "codemirror_mode": {
    "name": "ipython",
    "version": 3
   },
   "file_extension": ".py",
   "mimetype": "text/x-python",
   "name": "python",
   "nbconvert_exporter": "python",
   "pygments_lexer": "ipython3",
   "version": "3.7.0"
  }
 },
 "nbformat": 4,
 "nbformat_minor": 2
}
