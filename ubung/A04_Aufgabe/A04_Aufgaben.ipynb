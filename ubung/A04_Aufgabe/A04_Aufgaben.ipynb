{
 "cells": [
  {
   "cell_type": "markdown",
   "metadata": {},
   "source": [
    "Bitte ausfüllen:\n",
    "- [ ] ich habe die Aufgaben alleine gelöst\n",
    "- [x] Wir, ___Yi,Zixin(4126223)____ und ___Zhang,Guangde(4200165)____, haben die Aufgaben als Zweierteam gelöst.\n",
    "\n",
    "Wenn Sie Ihren Komilitonen bei der Abgabe (Studenten-Adresse!) ins cc setzen, kann ich die Korrektur an beide schicken.\n",
    "\n",
    "# Korrektur\n",
    "\n",
    "Viel Erfolg!\n",
    "\n",
    "### Bewertung\n",
    "\n",
    "#### _/12 Punkte\n",
    "\n",
    "----"
   ]
  },
  {
   "cell_type": "code",
   "execution_count": 2,
   "metadata": {},
   "outputs": [],
   "source": [
    "'''import standard libraries'''\n",
    "import numpy as np                       # mathematical methods\n",
    "from scipy import stats                  # contains some fitting routines\n",
    "from matplotlib import pyplot as plt     # plotting methods within notebook\n",
    "%matplotlib inline"
   ]
  },
  {
   "cell_type": "markdown",
   "metadata": {},
   "source": [
    "# Übungsaufgaben 04 - Wahrscheinlichkeitstheorie"
   ]
  },
  {
   "cell_type": "markdown",
   "metadata": {},
   "source": [
    "#### Bitte lösen sie die Aufgaben \n",
    "- innerhalb dieses Notebooks \n",
    "- welches Sie bitte umbenennen in `A04_IHRNAME.ipynb` (IHRNAME passend ersetzen)\n",
    "\n",
    "und schicken das ausgeführte Notebook dann\n",
    "\n",
    "#### bis zum 19. November 22.00 Uhr\n",
    "als Anhang einer Email mit Titel \"`Angewandte Statistik I`\" an uli.wannek@uni-tuebingen.de\n",
    "\n",
    "#### Danke!"
   ]
  },
  {
   "cell_type": "markdown",
   "metadata": {},
   "source": [
    "### Hinweise\n",
    "- Text-Antworten sowie $\\LaTeX$-Formeln am besten in *markdown* Zellen\n",
    "    - Sie müssen nicht, dürfen aber durchaus, Text in `print('')`-Anweisungen ausgeben\n",
    "    - Wenn Sie Ergebnisse aus Zellen verwenden ist `print('{}'.format())` in code-Zellen hingegen extrem praktisch\n",
    "- Sie dürfen in diesem Notebook gerne alles, was nicht zu den Aufgaben gehört, löschen.\n",
    "    - Bitte lassen Sie auch die Header-Zelle und die Punkte-Felder stehen. Danke.\n",
    "- Sie dürfen gerne (zu Ihrem späteren **und** meinem jetzigen Verständnis) Kommentare in weiteren markdown-Zellen einfügen. Das hilft wirklich!\n",
    "- Es gibt Punkte für\n",
    "    - Ihre Überlegung\n",
    "    - Ihr Programm\n",
    "    - Ihre Kommentare(!)\n",
    "    - und schließlich für das richtige Ergebnis\n",
    "    - mit Zusammenfassung wie zB.: *\"der Mittelwert beträgt 17km/h\"*\n",
    "- Sie dürfen alle Antworten auf Deutsch oder Englisch verfassen.\n",
    "- Für manche Programmieraufgaben werden nur Ergebnisse, die ausgewertet werden sollen, gezeigt ohne dass die zugrundeliegenden Daten hinterlegt sind. Wenn alle Zellen ausgeführt werden, verschwinden die Ergebnisse und Abbildungen und das Notebook muss zur korrekten Bearbeitung erneut heruntergeladen werden"
   ]
  },
  {
   "cell_type": "markdown",
   "metadata": {},
   "source": [
    "# 1. Schlüsselbund\n",
    "\n",
    "Es ist Winter, Sie beobachten einen Nachbarn, der dicke Handschuhe trägt und schon Glühwein getrunken hat. Sein Schlüsselbund hat 7, im Dunkeln nicht unterscheidbare Schlüssel. Nach jedem Versuch, die Wohnungstüre aufzuschließen, fällt ihm der Schlüsselbund aus der Hand und er weiß nicht mehr, welchen Schlüssel er breits ausprobiert hat. \n"
   ]
  },
  {
   "cell_type": "markdown",
   "metadata": {},
   "source": [
    "### a) Wahrscheinlichkeitsverteilung\n",
    "- Was ist die Zufallsvariable?\n",
    "- Um welche Wahrscheinlichkeitsverteilung handelt es sich hier? \n",
    "- Was sind die Parameter der Verteilung?"
   ]
  },
  {
   "cell_type": "markdown",
   "metadata": {},
   "source": [
    "### b) Wie viele Versuche sind (im Schnitt) nötig, bis er die Wohnungstüre aufbekommt? \n",
    "Berechnen nur per *Python*. Mit Kommentaren, Begründung, Ergebnis, ..."
   ]
  },
  {
   "cell_type": "markdown",
   "metadata": {},
   "source": [
    "### c) Wie wahrscheinlich ist es, dass er die Türe bis zum 3. Versuch aufbekommt? "
   ]
  },
  {
   "cell_type": "markdown",
   "metadata": {},
   "source": [
    "### d) Wie wahrscheinlich ist es, dass er die Türe beim 4. Versuch aufbekommt? "
   ]
  },
  {
   "cell_type": "markdown",
   "metadata": {},
   "source": [
    "$\\color{green}{2,5 \\text{ Punkte}}$"
   ]
  },
  {
   "cell_type": "markdown",
   "metadata": {},
   "source": [
    "# 2. Seltene Mutationen\n",
    "\n",
    "Alle $10^8$ Basenpare gibt es 2 neue Mutationsereignisse pro Generation. (Dies resultiert in einer Mutationsrate von ca. 64 Mutationen pro *Mensch* pro Generation.) Eine Generation dauert (durchschnittlich) 25 Jahre.\n",
    "\n",
    "Von Interesse ist die Anzahl an Mutationen.\n",
    "\n",
    "(**Erklärung** für jede Teilaufgabe!)"
   ]
  },
  {
   "cell_type": "markdown",
   "metadata": {},
   "source": [
    "### a) Wahrscheinlichkeitsverteilung\n",
    "Um welche Wahrscheinlichkeitsverteilung handelt es sich hier? "
   ]
  },
  {
   "cell_type": "markdown",
   "metadata": {},
   "source": [
    "### b) 1 Mutation in 2 Generationen\n",
    "Mit welcher Wahrscheinlichkeit finden in den nächsten 2 Generationen *genau* 1 Mutationsereignisse in $10^8$ Basenpaaren statt? "
   ]
  },
  {
   "cell_type": "markdown",
   "metadata": {},
   "source": [
    "### c)  $\\geq 1$ Mutationen in 2 Generationen\n",
    "Mit welcher Wahrscheinlichkeit findet in den nächsten 2 Generationen *mindestens* ein Mutationsereignis in in $10^8$ Basenpaaren statt? "
   ]
  },
  {
   "cell_type": "markdown",
   "metadata": {},
   "source": [
    "### d) Skalierung\n",
    "Mit welcher Wahrscheinlichkeit würde in 100 Jahren mindestens ein Mutationsereignis in einem Genom ($3.2*10^9$ Basenpaare) stattfinden? "
   ]
  },
  {
   "cell_type": "markdown",
   "metadata": {},
   "source": [
    "$\\color{green}{2,5 \\text{ Punkte}}$"
   ]
  },
  {
   "cell_type": "markdown",
   "metadata": {},
   "source": [
    "# 3. Geburten\n",
    "\n",
    "Im Landkreis Tübingen wurden im Jahr 2017 laut http://www.statistik-bw.de/BevoelkGebiet/GeburtSterben/01065011.tab?R=KR416 2.339 Kinder geboren. Alle Berechnungen mittels Python, kommentiert."
   ]
  },
  {
   "cell_type": "markdown",
   "metadata": {},
   "source": [
    "### a) Es interessiert der Anteil an Mädchengeburten unter diesen Geburten\n",
    "Um welche Modell-Wahrscheinlichkeitsverteilung handelt es sich?"
   ]
  },
  {
   "cell_type": "markdown",
   "metadata": {},
   "source": [
    "### b) Erwartungswert\n",
    "Unter der Annahme von Gleichverteilung der beiden betrachteten Geschlechter, was ist der Erwartungswert für die Anzahl der geborenen Mädchen im Landkreis Tübingen? "
   ]
  },
  {
   "cell_type": "markdown",
   "metadata": {},
   "source": [
    "### c) Wahrscheinlichkeiten\n",
    "- Wie wahrscheinlich ist es (unter Annahme der Gleichverteilung der Geschlechter), dass 2017 genau 1.190 der geborenen Kinder männlich waren?\n",
    "- Und wie hoch ist die Wahrscheinlichkeit für die Anzahl der im Jahr 2017 geborenen Mädchen? "
   ]
  },
  {
   "cell_type": "markdown",
   "metadata": {},
   "source": [
    "### d) Wahrscheinlichkeit des Erwartungswerts\n",
    "Nehmen Sie ihren berechneten Erwartungswert aus b)\n",
    "- Wie wahrscheinlich ist es, dass *genau* so viele Mädchen geboren werden? \n",
    "- Wie wahrscheinlich ist es, dass die nächstgrößere Zahl als der Erwartungswert Mädchen geboren werden? \n",
    "- Wie wahrscheinlich ist es, dass die nächstkleinere Zahl als der Erwartungswert Mädchen geboren werden? "
   ]
  },
  {
   "cell_type": "markdown",
   "metadata": {},
   "source": [
    "### e) Vergleichen Sie ihre Ergebnisse aus c) und d) "
   ]
  },
  {
   "cell_type": "markdown",
   "metadata": {},
   "source": [
    "### f) Wie wahrscheinlich wäre es gewesen, dass \n",
    "- mehr als 1.090 Jungen geboren worden wären?\n",
    "- weniger als 1.090 Jungen geboren worden wären?\n",
    "- mindestens 1.090 Jungen geboren worden wären? \n",
    "- höchstens 1.090 Jungen geboren worden wären? "
   ]
  },
  {
   "cell_type": "markdown",
   "metadata": {},
   "source": [
    "#### $\\color{green}{3 \\text{ Punkte}}$"
   ]
  },
  {
   "cell_type": "markdown",
   "metadata": {},
   "source": [
    "# 4. Spieltheorie\n",
    "\n",
    "Sie spielen mit Ihrem Würfel A gegen einen Wettanbieter mit Würfel B. \n",
    "Bei einem Einsatz von 1€ gewinnen Sie 2€, wenn Ihre gewürfelte Augenzahl größer oder gleich ist.\n",
    "\n",
    "### a) Würden Sie diese Wette eingehen?\n",
    "... wenn beide einen fairen Würfel einsetzen?\n",
    "- Was ist der Erwartungswert Ihres Gewinns?"
   ]
  },
  {
   "cell_type": "markdown",
   "metadata": {},
   "source": [
    "### b) Programmieren Sie\n",
    "eine Funktion `mywin()` wie im Skelett angedeutet, die den Gewinn ausgibt.\n",
    "\n",
    "- Parameter: Anzahl der verwendeten Würfel von Angreifer und Verteidiger\n",
    "- Rückgabe: Wahrheitswert für \"Angreifer gewinnt\"\n",
    "\n",
    "**Kommentieren** Sie!"
   ]
  },
  {
   "cell_type": "markdown",
   "metadata": {},
   "source": [
    "### c) Spielen Sie \n",
    "Spielen Sie nun 100x. Was ist Ihr Ergebnis? Vergleichen Sie mit dem Erwartungswert."
   ]
  },
  {
   "cell_type": "markdown",
   "metadata": {},
   "source": [
    "### d) Schummeln\n",
    "Der Wettanbieter hat nichts zu verschenken. Er setzt einen gezinkten Würfel ein (siehe folgende Code-Zelle)\n",
    "\n",
    "Spielen Sie wieder 100x. Was ist Ihr Ergebnis? Vergleichen Sie auch mit dem Erwartungswert aus a)."
   ]
  },
  {
   "cell_type": "markdown",
   "metadata": {},
   "source": [
    "### e) Verzockt?\n",
    "Hat der Wettanbieter den \"richtigen\" Würfel oder hat er sich verzockt?"
   ]
  },
  {
   "cell_type": "markdown",
   "metadata": {},
   "source": [
    "$\\color{green}{\\text{ 4 Punkte}}$"
   ]
  }
 ],
 "metadata": {
  "anaconda-cloud": {},
  "kernelspec": {
   "display_name": "Python 3",
   "language": "python",
   "name": "python3"
  },
  "language_info": {
   "codemirror_mode": {
    "name": "ipython",
    "version": 3
   },
   "file_extension": ".py",
   "mimetype": "text/x-python",
   "name": "python",
   "nbconvert_exporter": "python",
   "pygments_lexer": "ipython3",
   "version": "3.5.2"
  }
 },
 "nbformat": 4,
 "nbformat_minor": 2
}
