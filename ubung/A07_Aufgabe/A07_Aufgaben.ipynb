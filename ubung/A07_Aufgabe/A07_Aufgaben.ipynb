{
 "cells": [
  {
   "cell_type": "markdown",
   "metadata": {},
   "source": [
    "## Korrektur\n",
    "\n",
    "Viel Erfolg!\n",
    "\n",
    "### Bewertung\n",
    "\n",
    "#### _/12 Punkte\n",
    "\n",
    "----"
   ]
  },
  {
   "cell_type": "code",
   "execution_count": null,
   "metadata": {
    "collapsed": true
   },
   "outputs": [],
   "source": [
    "'''import standard libraries'''\n",
    "import numpy as np                       # mathematical methods\n",
    "from scipy import stats                  # contains some fitting routines\n",
    "from matplotlib import pyplot as plt     # plotting methods within notebook\n",
    "%matplotlib inline"
   ]
  },
  {
   "cell_type": "markdown",
   "metadata": {},
   "source": [
    "# Übungsaufgaben 07 - Schätzer"
   ]
  },
  {
   "cell_type": "markdown",
   "metadata": {},
   "source": [
    "# Bitte lösen sie die Aufgaben \n",
    "- innerhalb dieses Notebooks \n",
    "- welches Sie bitte umbenennen in `A07_IHRNAME.ipynb` (IHRNAME passend ersetzen)\n",
    "\n",
    "und schicken das ausgeführte Notebook dann\n",
    "\n",
    "#### bis zum Montag, 10. Dezember 22.00 Uhr\n",
    "als Anhang einer Email mit Titel \"`Angewandte Statistik I`\" an `uli.wannek@uni-tuebingen.de`\n",
    "\n",
    "#### Danke!"
   ]
  },
  {
   "cell_type": "markdown",
   "metadata": {},
   "source": [
    "#### Hinweise\n",
    "wie gehabt."
   ]
  },
  {
   "cell_type": "markdown",
   "metadata": {},
   "source": [
    "# Aufgabe 1) *Schätzer für die Parameter der Normalverteilung*\n",
    "\n",
    "### Leiten Sie mit Hilfe der Max-Log-Likelihood-Methode die Parameter $\\mu$ und $\\sigma^2$ der Normalverteilung her. \n",
    "\n",
    "#### Hinweis:\n",
    "Gehen Sie dazu wie folgt vor:\n",
    "1. Bestimmen Sie die Log-Likelihood-Funktion $l$ für n realisierte Werte aus einer Normalverteilung\n",
    "2. Maximieren Sie diese $l$ für $\\mu$ \n",
    "3. Wo ist $\\sigma$? \n",
    "4. Was ist also der allgemeine Schätzer $\\hat\\mu$?\n",
    "5. Maximieren Sie diese $l$ (jetzt mit $\\mu=\\hat\\mu$) für $\\sigma$\n",
    "6. Was ist der allgemeine Schätzer $\\hat\\sigma^2$?\n",
    "\n",
    "Bitte schrittweise nachvollziehbar!\n",
    "\n",
    "7. Beschreiben Sie Ihr erhaltenes Ergebnis\n",
    "\n",
    "Entweder als $\\LaTeX$-Formel im Notebook oder als Bild Ihrer handschriftlichen Ausarbeitung eingebunden im Notebook in eine Code-Zelle mittels\n",
    "\n",
    "    from IPython.display import Image\n",
    "    Image(filename='IHRNAME_Schaetzer.png')\n",
    "\n",
    "oder per drag&drop in eine Markdownzelle."
   ]
  },
  {
   "cell_type": "markdown",
   "metadata": {},
   "source": [
    "$\\color{green}{5 \\text{ Punkte}}$"
   ]
  },
  {
   "cell_type": "markdown",
   "metadata": {},
   "source": [
    "# Aufgabe 2) *Verteilung von Mittelwert und Varianz*\n",
    "\n",
    "Eine wichtige Verteilung für Daten (bzw. deren Fehler) ist die Normalverteilung. \n",
    "\n",
    "### a) Werte\n",
    "Ziehen Sie m=900 mal Datenpakete mit jeweils N=12 Werten aus einer $\\mu=3$, $\\sigma^2=4$ *normalverteilten* Zufallsvariablen X\n",
    "#### Hinweise: \n",
    "- Machen Sie sich zunutze, daß der `size`-Parameter der `rvs()`-Methode Tupel verarbeiten kann"
   ]
  },
  {
   "cell_type": "markdown",
   "metadata": {},
   "source": [
    "### b) Daten ansehen\n",
    "- fitten Sie eine einzige Normalverteilung an *alle* diese Daten X an \n",
    "- Begründen Sie, warum Sie diese Fit-Werte erhalten haben.\n",
    "- Stellen Sie alle Werte in einem Histogramm dar (#)\n",
    "- zu dem Sie außerdem die gefittete Verteilung einzeichnen\n",
    "\n",
    "#### Hinweis: \n",
    "- `density=True` hilft bei der Skalierung der y-Achse des Histogramms\n",
    "- `.ravel()` kompaktiert ndarrays"
   ]
  },
  {
   "cell_type": "markdown",
   "metadata": {},
   "source": [
    "### c) Mittelwerte\n",
    "- Berechnen Sie die m=900 Mittelwerte von den jeweils N=12 Werten aus den einzelnen Datenpaketen a)\n",
    "\n",
    "#### Hinweis: \n",
    "Der `axis`-Parameter der `sum()` oder `mean()`-Funktion hilft, aus 2D-DatenArrays *eine* Dimension auszuwählen\n",
    "Kontrolle mittels der `.shape`-Methode des `ndarrays`."
   ]
  },
  {
   "cell_type": "markdown",
   "metadata": {},
   "source": [
    "### d) Mittelwerte ansehen\n",
    "- Stellen Sie diese m Mittelwerte aus c) in einem Histogramm dar (#)\n",
    "- zu dem Sie außerdem die gefittete Verteilung aus b) einzeichnen\n",
    "\n",
    "Fitten Sie zusätzlich eine Normalverteilung an die m Mittelwerte an\n",
    "- und zeichnen Sie diese gefittete Normalverteilung ebenfalls mit ein"
   ]
  },
  {
   "cell_type": "markdown",
   "metadata": {},
   "source": [
    "### e) Interpretation\n",
    "- Vergleichen Sie die Verteilungen der Daten b) und der Mittelwerte d)\n",
    "- Begründen Sie das Verhältnis der Standardabweichungen (aus Ihren Fits) der Daten vs. der Mittelwerte"
   ]
  },
  {
   "cell_type": "markdown",
   "metadata": {},
   "source": [
    "### f) Varianzen\n",
    "- Berechnen Sie die Varianzen der m Datenpakete (analog zu den Mittelwerten aus c))\n",
    "- Vergleichen Sie den Mittelwert all dieser m Varianzen mit der Varianz *aller* Datenwerte\n",
    "- Begründen Sie das Verhältnis der mittleren Paket-Varianz zur gesamten Daten-Varianz"
   ]
  },
  {
   "cell_type": "markdown",
   "metadata": {},
   "source": [
    "### g) Varianzen ansehen\n",
    "- Stellen Sie alle m Varianzen aus f) in einem Histogramm dar (#)\n"
   ]
  },
  {
   "cell_type": "markdown",
   "metadata": {},
   "source": [
    "### h) Verteilung?\n",
    "- fitten Sie eine $\\chi^2$-Verteilung an diese Varianzen an\n",
    "    - Welche Parameter benutzen Sie?\n",
    "    - Wie groß sind diese Parameter?\n",
    "    - Warum?\n",
    "    - lassen Sie sich von leichten Abweichungen nicht irritieren!\n",
    "- und zeichnen Sie diese Verteilung mit in das Histogramm aus g) ein\n",
    "- Beschreiben Sie kurz, wie die Varianzen verteilt sind."
   ]
  },
  {
   "cell_type": "markdown",
   "metadata": {},
   "source": [
    "#### (#) Hinweis zu Histogrammen:\n",
    "Zeichnen Sie alle Histogramme *in etwa* so, daß 99,7% der Werte enthalten sind, setzen Sie dazu die untere und obere Grenze Ihrer Bins angemessen.\n",
    "Wählen Sie als Bin-Anzahl (abweichend von Scotts Regel) zwischen 20 und 100. Bequem für den `bins=`-Parameter ist `np.linspace(x1, x2, Anzahl+1)`."
   ]
  },
  {
   "cell_type": "markdown",
   "metadata": {},
   "source": [
    "$\\color{green}{7 \\text{ Punkte}}$"
   ]
  }
 ],
 "metadata": {
  "kernelspec": {
   "display_name": "Python 3",
   "language": "python",
   "name": "python3"
  },
  "language_info": {
   "codemirror_mode": {
    "name": "ipython",
    "version": 3
   },
   "file_extension": ".py",
   "mimetype": "text/x-python",
   "name": "python",
   "nbconvert_exporter": "python",
   "pygments_lexer": "ipython3",
   "version": "3.7.0"
  }
 },
 "nbformat": 4,
 "nbformat_minor": 2
}
