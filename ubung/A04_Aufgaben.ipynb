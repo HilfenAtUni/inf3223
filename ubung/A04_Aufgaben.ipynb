{
 "cells": [
  {
   "cell_type": "markdown",
   "metadata": {},
   "source": [
    "Bitte ausfüllen:\n",
    "- [ ] ich habe die Aufgaben alleine gelöst\n",
    "- [x] Wir, ___Yi,Zixin(4126223)____ und ___Zhang,Guangde(4200165)____, haben die Aufgaben als Zweierteam gelöst.\n",
    "\n",
    "Wenn Sie Ihren Komilitonen bei der Abgabe (Studenten-Adresse!) ins cc setzen, kann ich die Korrektur an beide schicken.\n",
    "\n",
    "# Korrektur\n",
    "\n",
    "Viel Erfolg!\n",
    "\n",
    "### Bewertung\n",
    "\n",
    "#### _/12 Punkte\n",
    "\n",
    "----"
   ]
  },
  {
   "cell_type": "code",
   "execution_count": 1,
   "metadata": {},
   "outputs": [],
   "source": [
    "'''import standard libraries'''\n",
    "import numpy as np                       # mathematical methods\n",
    "from scipy import stats                  # contains some fitting routines\n",
    "from matplotlib import pyplot as plt     # plotting methods within notebook\n",
    "%matplotlib inline"
   ]
  },
  {
   "cell_type": "markdown",
   "metadata": {},
   "source": [
    "# Übungsaufgaben 04 - Wahrscheinlichkeitstheorie"
   ]
  },
  {
   "cell_type": "markdown",
   "metadata": {},
   "source": [
    "#### Bitte lösen sie die Aufgaben \n",
    "- innerhalb dieses Notebooks \n",
    "- welches Sie bitte umbenennen in `A04_IHRNAME.ipynb` (IHRNAME passend ersetzen)\n",
    "\n",
    "und schicken das ausgeführte Notebook dann\n",
    "\n",
    "#### bis zum 19. November 22.00 Uhr\n",
    "als Anhang einer Email mit Titel \"`Angewandte Statistik I`\" an uli.wannek@uni-tuebingen.de\n",
    "\n",
    "#### Danke!"
   ]
  },
  {
   "cell_type": "markdown",
   "metadata": {},
   "source": [
    "### Hinweise\n",
    "- Text-Antworten sowie $\\LaTeX$-Formeln am besten in *markdown* Zellen\n",
    "    - Sie müssen nicht, dürfen aber durchaus, Text in `print('')`-Anweisungen ausgeben\n",
    "    - Wenn Sie Ergebnisse aus Zellen verwenden ist `print('{}'.format())` in code-Zellen hingegen extrem praktisch\n",
    "- Sie dürfen in diesem Notebook gerne alles, was nicht zu den Aufgaben gehört, löschen.\n",
    "    - Bitte lassen Sie auch die Header-Zelle und die Punkte-Felder stehen. Danke.\n",
    "- Sie dürfen gerne (zu Ihrem späteren **und** meinem jetzigen Verständnis) Kommentare in weiteren markdown-Zellen einfügen. Das hilft wirklich!\n",
    "- Es gibt Punkte für\n",
    "    - Ihre Überlegung\n",
    "    - Ihr Programm\n",
    "    - Ihre Kommentare(!)\n",
    "    - und schließlich für das richtige Ergebnis\n",
    "    - mit Zusammenfassung wie zB.: *\"der Mittelwert beträgt 17km/h\"*\n",
    "- Sie dürfen alle Antworten auf Deutsch oder Englisch verfassen.\n",
    "- Für manche Programmieraufgaben werden nur Ergebnisse, die ausgewertet werden sollen, gezeigt ohne dass die zugrundeliegenden Daten hinterlegt sind. Wenn alle Zellen ausgeführt werden, verschwinden die Ergebnisse und Abbildungen und das Notebook muss zur korrekten Bearbeitung erneut heruntergeladen werden"
   ]
  },
  {
   "cell_type": "markdown",
   "metadata": {},
   "source": [
    "# 1. Schlüsselbund\n",
    "\n",
    "Es ist Winter, Sie beobachten einen Nachbarn, der dicke Handschuhe trägt und schon Glühwein getrunken hat. Sein Schlüsselbund hat 7, im Dunkeln nicht unterscheidbare Schlüssel. Nach jedem Versuch, die Wohnungstüre aufzuschließen, fällt ihm der Schlüsselbund aus der Hand und er weiß nicht mehr, welchen Schlüssel er breits ausprobiert hat. \n"
   ]
  },
  {
   "cell_type": "markdown",
   "metadata": {},
   "source": [
    "### a) Wahrscheinlichkeitsverteilung\n",
    "- Was ist die Zufallsvariable?\n",
    "- Um welche Wahrscheinlichkeitsverteilung handelt es sich hier? \n",
    "- Was sind die Parameter der Verteilung?"
   ]
  },
  {
   "cell_type": "markdown",
   "metadata": {},
   "source": [
    "***Answer:***\n",
    "\n",
    "- a\n",
    "\n",
    "- a\n",
    "\n",
    "- a\n",
    "\n"
   ]
  },
  {
   "cell_type": "markdown",
   "metadata": {},
   "source": [
    "### b) Wie viele Versuche sind (im Schnitt) nötig, bis er die Wohnungstüre aufbekommt? \n",
    "Berechnen nur per *Python*. Mit Kommentaren, Begründung, Ergebnis, ..."
   ]
  },
  {
   "cell_type": "markdown",
   "metadata": {},
   "source": [
    "***Answer:***\n",
    "\n"
   ]
  },
  {
   "cell_type": "markdown",
   "metadata": {},
   "source": [
    "### c) Wie wahrscheinlich ist es, dass er die Türe bis zum 3. Versuch aufbekommt? "
   ]
  },
  {
   "cell_type": "markdown",
   "metadata": {},
   "source": [
    "***Answer:***\n",
    "\n"
   ]
  },
  {
   "cell_type": "markdown",
   "metadata": {},
   "source": [
    "### d) Wie wahrscheinlich ist es, dass er die Türe beim 4. Versuch aufbekommt? "
   ]
  },
  {
   "cell_type": "markdown",
   "metadata": {},
   "source": [
    "***Answer:***\n",
    "\n"
   ]
  },
  {
   "cell_type": "markdown",
   "metadata": {},
   "source": [
    "$\\color{green}{2,5 \\text{ Punkte}}$"
   ]
  },
  {
   "cell_type": "markdown",
   "metadata": {},
   "source": [
    "# 2. Seltene Mutationen\n",
    "\n",
    "Alle $10^8$ Basenpare gibt es 2 neue Mutationsereignisse pro Generation. (Dies resultiert in einer Mutationsrate von ca. 64 Mutationen pro *Mensch* pro Generation.) Eine Generation dauert (durchschnittlich) 25 Jahre.\n",
    "\n",
    "Von Interesse ist die Anzahl an Mutationen.\n",
    "\n",
    "(**Erklärung** für jede Teilaufgabe!)"
   ]
  },
  {
   "cell_type": "markdown",
   "metadata": {},
   "source": [
    "### a) Wahrscheinlichkeitsverteilung\n",
    "Um welche Wahrscheinlichkeitsverteilung handelt es sich hier? "
   ]
  },
  {
   "cell_type": "markdown",
   "metadata": {},
   "source": [
    "***Answer:***\n",
    "\n"
   ]
  },
  {
   "cell_type": "markdown",
   "metadata": {},
   "source": [
    "### b) 1 Mutation in 2 Generationen\n",
    "Mit welcher Wahrscheinlichkeit finden in den nächsten 2 Generationen *genau* 1 Mutationsereignisse in $10^8$ Basenpaaren statt? "
   ]
  },
  {
   "cell_type": "markdown",
   "metadata": {},
   "source": [
    "***Answer:***\n",
    "\n"
   ]
  },
  {
   "cell_type": "markdown",
   "metadata": {},
   "source": [
    "### c)  $\\geq 1$ Mutationen in 2 Generationen\n",
    "Mit welcher Wahrscheinlichkeit findet in den nächsten 2 Generationen *mindestens* ein Mutationsereignis in in $10^8$ Basenpaaren statt? "
   ]
  },
  {
   "cell_type": "markdown",
   "metadata": {},
   "source": [
    "***Answer:***\n",
    "\n"
   ]
  },
  {
   "cell_type": "markdown",
   "metadata": {},
   "source": [
    "### d) Skalierung\n",
    "Mit welcher Wahrscheinlichkeit würde in 100 Jahren mindestens ein Mutationsereignis in einem Genom ($3.2*10^9$ Basenpaare) stattfinden? "
   ]
  },
  {
   "cell_type": "markdown",
   "metadata": {},
   "source": [
    "***Answer:***\n",
    "\n"
   ]
  },
  {
   "cell_type": "markdown",
   "metadata": {},
   "source": [
    "$\\color{green}{2,5 \\text{ Punkte}}$"
   ]
  },
  {
   "cell_type": "markdown",
   "metadata": {},
   "source": [
    "# 3. Geburten\n",
    "\n",
    "Im Landkreis Tübingen wurden im Jahr 2017 laut http://www.statistik-bw.de/BevoelkGebiet/GeburtSterben/01065011.tab?R=KR416 2.339 Kinder geboren. Alle Berechnungen mittels Python, kommentiert."
   ]
  },
  {
   "cell_type": "code",
   "execution_count": 38,
   "metadata": {},
   "outputs": [
    {
     "data": {
      "text/html": [
       "<div>\n",
       "<style scoped>\n",
       "    .dataframe tbody tr th:only-of-type {\n",
       "        vertical-align: middle;\n",
       "    }\n",
       "\n",
       "    .dataframe tbody tr th {\n",
       "        vertical-align: top;\n",
       "    }\n",
       "\n",
       "    .dataframe thead th {\n",
       "        text-align: right;\n",
       "    }\n",
       "</style>\n",
       "<table border=\"1\" class=\"dataframe\">\n",
       "  <thead>\n",
       "    <tr style=\"text-align: right;\">\n",
       "      <th></th>\n",
       "      <th>Jahr</th>\n",
       "      <th>Lebendgeborene_alle</th>\n",
       "      <th>Lebendgeborene_m</th>\n",
       "      <th>Gestorbene_alle</th>\n",
       "      <th>Gestorbene_m</th>\n",
       "      <th>Geburtenüberschuss_alle</th>\n",
       "      <th>Geburtenüberschuss_m</th>\n",
       "    </tr>\n",
       "  </thead>\n",
       "  <tbody>\n",
       "    <tr>\n",
       "      <th>0</th>\n",
       "      <td>1975</td>\n",
       "      <td>1907</td>\n",
       "      <td>913</td>\n",
       "      <td>1333</td>\n",
       "      <td>658</td>\n",
       "      <td>574</td>\n",
       "      <td>255</td>\n",
       "    </tr>\n",
       "    <tr>\n",
       "      <th>1</th>\n",
       "      <td>1976</td>\n",
       "      <td>1945</td>\n",
       "      <td>1018</td>\n",
       "      <td>1348</td>\n",
       "      <td>633</td>\n",
       "      <td>597</td>\n",
       "      <td>385</td>\n",
       "    </tr>\n",
       "    <tr>\n",
       "      <th>2</th>\n",
       "      <td>1977</td>\n",
       "      <td>1852</td>\n",
       "      <td>948</td>\n",
       "      <td>1292</td>\n",
       "      <td>607</td>\n",
       "      <td>560</td>\n",
       "      <td>341</td>\n",
       "    </tr>\n",
       "    <tr>\n",
       "      <th>3</th>\n",
       "      <td>1978</td>\n",
       "      <td>1888</td>\n",
       "      <td>968</td>\n",
       "      <td>1326</td>\n",
       "      <td>641</td>\n",
       "      <td>562</td>\n",
       "      <td>327</td>\n",
       "    </tr>\n",
       "    <tr>\n",
       "      <th>4</th>\n",
       "      <td>1979</td>\n",
       "      <td>1984</td>\n",
       "      <td>951</td>\n",
       "      <td>1361</td>\n",
       "      <td>643</td>\n",
       "      <td>623</td>\n",
       "      <td>308</td>\n",
       "    </tr>\n",
       "  </tbody>\n",
       "</table>\n",
       "</div>"
      ],
      "text/plain": [
       "   Jahr  Lebendgeborene_alle  Lebendgeborene_m  Gestorbene_alle  Gestorbene_m  \\\n",
       "0  1975                 1907               913             1333           658   \n",
       "1  1976                 1945              1018             1348           633   \n",
       "2  1977                 1852               948             1292           607   \n",
       "3  1978                 1888               968             1326           641   \n",
       "4  1979                 1984               951             1361           643   \n",
       "\n",
       "   Geburtenüberschuss_alle  Geburtenüberschuss_m  \n",
       "0                      574                   255  \n",
       "1                      597                   385  \n",
       "2                      560                   341  \n",
       "3                      562                   327  \n",
       "4                      623                   308  "
      ]
     },
     "execution_count": 38,
     "metadata": {},
     "output_type": "execute_result"
    }
   ],
   "source": [
    "import pandas as pd\n",
    "\n",
    "data = pd.read_csv('A04.csv', sep=';')\n",
    "data.head()"
   ]
  },
  {
   "cell_type": "code",
   "execution_count": 39,
   "metadata": {},
   "outputs": [],
   "source": [
    "jahr = data.Jahr\n",
    "lebendgeborene_alle = data.Lebendgeborene_alle\n",
    "lebendgeborene_mannlich = data.Lebendgeborene_m\n",
    "gestorbene_alle = data.Gestorbene_alle\n",
    "gestorbene_mannlich = data.Gestorbene_m\n",
    "geburtenuberschuss_alle = data.Geburtenüberschuss_alle\n",
    "geburtenuberschuss_mannlich = data.Geburtenüberschuss_m"
   ]
  },
  {
   "cell_type": "markdown",
   "metadata": {},
   "source": [
    "### a) Es interessiert der Anteil an Mädchengeburten unter diesen Geburten\n",
    "Um welche Modell-Wahrscheinlichkeitsverteilung handelt es sich?"
   ]
  },
  {
   "cell_type": "markdown",
   "metadata": {},
   "source": [
    "***Answer:***\n",
    "\n",
    "Binomial-Verteilung:\n",
    "\n",
    "Zufallsvariable ist jetzt die Anzahl der Einzel-Ereignisse $A_{i}\\in \\left\\{0,1\\right\\}$. Es bedeutet, dass im Jahr $i$ eine Mädchen($A_{i}=1$) oder nicht Mädchen($A_{i}=0$) gebort ist.\n"
   ]
  },
  {
   "cell_type": "code",
   "execution_count": 31,
   "metadata": {},
   "outputs": [
    {
     "data": {
      "image/png": "[encoded data removed]",
      "text/plain": [
       "<Figure size 432x288 with 1 Axes>"
      ]
     },
     "metadata": {
      "needs_background": "light"
     },
     "output_type": "display_data"
    }
   ],
   "source": [
    "# plt.plot(data.Jahr, '.:')\n",
    "# plt.legend()\n",
    "plt.plot(jahr, geburtenuberschuss_alle, 'r.-')\n",
    "plt.plot(jahr, geburtenuberschuss_mannlich, 'b.-')\n",
    "weblich = (geburtenuberschuss_alle - geburtenuberschuss_mannlich +0.0)*1.0/geburtenuberschuss_alle\n",
    "# plt.plot(jahr, weblich, '.-')\n",
    "# weblich\n",
    "# print(\"modi: {}\".format(weblich))"
   ]
  },
  {
   "cell_type": "markdown",
   "metadata": {},
   "source": [
    "### b) Erwartungswert\n",
    "Unter der Annahme von Gleichverteilung der beiden betrachteten Geschlechter, was ist der Erwartungswert für die Anzahl der geborenen Mädchen im Landkreis Tübingen? "
   ]
  },
  {
   "cell_type": "markdown",
   "metadata": {},
   "source": [
    "***Answer:***\n",
    "\n"
   ]
  },
  {
   "cell_type": "code",
   "execution_count": 49,
   "metadata": {},
   "outputs": [
    {
     "name": "stdout",
     "output_type": "stream",
     "text": [
      "der Erwartungswert für die Anzahl der geborenen Mädchen ist: 283\n"
     ]
    }
   ],
   "source": [
    "E = np.mean(geburtenuberschuss_alle - geburtenuberschuss_mannlich)\n",
    "print(\"der Erwartungswert für die Anzahl der geborenen Mädchen ist: {:.0f}\".format(E))"
   ]
  },
  {
   "cell_type": "markdown",
   "metadata": {},
   "source": [
    "### c) Wahrscheinlichkeiten\n",
    "- Wie wahrscheinlich ist es (unter Annahme der Gleichverteilung der Geschlechter), dass 2017 genau 1.190 der geborenen Kinder männlich waren?\n",
    "- Und wie hoch ist die Wahrscheinlichkeit für die Anzahl der im Jahr 2017 geborenen Mädchen? "
   ]
  },
  {
   "cell_type": "markdown",
   "metadata": {},
   "source": [
    "***Answer:***\n",
    "\n"
   ]
  },
  {
   "cell_type": "code",
   "execution_count": 116,
   "metadata": {},
   "outputs": [
    {
     "name": "stdout",
     "output_type": "stream",
     "text": [
      "die Wahrscheinlichkeit im Jahr 2017 genau 1.190 der geborenen Kinder: [0.011518]\n"
     ]
    }
   ],
   "source": [
    "N = data.Lebendgeborene_alle[data['Jahr']==2017]\n",
    "p = .5\n",
    "# - data.Lebendgeborene_m[data['Jahr']==2017]\n",
    "anteil = stats.binom(N, p).pmf(1190)\n",
    "print(\"die Wahrscheinlichkeit im Jahr 2017 genau 1.190 der geborenen Kinder: {}\".format(anteil))"
   ]
  },
  {
   "cell_type": "code",
   "execution_count": 125,
   "metadata": {
    "scrolled": false
   },
   "outputs": [
    {
     "data": {
      "text/plain": [
       "(0, 2339)"
      ]
     },
     "execution_count": 125,
     "metadata": {},
     "output_type": "execute_result"
    },
    {
     "data": {
      "image/png": "[encoded data removed]",
      "text/plain": [
       "<Figure size 1152x432 with 1 Axes>"
      ]
     },
     "metadata": {
      "needs_background": "light"
     },
     "output_type": "display_data"
    }
   ],
   "source": [
    "xs = np.arange(list(N)[0])\n",
    "# print(\"{}\".format(list(N)[0]))\n",
    "ys = []\n",
    "for x in xs:\n",
    "    ys.append(stats.binom(N,p).pmf(x))\n",
    "\n",
    "fig = plt.figure(figsize=(16,6))\n",
    "plt.plot(xs, ys)\n",
    "plt.plot([1190, 1190], [0, anteil], 'r--')\n",
    "plt.plot([0, 1190], [anteil, anteil], 'r--')\n",
    "plt.plot(1190, anteil, 'ro')\n",
    "plt.grid(True)\n",
    "plt.xlim([0, np.size(xs)])"
   ]
  },
  {
   "cell_type": "markdown",
   "metadata": {},
   "source": [
    "### d) Wahrscheinlichkeit des Erwartungswerts\n",
    "Nehmen Sie ihren berechneten Erwartungswert aus b)\n",
    "- Wie wahrscheinlich ist es, dass *genau* so viele Mädchen geboren werden? \n",
    "- Wie wahrscheinlich ist es, dass die nächstgrößere Zahl als der Erwartungswert Mädchen geboren werden? \n",
    "- Wie wahrscheinlich ist es, dass die nächstkleinere Zahl als der Erwartungswert Mädchen geboren werden? "
   ]
  },
  {
   "cell_type": "markdown",
   "metadata": {},
   "source": [
    "***Answer:***\n",
    "\n"
   ]
  },
  {
   "cell_type": "code",
   "execution_count": 129,
   "metadata": {},
   "outputs": [
    {
     "name": "stdout",
     "output_type": "stream",
     "text": [
      "283.2: [0.], [0.], [0.]\n"
     ]
    },
    {
     "data": {
      "text/plain": [
       "(0, 2339)"
      ]
     },
     "execution_count": 129,
     "metadata": {},
     "output_type": "execute_result"
    },
    {
     "data": {
      "image/png": "[encoded data removed]",
      "text/plain": [
       "<Figure size 1152x432 with 1 Axes>"
      ]
     },
     "metadata": {
      "needs_background": "light"
     },
     "output_type": "display_data"
    }
   ],
   "source": [
    "anteil1 = stats.binom(N, p).pmf(np.ceil(E))\n",
    "anteil2 = stats.binom(N, p).pmf(np.round(E))\n",
    "anteil3 = stats.binom(N, p).pmf(283)\n",
    "\n",
    "print(\"{:.1f}: {}, {}, {}\".format(E, anteil1, anteil2, anteil3))\n",
    "fig = plt.figure(figsize=(16,6))\n",
    "plt.plot(xs, ys)\n",
    "plt.grid(True)\n",
    "# d\n",
    "plt.plot([np.ceil(E), np.ceil(E)], [0, np.max(ys)], 'r--')\n",
    "plt.plot([np.round(E), np.round(E)], [0, np.max(ys)], 'g:')\n",
    "plt.plot([E, E], [0, np.max(ys)], 'b:')\n",
    "plt.plot(E, anteil1, 'bo')\n",
    "plt.xlim([0, np.size(xs)])"
   ]
  },
  {
   "cell_type": "markdown",
   "metadata": {},
   "source": [
    "### e) Vergleichen Sie ihre Ergebnisse aus c) und d) "
   ]
  },
  {
   "cell_type": "markdown",
   "metadata": {},
   "source": [
    "***Answer:***\n",
    "\n",
    "Die Wahrscheinlichkeit von d ist 0, weil von der Schaubild kann man deutlich sieht, dass der Anteil nur in der Interval von 1100 bis 1300 steht. Andere Fall ist der Anteil fast 0."
   ]
  },
  {
   "cell_type": "code",
   "execution_count": 128,
   "metadata": {},
   "outputs": [
    {
     "data": {
      "text/plain": [
       "(0, 2339)"
      ]
     },
     "execution_count": 128,
     "metadata": {},
     "output_type": "execute_result"
    },
    {
     "data": {
      "image/png": "[encoded data removed]",
      "text/plain": [
       "<Figure size 1152x432 with 1 Axes>"
      ]
     },
     "metadata": {
      "needs_background": "light"
     },
     "output_type": "display_data"
    }
   ],
   "source": [
    "fig = plt.figure(figsize=(16,6))\n",
    "plt.plot(xs, ys)\n",
    "plt.grid(True)\n",
    "# c\n",
    "plt.plot([1190, 1190], [0, anteil], 'r--')\n",
    "plt.plot([0, 1190], [anteil, anteil], 'r--')\n",
    "plt.plot(1190, anteil, 'ro')\n",
    "# d\n",
    "plt.plot([np.ceil(E), np.ceil(E)], [0, np.max(ys)], 'r--')\n",
    "plt.plot([np.round(E), np.round(E)], [0, np.max(ys)], 'g:')\n",
    "plt.plot([E, E], [0, np.max(ys)], 'b:')\n",
    "plt.plot(E, anteil1, 'bo')\n",
    "plt.xlim([0, np.size(xs)])"
   ]
  },
  {
   "cell_type": "markdown",
   "metadata": {},
   "source": [
    "### f) Wie wahrscheinlich wäre es gewesen, dass \n",
    "- mehr als 1.090 Jungen geboren worden wären?\n",
    "- weniger als 1.090 Jungen geboren worden wären?\n",
    "- mindestens 1.090 Jungen geboren worden wären? \n",
    "- höchstens 1.090 Jungen geboren worden wären? "
   ]
  },
  {
   "cell_type": "markdown",
   "metadata": {},
   "source": [
    "***Answer:***\n",
    "\n"
   ]
  },
  {
   "cell_type": "code",
   "execution_count": 151,
   "metadata": {},
   "outputs": [
    {
     "name": "stdout",
     "output_type": "stream",
     "text": [
      "mehr als 1090: \t\t0.999926\n",
      "weniger als 1090: \t0.000074\n",
      "mindestens 1090: \t0.999459\n",
      "hochstens 1090: \t0.000541\n"
     ]
    },
    {
     "data": {
      "image/png": "[encoded data removed]",
      "text/plain": [
       "<Figure size 1152x432 with 1 Axes>"
      ]
     },
     "metadata": {
      "needs_background": "light"
     },
     "output_type": "display_data"
    }
   ],
   "source": [
    "anteil4 = stats.binom(N, p).pmf(1090)\n",
    "\n",
    "# dieser bin ich nicht sicher, was meint hier ?\n",
    "print(\"mehr als 1090: \\t\\t{:.6f}\".format(1 - stats.binom(N, p).pmf(1090)[0]))\n",
    "# dieser bin ich nicht sicher, was meint hier ?\n",
    "print(\"weniger als 1090: \\t{:.6f}\".format(stats.binom(N, p).pmf(1090)[0]))\n",
    "# hier wird als komulative funktion benutzen\n",
    "print(\"mindestens 1090: \\t{:.6f}\".format(1 - stats.binom(N, p).cdf(1090)[0]))\n",
    "print(\"hochstens 1090: \\t{:.6f}\".format(stats.binom(N, p).cdf(1090)[0]))\n",
    "\n",
    "fig = plt.figure(figsize=(16,6))\n",
    "ys1 = []\n",
    "for xx in xs:\n",
    "    ys1.append(stats.binom(N,p).cdf(xx))\n",
    "plt.plot(xs, ys1)\n",
    "plt.grid(True)\n",
    "plt.plot(1090, anteil4, 'ro')\n",
    "plt.xlim([0, np.size(xs)]);"
   ]
  },
  {
   "cell_type": "markdown",
   "metadata": {},
   "source": [
    "#### $\\color{green}{3 \\text{ Punkte}}$"
   ]
  },
  {
   "cell_type": "markdown",
   "metadata": {},
   "source": [
    "# 4. Spieltheorie\n",
    "\n",
    "Sie spielen mit Ihrem Würfel A gegen einen Wettanbieter mit Würfel B. \n",
    "Bei einem Einsatz von 1€ gewinnen Sie 2€, wenn Ihre gewürfelte Augenzahl größer oder gleich ist.\n",
    "\n",
    "### a) Würden Sie diese Wette eingehen?\n",
    "... wenn beide einen fairen Würfel einsetzen?\n",
    "- Was ist der Erwartungswert Ihres Gewinns?"
   ]
  },
  {
   "cell_type": "markdown",
   "metadata": {},
   "source": [
    "***Answer:***\n",
    "\n",
    "$A = \\sum_{i=1}^{6}a_{i}\\cdot p_{i}$\n",
    "\n",
    "$B = \\sum_{j=1}^{6}a_{j}\\cdot p_{j}$\n",
    "\n",
    "$\\sum_{i\\ge j}^{6}\\sum_{j=1}^{6} p_{i}\\cdot p_{j}$"
   ]
  },
  {
   "cell_type": "markdown",
   "metadata": {},
   "source": [
    "### b) Programmieren Sie\n",
    "eine Funktion `mywin()` wie im Skelett angedeutet, die den Gewinn ausgibt.\n",
    "\n",
    "- Parameter: Anzahl der verwendeten Würfel von Angreifer und Verteidiger\n",
    "- Rückgabe: Wahrheitswert für \"Angreifer gewinnt\"\n",
    "\n",
    "**Kommentieren** Sie!"
   ]
  },
  {
   "cell_type": "code",
   "execution_count": null,
   "metadata": {},
   "outputs": [],
   "source": [
    "'''\"constants\". Please explain --v '''\n",
    "WIN = 2.0                      #\n",
    "BET = 1.0                      # \n",
    "SIX = 6                        #\n",
    "PA = np.asarray(SIX*[1])/SIX   # ...\n",
    "PB = PA.copy()                 #\n",
    "PIPS = np.arange(SIX)+1        #\n",
    "\n",
    "'''rolling the two dice'''\n",
    "def dieA():\n",
    "    return np.random.choice(PIPS, p=PA)\n",
    "\n",
    "def dieB():\n",
    "    return np.random.choice(PIPS, p=PB)\n",
    "\n",
    "''''function throwing dice A against B once\n",
    "    input: none (chance for rolling...)\n",
    "    output:  .... ....\n",
    "'''\n",
    "def mywin():\n",
    "    a = dieA()                               # comment: what is this?\n",
    "    b = dieB()                               # ...\n",
    "    if a <YOUR COMPARISON> b:\n",
    "        m = <YOUR CALCULATION>\n",
    "    else:\n",
    "        m = <YOUR CALCULATION>\n",
    "    return m       \n",
    "\n",
    "# test the game\n",
    "print('I won {} Eur'.format(mywin()))"
   ]
  },
  {
   "cell_type": "markdown",
   "metadata": {},
   "source": [
    "### c) Spielen Sie \n",
    "Spielen Sie nun 100x. Was ist Ihr Ergebnis? Vergleichen Sie mit dem Erwartungswert."
   ]
  },
  {
   "cell_type": "code",
   "execution_count": null,
   "metadata": {},
   "outputs": [],
   "source": []
  },
  {
   "cell_type": "markdown",
   "metadata": {},
   "source": [
    "### d) Schummeln\n",
    "Der Wettanbieter hat nichts zu verschenken. Er setzt einen gezinkten Würfel ein (siehe folgende Code-Zelle)\n",
    "\n",
    "Spielen Sie wieder 100x. Was ist Ihr Ergebnis? Vergleichen Sie auch mit dem Erwartungswert aus a)."
   ]
  },
  {
   "cell_type": "code",
   "execution_count": null,
   "metadata": {},
   "outputs": [],
   "source": [
    "PB = PA.copy()\n",
    "DP = .1\n",
    "PB[-1] += DP\n",
    "PB[0] -= DP"
   ]
  },
  {
   "cell_type": "markdown",
   "metadata": {},
   "source": [
    "### e) Verzockt?\n",
    "Hat der Wettanbieter den \"richtigen\" Würfel oder hat er sich verzockt?"
   ]
  },
  {
   "cell_type": "code",
   "execution_count": null,
   "metadata": {},
   "outputs": [],
   "source": []
  },
  {
   "cell_type": "markdown",
   "metadata": {},
   "source": [
    "$\\color{green}{\\text{ 4 Punkte}}$"
   ]
  },
  {
   "cell_type": "code",
   "execution_count": null,
   "metadata": {},
   "outputs": [],
   "source": []
  }
 ],
 "metadata": {
  "anaconda-cloud": {},
  "kernelspec": {
   "display_name": "Python 3",
   "language": "python",
   "name": "python3"
  },
  "language_info": {
   "codemirror_mode": {
    "name": "ipython",
    "version": 3
   },
   "file_extension": ".py",
   "mimetype": "text/x-python",
   "name": "python",
   "nbconvert_exporter": "python",
   "pygments_lexer": "ipython3",
   "version": "3.7.0b3"
  }
 },
 "nbformat": 4,
 "nbformat_minor": 2
}
