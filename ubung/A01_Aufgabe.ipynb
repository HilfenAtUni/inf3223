{
 "cells": [
  {
   "cell_type": "markdown",
   "metadata": {},
   "source": [
    "# Korrektur\n",
    "\n",
    "Viel Erfolg!\n",
    "\n",
    "### Bewertung\n",
    "\n",
    "#### _/12 (+1) Punkte\n",
    "\n",
    "----"
   ]
  },
  {
   "cell_type": "code",
   "execution_count": 1,
   "metadata": {},
   "outputs": [],
   "source": [
    "'''import standard libraries'''\n",
    "import numpy as np                       # mathematical methods\n",
    "from matplotlib import pyplot as plt     # plotting methods\n",
    "%matplotlib inline"
   ]
  },
  {
   "cell_type": "markdown",
   "metadata": {},
   "source": [
    "# Übungsaufgaben 01 - *Beschreibende Statistik*"
   ]
  },
  {
   "cell_type": "markdown",
   "metadata": {},
   "source": [
    "#### Bitte lösen sie die Aufgaben \n",
    "- innerhalb dieses Notebooks \n",
    "- welches Sie bitte umbenennen in `A01_IHRNAME.ipynb` (IHRNAME passend ersetzen)\n",
    "\n",
    "und schicken das ausgeführte Notebook dann\n",
    "\n",
    "#### bis zum Montag, den 29. Oktober 22:00\n",
    "als Anhang einer Email mit Titel \"`Angewandte Statistik I`\" an `uli.wannek@uni-tuebingen.de`\n",
    "\n",
    "#### Danke!"
   ]
  },
  {
   "cell_type": "markdown",
   "metadata": {},
   "source": [
    "### Hinweise\n",
    "- Text-Antworten sowie $\\LaTeX$-Formeln am besten in *markdown* Zellen\n",
    "    - Sie müssen nicht, dürfen aber durchaus, Text in `print('')`-Anweisungen ausgeben\n",
    "    - Wenn Sie Ergebnisse aus Zellen verwenden ist `print('{}'.format())` in code-Zellen hingegen extrem praktisch\n",
    "- Sie dürfen in diesem Notebook gerne alles, was nicht zu den Aufgaben (und zum Kopf) gehört, löschen.\n",
    "- Sie sollen unbedingt (zu Ihrem späteren **und** meinem jetzigen Verständnis) Kommentare in weiteren markdown-Zellen einfügen. Das hilft wirklich!\n",
    "- Es gibt Punkte für\n",
    "    - Ihre Überlegung\n",
    "    - Ihr Programm\n",
    "    - Ihre Kommentare(!)\n",
    "    - und schließlich für das richtige Ergebnis\n",
    "    - mit Zusammenfassung wie zB.: *\"der Mittelwert beträgt 17km/h\"*\n",
    "- Sie dürfen alle Kommentare und Antworten auf Deutsch oder Englisch verfassen."
   ]
  },
  {
   "cell_type": "markdown",
   "metadata": {},
   "source": [
    "----"
   ]
  },
  {
   "cell_type": "markdown",
   "metadata": {},
   "source": [
    "## 1. Verschiebungssatz \n",
    "Beweisen Sie den Verschiebungssatz\n",
    "$$s^2 = \\overline{x^2} - \\overline{x}^2$$\n",
    "\n",
    "der empirischen Varianz\n",
    "$$s^2 = \\frac{1}{N} \\sum_{i=1}^{N} \\left( x_i-\\bar{x} \\right)^2$$\n",
    "\n",
    "Ihre nachvollziehbare schrittweise Lösung laden Sie bitte in die folgende Markdown-Zelle\n",
    "- entweder als LaTeX-Mathematik-Formeln\n",
    "    - orientieren Sie sich am obigen Beispiel\n",
    "- oder Handschriftlich, dann bitte photographieren/einscannen und als *.jpg*- oder *.png*-Datei einfügen\n",
    "- oder als ASCII-Art\n",
    "\n",
    "$\\color{green}{2 \\text{ Punkte}}$"
   ]
  },
  {
   "cell_type": "markdown",
   "metadata": {},
   "source": [
    "- ***Antwort:***\n",
    "$$\\begin{aligned}\n",
    "    s^2 &= \\frac{1}{N}\\sum_{i=1}^{N} (x_i - \\bar{x})^2 \\\\\n",
    "        &= \\frac{1}{N}\\sum_{i=1}^{N} (x_i^2 - 2\\cdot x_i\\cdot \\bar{x} + \\bar{x}^2) \\\\\n",
    "        &= \\frac{1}{N}\\sum_{i=1}^{N} x_i^2 + \\frac{1}{N}\\sum_{i=1}^{N} (\\bar{x}^2) - 2\\cdot \\frac{1}{N}\\sum_{i=1}^{N} x_i\\cdot \\bar{x} \\\\\n",
    "        &= \\bar{x^2} + \\bar{x}^2 - 2\\cdot \\bar{x} \\cdot \\frac{1}{N}\\sum_{i=1}^{N} x_i \\\\\n",
    "        &= \\bar{x^2} - \\bar{x}^2\n",
    "\\end{aligned}$$"
   ]
  },
  {
   "cell_type": "markdown",
   "metadata": {},
   "source": [
    "### Verschiebungssatz \n",
    "\n",
    "Der Verschiebungssatz erspart:\n",
    "\n",
    "#### Behauptung:\n",
    "\n",
    "$$s^2 = \\overline{x^2} - \\overline{x}^2$$\n",
    "\n",
    "#### Beweis:\n",
    "\n",
    "[Platzhalter-Formel:] $$s^2 = \\frac{1}{N} \\sum_{i=1}^{N} \\left( x_i-\\bar{x} \\right)^2$$\n"
   ]
  },
  {
   "cell_type": "markdown",
   "metadata": {},
   "source": [
    "- ***Antwort:***\n",
    "\n",
    "$$\\begin{aligned}\n",
    "    s^2 &= \\bar{x^2} - \\bar{x}^2 \\\\\n",
    "        &= \\bar{x^2} + \\bar{x}^2 - 2\\cdot \\bar{x}\\cdot\\bar{x} \\\\\n",
    "        &= \\frac{1}{N}\\sum_{i=1}^{N} x_i^2 + \\frac{1}{N}\\sum_{i=1}^{N} (\\bar{x}^2) - 2\\cdot \\frac{1}{N}\\sum_{i=1}^{N} x_i\\cdot \\bar{x} \\\\\n",
    "        &= \\frac{1}{N}\\sum_{i=1}^{N} (x_i^2 - 2\\cdot x_i\\cdot \\bar{x} + \\bar{x}^2) \\\\\n",
    "        &= \\frac{1}{N}\\sum_{i=1}^{N} (x_i - \\bar{x})^2\n",
    "\\end{aligned}$$"
   ]
  },
  {
   "cell_type": "markdown",
   "metadata": {},
   "source": [
    "### Hilfestellung *LaTeX-Formeln*\n",
    "Formeln werden mit dem eingebauten LaTeX gerendert. Sie stehen zwischen `$`-Symbolen und sind wie das Potenz-Beispiel $a^2 = b^{1+1} + c^{2}$ innerhalb einer Text-Zeile.\n",
    "- Index: $x_i$ und Potenz: $y^2$\n",
    "- Bruch: $\\frac{1}{N}$\n",
    "- Mittelwerts-Überstrich: $\\overline{y}$ (nicht so schön ist $\\bar{a}$)\n",
    "- Summenzeichen: $\\sum_{i=0}^{i=N} x_i$\n",
    "- Platzhalter: keiner $a a$, positiv $a \\, a \\; a \\quad a \\qquad a$ oder negativ $a\\!a$\n",
    "\n",
    "Formeln zwischen doppelten `$$`-Zeichen erstrecken sich auf eigene, zentrierte Zeilen. (Siehe Aufgabenstellung)\n",
    "\n",
    "Eine umfangreiche Sammlung von Formelzeichen ist hier zu finden: https://de.wikipedia.org/wiki/Hilfe:TeX"
   ]
  },
  {
   "cell_type": "markdown",
   "metadata": {
    "collapsed": true
   },
   "source": [
    "### Hilfestellung Bilder einbinden\n",
    "\n",
    "unterstützt wird `.png` und `.jpg`.\n",
    "\n",
    "#### Entweder\n",
    "in einer Markdown-Zelle per a) copy und paste\n",
    "\n",
    "oder wie hier per b) Befehl `<img src=\"A01_image.png\" width=\"7%\">`\n",
    "\n",
    "<img src=\"A01_image.png\" width=\"7%\">\n",
    "\n",
    "dann wird das Bild jedoch nicht im Notebook gespeichert und Sie müssen es **mitliefern**.\n",
    "\n",
    "#### Oder\n",
    "in einer code Zelle ausgeben, wie hier:"
   ]
  },
  {
   "cell_type": "code",
   "execution_count": 2,
   "metadata": {},
   "outputs": [
    {
     "data": {
      "image/png": "[encoded data removed]",
      "text/plain": [
       "<IPython.core.display.Image object>"
      ]
     },
     "execution_count": 2,
     "metadata": {
      "image/png": {
       "width": "7%"
      }
     },
     "output_type": "execute_result"
    }
   ],
   "source": [
    "'''ein Bild mittels code-Zelle anzeigen;\n",
    "   es bleibt, auch ohne die Quelldatei, im Notebook gespeichert'''\n",
    "from IPython.display import Image             # we need to know the image library\n",
    "Image(filename='A01_image.png', width='7%')   # just show an image, jpg or png, rem: %matplotlib inline"
   ]
  },
  {
   "cell_type": "markdown",
   "metadata": {},
   "source": [
    "- Damit ist das Bild im Notebook abgespeichert und erscheint beim Öffnen mit.\n",
    "- Für folgende Bilder reicht dann eine `Image()`-Zeile. \n",
    "- Erst bei (Wieder-) Ausführung der Zelle muß das Bild im benannten Pfad vorliegen."
   ]
  },
  {
   "cell_type": "markdown",
   "metadata": {},
   "source": [
    "----"
   ]
  },
  {
   "cell_type": "markdown",
   "metadata": {},
   "source": [
    "## 2. Weitere Beweise\n",
    "Wählen Sie **eine** der beiden folgenden Teilaufgaben: \n",
    "\n",
    "### 2.1 Das arithmetische Mittel\n",
    "Das arithmetische Mittel transformiert sich ebenso wie die Daten unter einer linearen Transformation: \n",
    "$$y_i = ax_i + b \\qquad \\Rightarrow \\qquad \\overline{y} = a\\overline{x} + b$$\n",
    "\n",
    "Beweis:\n",
    "\n",
    "...\n"
   ]
  },
  {
   "cell_type": "markdown",
   "metadata": {},
   "source": [
    "- ***Antwort:***\n",
    "\n",
    "$\\because$ $y_i = ax_i + b$ und $a$, $b$ sind Konstant Werte.\n",
    "\n",
    "$$\\begin{aligned}\n",
    "    \\bar{y} &= \\frac{1}{N} \\sum_{i=1}^{N} (ax_i + b) \\\\\n",
    "        &= \\frac{1}{N} \\sum_{i=1}^{N} ax_i + \\frac{1}{N} \\sum_{i=1}^{N} b \\\\\n",
    "        &= a \\cdot \\frac{1}{N} \\sum_{i=1}^{N} x_i + \\frac{1}{N} \\sum_{i=1}^{N} b \\\\\n",
    "        &= a\\bar{x} + b\n",
    "\\end{aligned}$$"
   ]
  },
  {
   "cell_type": "markdown",
   "metadata": {},
   "source": [
    "### 2.2 Summe von Mittelwerten \n",
    "Gegeben seien $N$ Werte $x_i$ mit Mittelwert $\\bar{x}$ und $M$ Werte $y_j$ mit Mittelwert  $\\bar{y}$ . Dann ist das gemeinsame arithmetische Mittel\n",
    "$$\\overline{z} = \\frac{1}{N+M}(N\\cdot \\overline{x} + M\\cdot \\overline{y})$$\n",
    "im allgemeinen $\\neq \\frac{1}{2}(\\overline{x}+\\overline{y})$\n",
    "\n",
    "Beweis:\n",
    "\n",
    "...\n",
    "\n",
    "\n",
    "\n",
    "$\\color{green}{2 \\text{ Punkte}}$"
   ]
  },
  {
   "cell_type": "markdown",
   "metadata": {},
   "source": [
    "- ***Antwort:***\n",
    "\n",
    "$\\because$ $\\bar{x} = \\frac{1}{N} \\sum_{i=1}^{N} x_i$, $\\bar{y} = \\frac{1}{M} \\sum_{j=1}^{M} y_j$ und $\\overline{z} = \\frac{1}{N+M}(N\\cdot \\overline{x} + M\\cdot \\overline{y})$\n",
    "\n",
    "$$\\begin{aligned}\n",
    "    \\frac{1}{2} (\\bar{x} + \\bar{y}) &= \\frac{1}{2} (\\frac{1}{N}\\sum_{i=1}^{N}x_i + \\frac{1}{M} \\sum_{j=1}^{M} y_j)\n",
    "\\end{aligned}$$\n",
    "\n",
    "aber\n",
    "\n",
    "$$\\begin{aligned}\n",
    "    \\bar{z} &= \\frac{1}{N+M}(N\\cdot \\bar{x} + M\\cdot\\bar{y}) \\\\\n",
    "        &= \\frac{1}{N+M} (N\\cdot\\frac{1}{N}\\sum_{i=1}^{N} + M\\cdot\\frac{1}{M}\\sum_{j=1}^{M}y_j) \\\\\n",
    "        &= \\frac{1}{N+M} (\\sum_{i=1}^{N}x_i + \\sum_{j=1}^{M}y_j)\n",
    "\\end{aligned}$$\n",
    "\n",
    "Wenn $N==M$ ist, dann ist\n",
    "\n",
    "$$\\begin{aligned}\n",
    "    \\bar{z} &= \\frac{1}{N+M} (\\sum_{i=1}^{N}x_i + \\sum_{j=1}^{M}y_j) \\\\\n",
    "        &= \\frac{1}{2\\cdot N} (\\sum_{i=1}^{N}x_i + \\sum_{j=1}^{M}y_j) \\\\\n",
    "        &= \\frac{1}{2} (\\frac{1}{N} \\sum_{i=1}^{N}x_i + \\frac{1}{M} \\sum_{j=1}^{M}y_j) \\\\\n",
    "        &= \\frac{1}{2} (\\bar{x} + \\bar{y})\n",
    "\\end{aligned}$$\n",
    "\n",
    "Wenn $N\\ne M$ ist, dann ist $\\bar{z}\\ne \\frac{1}{2}(\\bar{x} + \\bar{y})$"
   ]
  },
  {
   "cell_type": "markdown",
   "metadata": {},
   "source": [
    "## 3. Boxplot\n",
    "- Berechnen Sie die für einen (Interquartils-) Box-Plot relevanten Kennzahlen, speichern diese in jeweilige (sinnvoll benannte) Variablen ab und geben diese dann aus:  \n",
    "    - Lage des Median-Strichs\n",
    "    - Größe und Lage der Box\n",
    "    - Abstand und Lage der Whisker\n",
    "    - Liste der Ausreisser\n",
    "    - ... (was Sie sonst noch für wichtig erachten)\n",
    "- Lassen Sie `matplotlib` den entsprechenden Box-Plot zeichnen\n",
    "\n",
    "$\\color{green}{3 \\text{ Punkte}}$\n",
    "\n",
    "#### Bonus: \n",
    "- Erklären Sie mögliche Abweichungen zwischen (ausgegebenen) Werten und Ihrer Abbildung \n",
    "\n",
    "$\\color{green}{1 \\text{ Punkt}}$ "
   ]
  },
  {
   "cell_type": "code",
   "execution_count": 40,
   "metadata": {
    "scrolled": false
   },
   "outputs": [
    {
     "name": "stdout",
     "output_type": "stream",
     "text": [
      "A box plot for x has parameters:\n",
      "parameter mean has value 4.654\n",
      "Lage des Median-Strichs:\t5.000\n",
      "Größe der Box:\t\t\t1.75 \n",
      "Lage der Box:\t\t\t4.0,5.75\n",
      "Abstand der Whisker:\t\t-1.0,-0.75\n",
      "Lage der Whisker:\t\t5,5\n",
      "Liste der Ausreisser:\t\t[2 6 2 8 3 6 1 3 7 9 3 6 6]\n",
      "boundary:\t\t\t8.375, 1.375\n",
      "proof: the box-plot internally uses the same parameters and looks like this:\n"
     ]
    },
    {
     "data": {
      "image/png": "[encoded data removed]",
      "text/plain": [
       "<Figure size 432x288 with 1 Axes>"
      ]
     },
     "metadata": {
      "needs_background": "light"
     },
     "output_type": "display_data"
    }
   ],
   "source": [
    "'''following three lines can be scipped, \n",
    "   if those on top are executed already, \n",
    "   once in a notebook-session is sufficient\n",
    "'''\n",
    "from matplotlib import pyplot as plt\n",
    "import numpy as np\n",
    "%matplotlib inline\n",
    "\n",
    "\n",
    "x = np.array([2, 6, 4, 5, 2, 8, 5, 5, 4, 3, 6, 5, 4, 1, 5, 4, 3, 7, 9, 5, 3, 4, 4, 6, 5, 6])\n",
    "print('A box plot for x has parameters:')\n",
    "\n",
    "#Example: \n",
    "mean = np.mean(x)\n",
    "print('parameter mean has value {:.3f}'.format(mean))\n",
    "\n",
    "# Lage des Median-Strichs\n",
    "median = np.median(x)\n",
    "print('Lage des Median-Strichs:\\t{:.3f}'.format(median))\n",
    "\n",
    "# Größe und Lage der Box\n",
    "grosse_25, grosse_75 = np.percentile(x, [25, 75])\n",
    "inter_qrange = grosse_75 - grosse_25\n",
    "print(\"Größe der Box:\\t\\t\\t{} \\nLage der Box:\\t\\t\\t{},{}\"\n",
    "          .format(inter_qrange, grosse_25, grosse_75))\n",
    "\n",
    "# Abstand und Lage der Whisker\n",
    "x_norm = []\n",
    "for v in x:\n",
    "    if (grosse_25<v) and (grosse_75>v):\n",
    "        x_norm.append(v)\n",
    "x_norm = np.asarray(x_norm)\n",
    "print(\"Abstand der Whisker:\\t\\t{},{}\\nLage der Whisker:\\t\\t{},{}\"\n",
    "          .format(grosse_25-np.min(x_norm), np.max(x_norm)-grosse_75,\n",
    "                 np.min(x_norm), np.max(x_norm)))\n",
    "\n",
    "# Liste der Ausreisser\n",
    "ausreisser = []\n",
    "for v in x:\n",
    "    if grosse_25 > v:\n",
    "        ausreisser.append(v)\n",
    "    if grosse_75 < v:\n",
    "        ausreisser.append(v)\n",
    "ausreisser = np.asarray(ausreisser)\n",
    "print(\"Liste der Ausreisser:\\t\\t{}\".format(ausreisser))\n",
    "\n",
    "# ... (was Sie sonst noch für wichtig erachten)\n",
    "# boundary\n",
    "bd_up = grosse_75 + 1.5*inter_qrange\n",
    "bd_down = grosse_25 - 1.5*inter_qrange\n",
    "print(\"boundary:\\t\\t\\t{}, {}\".format(bd_up, bd_down))\n",
    "\n",
    "print('proof: the box-plot internally uses the same parameters and looks like this:')\n",
    "# f = plt.boxplot(x, ...)\n",
    "# ... please add a headline and axis descriptions ....\n",
    "f = plt.boxplot(x)\n",
    "plt.ylabel('x');\n",
    "plt.title('boxplot of x');\n"
   ]
  },
  {
   "cell_type": "code",
   "execution_count": null,
   "metadata": {},
   "outputs": [],
   "source": [
    "'''if in doubt, have a look at the help function'''\n",
    "plt.boxplot?\n",
    "\n",
    "# most parameter's default values are reasonable already\n",
    "# only it something is not as expected, play around ...."
   ]
  },
  {
   "cell_type": "markdown",
   "metadata": {},
   "source": [
    "----"
   ]
  },
  {
   "cell_type": "markdown",
   "metadata": {},
   "source": [
    "## 3. Programmieren Sie ein Scott-Histogramm\n",
    "... welches die unten angehängte Graphik und ausgegebenen Daten nachbildet (nicht diese Daten übernehmen, Sie müssen sie aus den Daten berechnen! Zahlen als Kontrolle).\n",
    "\n",
    "Kopieren Sie dazu die \"Vorgaben\"-Zelle, so daß Ihre Lösung darunter sichtbar wird und ergänzen Sie darin Ihr Programm und führen es aus. \n",
    "\n",
    "#### Hinweise zu Python:\n",
    "\n",
    "    2**3                            # calculate 2 to the power of 3\n",
    "    x[x>0]                          # extract only numbers greater zero from numpy array x\n",
    "    x[np.logical_or( x<-1, x>1 )]   # extract only values out of range -1...1\n",
    "    np.ones_like( x )               # make a new array in the same shape as x, containing ones"
   ]
  },
  {
   "cell_type": "code",
   "execution_count": 22,
   "metadata": {},
   "outputs": [
    {
     "name": "stdout",
     "output_type": "stream",
     "text": [
      "Optimal histogram has 20 bins, each 0.693 wide in the range0.97 .. 14.83\n"
     ]
    },
    {
     "data": {
      "text/plain": [
       "'The following output is for your reference only; do not *use* it for your calculations!'"
      ]
     },
     "execution_count": 22,
     "metadata": {},
     "output_type": "execute_result"
    },
    {
     "data": {
      "image/png": "[encoded data removed]",
      "text/plain": [
       "<Figure size 576x288 with 1 Axes>"
      ]
     },
     "metadata": {
      "needs_background": "light"
     },
     "output_type": "display_data"
    }
   ],
   "source": [
    "from matplotlib import pyplot as plt\n",
    "import numpy as np\n",
    "%matplotlib inline\n",
    "\n",
    "np.random.seed(9876543)           # all of us have the same (random?!) data\n",
    "x2 = np.random.normal(loc=8., scale=2., size=1000)\n",
    "x2[0] = -0.2\n",
    "x2[1] = 15.8\n",
    "\n",
    "'''optimal histogram according to Scott-s rule'''\n",
    "# ... your turn ...\n",
    "# plt.hist( ... )\n",
    "plt.figure(figsize=(8, 4))\n",
    "n = int(np.round(np.sqrt(min(400, x2.shape[0]))))\n",
    "# print('optimal number of bins = {:.0f}'.format(n))\n",
    "w = 3.49*x2.std()/x2.shape[0]**0.3333333333333\n",
    "# print('optimal bin size = {:.3f}'.format(w))\n",
    "xstart = x2.mean() - n/2.*w\n",
    "xend = x2.mean() + n/2.*w\n",
    "bins_opt = np.linspace(xstart, xend, n+1)       # number of bin-edges within range\n",
    "hist_opt = plt.hist(x2, bins_opt, label='histogram', edgecolor='black');\n",
    "\n",
    "xoutliers = x2[np.logical_or(x2>xend, x2<xstart)]\n",
    "youtliers = np.ones_like(xoutliers)\n",
    "plt.plot(xoutliers, youtliers, 'ro', label='outliers')\n",
    "plt.legend(loc='upper right')\n",
    "plt.xlabel('lots of x')\n",
    "plt.ylabel('frequency n');\n",
    "\n",
    "# print(' ... '.format( ... ))\n",
    "print('Optimal histogram has {} bins, each {} wide in the range{} .. {}'\n",
    "      .format(n, np.round(w, decimals=3),\n",
    "              np.round(xstart, decimals=2),\n",
    "              np.round(xend, decimals=2)))\n",
    "'''The following output is for your reference only; do not *use* it for your calculations!'''"
   ]
  },
  {
   "cell_type": "markdown",
   "metadata": {},
   "source": [
    "$\\color{green}{2 \\text{ Punkte}}$"
   ]
  },
  {
   "cell_type": "markdown",
   "metadata": {},
   "source": [
    "----"
   ]
  },
  {
   "cell_type": "markdown",
   "metadata": {},
   "source": [
    "## 4. Mittelwerte\n",
    "\n",
    "Sie fahren mit dem Rad zum Sand. Auf der 5 km langen Ebene im Neckartal fahren Sie mit 25 km/h. Den 1 letzten Kilometer bergauf radeln Sie nur mit 10 km/h.\n",
    "- **i)** Berechnen Sie (mittels Python-Statistik(!) und mit Hilfe der einzelnen Abschnitte - siehe Abbildung) die durchschnittliche Geschwindigkeit als Mittelwert (welcher?) über die acht Kilometer der Strecke. (Nur) zum Vergleich dürfen Sie (müssen jedoch nicht) Ihre Oberstufen-Physik-Kenntnisse benutzen.\n",
    "\n",
    "Wenn Sie bergauf schieben müssen und dann nur 5 km/h schaffen,\n",
    "- **ii)** Wie ist dann Ihre Durchschnittsgeschwindigkeit auf dem Weg zum Sand?\n",
    "\n",
    "Auf (nur) dem Heimweg schaffen Sie bergab für den ersten Kilometer die erlaubten 50 km/h.\n",
    "- **iii)** Was ist nun Ihre durchschnittliche Geschwindigkeit für den Heimweg?\n",
    "\n",
    "Bei starkem Rückenwind schaffen Sie in der Ebene auf dem Hinweg 30 km/h, dafür zurück mit Gegenwind nur 20 km/h (bergauf wie anfangs 10 km/h, bergab 50 km/h). \n",
    "- **iv)** Was ist nun Ihre mittlere Geschwindigkeit \n",
    "- **v)** Vergleichen Sie mit der Summe aus i und iii: ist Wind also gut oder schlecht beim Fahrradfahren?\n",
    "\n",
    "$\\color{green}{3 \\text{ Punkte}}$"
   ]
  },
  {
   "cell_type": "code",
   "execution_count": 16,
   "metadata": {},
   "outputs": [
    {
     "data": {
      "image/png": "[encoded data removed]",
      "text/plain": [
       "<Figure size 432x288 with 1 Axes>"
      ]
     },
     "metadata": {
      "needs_background": "light"
     },
     "output_type": "display_data"
    }
   ],
   "source": [
    "from matplotlib import pyplot as plt\n",
    "import numpy as np\n",
    "%matplotlib inline\n",
    "\n",
    "'''the image should just help finding statistics.\n",
    "   No need to look at this source code\n",
    "   but if you are interested, here we are'''\n",
    "for i in range(5):\n",
    "    plt.plot([i, i+.95], [0, 0])           # (list of) 2 X-values and (list of) 2 Y-values form a (short) line\n",
    "plt.plot([i+1, i+1.95], [0, 1])            # also a short line, but different Y (height) at end \n",
    "plt.title('I want to ride my bicycle')\n",
    "plt.axis([-.5, i+2.5, -.2, 5.2])           # restrict canvas\n",
    "plt.xlabel('distance [km]')\n",
    "plt.ylabel(\"hill's height\")\n",
    "plt.annotate(s='HOME', xy=(0.1, 0.1), xytext=(1, 2),\n",
    "             arrowprops=dict(facecolor='black', shrink=0.02, width=1) )\n",
    "plt.annotate(s='SAND', xy=(5.9, 1.1), xytext=(5, 2),\n",
    "             arrowprops=dict(facecolor='black', shrink=0.02, width=1) );\n",
    "# annotating arrows need head (xy) and tail with text, and nice geometry."
   ]
  },
  {
   "cell_type": "code",
   "execution_count": 6,
   "metadata": {},
   "outputs": [
    {
     "name": "stdout",
     "output_type": "stream",
     "text": [
      "i) die durchschnittliche Geschwindigkeit: 17.574 km/h\n"
     ]
    }
   ],
   "source": [
    "\"\"\"\n",
    "i) Berechnen Sie (mittels Python-Statistik(!) und mit Hilfe der einzelnen \n",
    "Abschnitte - siehe Abbildung) die durchschnittliche Geschwindigkeit als \n",
    "Mittelwert (welcher?) über die acht Kilometer der Strecke. (Nur) zum \n",
    "Vergleich dürfen Sie (müssen jedoch nicht) Ihre Oberstufen-Physik-Kenntnisse\n",
    "benutzen.\n",
    "\"\"\"\n",
    "v1 = 25\n",
    "v2 = 10\n",
    "s = 5 + 1\n",
    "t1 = 5/25\n",
    "t2 = np.sqrt(2)/10\n",
    "v_bar = s/(t1+t2)\n",
    "print(\"i) die durchschnittliche Geschwindigkeit: {:.3f} km/h\".format(v_bar))"
   ]
  },
  {
   "cell_type": "code",
   "execution_count": 7,
   "metadata": {},
   "outputs": [
    {
     "name": "stdout",
     "output_type": "stream",
     "text": [
      "ii) Durchschnittsgeschwindigkeit: 15.000 km/h\n"
     ]
    }
   ],
   "source": [
    "\"\"\"\n",
    "Wenn Sie bergauf schieben müssen und dann nur 5 km/h schaffen,\n",
    "ii) Wie ist dann Ihre Durchschnittsgeschwindigkeit auf dem Weg zum Sand?\n",
    "\"\"\"\n",
    "t3 = 1/5\n",
    "v_bar2 = s/(t1+t3)\n",
    "print(\"ii) Durchschnittsgeschwindigkeit: {:.3f} km/h\".format(v_bar2))"
   ]
  },
  {
   "cell_type": "code",
   "execution_count": 15,
   "metadata": {},
   "outputs": [
    {
     "name": "stdout",
     "output_type": "stream",
     "text": [
      "iii) durchschnittliche Geschwindigkeit für den Heimweg: 27.273 km/h\n"
     ]
    }
   ],
   "source": [
    "\"\"\"\n",
    "Auf (nur) dem Heimweg schaffen Sie bergab für den ersten Kilometer die erlaubten \n",
    "50 km/h.\n",
    "iii) Was ist nun Ihre durchschnittliche Geschwindigkeit für den Heimweg?\n",
    "\"\"\"\n",
    "t4 = 1/50\n",
    "v_bar3 = s/(t1+t4)\n",
    "print(\"iii) durchschnittliche Geschwindigkeit für den Heimweg: {:.3f} km/h\".format(v_bar3))"
   ]
  },
  {
   "cell_type": "code",
   "execution_count": 14,
   "metadata": {},
   "outputs": [
    {
     "name": "stdout",
     "output_type": "stream",
     "text": [
      "iv) mittlere Geschwindigkeit: 22.360 km/h\n"
     ]
    }
   ],
   "source": [
    "\"\"\"\n",
    "Bei starkem Rückenwind schaffen Sie in der Ebene auf dem Hinweg 30 km/h, dafür \n",
    "zurück mit Gegenwind nur 20 km/h (bergauf wie anfangs 10 km/h, bergab 50 km/h).\n",
    "iv) Was ist nun Ihre mittlere Geschwindigkeit\n",
    "\"\"\"\n",
    "vv = [30, 10, 50, 20]\n",
    "ss = [5, 1, 1, 5]\n",
    "tt = []\n",
    "for idx, vvv in enumerate(vv):\n",
    "    tt.append(ss[idx]/vvv)\n",
    "vv_bar = np.sum(ss) / np.sum(tt)\n",
    "print(\"iv) mittlere Geschwindigkeit: {:.3f} km/h\".format(vv_bar))"
   ]
  },
  {
   "cell_type": "code",
   "execution_count": 19,
   "metadata": {},
   "outputs": [
    {
     "name": "stdout",
     "output_type": "stream",
     "text": [
      "v) Summegeschwindigkeit aus i(17.574km/h) und iii(27.273km/h): 21.374 km/h\n",
      "Wind ist gut beim Fahrradfahren.\n"
     ]
    }
   ],
   "source": [
    "\"\"\"\n",
    "v) Vergleichen Sie mit der Summe aus i und iii: ist Wind also gut oder schlecht\n",
    "beim Fahrradfahren?\n",
    "\"\"\"\n",
    "sum_i_iii = v_bar + v_bar3\n",
    "# print(\"v) Summe aus i und iii: {:.3f}\".format(sum_i_iii))\n",
    "\n",
    "v_bar4 = 2*s/(2*t1 + t2 + t4)\n",
    "print(\"v) Summegeschwindigkeit aus i({:.3f}km/h) und iii({:.3f}km/h): {:.3f} km/h\"\n",
    "      .format(v_bar, v_bar3, v_bar4))\n",
    "\n",
    "if v_bar4 < vv_bar:\n",
    "    print(\"Wind ist gut beim Fahrradfahren.\")\n",
    "else:\n",
    "    print(\"Wind ist schlecht beim Fahrradfahren.\")"
   ]
  }
 ],
 "metadata": {
  "anaconda-cloud": {},
  "kernelspec": {
   "display_name": "Python 3",
   "language": "python",
   "name": "python3"
  },
  "language_info": {
   "codemirror_mode": {
    "name": "ipython",
    "version": 3
   },
   "file_extension": ".py",
   "mimetype": "text/x-python",
   "name": "python",
   "nbconvert_exporter": "python",
   "pygments_lexer": "ipython3",
   "version": "3.7.0b3"
  }
 },
 "nbformat": 4,
 "nbformat_minor": 1
}
