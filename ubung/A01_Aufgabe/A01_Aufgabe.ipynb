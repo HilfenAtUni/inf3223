{
 "cells": [
  {
   "cell_type": "markdown",
   "metadata": {},
   "source": [
    "# Korrektur\n",
    "\n",
    "Viel Erfolg!\n",
    "\n",
    "### Bewertung\n",
    "\n",
    "#### _/12 (+1) Punkte\n",
    "\n",
    "----"
   ]
  },
  {
   "cell_type": "code",
   "execution_count": 1,
   "metadata": {},
   "outputs": [],
   "source": [
    "'''import standard libraries'''\n",
    "import numpy as np                       # mathematical methods\n",
    "from matplotlib import pyplot as plt     # plotting methods\n",
    "%matplotlib inline"
   ]
  },
  {
   "cell_type": "markdown",
   "metadata": {},
   "source": [
    "# Übungsaufgaben 01 - *Beschreibende Statistik*"
   ]
  },
  {
   "cell_type": "markdown",
   "metadata": {},
   "source": [
    "#### Bitte lösen sie die Aufgaben \n",
    "- innerhalb dieses Notebooks \n",
    "- welches Sie bitte umbenennen in `A01_IHRNAME.ipynb` (IHRNAME passend ersetzen)\n",
    "\n",
    "und schicken das ausgeführte Notebook dann\n",
    "\n",
    "#### bis zum Montag, den 29. Oktober 22:00\n",
    "als Anhang einer Email mit Titel \"`Angewandte Statistik I`\" an `uli.wannek@uni-tuebingen.de`\n",
    "\n",
    "#### Danke!"
   ]
  },
  {
   "cell_type": "markdown",
   "metadata": {},
   "source": [
    "### Hinweise\n",
    "- Text-Antworten sowie $\\LaTeX$-Formeln am besten in *markdown* Zellen\n",
    "    - Sie müssen nicht, dürfen aber durchaus, Text in `print('')`-Anweisungen ausgeben\n",
    "    - Wenn Sie Ergebnisse aus Zellen verwenden ist `print('{}'.format())` in code-Zellen hingegen extrem praktisch\n",
    "- Sie dürfen in diesem Notebook gerne alles, was nicht zu den Aufgaben (und zum Kopf) gehört, löschen.\n",
    "- Sie sollen unbedingt (zu Ihrem späteren **und** meinem jetzigen Verständnis) Kommentare in weiteren markdown-Zellen einfügen. Das hilft wirklich!\n",
    "- Es gibt Punkte für\n",
    "    - Ihre Überlegung\n",
    "    - Ihr Programm\n",
    "    - Ihre Kommentare(!)\n",
    "    - und schließlich für das richtige Ergebnis\n",
    "    - mit Zusammenfassung wie zB.: *\"der Mittelwert beträgt 17km/h\"*\n",
    "- Sie dürfen alle Kommentare und Antworten auf Deutsch oder Englisch verfassen."
   ]
  },
  {
   "cell_type": "markdown",
   "metadata": {},
   "source": [
    "----"
   ]
  },
  {
   "cell_type": "markdown",
   "metadata": {},
   "source": [
    "## 1. Verschiebungssatz \n",
    "Beweisen Sie den Verschiebungssatz\n",
    "$$s^2 = \\overline{x^2} - \\overline{x}^2$$\n",
    "\n",
    "der empirischen Varianz\n",
    "$$s^2 = \\frac{1}{N} \\sum_{i=1}^{N} \\left( x_i-\\bar{x} \\right)^2$$\n",
    "\n",
    "Ihre nachvollziehbare schrittweise Lösung laden Sie bitte in die folgende Markdown-Zelle\n",
    "- entweder als LaTeX-Mathematik-Formeln\n",
    "    - orientieren Sie sich am obigen Beispiel\n",
    "- oder Handschriftlich, dann bitte photographieren/einscannen und als *.jpg*- oder *.png*-Datei einfügen\n",
    "- oder als ASCII-Art\n",
    "\n",
    "$\\color{green}{2 \\text{ Punkte}}$"
   ]
  },
  {
   "cell_type": "markdown",
   "metadata": {},
   "source": [
    "### Verschiebungssatz \n",
    "\n",
    "Der Verschiebungssatz erspart:\n",
    "\n",
    "#### Behauptung:\n",
    "\n",
    "$$s^2 = \\overline{x^2} - \\overline{x}^2$$\n",
    "\n",
    "#### Beweis:\n",
    "\n",
    "[Platzhalter-Formel:] $$s^2 = \\frac{1}{N} \\sum_{i=1}^{N} \\left( x_i-\\bar{x} \\right)^2$$\n"
   ]
  },
  {
   "cell_type": "markdown",
   "metadata": {},
   "source": [
    "### Hilfestellung *LaTeX-Formeln*\n",
    "Formeln werden mit dem eingebauten LaTeX gerendert. Sie stehen zwischen `$`-Symbolen und sind wie das Potenz-Beispiel $a^2 = b^{1+1} + c^{2}$ innerhalb einer Text-Zeile.\n",
    "- Index: $x_i$ und Potenz: $y^2$\n",
    "- Bruch: $\\frac{1}{N}$\n",
    "- Mittelwerts-Überstrich: $\\overline{y}$ (nicht so schön ist $\\bar{a}$)\n",
    "- Summenzeichen: $\\sum_{i=0}^{i=N} x_i$\n",
    "- Platzhalter: keiner $a a$, positiv $a \\, a \\; a \\quad a \\qquad a$ oder negativ $a\\!a$\n",
    "\n",
    "Formeln zwischen doppelten `$$`-Zeichen erstrecken sich auf eigene, zentrierte Zeilen. (Siehe Aufgabenstellung)\n",
    "\n",
    "Eine umfangreiche Sammlung von Formelzeichen ist hier zu finden: https://de.wikipedia.org/wiki/Hilfe:TeX"
   ]
  },
  {
   "cell_type": "markdown",
   "metadata": {
    "collapsed": true
   },
   "source": [
    "### Hilfestellung Bilder einbinden\n",
    "\n",
    "unterstützt wird `.png` und `.jpg`.\n",
    "\n",
    "#### Entweder\n",
    "in einer Markdown-Zelle per a) copy und paste\n",
    "\n",
    "oder wie hier per b) Befehl `<img src=\"A01_image.png\" width=\"7%\">`\n",
    "\n",
    "<img src=\"A01_image.png\" width=\"7%\">\n",
    "\n",
    "dann wird das Bild jedoch nicht im Notebook gespeichert und Sie müssen es **mitliefern**.\n",
    "\n",
    "#### Oder\n",
    "in einer code Zelle ausgeben, wie hier:"
   ]
  },
  {
   "cell_type": "code",
   "execution_count": 2,
   "metadata": {},
   "outputs": [
    {
     "data": {
      "image/png": "[encoded data removed]",
      "text/plain": [
       "<IPython.core.display.Image object>"
      ]
     },
     "execution_count": 2,
     "metadata": {
      "image/png": {
       "width": "7%"
      }
     },
     "output_type": "execute_result"
    }
   ],
   "source": [
    "'''ein Bild mittels code-Zelle anzeigen;\n",
    "   es bleibt, auch ohne die Quelldatei, im Notebook gespeichert'''\n",
    "from IPython.display import Image             # we need to know the image library\n",
    "Image(filename='A01_image.png', width='7%')   # just show an image, jpg or png, rem: %matplotlib inline"
   ]
  },
  {
   "cell_type": "markdown",
   "metadata": {},
   "source": [
    "- Damit ist das Bild im Notebook abgespeichert und erscheint beim Öffnen mit.\n",
    "- Für folgende Bilder reicht dann eine `Image()`-Zeile. \n",
    "- Erst bei (Wieder-) Ausführung der Zelle muß das Bild im benannten Pfad vorliegen."
   ]
  },
  {
   "cell_type": "markdown",
   "metadata": {},
   "source": [
    "----"
   ]
  },
  {
   "cell_type": "markdown",
   "metadata": {},
   "source": [
    "## 2. Weitere Beweise\n",
    "Wählen Sie **eine** der beiden folgenden Teilaufgaben: \n",
    "\n",
    "### 2.1 Das arithmetische Mittel\n",
    "Das arithmetische Mittel transformiert sich ebenso wie die Daten unter einer linearen Transformation: \n",
    "$$y_i = ax_i + b \\qquad \\Rightarrow \\qquad \\overline{y} = a\\overline{x} + b$$\n",
    "\n",
    "Beweis:\n",
    "\n",
    "...\n"
   ]
  },
  {
   "cell_type": "markdown",
   "metadata": {},
   "source": [
    "### 2.2 Summe von Mittelwerten \n",
    "Gegeben seien $N$ Werte $x_i$ mit Mittelwert $\\bar{x}$ und $M$ Werte $y_j$ mit Mittelwert  $\\bar{y}$ . Dann ist das gemeinsame arithmetische Mittel\n",
    "$$\\overline{z} = \\frac{1}{N+M}(N\\cdot \\overline{x} + M\\cdot \\overline{y})$$\n",
    "im allgemeinen $\\neq \\frac{1}{2}(\\overline{x}+\\overline{y})$\n",
    "\n",
    "Beweis:\n",
    "\n",
    "...\n",
    "\n",
    "\n",
    "\n",
    "$\\color{green}{2 \\text{ Punkte}}$"
   ]
  },
  {
   "cell_type": "markdown",
   "metadata": {},
   "source": [
    "## 3. Boxplot\n",
    "- Berechnen Sie die für einen (Interquartils-) Box-Plot relevanten Kennzahlen, speichern diese in jeweilige (sinnvoll benannte) Variablen ab und geben diese dann aus:  \n",
    "    - Lage des Median-Strichs\n",
    "    - Größe und Lage der Box\n",
    "    - Abstand und Lage der Whisker\n",
    "    - Liste der Ausreisser\n",
    "    - ... (was Sie sonst noch für wichtig erachten)\n",
    "- Lassen Sie `matplotlib` den entsprechenden Box-Plot zeichnen\n",
    "\n",
    "$\\color{green}{3 \\text{ Punkte}}$\n",
    "\n",
    "#### Bonus: \n",
    "- Erklären Sie mögliche Abweichungen zwischen (ausgegebenen) Werten und Ihrer Abbildung \n",
    "\n",
    "$\\color{green}{1 \\text{ Punkt}}$ "
   ]
  },
  {
   "cell_type": "markdown",
   "metadata": {},
   "source": [
    "----"
   ]
  },
  {
   "cell_type": "markdown",
   "metadata": {},
   "source": [
    "## 3. Programmieren Sie ein Scott-Histogramm\n",
    "... welches die unten angehängte Graphik und ausgegebenen Daten nachbildet (nicht diese Daten übernehmen, Sie müssen sie aus den Daten berechnen! Zahlen als Kontrolle).\n",
    "\n",
    "Kopieren Sie dazu die \"Vorgaben\"-Zelle, so daß Ihre Lösung darunter sichtbar wird und ergänzen Sie darin Ihr Programm und führen es aus. \n",
    "\n",
    "#### Hinweise zu Python:\n",
    "\n",
    "    2**3                            # calculate 2 to the power of 3\n",
    "    x[x>0]                          # extract only numbers greater zero from numpy array x\n",
    "    x[np.logical_or( x<-1, x>1 )]   # extract only values out of range -1...1\n",
    "    np.ones_like( x )               # make a new array in the same shape as x, containing ones"
   ]
  },
  {
   "cell_type": "markdown",
   "metadata": {},
   "source": [
    "$\\color{green}{2 \\text{ Punkte}}$"
   ]
  },
  {
   "cell_type": "markdown",
   "metadata": {},
   "source": [
    "----"
   ]
  },
  {
   "cell_type": "markdown",
   "metadata": {},
   "source": [
    "## 4. Mittelwerte\n",
    "\n",
    "Sie fahren mit dem Rad zum Sand. Auf der 5 km langen Ebene im Neckartal fahren Sie mit 25 km/h. Den 1 letzten Kilometer bergauf radeln Sie nur mit 10 km/h.\n",
    "- **i)** Berechnen Sie (mittels Python-Statistik(!) und mit Hilfe der einzelnen Abschnitte - siehe Abbildung) die durchschnittliche Geschwindigkeit als Mittelwert (welcher?) über die acht Kilometer der Strecke. (Nur) zum Vergleich dürfen Sie (müssen jedoch nicht) Ihre Oberstufen-Physik-Kenntnisse benutzen.\n",
    "\n",
    "Wenn Sie bergauf schieben müssen und dann nur 5 km/h schaffen,\n",
    "- **ii)** Wie ist dann Ihre Durchschnittsgeschwindigkeit auf dem Weg zum Sand?\n",
    "\n",
    "Auf (nur) dem Heimweg schaffen Sie bergab für den ersten Kilometer die erlaubten 50 km/h.\n",
    "- **iii)** Was ist nun Ihre durchschnittliche Geschwindigkeit für den Heimweg?\n",
    "\n",
    "Bei starkem Rückenwind schaffen Sie in der Ebene auf dem Hinweg 30 km/h, dafür zurück mit Gegenwind nur 20 km/h (bergauf wie anfangs 10 km/h, bergab 50 km/h). \n",
    "- **iv)** Was ist nun Ihre mittlere Geschwindigkeit \n",
    "- **v)** Vergleichen Sie mit der Summe aus i und iii: ist Wind also gut oder schlecht beim Fahrradfahren?\n",
    "\n",
    "$\\color{green}{3 \\text{ Punkte}}$"
   ]
  },
  {
   "cell_type": "code",
   "execution_count": 16,
   "metadata": {},
   "outputs": [
    {
     "data": {
      "image/png": "[encoded data removed]",
      "text/plain": [
       "<Figure size 432x288 with 1 Axes>"
      ]
     },
     "metadata": {
      "needs_background": "light"
     },
     "output_type": "display_data"
    }
   ],
   "source": [
    "from matplotlib import pyplot as plt\n",
    "import numpy as np\n",
    "%matplotlib inline\n",
    "\n",
    "'''the image should just help finding statistics.\n",
    "   No need to look at this source code\n",
    "   but if you are interested, here we are'''\n",
    "for i in range(5):\n",
    "    plt.plot([i, i+.95], [0, 0])           # (list of) 2 X-values and (list of) 2 Y-values form a (short) line\n",
    "plt.plot([i+1, i+1.95], [0, 1])            # also a short line, but different Y (height) at end \n",
    "plt.title('I want to ride my bicycle')\n",
    "plt.axis([-.5, i+2.5, -.2, 5.2])           # restrict canvas\n",
    "plt.xlabel('distance [km]')\n",
    "plt.ylabel(\"hill's height\")\n",
    "plt.annotate(s='HOME', xy=(0.1, 0.1), xytext=(1, 2),\n",
    "             arrowprops=dict(facecolor='black', shrink=0.02, width=1) )\n",
    "plt.annotate(s='SAND', xy=(5.9, 1.1), xytext=(5, 2),\n",
    "             arrowprops=dict(facecolor='black', shrink=0.02, width=1) );\n",
    "# annotating arrows need head (xy) and tail with text, and nice geometry."
   ]
  }
 ],
 "metadata": {
  "anaconda-cloud": {},
  "kernelspec": {
   "display_name": "Python 3",
   "language": "python",
   "name": "python3"
  },
  "language_info": {
   "codemirror_mode": {
    "name": "ipython",
    "version": 3
   },
   "file_extension": ".py",
   "mimetype": "text/x-python",
   "name": "python",
   "nbconvert_exporter": "python",
   "pygments_lexer": "ipython3",
   "version": "3.5.2"
  }
 },
 "nbformat": 4,
 "nbformat_minor": 1
}
