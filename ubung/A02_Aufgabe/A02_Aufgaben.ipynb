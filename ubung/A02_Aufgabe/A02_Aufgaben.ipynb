{
 "cells": [
  {
   "cell_type": "markdown",
   "metadata": {},
   "source": [
    "Bitte ausfüllen:\n",
    "- [ ] ich habe die Aufgaben alleine gelöst\n",
    "- [ ] Wir, ___________________ und ___________________, haben die Aufgaben als Zweierteam gelöst.\n",
    "\n",
    "\n",
    "# Korrektur\n",
    "\n",
    "Viel Erfolg!\n",
    "\n",
    "### Bewertung\n",
    "\n",
    "#### _/12 Punkte\n",
    "\n",
    "----"
   ]
  },
  {
   "cell_type": "code",
   "execution_count": 3,
   "metadata": {},
   "outputs": [],
   "source": [
    "'''import standard libraries'''\n",
    "import numpy as np                       # mathematical methods\n",
    "from scipy import stats                  # contains some fitting routines\n",
    "from matplotlib import pyplot as plt     # plotting methods\n",
    "%matplotlib inline"
   ]
  },
  {
   "cell_type": "markdown",
   "metadata": {},
   "source": [
    "# Übungsaufgaben 02 - Beschreibende Statistik bei verbundenen Variablen"
   ]
  },
  {
   "cell_type": "markdown",
   "metadata": {},
   "source": [
    "#### $\\color{red}{\\text{Neu}}$ für dieses A02 (und nächstes A03) Übungsblatt:\n",
    "Sie müssen nicht, dürfen aber die Aufgaben in Zweierteams bearbeiten.\n",
    "- Bitte arbeiten Sie wirklich zusammen. Hilft beim Studieren.\n",
    "- Geben Sie unter *einem* Namen \"IHRNAME\" ab, vermerken Sie in der ersten Zelle jedoch Ihre beide Namen \n",
    "- Punkte werden jeder/m gutgeschrieben\n",
    "\n",
    "#### Bitte lösen sie die Aufgaben \n",
    "- innerhalb dieses Notebooks \n",
    "- welches Sie bitte umbenennen in `A02_IHRNAME.ipynb` (IHRNAME passend ersetzen)\n",
    "    - Bitte keine Leerzeichen, keine Sonderzeichen, keine Umlaute; Unterstrich und Minus gerne erlaubt.\n",
    "\n",
    "und schicken das ausgeführte Notebook dann\n",
    "\n",
    "#### bis zum Montag, 5. November 2018  22:00\n",
    "als Anhang einer Email mit Titel \"`Angewandte Statistik I`\" an `uli.wannek@uni-tuebingen.de`\n",
    "\n",
    "#### Danke!"
   ]
  },
  {
   "cell_type": "markdown",
   "metadata": {},
   "source": [
    "### Hinweise\n",
    "- Text-Antworten sowie $\\LaTeX$-Formeln am besten in *markdown* Zellen\n",
    "    - Praktisch ist, Text in `print('')`-Anweisungen auszugeben\n",
    "    - Berechnete Werte mittels `print('{}'.format())` in code-Zellen angeben\n",
    "- Sie dürfen in diesem Notebook gerne alles, was nicht zu den Aufgaben gehört, löschen.\n",
    "- Sie dürfen gerne (zu Ihrem späteren **und** meinem jetzigen Verständnis) Kommentare in weiteren markdown-Zellen einfügen. Das hilft wirklich!\n",
    "- Es gibt Punkte für\n",
    "    - Ihre Überlegung und Begründung\n",
    "    - Ihr Programm\n",
    "    - Ihre Kommentare(!)\n",
    "    - und schließlich für das richtige Ergebnis\n",
    "    - mit Zusammenfassung wie zB.: *\"der Mittelwert beträgt 17km/h\"*\n",
    "- Sie dürfen alle Antworten und Kommentare natürlich auf Deutsch oder Englisch verfassen.\n",
    "\n",
    "- **Für manche Programmieraufgaben werden nur Ergebnisse, die ausgewertet werden sollen, gezeigt ohne dass die zugrundeliegenden Daten hinterlegt sind. Wenn solch eine Zelle ausgeführt wird, verschwinden die Ergebnisse und Abbildungen und das Notebook muss zur korrekten Bearbeitung erneut heruntergeladen werden** "
   ]
  },
  {
   "cell_type": "markdown",
   "metadata": {},
   "source": [
    "## 1. Korrelation \n",
    "\n",
    "### a) Randverteilung 边缘分布\n",
    "\n",
    "In der Vorlesung wurde das Beispiel der Regentropfen auf einem Blatt Papier gezeigt. \n",
    "\n",
    "- Im Folgenden regneten (virtuell) 1000 Tropfen auf ein quadratisches Stück Papier. \n",
    "- Allerdings wurden hierbei zwei der vier Quadranten abgedeckt. \n",
    "- In der Graphik (aller Quadranten) sehen Sie die Randverteilungen.\n",
    "\n",
    "Welche zwei Quadranten wurden abgedeckt? "
   ]
  },
  {
   "cell_type": "markdown",
   "metadata": {},
   "source": [
    "### b) Randverteilung und Korrelationskoeffizient\n",
    "\n",
    "Wenn Sie nun zusätzlich wissen, dass der Korrelationskoeffizient `-0.756` beträgt, können Sie dann sagen, welche beiden Quadranten abgedeckt wurden? "
   ]
  },
  {
   "cell_type": "markdown",
   "metadata": {},
   "source": [
    "$\\color{green}{2 \\text{ Punkte}}$"
   ]
  },
  {
   "cell_type": "markdown",
   "metadata": {},
   "source": [
    "## 2. Korrelation und Regression - Haustiere und Anwälte\n",
    "\n",
    "Im Folgenden finden Sie Daten aus den Jahren 2000 bis 2009. "
   ]
  },
  {
   "cell_type": "code",
   "execution_count": 6,
   "metadata": {},
   "outputs": [
    {
     "data": {
      "image/png": "[encoded data removed]",
      "text/plain": [
       "<Figure size 648x432 with 1 Axes>"
      ]
     },
     "metadata": {
      "needs_background": "light"
     },
     "output_type": "display_data"
    }
   ],
   "source": [
    "'''Data'''\n",
    "# pets = Money spent on pets (US) - Billions of dollars (Bureau of Economic Analysis): \n",
    "pets = [39.7, 41.9, 44.6, 46.8, 49.8, 53.1, 56.9, 61.8, 65.7, 67.1] \n",
    "#y = Number of lawyers in California - Lawyers(ABA): \n",
    "lawyers = [128553, 131139, 132452, 134468, 136571, 139371, 141030, 145355, 148399, 149982]\n",
    "years = [2000, 2001, 2002, 2003, 2004, 2005, 2006, 2007, 2008, 2009]\n",
    "\n",
    "\n",
    "'''Plot'''\n",
    "f = plt.figure(figsize=(9, 6)) \n",
    "plt.plot(pets, lawyers, 'ro');\n",
    "plt.xlabel('Money spent on pets in Billions of dollars')\n",
    "plt.ylabel('Lawyers in California'); \n",
    "plt.title('Pets and Lawyers'); "
   ]
  },
  {
   "cell_type": "markdown",
   "metadata": {},
   "source": [
    "#### a) Beschreiben Sie, was sie in der Abbildung sehen. "
   ]
  },
  {
   "cell_type": "markdown",
   "metadata": {},
   "source": [
    "#### b) Berechnen Sie den Korrelationskoeffizienten. "
   ]
  },
  {
   "cell_type": "markdown",
   "metadata": {},
   "source": [
    "#### c) Berechnen sie die Funktion der linearen Regression. "
   ]
  },
  {
   "cell_type": "markdown",
   "metadata": {},
   "source": [
    "#### d) Diskutieren Sie ihr Ergebnis! "
   ]
  },
  {
   "cell_type": "markdown",
   "metadata": {},
   "source": [
    "$\\color{green}{3 \\text{ Punkte}}$"
   ]
  },
  {
   "cell_type": "markdown",
   "metadata": {},
   "source": [
    "## 3. Sonntagsfrage"
   ]
  },
  {
   "cell_type": "markdown",
   "metadata": {},
   "source": [
    "Bei der Sonntagsfrage wird eine Bevölkerungsstichprobe nach ihrem hypothetischen Wahlverhalten gefragt: \"welche Partei würden Sie wählen, wenn am Sonntag Bundestagswahl wäre\".\n",
    "\n",
    "Hinweis: bitte zeitliche Daten nur in ganzen Jahre betrachten, nicht tagesgenau."
   ]
  },
  {
   "cell_type": "code",
   "execution_count": 9,
   "metadata": {},
   "outputs": [],
   "source": [
    "import pandas as pd\n",
    "import numpy as np\n",
    "import matplotlib.pyplot as plt\n",
    "\n",
    "votes = pd.read_csv('A02.csv', sep=';')"
   ]
  },
  {
   "cell_type": "markdown",
   "metadata": {},
   "source": [
    "#### a) Daten\n",
    "Schauen Sie auf http://www.infratest-dimap.de/umfragen-analysen/bundesweit/sonntagsfrage/ \n",
    "\n",
    "Holen Sie für die dort 6 erstgenannten Parteien die Zahlen in 1-Jahres-Abständen inclusive des neuesten Ergebnisses (19. Okt 2018, 20. Okt. 2017, 21. Okt. 2016 und 23. Okt. 2015) und tragen diese praktischerweise in 6 ndarrays oder ein 2D ndarray ein.\n",
    "(Wer `pandas` versteht, darf natürlich auch pandas benutzen)\n",
    "\n",
    "Hinweise am Ende."
   ]
  },
  {
   "cell_type": "markdown",
   "metadata": {},
   "source": [
    "#### b) Korrelation\n",
    "\n",
    "Die Ergebnisse welcher zwei Parteien jeweils zeigen die betragsmäßig größte Korrelation?\n",
    "\n",
    "Was bedeutet das?\n",
    "\n",
    "(2 P.)"
   ]
  },
  {
   "cell_type": "markdown",
   "metadata": {},
   "source": [
    "#### c) Wie groß ist die Regression\n",
    "über den 4-Jahres-Zeitraum für die Ergebnisse aller 6 Parteien?\n",
    "\n",
    "Welche Regression ist die größte, welches die kleinste? \n",
    "\n",
    "Was bedeutet das?"
   ]
  },
  {
   "cell_type": "markdown",
   "metadata": {},
   "source": [
    "#### d) Vergleich Regression und Korrelation\n",
    "Wie groß sind die Regressionskoeffizienten aus c) für die beiden am stärksten korrelierenden Parteien aus b)?\n",
    "\n",
    "Sehen Sie einen Zusammenhang?"
   ]
  },
  {
   "cell_type": "markdown",
   "metadata": {},
   "source": [
    "#### e) Wie groß ist die Regression\n",
    "zwischen den beiden Parteien aus b)? (Partei mit den größeren Schwankungen auf der x-Achse)\n",
    "\n",
    "Was könnte das bedeuten?"
   ]
  },
  {
   "cell_type": "markdown",
   "metadata": {},
   "source": [
    "#### f) Vorhersage\n",
    "Die nächste Wahl findet voraussichtlich im September 2021 statt. \n",
    "\n",
    "Wie würden die sechs Parteien bei linearer Regression (Aufgabenteil c) abschneiden (ganze Jahre sind ausreichnd)?\n",
    "\n",
    "Was ist die Summe aller vorhergesagten Ergebnisse? Was schließen Sie daraus?"
   ]
  },
  {
   "cell_type": "markdown",
   "metadata": {},
   "source": [
    "$\\color{green}{7 \\text{ Punkte}}$"
   ]
  },
  {
   "cell_type": "markdown",
   "metadata": {},
   "source": [
    "#### Python Hinweise"
   ]
  },
  {
   "cell_type": "code",
   "execution_count": 81,
   "metadata": {},
   "outputs": [
    {
     "name": "stdout",
     "output_type": "stream",
     "text": [
      "['a', 'c', 'd']\n",
      "['a', 'c']\n",
      "c a\n",
      "d c\n"
     ]
    }
   ],
   "source": [
    "'''work with lists'''\n",
    "mylist = ['a', 'b', 'c', 'd']\n",
    "mylist.remove('b')\n",
    "print(mylist)\n",
    "\n",
    "l1 = mylist[1:]\n",
    "l2 = mylist[:-1]\n",
    "print(l2)\n",
    "for a, b in zip(l1, l2):\n",
    "    print(a, b)"
   ]
  },
  {
   "cell_type": "code",
   "execution_count": 79,
   "metadata": {},
   "outputs": [
    {
     "name": "stdout",
     "output_type": "stream",
     "text": [
      "a and b sum up to [ 7 10 13]\n",
      "a and c sum up to [10  9 10]\n",
      "b and c sum up to [ 9  9 11]\n"
     ]
    }
   ],
   "source": [
    "import numpy as np\n",
    "\n",
    "parties = ['a', 'b', 'c']                              # list of name strings\n",
    "votes = np.asarray([[4, 5, 6], [3, 5, 7], [6, 4, 4]])  # and value-vectors thereof\n",
    "for n1, p1 in enumerate(parties):                      # outer and \n",
    "    for n2, p2 in enumerate(parties):                  # inner loop make 2D\n",
    "        if p1<p2:                                      # but not same-same or twice\n",
    "            print('{} and {} sum up to {}'.format(p1, p2, votes[n1]+votes[n2]))"
   ]
  },
  {
   "cell_type": "code",
   "execution_count": 80,
   "metadata": {},
   "outputs": [
    {
     "name": "stdout",
     "output_type": "stream",
     "text": [
      "[[22 21 20]\n",
      " [14 15 16]]\n",
      "[[22 14]\n",
      " [21 15]\n",
      " [20 16]]\n",
      "[22 21 20 14 15 16]\n",
      "[[22]\n",
      " [21]\n",
      " [20]\n",
      " [14]\n",
      " [15]\n",
      " [16]]\n"
     ]
    }
   ],
   "source": [
    "'''numpy matrix operations'''\n",
    "p1 = np.asarray([22, 21, 20])\n",
    "p2 = np.asarray([14, 15, 16])\n",
    "print(np.vstack((p1, p2)))\n",
    "print(np.vstack((p1, p2)).T)\n",
    "print(np.hstack((p1, p2)))\n",
    "print(np.hstack(([p1], [p2])).T)"
   ]
  }
 ],
 "metadata": {
  "anaconda-cloud": {},
  "kernelspec": {
   "display_name": "Python 3",
   "language": "python",
   "name": "python3"
  },
  "language_info": {
   "codemirror_mode": {
    "name": "ipython",
    "version": 3
   },
   "file_extension": ".py",
   "mimetype": "text/x-python",
   "name": "python",
   "nbconvert_exporter": "python",
   "pygments_lexer": "ipython3",
   "version": "3.5.2"
  }
 },
 "nbformat": 4,
 "nbformat_minor": 2
}
