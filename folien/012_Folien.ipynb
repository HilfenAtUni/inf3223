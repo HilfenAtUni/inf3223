{
 "cells": [
  {
   "cell_type": "code",
   "execution_count": 1,
   "metadata": {
    "slideshow": {
     "slide_type": "skip"
    }
   },
   "outputs": [],
   "source": [
    "from matplotlib import pyplot as plt\n",
    "import numpy as np\n",
    "%matplotlib inline"
   ]
  },
  {
   "cell_type": "markdown",
   "metadata": {
    "slideshow": {
     "slide_type": "slide"
    }
   },
   "source": [
    "# Beschreibende Statistik\n",
    "## Übersicht\n",
    "- Warum Statistik\n",
    "\n",
    "#### Lagemaß\n",
    "#### <span style=\"color:blue\">Streuung</span>\n",
    "#### <span style=\"color:blue\">Graphiken</span>\n",
    "#### Abhängigkeit"
   ]
  },
  {
   "cell_type": "markdown",
   "metadata": {
    "slideshow": {
     "slide_type": "subslide"
    }
   },
   "source": [
    "Bei gleichem Lagemaß können sich die zugrundeliegenden Daten unterscheiden:"
   ]
  },
  {
   "cell_type": "code",
   "execution_count": 3,
   "metadata": {
    "slideshow": {
     "slide_type": "fragment"
    }
   },
   "outputs": [
    {
     "name": "stdout",
     "output_type": "stream",
     "text": [
      "average age in group A: 34.1  B: 34.2  C: 34.2 years\n"
     ]
    }
   ],
   "source": [
    "'''survey for age of visitors in theme park'''\n",
    "a = np.array([15, 16, 64, 15, 66, 66, 15, 16])\n",
    "b = np.array([34, 33, 34, 34, 36])\n",
    "c = np.array([8, 68, 50, 48, 4, 23, 13, 27, 79, 22])\n",
    "print('average age in group A: {:.1f}  B: {:.1f}  C: {:.1f} years'\n",
    "      .format(a.mean(), b.mean(), c.mean()))"
   ]
  },
  {
   "cell_type": "code",
   "execution_count": 4,
   "metadata": {
    "slideshow": {
     "slide_type": "skip"
    }
   },
   "outputs": [
    {
     "name": "stdout",
     "output_type": "stream",
     "text": [
      "average age in group A: 34.1  B: 34.2  C: 34.2 years\n"
     ]
    },
    {
     "data": {
      "image/png": "[encoded data removed]",
      "text/plain": [
       "<Figure size 576x288 with 1 Axes>"
      ]
     },
     "metadata": {
      "needs_background": "light"
     },
     "output_type": "display_data"
    }
   ],
   "source": [
    "'''same mean, different width'''\n",
    "print('average age in group A: {:.1f}  B: {:.1f}  C: {:.1f} years'\n",
    "      .format(a.mean(), b.mean(), c.mean()))\n",
    "bins = range(80)\n",
    "plt.figure(figsize=(8, 4))\n",
    "plt.hist(a, bins=bins, label='children & grand-parents')\n",
    "plt.hist(b, bins=bins, label='bowling team')\n",
    "plt.hist(c, bins=bins, label='big family')\n",
    "plt.title('age of visitors in years')\n",
    "plt.xlabel('age [years]')\n",
    "plt.ylabel('number of people')\n",
    "plt.xlim(0, 100)\n",
    "plt.legend();"
   ]
  },
  {
   "cell_type": "markdown",
   "metadata": {
    "slideshow": {
     "slide_type": "slide"
    }
   },
   "source": [
    "# Streuungsmaße\n",
    "#### Spannweite\n",
    "Der Bereich vom kleinsten zum größten Wert\n",
    "$$R = x_{max}-x_{min}$$"
   ]
  },
  {
   "cell_type": "code",
   "execution_count": 5,
   "metadata": {
    "slideshow": {
     "slide_type": "fragment"
    }
   },
   "outputs": [
    {
     "name": "stdout",
     "output_type": "stream",
     "text": [
      "range of age in \n",
      "group A: 51  \n",
      "group B:  3  \n",
      "group C: 75  \n"
     ]
    }
   ],
   "source": [
    "print('range of age in \\ngroup A: {:2d}  \\ngroup B: {:2d}  \\ngroup C: {:2d}  '\n",
    "      .format(a.max()-a.min(), b.max()-b.min(), c.max()-c.min()))"
   ]
  },
  {
   "cell_type": "markdown",
   "metadata": {
    "slideshow": {
     "slide_type": "slide"
    }
   },
   "source": [
    "## Empirische Varianz\n",
    "<div class=\"alert alert-block alert-success\">\n",
    "$$s^2 = \\frac{1}{N} \\sum_{i=1}^{N} \\left( x_i-\\bar{x} \\right)^2$$\n",
    "</div>"
   ]
  },
  {
   "cell_type": "markdown",
   "metadata": {
    "slideshow": {
     "slide_type": "fragment"
    }
   },
   "source": [
    "### Verschiebungssatz\n",
    "$$s^2 = \\overline{x^2} - \\overline{x}^2$$\n",
    "\n",
    "#### Beweis: [ÜA]"
   ]
  },
  {
   "cell_type": "code",
   "execution_count": 6,
   "metadata": {
    "slideshow": {
     "slide_type": "subslide"
    }
   },
   "outputs": [
    {
     "name": "stdout",
     "output_type": "stream",
     "text": [
      "[-0.53601194  0.46506068  0.92618017  0.38634326  0.71896458  0.67740375\n",
      " -0.84280437 -0.85675517 -0.93527115  0.93672658]\n",
      " 1 th step has mean -0.54 and std  0.00\n",
      " 2 th step has mean -0.04 and std  0.50\n",
      " 3 th step has mean  0.29 and std  0.61\n",
      " 4 th step has mean  0.31 and std  0.53\n",
      " 5 th step has mean  0.39 and std  0.50\n",
      " 6 th step has mean  0.44 and std  0.47\n",
      " 7 th step has mean  0.26 and std  0.63\n",
      " 8 th step has mean  0.12 and std  0.69\n",
      " 9 th step has mean  0.00 and std  0.73\n",
      "10 th step has mean  0.09 and std  0.75\n"
     ]
    }
   ],
   "source": [
    "'''calculate mean and variance \"on the fly\"'''\n",
    "np.random.seed(654321)\n",
    "xx = 2*np.random.random(size=10) -1. # randomly sampled -1 .. +1\n",
    "print(xx)\n",
    "xxsum = 0               # initialize the sum\n",
    "xxqsum = 0              #            the square-sum\n",
    "n = 0                   #            the number of measures\n",
    "for xi in xx:           # after every step: tell me mean and standard deviation\n",
    "    xxsum += xi\n",
    "    xxqsum += xi**2\n",
    "    n += 1              # to distinguish from i, even if nx = 1 + i\n",
    "    print('{:2d} th step has mean {:5.2f} and std {:5.2f}'.\n",
    "          format(n, xxsum/n, np.sqrt(xxqsum/n-(xxsum/n)**2)))"
   ]
  },
  {
   "cell_type": "markdown",
   "metadata": {
    "slideshow": {
     "slide_type": "subslide"
    }
   },
   "source": [
    "### Stichprobenvarianz \n",
    "Die Stichprobenvarianz ist leicht unterschiedlich definiert durch\n",
    "$$s^2 = \\frac{1}{N-1} \\sum_{i=1}^{N} \\left( x_i-\\bar{x} \\right)^2$$\n",
    "\n",
    "#### Hintergrund:\n",
    "- Die Anzahl der Freiheitsgrade ist $N-1$, da Nebenbedingung $\\sum_{i=1}^N(x_i-\\bar{x})=0$\n",
    "- Für N=1 ist die Varianz nicht definiert \n",
    "    - anstatt $0$ bei der empirischen Varianz\n",
    "- Für große N ist sie asymptotisch gleich"
   ]
  },
  {
   "cell_type": "markdown",
   "metadata": {
    "slideshow": {
     "slide_type": "subslide"
    }
   },
   "source": [
    "### Eigenschaften\n",
    "Unter der linearen Abbildung $$y_i = ax_i+b$$ ergibt sich\n",
    "$$s_y^2 = a^2s_x^2$$"
   ]
  },
  {
   "cell_type": "markdown",
   "metadata": {
    "slideshow": {
     "slide_type": "subslide"
    }
   },
   "source": [
    "## Standardabweichung\n",
    "$$s = +\\sqrt{s^2}$$\n",
    "\n",
    "Unter der linearen Abbildung $$y_i = ax_i+b$$ ergibt sich\n",
    "$$s_y = |a|\\;s_x$$"
   ]
  },
  {
   "cell_type": "code",
   "execution_count": 7,
   "metadata": {
    "slideshow": {
     "slide_type": "fragment"
    }
   },
   "outputs": [
    {
     "name": "stdout",
     "output_type": "stream",
     "text": [
      "std. dev. of age in A: 24.2  B: 1.0  C: 24.4\n"
     ]
    }
   ],
   "source": [
    "'''example with three groups visiting Volksfest:'''\n",
    "print('std. dev. of age in A: {:.1f}  B: {:.1f}  C: {:.1f}'\n",
    "      .format(a.std(), b.std(), c.std()))"
   ]
  },
  {
   "cell_type": "markdown",
   "metadata": {
    "slideshow": {
     "slide_type": "slide"
    }
   },
   "source": [
    "# Histogramme\n",
    "Viele Daten: von der Strichliste zum Histogramm\n",
    "\n",
    "### Diskrete Ereignisse\n",
    "Beispiel: Münze, Würfel, Karten, Körpergröße in 5cm-Schritten, ...\n",
    "\n",
    "### kontinuierliche Ereignisse\n",
    "Körpergröße, Temperatur\n",
    "\n",
    "#### Klasseneinteilung \n",
    "führt wieder zurück auf den diskreten Fall"
   ]
  },
  {
   "cell_type": "code",
   "execution_count": 8,
   "metadata": {
    "slideshow": {
     "slide_type": "skip"
    }
   },
   "outputs": [
    {
     "data": {
      "image/png": "[encoded data removed]",
      "text/plain": [
       "<Figure size 864x72 with 1 Axes>"
      ]
     },
     "metadata": {
      "needs_background": "light"
     },
     "output_type": "display_data"
    }
   ],
   "source": [
    "'''thousand random numbers'''\n",
    "np.random.seed(9876543)\n",
    "xmany = np.random.normal(loc=5., scale=2., size=1000)\n",
    "xmany[0] = -3.2                     # extra values for later\n",
    "xmany[1] = 12.8\n",
    "plt.figure(figsize=(12,1))\n",
    "plt.plot(2*[xmany], [0, 1], 'k-')\n",
    "plt.yticks([]);"
   ]
  },
  {
   "cell_type": "code",
   "execution_count": 9,
   "metadata": {
    "slideshow": {
     "slide_type": "skip"
    }
   },
   "outputs": [
    {
     "data": {
      "image/png": "[encoded data removed]",
      "text/plain": [
       "<Figure size 864x144 with 1 Axes>"
      ]
     },
     "metadata": {
      "needs_background": "light"
     },
     "output_type": "display_data"
    }
   ],
   "source": [
    "plt.figure(figsize=(12, 2))\n",
    "bins = np.linspace(-4, 14, (14+4)*40+1)\n",
    "hist_full = plt.hist(xmany, bins, rwidth=0.4)\n",
    "plt.xlabel('values')\n",
    "plt.ylabel('frequency');"
   ]
  },
  {
   "cell_type": "code",
   "execution_count": 10,
   "metadata": {
    "slideshow": {
     "slide_type": "skip"
    }
   },
   "outputs": [
    {
     "data": {
      "image/png": "[encoded data removed]",
      "text/plain": [
       "<Figure size 576x288 with 1 Axes>"
      ]
     },
     "metadata": {
      "needs_background": "light"
     },
     "output_type": "display_data"
    }
   ],
   "source": [
    "'''information from histogram'''\n",
    "plt.figure(figsize=(8, 4))\n",
    "bins = np.linspace(0,10,21)\n",
    "hist_20 = plt.hist(xmany, bins, label='x', edgecolor='black')\n",
    "outlier = xmany[np.logical_or(xmany<0, xmany>10)]\n",
    "plt.scatter(outlier, np.ones_like(outlier), color='red', label='outlier') \n",
    "plt.xlabel('values')\n",
    "plt.ylabel('frequency')\n",
    "plt.legend();"
   ]
  },
  {
   "cell_type": "markdown",
   "metadata": {
    "slideshow": {
     "slide_type": "subslide"
    }
   },
   "source": [
    "### Klasseneinteilung\n",
    "Sinnvoll für Informationsgehalt.<br>\n",
    "Faustregel: \n",
    "- bis zu 20 Klassen\n",
    "- Anzahl Klassen $\\;n_{\\text{bins}} \\equiv \\sqrt n_{\\text{data}}$ (für $n_{\\text{data}}\\;$ bis 100 bzw. 400)\n",
    "- Klassenbreite $\\;w_{\\text{bins}} = \\frac {3.49 \\cdot \\sigma} {\\sqrt[3]{n_{\\text{data}}}}\\;$ (Scotts Regel)<br> David W. Scott: On optimal and data-based histogram. Biometrika **3** 66, 1979, S. 605–610\n",
    "\n",
    "Dabei **Breite** der Klassenbalken\n",
    "- möglichst konstant\n",
    "- sonst kodiere Anzahl in *Fläche* (nicht Höhe)"
   ]
  },
  {
   "cell_type": "code",
   "execution_count": 11,
   "metadata": {
    "slideshow": {
     "slide_type": "skip"
    }
   },
   "outputs": [
    {
     "name": "stdout",
     "output_type": "stream",
     "text": [
      "Optimal histogram has 20 bins, each 0.693 wide in the range-2.03 .. 11.83\n"
     ]
    },
    {
     "data": {
      "image/png": "[encoded data removed]",
      "text/plain": [
       "<Figure size 576x288 with 1 Axes>"
      ]
     },
     "metadata": {
      "needs_background": "light"
     },
     "output_type": "display_data"
    }
   ],
   "source": [
    "'''optimal histogram according to Scott-s rule'''\n",
    "plt.figure(figsize=(8, 4))\n",
    "n = int(np.round(np.sqrt(min(400, xmany.shape[0]))))\n",
    "# print('optimal number of bins = {:.0f}'.format(n))\n",
    "w = 3.49*xmany.std()/xmany.shape[0]**0.3333333333333\n",
    "# print('optimal bin size = {:.3f}'.format(w))\n",
    "xstart = xmany.mean() - n/2.*w\n",
    "xend = xmany.mean() + n/2.*w\n",
    "print('Optimal histogram has {} bins, each {} wide in the range{} .. {}'\n",
    "      .format(n, np.round(w, decimals=3), np.round(xstart, decimals=2),\n",
    "              np.round(xend, decimals=2)))\n",
    "bins_opt = np.linspace(xstart, xend, n+1) # number of bin-edges within range\n",
    "hist_opt = plt.hist(xmany, bins_opt, label='histogram', edgecolor='black');\n",
    "\n",
    "xoutliers = xmany[np.logical_or(xmany>xend, xmany<xstart)]\n",
    "youtliers = np.ones_like(xoutliers)\n",
    "plt.plot(xoutliers, youtliers, 'ro', label='outliers')\n",
    "plt.legend(loc='upper right')\n",
    "plt.xlabel('lots of x')\n",
    "plt.ylabel('frequency n');"
   ]
  },
  {
   "cell_type": "markdown",
   "metadata": {
    "slideshow": {
     "slide_type": "subslide"
    }
   },
   "source": [
    "### Information\n",
    "- Häufigste Werte: \"Modus\"\n",
    "- Ausreisser\n",
    "- Mittelwert (=Schwerpunkt)\n",
    "- Wertebereich\n",
    "- Form der Verteilung"
   ]
  },
  {
   "cell_type": "markdown",
   "metadata": {
    "slideshow": {
     "slide_type": "slide"
    }
   },
   "source": [
    "## Modus"
   ]
  },
  {
   "cell_type": "code",
   "execution_count": 12,
   "metadata": {
    "slideshow": {
     "slide_type": "fragment"
    }
   },
   "outputs": [
    {
     "data": {
      "image/png": "[encoded data removed]",
      "text/plain": [
       "<Figure size 432x288 with 1 Axes>"
      ]
     },
     "metadata": {
      "needs_background": "light"
     },
     "output_type": "display_data"
    }
   ],
   "source": [
    "'''once again the histogram with 20 bins'''\n",
    "bins = np.linspace(0, 10, 21)\n",
    "hist_20 = plt.hist(xmany, bins, edgecolor='black', label='x') # show histogram (again)\n",
    "frequencies = hist_20[0]            # first sub-array contains frequencies\n",
    "borders = hist_20[1]                # 2nd sub-array contains bin borders\n",
    "fmax = max(frequencies)             # maximum frequency\n",
    "imax = np.argmax(frequencies)       # ... and its location \n",
    "xlower = borders[imax]              # start of max-bin\n",
    "xhigher = borders[imax+1]           # ... and end \n",
    "plt.xlabel('values')\n",
    "plt.ylabel('frequency')\n",
    "plt.legend(loc='upper right');"
   ]
  },
  {
   "cell_type": "code",
   "execution_count": 13,
   "metadata": {
    "slideshow": {
     "slide_type": "fragment"
    }
   },
   "outputs": [
    {
     "name": "stdout",
     "output_type": "stream",
     "text": [
      "(array([  4.,  11.,  16.,  19.,  46.,  55.,  85.,  78.,  95., 116.,  86.,\n",
      "        87.,  81.,  68.,  46.,  34.,  33.,  14.,   8.,   3.]), array([ 0. ,  0.5,  1. ,  1.5,  2. ,  2.5,  3. ,  3.5,  4. ,  4.5,  5. ,\n",
      "        5.5,  6. ,  6.5,  7. ,  7.5,  8. ,  8.5,  9. ,  9.5, 10. ]), <a list of 20 Patch objects>)\n"
     ]
    }
   ],
   "source": [
    "print(hist_20)"
   ]
  },
  {
   "cell_type": "code",
   "execution_count": 14,
   "metadata": {
    "slideshow": {
     "slide_type": "skip"
    }
   },
   "outputs": [
    {
     "name": "stdout",
     "output_type": "stream",
     "text": [
      "The modus of 'hist20' is 116.0 values in the bin number 9\n",
      "  ranging from 4.50 to 5.00\n"
     ]
    },
    {
     "data": {
      "image/png": "[encoded data removed]",
      "text/plain": [
       "<Figure size 432x288 with 1 Axes>"
      ]
     },
     "metadata": {
      "needs_background": "light"
     },
     "output_type": "display_data"
    }
   ],
   "source": [
    "'''show Modus'''\n",
    "hist_20 = plt.hist(xmany, bins, edgecolor='black') # show histogram (again)\n",
    "frequencies = hist_20[0]               # first sub-array contains frequencies\n",
    "borders = hist_20[1]                   # 2nd sub-array contains bin borders\n",
    "fmax = max(frequencies)                # maximum frequency\n",
    "imax = np.argmax(frequencies)          # ... and its location \n",
    "xlower = borders[imax]                 # start of max-bin\n",
    "xhigher = borders[imax+1]              # ... and end \n",
    "print(\"The modus of 'hist20' is {} values in the bin number {}\".format(fmax, imax)) \n",
    "print(\"  ranging from {:.2f} to {:.2f}\".format(xlower, xhigher))  # highlight the modus-bin\n",
    "plt.bar(x=xlower, width=(xhigher-xlower), bottom=0, height=fmax, color='red',\n",
    "                                    label='modus', align='edge')\n",
    "plt.xlabel('values')\n",
    "plt.ylabel('frequency')\n",
    "plt.legend(loc='upper right');"
   ]
  },
  {
   "cell_type": "code",
   "execution_count": 15,
   "metadata": {
    "slideshow": {
     "slide_type": "skip"
    }
   },
   "outputs": [],
   "source": [
    "from matplotlib import image as mpi         # image related routines\n",
    "\n",
    "img = mpi.imread('data/gabor.png')          # read image data from file\n",
    "imgvector3D = np.array(img)                 # convert colors to values in matrix\n",
    "# select color red only,  round from 0..1 -> 0..255 integers \n",
    "x = np.rint(255*imgvector3D[:,:,0].flatten()).astype(int)"
   ]
  },
  {
   "cell_type": "code",
   "execution_count": 16,
   "metadata": {
    "slideshow": {
     "slide_type": "subslide"
    }
   },
   "outputs": [
    {
     "name": "stdout",
     "output_type": "stream",
     "text": [
      "[123.5 124.5 125.5 126.5 127.5 128.5 129.5 130.5 131.5 132.5]\n",
      "[ 68  84 107 107 116  82  89  90  78]\n",
      "the modus of x is 128 (with 116 values between127.5 and 128.5)\n"
     ]
    }
   ],
   "source": [
    "'''Modus from Gabor-patch image'''\n",
    "mybins = np.linspace(-0.5, 256.5, 257+1)\n",
    "b, v = np.histogram(x, bins=mybins)\n",
    "print(v[124:134])\n",
    "print(b[124:133])\n",
    "xm = np.argmax(b)\n",
    "print('the modus of x is {} (with {} values between{} and {})'\n",
    "                              .format(xm, b[xm], v[xm], v[xm+1]))"
   ]
  },
  {
   "cell_type": "markdown",
   "metadata": {
    "slideshow": {
     "slide_type": "slide"
    }
   },
   "source": [
    "# Quantile\n",
    "<img src=\"images/011_Histogramm.png\" width=\"25%\">\n",
    "Grenzwert, vor dem der Anteil (das Quantum) \n",
    "an Datenwerten liegt."
   ]
  },
  {
   "cell_type": "markdown",
   "metadata": {
    "slideshow": {
     "slide_type": "subslide"
    }
   },
   "source": [
    "### Quartile\n",
    "- Unteres Quartil $x_{0.25}$ : 25% und\n",
    "- Oberes Quartil $x_{0.75}$ : 75% der Werte\n",
    "- Median entspricht dem 50% Quartil\n",
    "\n",
    "####  Interquartils-Abstand\n",
    "$d_Q = x_{0.75} - x_{0.25}$\n",
    "\n",
    "Ein Streuungsmaß, robust gegen Ausreißer"
   ]
  },
  {
   "cell_type": "markdown",
   "metadata": {
    "slideshow": {
     "slide_type": "subslide"
    }
   },
   "source": [
    "### Perzentile\n",
    "- 5%-Perzentil: niedrigste 5% der Werte\n",
    "- 95%-Perzentil: ohne oberste 5% der Werte\n",
    "\n",
    "Quantile sind einfach abzulesen aus der kumulativen Verteilungsfunktion:"
   ]
  },
  {
   "cell_type": "markdown",
   "metadata": {
    "slideshow": {
     "slide_type": "slide"
    }
   },
   "source": [
    "# Empirische kumulative Verteilungsfunktion F(x)\n",
    "\n",
    "- Relative Häufigkeiten $h_i = \\frac{n_i}{N}$\n",
    "    - beispielsweise aus einem gebinnten Histogramm\n",
    "- Reihenfolge gemäß Wert beibehalten \n",
    "- aufstapeln"
   ]
  },
  {
   "cell_type": "code",
   "execution_count": 17,
   "metadata": {
    "slideshow": {
     "slide_type": "skip"
    }
   },
   "outputs": [
    {
     "name": "stdout",
     "output_type": "stream",
     "text": [
      "histogram [ 4. 11. 16. 19. 46.] ... [33. 14.  8.  3.]\n",
      "cumulated [ 4. 15. 31. 50. 96.] ... [960. 974. 982. 985.]\n"
     ]
    },
    {
     "data": {
      "image/png": "[encoded data removed]",
      "text/plain": [
       "<Figure size 432x288 with 1 Axes>"
      ]
     },
     "metadata": {
      "needs_background": "light"
     },
     "output_type": "display_data"
    }
   ],
   "source": [
    "'''make a cumulative histogram cdf'''\n",
    "hist_cumul = plt.hist(xmany, bins=np.linspace(0, 10, 21), cumulative=True,\n",
    "                      edgecolor='black')\n",
    "plt.title('cumulative distribution function')\n",
    "print('histogram {} ... {}'.format(hist_20[0][:5], hist_20[0][-4:]))\n",
    "print('cumulated {} ... {}'.format(hist_cumul[0][:5], hist_cumul[0][-4:]))\n",
    "plt.xlabel('values')\n",
    "plt.ylabel('cumulated frequency');"
   ]
  },
  {
   "cell_type": "code",
   "execution_count": 18,
   "metadata": {
    "slideshow": {
     "slide_type": "skip"
    }
   },
   "outputs": [
    {
     "name": "stdout",
     "output_type": "stream",
     "text": [
      " 5% percentile = 1.72 ... 95% percentile = 8.15\n"
     ]
    },
    {
     "data": {
      "image/png": "[encoded data removed]",
      "text/plain": [
       "<Figure size 432x288 with 1 Axes>"
      ]
     },
     "metadata": {
      "needs_background": "light"
     },
     "output_type": "display_data"
    }
   ],
   "source": [
    "'''calculate quantiles'''\n",
    "hist_cumul = plt.hist(xmany, bins=np.linspace(0, 10, 21), cumulative=True,\n",
    "                      density=True, edgecolor='black')\n",
    "plt.title('cumulative distribution function')\n",
    "plt.ylim(0.0, 1.4)\n",
    "plt.yticks(list(np.arange(0.0, 1.01, 0.2)))\n",
    "x05, x95 = np.percentile(xmany,  (5, 95))\n",
    "print(' 5% percentile = {:.2f} ... 95% percentile = {:.2f}'.format(x05, x95))\n",
    "plt.plot([0, 10], 2*[.05], 'k--', label='5%-95%')\n",
    "plt.plot([0, 10], 2*[.95], 'k--')\n",
    "plt.plot(2*[x05], [0, 1], 'r--', label='x 5%-95% percentiles')\n",
    "plt.plot(2*[x95], [0, 1], 'r--')\n",
    "plt.xlabel('values')\n",
    "plt.ylabel('cumulated frequency')\n",
    "plt.legend(loc='upper left');"
   ]
  },
  {
   "cell_type": "markdown",
   "metadata": {
    "slideshow": {
     "slide_type": "fragment"
    }
   },
   "source": [
    "### Schnelles Ablesen der Information:\n",
    "- Lage: Median, (Modus)\n",
    "- Bereich: Quartile, Perzentile\n",
    "- Form der Verteilung: S-Kurve\n",
    "    - wenn Verteilung *ein* Maximum hat (\"unimodal\")"
   ]
  },
  {
   "cell_type": "markdown",
   "metadata": {},
   "source": [
    "> - Modus: 增长最大的\n",
    "> - Media: 中位数\n"
   ]
  },
  {
   "cell_type": "markdown",
   "metadata": {
    "slideshow": {
     "slide_type": "subslide"
    }
   },
   "source": [
    "# Kumulierter Mittelwert\n",
    "## Arithmetisches Mittel\n",
    "\n",
    "$$\\begin{aligned}\n",
    "\\bar{x} &=\\frac{1}{N}\\sum_{i=1}^{N}x_i \\\\\n",
    "    \\approx \\bar{x'}&=\\frac{1}{\\sum_{k=1}^{N_k}h_k}\\sum_{k=1}^{N_k}h_k(x_k)\\cdot x_k\n",
    "\\end{aligned}$$"
   ]
  },
  {
   "cell_type": "markdown",
   "metadata": {
    "slideshow": {
     "slide_type": "subslide"
    }
   },
   "source": [
    "# Varianz\n",
    "\n",
    "\n",
    "$$\\sigma^2=\\frac{1}{N-1}\\sum_{i=1}^N(x_i-\\bar{x})^2$$\n",
    "$$\\approx{\\sigma'}^2=\\frac{1}{\\sum_{k=1}^{N_k}h_k-1}\\sum_{k=1}^{N_k}h_k(x_k)\\cdot (x_k-\\bar{x})^2$$\n",
    "\n",
    "## Standardabweichung\n",
    "$$s=\\sqrt{\\sigma^2}$$ \n",
    "$${s'}=\\sqrt{\\bar{\\sigma'}^2}$$"
   ]
  },
  {
   "cell_type": "markdown",
   "metadata": {
    "slideshow": {
     "slide_type": "slide"
    }
   },
   "source": [
    "# Graphische Darstellung\n",
    "\n",
    "## Fehlerbalken\n",
    "- arithmetischer Mittelwert als Symbol\n",
    "    - Siehe http://matplotlib.org/api/markers_api.html\n",
    "- Fehlerbalken +/-Standardabweichung $\\sigma$\n",
    "- Ausreißer als Sterne"
   ]
  },
  {
   "cell_type": "code",
   "execution_count": 19,
   "metadata": {
    "slideshow": {
     "slide_type": "skip"
    }
   },
   "outputs": [
    {
     "data": {
      "image/png": "[encoded data removed]",
      "text/plain": [
       "<Figure size 432x288 with 1 Axes>"
      ]
     },
     "metadata": {
      "needs_background": "light"
     },
     "output_type": "display_data"
    }
   ],
   "source": [
    "'''data graph typical in science\n",
    "   error bars are standard deviations\n",
    "'''\n",
    "N = 5 \n",
    "x = 1 + np.arange(N)                            # fixed x values\n",
    "y = 3 + np.random.randn(N, 20)                  # 20 random y values for each x\n",
    "plt.axis([0.5, 5.5, -0, 5.])                    # range of plot\n",
    "plt.errorbar(x, np.mean(y, axis=1), yerr=np.std(y, axis=1), label='stdd')  \n",
    "plt.scatter(x, np.mean(y, axis=1), marker='*', s=200, label='x1');  \n",
    "plt.title('plot with error bars')\n",
    "plt.xlabel('x [days]')\n",
    "plt.ylabel('y [arb. units]')\n",
    "plt.grid(b=True, which=u'major', axis=u'both')\n",
    "plt.legend(loc='lower right');"
   ]
  },
  {
   "cell_type": "markdown",
   "metadata": {
    "slideshow": {
     "slide_type": "subslide"
    }
   },
   "source": [
    "### Gute Praxis\n",
    "- Achsen beschriften: $\\qquad$ `xlabel`, `ylabel`\n",
    "- *ehrliche* Achsen\n",
    "    - $0$ mit einbeziehen, wenn absolute Zahlen\n",
    "    - sonst deutlich kennzeichnen (Lücke)\n",
    "    - entsprechende Zahlen bzw. tickmarks: $\\qquad$ `xaxis.set_ticklabels`\n",
    "    - sinnvollen Bereich: $\\qquad$ `axis`\n",
    "- Überschrift: $\\qquad$ `title`\n",
    "    - in Veröffentlichungen Bildunterschrift mit Text; keine Überschrift\n",
    "- Graphen beschriften:  $\\qquad$ `label` und `legend`\n",
    "- deutlich unterscheiden (auch für schwarz-weiß-Druck)\n",
    "    - Symbole: $\\qquad$ `o` $\\quad$ `.` $\\quad$ `,` $\\quad$ `p` $\\quad$ `<` $\\quad$ ... \n",
    "    - Linienstil:  $\\qquad$ `-` $\\quad$ `--` $\\quad$ `..` $\\quad$ `-.` $\\quad$...\n",
    "    - Farbe wenn nötig\n",
    "- nicht überfrachten\n",
    "- manchmal hilfreich\n",
    "    - Gitterlinien: $\\qquad$ `grid`\n",
    "    - Spiegelstriche: $\\qquad$ `ax.tick_params(axis='y', direction='out')` und `ax.yaxis.tick_left()`"
   ]
  },
  {
   "cell_type": "markdown",
   "metadata": {
    "slideshow": {
     "slide_type": "slide"
    }
   },
   "source": [
    "## Box-Plot\n",
    "- Median als Strich\n",
    "- Größe der Box:\n",
    "    - Quartile $Q_{1/4}\\dots Q_{3/4}$ \n",
    "- Länge der Striche: \n",
    "    - $Q_{1/4}-\\frac{3}{2}\\cdot (Q_{3/4}-Q_{1/4}) \\;\\dots\\; Q_{3/4}+\\frac{3}{2}\\cdot (Q_{3/4}-Q_{1/4})$\n",
    "    - Merkregel: Werte innerhalb \"$\\pm 100\\%$\"-Quartile\n",
    "- Ausreißer als Sterne $+$"
   ]
  },
  {
   "cell_type": "code",
   "execution_count": 20,
   "metadata": {
    "slideshow": {
     "slide_type": "subslide"
    }
   },
   "outputs": [
    {
     "data": {
      "image/png": "[encoded data removed]",
      "text/plain": [
       "<Figure size 432x288 with 1 Axes>"
      ]
     },
     "metadata": {
      "needs_background": "light"
     },
     "output_type": "display_data"
    }
   ],
   "source": [
    "'''data graph with boxes and whiskers show inter-quartile-distances\n",
    "'''\n",
    "np.random.seed(9876543)\n",
    "zmany = np.random.normal(loc=4., scale=3., size=400)# another data set\n",
    "data = [xmany, zmany]                               # combine 2 data sets\n",
    "plt.boxplot(data, labels=['x', 'z'], whis=[1, 99])  # name labels; 1%-99% percentiles\n",
    "plt.title('box plot with inter-quartile box, percentile whiskers and outliers');"
   ]
  },
  {
   "cell_type": "markdown",
   "metadata": {
    "collapsed": true,
    "slideshow": {
     "slide_type": "fragment"
    }
   },
   "source": [
    "    plt.boxplot?"
   ]
  },
  {
   "cell_type": "markdown",
   "metadata": {
    "slideshow": {
     "slide_type": "slide"
    }
   },
   "source": [
    "## Violinen-Plot"
   ]
  },
  {
   "cell_type": "code",
   "execution_count": 21,
   "metadata": {
    "slideshow": {
     "slide_type": "fragment"
    }
   },
   "outputs": [
    {
     "data": {
      "image/png": "[encoded data removed]",
      "text/plain": [
       "<Figure size 432x288 with 1 Axes>"
      ]
     },
     "metadata": {
      "needs_background": "light"
     },
     "output_type": "display_data"
    }
   ],
   "source": [
    "vp = plt.violinplot(xmany, showmedians=True)\n",
    "vp['bodies'][0].set_color('blue')\n",
    "plt.ylabel('values')\n",
    "plt.xlabel('rel. frequency')\n",
    "plt.xticks([]);                    # off, numbers of no meaning here"
   ]
  },
  {
   "cell_type": "code",
   "execution_count": 22,
   "metadata": {
    "slideshow": {
     "slide_type": "subslide"
    }
   },
   "outputs": [
    {
     "data": {
      "image/png": "[encoded data removed]",
      "text/plain": [
       "<Figure size 432x288 with 1 Axes>"
      ]
     },
     "metadata": {
      "needs_background": "light"
     },
     "output_type": "display_data"
    }
   ],
   "source": [
    "xx = np.random.normal(size=(5, 100))            # draw 5x100 values into 2D vector\n",
    "plt.violinplot([x for x in xx], showmedians=True)\n",
    "plt.ylabel('values')\n",
    "plt.xlabel('number of dataset');"
   ]
  },
  {
   "cell_type": "markdown",
   "metadata": {
    "collapsed": true,
    "slideshow": {
     "slide_type": "slide"
    }
   },
   "source": [
    "# Fragen?"
   ]
  },
  {
   "cell_type": "markdown",
   "metadata": {
    "slideshow": {
     "slide_type": "slide"
    }
   },
   "source": [
    "# Vergleich zweier Stichproben\n",
    "- Kennwerte\n",
    "- Histogramm-Stapel\n",
    "- kumulierte Verteilung"
   ]
  },
  {
   "cell_type": "code",
   "execution_count": 23,
   "metadata": {
    "slideshow": {
     "slide_type": "skip"
    }
   },
   "outputs": [
    {
     "name": "stdout",
     "output_type": "stream",
     "text": [
      "x mean = 4.90  std = 1.99\n",
      "z mean = 3.84  std = 2.91\n"
     ]
    },
    {
     "data": {
      "image/png": "[encoded data removed]",
      "text/plain": [
       "<Figure size 432x288 with 1 Axes>"
      ]
     },
     "metadata": {
      "needs_background": "light"
     },
     "output_type": "display_data"
    }
   ],
   "source": [
    "'''compare characteristic numbers / histograms of two distributions'''\n",
    "bins = np.linspace(-3, 12, 31)                         # half steps\n",
    "xmean = xmany.mean()\n",
    "zmean = zmany.mean()\n",
    "xstd = np.std(xmany)\n",
    "zstd = np.std(zmany)\n",
    "plt.axis([-4, 16, 0.0, 0.25])\n",
    "print('x mean = {:.2f}  std = {:.2f}'.format(xmean, xstd))\n",
    "plt.hist(xmany, bins=bins, color='green', density=True, edgecolor='black',\n",
    "         label='x', alpha=.5)   # 1st histogram x, shine through\n",
    "print('z mean = {:.2f}  std = {:.2f}'.format(zmean, zstd))\n",
    "plt.hist(zmany, bins=bins, color='red', density=True, edgecolor='black',\n",
    "         label='z', alpha=.5)   # 2nd histogram z, shine through\n",
    "plt.plot(2*[xmean], [0, .25], 'g--', label='x mean')\n",
    "plt.plot([xmean-xstd, xmean+xstd], [.12, .12], 'g-', label='x +/-std')\n",
    "plt.plot(2*[zmean], [0, .25], 'r--', label='z mean')\n",
    "plt.plot([zmean-zstd, zmean+zstd], [.1, .1], 'r-', label='z +/-std')\n",
    "plt.xlabel('values')\n",
    "plt.ylabel('rel. frequency')\n",
    "plt.legend();"
   ]
  },
  {
   "cell_type": "code",
   "execution_count": 24,
   "metadata": {
    "slideshow": {
     "slide_type": "skip"
    }
   },
   "outputs": [
    {
     "name": "stdout",
     "output_type": "stream",
     "text": [
      "x median = 4.83  z median = 3.65\n"
     ]
    },
    {
     "data": {
      "image/png": "[encoded data removed]",
      "text/plain": [
       "<Figure size 432x288 with 1 Axes>"
      ]
     },
     "metadata": {
      "needs_background": "light"
     },
     "output_type": "display_data"
    }
   ],
   "source": [
    "'''two distributions\n",
    "   culmulative & normalized for better comparison\n",
    "'''\n",
    "xmedn = np.median(xmany)\n",
    "zmedn = np.median(zmany)\n",
    "print('x median = {:.2f}  z median = {:.2f}'.format(xmedn, zmedn))\n",
    "plt.hist(xmany, bins=bins, color='green', density=True, edgecolor='black',\n",
    "         cumulative=True,\n",
    "         label='x', alpha=.5)   # 1st histogram x, cumulative density\n",
    "plt.hist(zmany, bins=bins, color='red', density=True, edgecolor='black',\n",
    "         cumulative=True,\n",
    "         label='z', alpha=.5)   # 2nd histogram z, cumulative density\n",
    "plt.title('cumulative distribution')\n",
    "plt.xlabel('values')\n",
    "plt.ylabel('relative frequency')\n",
    "plt.plot(2*[xmedn], [0, 1.0], 'g--', label='x median')\n",
    "plt.plot(2*[zmedn], [0, 1.0], 'r--', label='z median')\n",
    "plt.plot([-4, 12], 2*[0.5], 'k--', alpha=.3)\n",
    "plt.axis([-4, 12, 0., 1.])\n",
    "plt.legend(loc='upper left');"
   ]
  },
  {
   "cell_type": "markdown",
   "metadata": {
    "slideshow": {
     "slide_type": "slide"
    }
   },
   "source": [
    "## QQ-Plot\n",
    "Gegenüberstellung der **Q**uantile"
   ]
  },
  {
   "cell_type": "code",
   "execution_count": 26,
   "metadata": {
    "slideshow": {
     "slide_type": "skip"
    }
   },
   "outputs": [
    {
     "data": {
      "image/png": "[encoded data removed]",
      "text/plain": [
       "<Figure size 360x360 with 1 Axes>"
      ]
     },
     "metadata": {
      "needs_background": "light"
     },
     "output_type": "display_data"
    }
   ],
   "source": [
    "'''compare two distributions by percentiles'''\n",
    "percentiles = np.linspace(0, 100, 20+1)     # 5% steps\n",
    "percx = np.percentile(xmany, percentiles)\n",
    "percz = np.percentile(zmany, percentiles)\n",
    "fig = plt.figure(figsize=(5, 5))\n",
    "plt.plot(percx, percz, 'ro')\n",
    "diag = (np.min((xmany.min(), zmany.min()))-1, np.max((xmany.max(), xmany.max()))+1)\n",
    "plt.plot(diag, diag, 'k--')\n",
    "plt.xlabel('x values')\n",
    "plt.ylabel('z values')\n",
    "plt.xlim(diag)\n",
    "plt.ylim(diag)\n",
    "plt.title('percentile-percentile comparison');"
   ]
  },
  {
   "cell_type": "markdown",
   "metadata": {
    "slideshow": {
     "slide_type": "slide"
    }
   },
   "source": [
    "# Wertebereiche\n",
    "- Nominal\n",
    "    - Bsp: Münze: Kopf/Zahl, gezogene Farbe\n",
    "- ordinale Daten\n",
    "    - Bsp: Schadensklasse, Zufriedenheit \"sehr, ja, nein, garnicht\"\n",
    "    - Kategorien\n",
    "- Diskrete Daten\n",
    "    - Bsp: gewürfelte Zahl, Alter\n",
    "- Kontinuerliche Daten\n",
    "    - Bsp: Temperatur, Alter, \n",
    "    - prozentuale Werte"
   ]
  },
  {
   "cell_type": "markdown",
   "metadata": {
    "slideshow": {
     "slide_type": "fragment"
    }
   },
   "source": [
    "### Weitere Unterscheidung für nominale und ordinale Daten:\n",
    "- dichotom/binär/binomial\n",
    "- polytom/multinomial\n",
    "\n",
    "Mittels Klasseneinteilung diskretisieren und in Histogramm darstellen."
   ]
  },
  {
   "cell_type": "markdown",
   "metadata": {
    "slideshow": {
     "slide_type": "slide"
    }
   },
   "source": [
    "# Zusammenfassung Kennzahlen\n",
    "### Lageparameter\n",
    "- Median\n",
    "- Modus\n",
    "- Arithmetisches Mittel\n",
    "- Harmonisches Mittel, ... \n",
    "- $\\Rightarrow$ (wichtigste) erste Kennzahl\n",
    "\n",
    "### Streuung, Breite der Verteilung:\n",
    "- Wertebereich Min-Max\n",
    "- Standardabweichung\n",
    "- Quartile\n",
    "- Perzentile\n",
    "- $\\Rightarrow$ weitere Kennzahl(en) beschreiben die Streuung\n",
    "\n",
    "### Ausblick: Form der Verteilung"
   ]
  },
  {
   "cell_type": "code",
   "execution_count": 27,
   "metadata": {
    "slideshow": {
     "slide_type": "subslide"
    }
   },
   "outputs": [
    {
     "name": "stdout",
     "output_type": "stream",
     "text": [
      "mean = 4.90  median = 4.83\n",
      "standard deviation = 1.99\n",
      "quartile range = 3.53 to 6.27\n",
      "1% - 99% range = 0.05 to 9.41\n"
     ]
    }
   ],
   "source": [
    "'''Python reports some main parameters'''\n",
    "# import scipy.stats\n",
    "print('mean = {:.2f}  median = {:.2f}'\n",
    "      .format(xmany.mean(), np.median(xmany))) \n",
    "print('standard deviation = {:.2f}'\n",
    "      .format(xmany.std()))\n",
    "print('quartile range = {:.2f} to {:.2f}'\n",
    "      .format(np.percentile(xmany, 25), np.percentile(xmany, 75) ))\n",
    "print('1% - 99% range = {:.2f} to {:.2f}'\n",
    "      .format(np.percentile(xmany,  1), np.percentile(xmany, 99) ))"
   ]
  },
  {
   "cell_type": "markdown",
   "metadata": {
    "slideshow": {
     "slide_type": "slide"
    }
   },
   "source": [
    "# Zusammenfassung Graphik\n",
    "\n",
    "- Mittelwert und Streuung - \"Fehlerbalken-Diagramm\"\n",
    "- Boxplot\n",
    "- Violinenplot\n",
    "- Histogramm\n",
    "- kumulierte Verteilungsfunktion\n"
   ]
  },
  {
   "cell_type": "markdown",
   "metadata": {
    "slideshow": {
     "slide_type": "fragment"
    }
   },
   "source": [
    "# Ausblick\n",
    "- mehrdimensionale Daten\n",
    "- Schließende Statistik arbeitet mit Wahrscheinlichkeiten\n",
    "- Stochastische Modelle"
   ]
  },
  {
   "cell_type": "markdown",
   "metadata": {
    "collapsed": true,
    "slideshow": {
     "slide_type": "slide"
    }
   },
   "source": [
    "# Fragen?"
   ]
  }
 ],
 "metadata": {
  "celltoolbar": "Slideshow",
  "kernelspec": {
   "display_name": "Python 3",
   "language": "python",
   "name": "python3"
  },
  "language_info": {
   "codemirror_mode": {
    "name": "ipython",
    "version": 3
   },
   "file_extension": ".py",
   "mimetype": "text/x-python",
   "name": "python",
   "nbconvert_exporter": "python",
   "pygments_lexer": "ipython3",
   "version": "3.7.0b3"
  }
 },
 "nbformat": 4,
 "nbformat_minor": 1
}
