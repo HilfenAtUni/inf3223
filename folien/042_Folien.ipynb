{
 "cells": [
  {
   "cell_type": "code",
   "execution_count": 1,
   "metadata": {
    "collapsed": true,
    "slideshow": {
     "slide_type": "skip"
    }
   },
   "outputs": [],
   "source": [
    "import numpy as np                       # mathematical methods\n",
    "from scipy import stats                  # statistical methods\n",
    "from matplotlib import pyplot as plt     # plotting methods\n",
    "%matplotlib inline"
   ]
  },
  {
   "cell_type": "markdown",
   "metadata": {
    "slideshow": {
     "slide_type": "slide"
    }
   },
   "source": [
    "## Diskrete Wahrscheinlichkeitstheorie - Überblick\n",
    "#### 1. Zufall\n",
    "- Zufallsvariable, Zufallsexperiment, Wahrscheinlichkeitsmaß, Wahrscheinlichkeitsverteilung, Axiome von Kolmogorov\n",
    "\n",
    "#### 2. Zusammengesetzte Wahrscheinlichkeiten\n",
    "- bedingte Wahrscheinlichkeit, gemeinsame Wahrscheinlichkeit, totale Wahrscheinlichkeit, Satz von Bayes\n",
    "\n",
    "#### 3. Kenngrößen\n",
    "- Erwartungswert & Varianz\n",
    "\n",
    "#### <span style=\"color:blue\">4. Modellverteilungen</span>\n",
    "- eindimensional\n",
    "\n",
    "#### <span style=\"color:blue\">multivariate Verteilungen</span>"
   ]
  },
  {
   "cell_type": "markdown",
   "metadata": {
    "slideshow": {
     "slide_type": "subslide"
    }
   },
   "source": [
    "#### <span style=\"color:blue\">multivariate Verteilungen</span>\n",
    "- bivariate Verteilung\n",
    "- zusammengesetzte Verteilung\n",
    "- Erwartungswert\n",
    "- Varianz\n",
    "- Kovarianz\n",
    "- stochastische Unabhängigkeit"
   ]
  },
  {
   "cell_type": "markdown",
   "metadata": {
    "slideshow": {
     "slide_type": "slide"
    }
   },
   "source": [
    "# Zweidimensionale Verteilungen: *bivariat*\n",
    "\n",
    "- vektorielle Zufallsvariable $\\boldsymbol{W} = (X, Y)$\n",
    "\n",
    "#### Beispiele\n",
    "- roter und grüner Würfel gleichzeitig geworfen\n",
    "- Roulette *rot* und *ungerade*\n",
    "- Koordinaten $(x_i, y_i)$\n",
    "- Alter und Blutdruck bei Patienten\n",
    "- Pixel Helligkeit und Farbe"
   ]
  },
  {
   "cell_type": "markdown",
   "metadata": {
    "slideshow": {
     "slide_type": "subslide"
    }
   },
   "source": [
    "## Ein Ergebnis  (Elementarereignis)\n",
    "\n",
    "vektoriell $$\\boldsymbol{w} = (x, y) $$"
   ]
  },
  {
   "cell_type": "markdown",
   "metadata": {
    "slideshow": {
     "slide_type": "fragment"
    }
   },
   "source": [
    "## Verbundene Wahrscheinlichkeit\n",
    "<div class=\"alert alert-block alert-success\">\n",
    "$$P(\\boldsymbol{w}) \\; = \\; P(X\\!=\\!x \\cap Y\\!=\\!y) \\; = \\; p(x, y) \\; = \\; p_{xy}$$\n",
    "</div>"
   ]
  },
  {
   "cell_type": "markdown",
   "metadata": {
    "slideshow": {
     "slide_type": "fragment"
    }
   },
   "source": [
    "## Stochastische Unabhängigkeit\n",
    "<div class=\"alert alert-block alert-success\">\n",
    "$$P(X\\!=\\!x \\cap Y\\!=\\!y) \\;=\\; P(X\\!=\\!x) \\cdot P(Y\\!=\\!y)$$\n",
    "</div>"
   ]
  },
  {
   "cell_type": "markdown",
   "metadata": {
    "slideshow": {
     "slide_type": "slide"
    }
   },
   "source": [
    "## Erwartungswert"
   ]
  },
  {
   "cell_type": "markdown",
   "metadata": {
    "slideshow": {
     "slide_type": "fragment"
    }
   },
   "source": [
    "<div class=\"alert alert-block alert-success\">\n",
    "$$\\boldsymbol{\\mu} = \n",
    "\\begin{pmatrix} \\mathcal{E}(X)\\\\ \\mathcal{E}(Y) \\end{pmatrix} = \\begin{pmatrix} \\sum_{i=1}^{N_x} x_i\\cdot P(X\\!=\\!x_i)\\\\ \\sum_{j=1}^{N_y} y_j\\cdot P(Y\\!=\\!y_j) \\end{pmatrix}$$\n",
    "</div>"
   ]
  },
  {
   "cell_type": "markdown",
   "metadata": {
    "slideshow": {
     "slide_type": "fragment"
    }
   },
   "source": [
    "### mit den Randverteilungen\n",
    "<div class=\"alert alert-block alert-success\">\n",
    "$$P(X\\!=\\!x_i) = \\sum_{j=1}^{N_y} P(X\\!=\\!x_i \\cap Y\\!=\\!y_j) $$\n",
    "$$P(Y\\!=\\!y_i) = \\sum_{i=1}^{N_x} P(X\\!=\\!x_i \\cap Y\\!=\\!y_j) $$\n",
    "</div>"
   ]
  },
  {
   "cell_type": "markdown",
   "metadata": {
    "slideshow": {
     "slide_type": "subslide"
    }
   },
   "source": [
    "### Kontingenztafel\n",
    "Am Beispiel zweier Münzen\n",
    "\n",
    "#### Wahrscheinlichkeit $p_{xy}$ und Randverteilungen $p_x$ und $p_y$\n",
    "\n",
    "    M1\\M2 |  0      1     |\n",
    "    ----------------------------\n",
    "    0     |  1/4    1/4   | 1/2\n",
    "    1     |  1/4    1/4   | 1/2\n",
    "    ----------------------------\n",
    "          |  1/2    1/2   |  1\n",
    "\n",
    "#### *Ein* mögliches Beispiel für Werte $x_{ij}$\n",
    "\n",
    "    M1\\M2 |  0      1     |\n",
    "    -----------------------\n",
    "    0     |  0      1     | \n",
    "    1     |  1      4     | "
   ]
  },
  {
   "cell_type": "markdown",
   "metadata": {
    "slideshow": {
     "slide_type": "subslide"
    }
   },
   "source": [
    "## Erwartungswert einer Summe von Zufallsvariablen\n",
    "\n",
    "Für zwei Zufallsvariablen $X$ und $Y$ ist $Z=X+Y$ wieder eine Zufallsvariable. Es gilt\n",
    "<div class=\"alert alert-block alert-success\">\n",
    "$$\\mathcal{E}(Z) = \\mathcal{E}(X+Y) = \\mathcal{E}(X)+\\mathcal{E}(Y)$$\n",
    "</div>"
   ]
  },
  {
   "cell_type": "markdown",
   "metadata": {
    "slideshow": {
     "slide_type": "fragment"
    }
   },
   "source": [
    "#### Beweis\n",
    "$$\\mathcal{E}(X+Y)=\\sum_{i=1}^N (x_i + y_i)p_i = \\sum_{i=1}^N  x_ip_i + \\sum_{i=1}^N  y_ip_i = \\mathcal{E}(X)+\\mathcal{E}(Y)$$"
   ]
  },
  {
   "cell_type": "markdown",
   "metadata": {
    "slideshow": {
     "slide_type": "subslide"
    }
   },
   "source": [
    "#### Was sind i und N?\n",
    "\n",
    "#### Beispiel 2 Münzen, Anzahl \"*Kopf*\"; erste:\n",
    "\n",
    "$i \\quad  X \\quad  p$ <br>\n",
    "$1 \\quad  0 \\quad  1/2 \\qquad\\qquad \\mathcal{E}(X) = 0\\cdot\\frac{1}{2} + 1\\cdot\\frac{1}{2} = \\frac{1}{2}$ <br>\n",
    "$2 \\quad  1 \\quad  1/2$\n",
    "\n",
    "#### zweite:\n",
    "\n",
    "Dasselbe für Y: $\\qquad \\mathcal{E}(Y) = 0\\cdot\\frac{1}{2} + 1\\cdot\\frac{1}{2} = \\frac{1}{2}$"
   ]
  },
  {
   "cell_type": "markdown",
   "metadata": {
    "slideshow": {
     "slide_type": "fragment"
    }
   },
   "source": [
    "#### Nun die Summe (Anzahl \"Zahl\") der zwei Münzen\n",
    "\n",
    "$i \\quad Z \\quad p$<br>\n",
    "$1 \\quad 0 \\quad 1/4$<br>\n",
    "$2 \\quad 1 \\quad 1/2 \\qquad\\qquad \\mathcal{E}(Z) = 0\\cdot\\frac{1}{4} + 1\\cdot\\frac{1}{2} + 2\\cdot\\frac{1}{4} = 1$<br> \n",
    "$3 \\quad 2 \\quad 1/4$<br>"
   ]
  },
  {
   "cell_type": "markdown",
   "metadata": {
    "slideshow": {
     "slide_type": "subslide"
    }
   },
   "source": [
    "Gemeinsames Werfen von Münze $X$ und Münze $Y$ ergibt Summe \"Anzahl *Kopf*\" $Z$.\n",
    "\n",
    "**Elementarzerlegung** des gemeinsamen Vektors $\\boldsymbol{W}$: $\\;\\forall i \\in\\{1\\dots N\\}$ gilt $\\;z_i = x_i + y_i$ .\n",
    "\n",
    "    i   X   Y   Z=X+Y  p\n",
    "    1   0   0   0      1/4\n",
    "    2   0   1   1      1/4\n",
    "    3   1   0   1      1/4\n",
    "    4   1   1   2      1/4\n",
    "\n",
    "4 Kombinationsmöglichkeiten, N=4, alle durchlaufen mit i\n",
    "$$\\begin{aligned}\n",
    "\\mathcal{E}(X+Y) &= 0\\cdot\\frac{1}{4} + 1\\cdot\\frac{1}{4} + 1\\cdot\\frac{1}{4} + 2\\cdot\\frac{1}{4} &= 1 \\\\\n",
    "\\qquad \\mathcal{E}(X) &= 0\\cdot\\frac{1}{4} + 0\\cdot\\frac{1}{4} + 1\\cdot\\frac{1}{4} + 1\\cdot\\frac{1}{4} &= \\frac{1}{2} \\\\\n",
    "\\qquad \\mathcal{E}(Y) &= 0\\cdot\\frac{1}{4} + 1\\cdot\\frac{1}{4} + 0\\cdot\\frac{1}{4} + 1\\cdot\\frac{1}{4} &= \\frac{1}{2} \\\\\n",
    "\\mathcal{E}(X)+\\mathcal{E}(Y) &= 2\\cdot\\frac{1}{2} &= 1\n",
    "\\end{aligned}$$"
   ]
  },
  {
   "cell_type": "markdown",
   "metadata": {
    "slideshow": {
     "slide_type": "subslide"
    }
   },
   "source": [
    "    X \\ Y |  0      1     |\n",
    "    ----------------------------\n",
    "    0     |  1/4    1/4   | 1/2\n",
    "    1     |  1/4    1/4   | 1/2\n",
    "    ----------------------------\n",
    "          |  1/2    1/2   |  1\n",
    "\n",
    "#### Damit:\n",
    "\n",
    "$\\begin{aligned}\n",
    "\\sum_{k=1}^4 (x_k+y_k)\\cdot p_{k} &= \\sum_{i=1}^2 \\sum_{j=1}^2 (x_i+y_j) p_{ij} \\\\\n",
    "        &= \\sum_{i=1}^2 x_i \\sum_{j=1}^2 p_{ij} + \\sum_{j=1}^2 y_j \\sum_{i=1}^2 p_{ij} \\\\\n",
    "        \\quad &= \\sum_{i=1}^2 x_i p_i + \\sum_{j=1}^2 y_j p_j\n",
    "\\end{aligned}$\n",
    "\n",
    "mit\n",
    "$k=2\\cdot(i-1)+j$"
   ]
  },
  {
   "cell_type": "markdown",
   "metadata": {
    "slideshow": {
     "slide_type": "slide"
    }
   },
   "source": [
    "## Anwendung bi- / multivariate Verteilung:\n",
    "\n",
    "#### Beispiele\n",
    "\n",
    "- Verkehrszählung nach Verkehrsmittel und Gesamtaufkommen\n",
    "- Schadstoffausstoß und Gesamtbelastung\n",
    "- Vogelzug mehrerer Arten pro Tag und Gesamtanzahl"
   ]
  },
  {
   "cell_type": "markdown",
   "metadata": {
    "slideshow": {
     "slide_type": "fragment"
    }
   },
   "source": [
    "### Addition  Poisson-Verteilungen\n",
    "Sind $X\\sim \\mathcal{Po}(\\lambda_1)$ und $Y\\sim \\mathcal{Po}(\\lambda_2)$ Poisson-verteilt und voneinander unabhängig, so ist\n",
    "$$X+Y \\sim \\mathcal{Po}(\\lambda_1 + \\lambda_2)$$"
   ]
  },
  {
   "cell_type": "code",
   "execution_count": 3,
   "metadata": {
    "slideshow": {
     "slide_type": "skip"
    }
   },
   "outputs": [
    {
     "name": "stdout",
     "output_type": "stream",
     "text": [
      "Po(1)_A =  [0 1 0 1 0 1 2 0 0 1 2 0 0 3 2 0 1 0 0 2 2 0 0 0 0 2 2 0 1 1] ...\n",
      "Po(1)_B =  [1 0 0 1 1 1 0 0 2 1 1 0 0 2 2 0 0 0 0 3 1 0 0 1 0 1 2 0 2 3] ...\n",
      "sum A+B =  [1 1 0 2 1 2 2 0 2 2 3 0 0 5 4 0 1 0 0 5 3 0 0 1 0 3 4 0 3 4] ...\n"
     ]
    },
    {
     "data": {
      "image/png": "[encoded data removed]",
      "text/plain": [
       "<matplotlib.figure.Figure at 0x7f33749af128>"
      ]
     },
     "metadata": {},
     "output_type": "display_data"
    }
   ],
   "source": [
    "'''test summation of Poisson distributions\n",
    "   according to rate lambda\n",
    "'''\n",
    "l1 = 1.                             # lambda of distribution A and B\n",
    "x = np.arange(0., 21)               # outcomes\n",
    "N = 1000                            # number of samples to draw\n",
    "np.random.seed(987654)\n",
    "xa = stats.poisson(l1).rvs(size=N)  # outcomes \"A\" of Poisson(lambda=1)\n",
    "xb = stats.poisson(l1).rvs(size=N)  # outcomes \"B\" of Poisson(lambda=1)\n",
    "xab = xa + xb                       # sum of the two\n",
    "print('Po(1)_A = ', xa[:30], '...')\n",
    "print('Po(1)_B = ', xb[:30], '...')\n",
    "print('sum A+B = ', xab[:30], '...')\n",
    "# compare the two single distributions, theire sum and the theoretical\n",
    "ha  = plt.hist(xa,  bins=np.arange(10), alpha=0.2, label='Po(1)_A',\n",
    "               align='left', edgecolor='black')\n",
    "hb  = plt.hist(xb,  bins=np.arange(10), alpha=0.2, label='Po(1)_B',\n",
    "               align='left', edgecolor='black')\n",
    "hab = plt.hist(xab, bins=np.arange(10), alpha=0.5, label='2*Po(1) A+B',\n",
    "               align='left', edgecolor='black')\n",
    "po2 = stats.poisson.pmf(x, 2*l1) # theoretical distribution with double lambda \n",
    "plt.step(x[:10], N*po2[:10], 'k--', where='mid', label='Po(2)')\n",
    "plt.xlabel('value x')\n",
    "plt.ylabel('frequency N(x)')\n",
    "plt.legend();"
   ]
  },
  {
   "cell_type": "code",
   "execution_count": 6,
   "metadata": {
    "slideshow": {
     "slide_type": "subslide"
    }
   },
   "outputs": [
    {
     "name": "stdout",
     "output_type": "stream",
     "text": [
      "[P1+P1](x=0)=0.1353353  P2(x=0)=0.1353353\n",
      "[P1+P1](x=1)=0.2706706  P2(x=1)=0.2706706\n",
      "[P1+P1](x=2)=0.2706706  P2(x=2)=0.2706706\n",
      "[P1+P1](x=3)=0.1804470  P2(x=3)=0.1804470\n",
      "[P1+P1](x=4)=0.0902235  P2(x=4)=0.0902235\n",
      "[P1+P1](x=5)=0.0360894  P2(x=5)=0.0360894\n",
      "[P1+P1](x=6)=0.0120298  P2(x=6)=0.0120298\n",
      "[P1+P1](x=7)=0.0034371  P2(x=7)=0.0034371\n",
      "[P1+P1](x=8)=0.0008593  P2(x=8)=0.0008593\n",
      "[P1+P1](x=9)=0.0001909  P2(x=9)=0.0001909\n"
     ]
    }
   ],
   "source": [
    "'''compare theoretical Poisson(2) with sum of two Poisson(1) distributions'''\n",
    "po11 = np.asarray([\n",
    "        np.asarray([\n",
    "            y*x for j,y in enumerate(po1) for k,x in enumerate(po1) if j+k==i]).sum()\n",
    "        for i in range(10)])\n",
    "for i in range(10):\n",
    "    print('[P1+P1](x={})={:9.7f}  P2(x={})={:9.7f}'.format(i, po11[i], i, po2[i]))"
   ]
  },
  {
   "cell_type": "markdown",
   "metadata": {
    "slideshow": {
     "slide_type": "subslide"
    }
   },
   "source": [
    "## Erwartungswert eines Produkts von Zufallsvariablen\n",
    "\n",
    "Für zwei **unabhängige** Zufallsvariablen $X$ und $Y$ gilt:\n",
    "<div class=\"alert alert-block alert-success\">\n",
    "$$\\mathcal{E}(X\\cdot Y) = \\mathcal{E}(X) \\cdot\\mathcal{E}(Y)$$\n",
    "</div>\n",
    "\n",
    "#### Beweis ÜA"
   ]
  },
  {
   "cell_type": "markdown",
   "metadata": {
    "slideshow": {
     "slide_type": "subslide"
    }
   },
   "source": [
    "#### Beispiel zwei Münzen\n",
    "\n",
    "    i  j  k   X   Y   X*Y  p=px*py\n",
    "    1  1  1   0   0   0    1/4\n",
    "    1  2  2   0   1   0    1/4\n",
    "    2  1  3   1   0   0    1/4\n",
    "    2  2  4   1   1   1    1/4\n",
    "\n",
    "$$\\begin{aligned}\n",
    "\\mathcal{E}(X) &= 0\\cdot\\frac{1}{4}\\cdot 2 + 1\\cdot\\frac{1}{4}\\cdot 2 &= \\frac{1}{2} \\\\\n",
    "\\mathcal{E}(Y) &= 0\\cdot\\frac{1}{4}\\cdot 2 + 1\\cdot\\frac{1}{4}\\cdot 2 &= \\frac{1}{2} \\\\\n",
    "\\mathcal{E}(X\\cdot Y) &= 0\\cdot\\frac{1}{4}\\cdot 3 + 1\\cdot\\frac{1}{4} &= \\frac{1}{4} &= \\frac{1}{2}\\cdot \\frac{1}{2}\n",
    "\\end{aligned}$$"
   ]
  },
  {
   "cell_type": "markdown",
   "metadata": {
    "slideshow": {
     "slide_type": "slide"
    }
   },
   "source": [
    "# Varianz(en) mehrdimensionaler Verteilung\n",
    "\n",
    "<div class=\"alert alert-block alert-success\">\n",
    "$$\\mathrm{Var}(\\boldsymbol{W}) = \\begin{pmatrix} \\mathrm{Var}(X)\\\\ \\mathrm{Var}(Y)\\end{pmatrix} = \\begin{pmatrix} \\sum_x (x-\\mathcal{E}(X))^2 p_x) \\\\ \\sum_y (y-\\mathcal{E}(Y))^2 p_y)\\end{pmatrix}$$\n",
    "</div>"
   ]
  },
  {
   "cell_type": "markdown",
   "metadata": {
    "slideshow": {
     "slide_type": "subslide"
    }
   },
   "source": [
    "# Kovarianz\n",
    "\n",
    "#### Definition:\n",
    "\n",
    "<div class=\"alert alert-block alert-success\">\n",
    "$$\\mathrm{Cov}(X,Y) := \\mathcal{E}\\Bigl( \\bigl(X-\\mathcal{E}(X))(Y-\\mathcal{E}(Y)\\bigr)\\Bigr) = \\sum_x \\sum_y (x-\\mu_x)(y-\\mu_y)\\cdot p_{xy}$$\n",
    "</div>"
   ]
  },
  {
   "cell_type": "markdown",
   "metadata": {
    "slideshow": {
     "slide_type": "fragment"
    }
   },
   "source": [
    "#### Verschiebungssatz\n",
    "\n",
    "$$\\mathrm{Cov}(X,Y) = \\mathcal{E}(X\\cdot Y) - \\mathcal{E}(X)\\cdot \\mathcal{E}(Y) $$\n",
    "\n",
    "#### Varianz\n",
    "\n",
    "$$\\mathrm{Var}(X) = \\mathrm{Cov}(X,X)$$\n",
    "\n",
    "Beweis: **[ÜA]**"
   ]
  },
  {
   "cell_type": "markdown",
   "metadata": {
    "slideshow": {
     "slide_type": "subslide"
    }
   },
   "source": [
    "### Bedeutung der Kovarianz für die Varianz einer Summe von Zufallsvariablen:\n",
    "<br>\n",
    "$$\\begin{aligned}\n",
    "\\mathrm{Var}(X+Y) &= \\mathcal{E}\\bigl((X+Y-\\mathcal{E}(X)-\\mathcal{E}(Y))^2\\bigr) \\\\\n",
    " &= \\mathcal{E}\\bigl((X-\\mathcal{E}(X))^2 + (Y-\\mathcal{E}(Y))^2 + 2 (X-\\mathcal{E}(X))\\cdot (Y-\\mathcal{E}(Y))\\bigr) \\\\\n",
    " &= \\mathrm{Var}(X) + \\mathrm{Var}(Y) + 2\\mathrm{Cov}(X,Y)\n",
    "\\end{aligned}$$"
   ]
  },
  {
   "cell_type": "markdown",
   "metadata": {
    "slideshow": {
     "slide_type": "subslide"
    }
   },
   "source": [
    "### Extremfälle der Kovarianz für die Varianz einer Summe von Zufallsvariablen\n",
    "\n",
    "#### vollständige Korrelation X, Y=X\n",
    "\n",
    "$$\\begin{aligned}\n",
    "\\mathrm{Var}(X+Y) &= \\mathrm{Var}(X)+\\mathrm{Var}(Y)+2\\mathrm{Cov}(X,Y) \\\\\n",
    "&= \\mathrm{Var}(X)+\\mathrm{Var}(Y)+2(\\mathcal{E}(XY)-2\\mathcal{E}(X)\\mathcal{E}(Y)) \\\\\n",
    "&= \\mathrm{Var}(X)+\\mathrm{Var}(X)+2\\bigl(\\mathcal{E}(X^2)-\\mathcal{E}^2(X)\\bigr) \\\\\n",
    "&= 4\\mathrm{Var}(X) = \\mathrm{Var}(2X)\n",
    "\\end{aligned}$$"
   ]
  },
  {
   "cell_type": "markdown",
   "metadata": {
    "slideshow": {
     "slide_type": "fragment"
    }
   },
   "source": [
    "#### vollständige Antikorrelation X,  Y=-X\n",
    "\n",
    "$$\\begin{aligned}\n",
    "\\mathrm{Var}(X+Y) &= \\mathrm{Var}(X)+\\mathrm{Var}(Y)+2\\mathrm{Cov}(X,Y) \\\\\n",
    "&= \\mathrm{Var}(X)+\\mathrm{Var}(Y)+2\\bigl(\\mathcal{E}(XY)-\\mathcal{E}(X)\\mathcal{E}(Y)\\bigr) \\\\\n",
    "&= \\mathrm{Var}(X)+\\mathrm{Var}(X)-2\\bigl(\\mathcal{E}(X^2)-\\mathcal{E}^2(X)\\bigr) \\\\\n",
    "&= (2-2)\\mathrm{Var}(X) = \\mathrm{Var}(0X)\n",
    "\\end{aligned}$$"
   ]
  },
  {
   "cell_type": "markdown",
   "metadata": {
    "slideshow": {
     "slide_type": "slide"
    }
   },
   "source": [
    "# Korrelationskoeffizient\n",
    "\n",
    "Definition:\n",
    "<div class=\"alert alert-block alert-success\">\n",
    "$$\\mathrm{Korr}(X,Y)  = \\frac{\\mathrm{Cov}(X,Y)}{\\sqrt{\\mathrm{Var}(X)\\mathrm{Var}(Y)}} = \\frac{\\mathrm{Cov}(X,Y)}{\\sigma_x \\sigma_y}$$\n",
    "</div>\n",
    "\n",
    "#### Eigenschaften\n",
    "\n",
    "- $\\mathrm{Korr}\\in[-1, 1]$ \n",
    "- $\\mathrm{Korr}=+1$ wenn $X=Y$\n",
    "- $\\mathrm{Korr}=-1$ wenn $X=-Y$\n",
    "- $\\mathrm{Korr}=0$ wenn $X, Y$ stochastisch unabhängig \n",
    "    - (nicht unbedingt umgekehrt)"
   ]
  },
  {
   "cell_type": "markdown",
   "metadata": {
    "collapsed": true,
    "slideshow": {
     "slide_type": "slide"
    }
   },
   "source": [
    "# Stochastische Unabhängigkeit\n",
    "\n",
    "X und Y sind genau dann stochastisch unabhängig, wenn\n",
    "\n",
    "<div class=\"alert alert-block alert-success\">\n",
    "$$ \\forall(x, y)\\in\\Omega: \\quad P(X\\!=\\!x \\cap Y\\!=\\!y) = P(X\\!=\\!x)\\cdot P(Y\\!=\\!y)$$\n",
    "</div>\n",
    "\n",
    "$\\Rightarrow$\n",
    "<div class=\"alert alert-block alert-success\">\n",
    "$$\\mathrm{Cov}(X,Y) = 0 $$\n",
    "</div>\n",
    "bzw.\n",
    "<div class=\"alert alert-block alert-success\">\n",
    "$$\\mathcal{E}(X\\cdot Y) = \\mathcal{E}(X)\\cdot\\mathcal{E}(Y)$$\n",
    "</div>"
   ]
  },
  {
   "cell_type": "markdown",
   "metadata": {
    "slideshow": {
     "slide_type": "slide"
    }
   },
   "source": [
    "# Zusammenfassung multivariate Wahrscheinlichkeitsverteilung\n",
    "\n",
    "- Eine Wahrscheinlichkeit auf mehrere Zufallsvariable, z.B. $\\; p(x,y)$\n",
    "- Erwartungswerte\n",
    "- Varianzen\n",
    "- Kovarianz\n",
    "- Korrelation\n",
    "- Unabhängigkeit\n"
   ]
  },
  {
   "cell_type": "markdown",
   "metadata": {
    "slideshow": {
     "slide_type": "subslide"
    }
   },
   "source": [
    "## Mehr als zwei Dimensionen?\n",
    "\n",
    "- Erwartungswert $\\mathcal{E}(\\boldsymbol{X})$\n",
    "- Varianz $\\mathrm{Var}(\\boldsymbol{X})$\n",
    "- Matrix gegenseitiger Abhängigkeiten\n",
    "    - Wie bei empirischer Statistik \"2D-Scatterplots\"\n",
    "- Kovarianzmatrix\n",
    "    - Diagonale: Varianzen\n",
    "    - Seiten: Kovarianzen"
   ]
  },
  {
   "cell_type": "markdown",
   "metadata": {
    "slideshow": {
     "slide_type": "slide"
    }
   },
   "source": [
    "# Ausblick\n",
    "\n",
    "Kontinuierliche Verteilungen"
   ]
  },
  {
   "cell_type": "markdown",
   "metadata": {
    "collapsed": true,
    "slideshow": {
     "slide_type": "slide"
    }
   },
   "source": [
    "# Fragen?"
   ]
  }
 ],
 "metadata": {
  "kernelspec": {
   "display_name": "Python 3",
   "language": "python",
   "name": "python3"
  },
  "language_info": {
   "codemirror_mode": {
    "name": "ipython",
    "version": 3
   },
   "file_extension": ".py",
   "mimetype": "text/x-python",
   "name": "python",
   "nbconvert_exporter": "python",
   "pygments_lexer": "ipython3",
   "version": "3.7.0b3"
  }
 },
 "nbformat": 4,
 "nbformat_minor": 1
}
