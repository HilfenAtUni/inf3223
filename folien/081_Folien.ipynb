{
 "cells": [
  {
   "cell_type": "code",
   "execution_count": 1,
   "metadata": {
    "slideshow": {
     "slide_type": "skip"
    }
   },
   "outputs": [],
   "source": [
    "from matplotlib import pyplot as plt\n",
    "import numpy as np\n",
    "from scipy import stats\n",
    "%matplotlib inline"
   ]
  },
  {
   "cell_type": "markdown",
   "metadata": {
    "slideshow": {
     "slide_type": "slide"
    }
   },
   "source": [
    "### Beschreibende Statistik\n",
    "### Wahrscheinlichkeitstheorie\n",
    "### <span style=\"color:blue\">Schließende Statistik</span>\n",
    "#### Punktschätzungen\n",
    "- Punktschätzer\n",
    "- Max-Likelihood-Prinzip\n",
    "- Robuste Schätzung\n",
    "\n",
    "#### <span style=\"color:blue\">Tests</span>\n",
    "- Nullhypothese\n",
    "- Vergleich mit Stichprobe\n",
    "- Entscheidung: verwerfen?\n",
    "- Binomialtest\n",
    "- Gaußtest\n",
    "- t-Test\n",
    "\n",
    "#### Intervallschätzungen"
   ]
  },
  {
   "cell_type": "markdown",
   "metadata": {
    "slideshow": {
     "slide_type": "slide"
    }
   },
   "source": [
    "# Fragen der Schließenden Statistik\n",
    "- Welche Verteilung hat die Grundgesamtheit?\n",
    "    - $\\Rightarrow$ Theorie, Ockhams Rasiermesser, Vergleich\n",
    "- Welcher Parameterwert paßt am besten zu den Beobachtungen?\n",
    "    - $\\Rightarrow$ Schätzungen\n",
    "- <span style=\"color:blue\">Sind die Beobachtungen mit einem angenommenen Parameter vereinbar?</span>\n",
    "    - <span style=\"color:blue\">$\\Rightarrow$ Testen einer Nullhypothese</span>\n",
    "- Welche Parameterwerte sind mit den Beobachtungen vereinbar?\n",
    "    - $\\Rightarrow$ Vertrauensintervall\n",
    "- Wie kamen die Beobachtungen zustande?\n",
    "    - $\\Rightarrow$ Versuchsplanung  "
   ]
  },
  {
   "cell_type": "markdown",
   "metadata": {
    "slideshow": {
     "slide_type": "subslide"
    }
   },
   "source": [
    "# Nullhypothen-Signifikanz-Test (*NHST*)\n",
    "Inhalt:\n",
    "- Schätzer $\\leftrightarrow$ Test\n",
    "- Zielsetzung\n",
    "- Beispiel\n",
    "- Vorgehen\n",
    "- Probleme und Lösungen\n",
    "- Zusammenfassung\n",
    "- Ausblick"
   ]
  },
  {
   "cell_type": "markdown",
   "metadata": {
    "slideshow": {
     "slide_type": "subslide"
    }
   },
   "source": [
    "### Schätzer\n",
    "- Stichprobe\n",
    "- Kennzahl ($\\overline{x},\\;\\sigma,\\;\\dots$)\n",
    "- Parameter ($\\mu,\\;\\sigma,\\;\\lambda,\\;\\dots$)\n",
    "\n",
    "### Test\n",
    "- Hypothese\n",
    "- Stichprobe\n",
    "- Schätzer für Kennzahl/Parameter \n",
    "- vergleichen mit Hypothese\n",
    "- **a) In Einklang mit Hypothese?**\n",
    "- **b) Signifikanter Unterschied?**"
   ]
  },
  {
   "cell_type": "markdown",
   "metadata": {
    "slideshow": {
     "slide_type": "slide"
    }
   },
   "source": [
    "# Ziel eines Tests\n",
    "\n",
    "#### Hypothese: vorgegebene, vermutete oder interessierende Verteilung\n",
    "#### Schätzer aus Stichprobe\n",
    "#### Vergleich\n",
    "\n",
    "## $\\Rightarrow$ standardisierte, akzeptierte Entscheidungsregel"
   ]
  },
  {
   "cell_type": "markdown",
   "metadata": {
    "slideshow": {
     "slide_type": "subslide"
    }
   },
   "source": [
    "## 1) Stichprobe $\\not\\in$ Hypothese?\n",
    "\n",
    "#### Beispiele\n",
    "- Würfel unfair: $p_6\\neq\\frac{1}{6}$?\n",
    "- Zustimmung bei Umfrage: Mehrheit?\n",
    "- Wareneingangskontrolle: Ausschuß?\n",
    "- Wirksamkeit eines Medikaments\n",
    "- Messwert und Genauigkeit/Meßfehler in Physik"
   ]
  },
  {
   "cell_type": "markdown",
   "metadata": {
    "slideshow": {
     "slide_type": "subslide"
    }
   },
   "source": [
    "## 2) Effekt - zwei gepaarte Stichproben\n",
    "\n",
    "### Stichproben $\\{X_i|A\\} \\neq \\{X_i|B\\}$ ? \n",
    "\n",
    "#### Beispiele\n",
    "- vor und nach Training \n",
    "- Wirkung Medikament / Plazebo an denselben Patienten\n",
    "- Absatzänderung nach Werbung\n"
   ]
  },
  {
   "cell_type": "markdown",
   "metadata": {
    "slideshow": {
     "slide_type": "subslide"
    }
   },
   "source": [
    "## 3) Zwei unabhängige Stichproben\n",
    "\n",
    "### Stichproben $\\{X_i|A\\} \\neq \\{X_j|B\\}$ ? \n",
    "\n",
    "#### Beispiele\n",
    "- Wirkung Medikament / Plazebo in Gruppe und Kontrollgruppe\n",
    "- Wahrnehmungswahrscheinlichkeit bei verschiedenen Helligkeiten\n",
    "- Umfrage unter Frauen / Männern"
   ]
  },
  {
   "cell_type": "markdown",
   "metadata": {
    "slideshow": {
     "slide_type": "slide"
    }
   },
   "source": [
    "# Beispiel Geburten\n",
    "### Frage: Sind Mädchen- und Jungengeburten gleich wahrscheinlich?\n",
    "### Ansatz: Eine Stichprobe, dichotomes Merkmal\n",
    "\n",
    "**Voraussetzung: ** Zufallsvariable $X$ und i.i.d. Stichproben $X_i$ <br>\n",
    "**Nullhypothese: ** $\\pi_0=\\frac{1}{2}$<br>\n",
    "**Stichprobe: ** Ein Tag in der Klinik: $N\\!=\\!10$ Geburten<br>\n",
    "**Modell: ** Binomialverteilung mit Parameter $\\pi_0$, unter der Nullhypothese\n",
    "$$\\mathcal{B}(N\\!=\\!10,\\;\\pi_0\\!=\\!0.5)$$\n",
    "\n",
    "**Prüfgröße: ** Anteil der Mädchen $x_i\\!=\\!1$\n",
    "$$\\pi = \\overline{X}=\\frac{1}{N}\\sum_{i=1}^N X_i$$\n",
    "\n",
    "**Schätzer:** \n",
    "$$\\hat\\pi = \\overline{X} \\quad\\text{für}\\quad \\mathcal{E}(X) = \\pi$$"
   ]
  },
  {
   "cell_type": "markdown",
   "metadata": {
    "slideshow": {
     "slide_type": "subslide"
    }
   },
   "source": [
    "### Fragestellung\n",
    "#### Welche Beobachtungen sind mit der Nullhypothese im Einklang?\n",
    "#### Welche Beobachtungen widersprechen der Nullhypothese - und führen daher zu deren Ablehnung?\n",
    "\n",
    "- 5:5 $\\checkmark$\n",
    "- 4:6 $\\checkmark$ ?\n",
    "- 3:7 ?"
   ]
  },
  {
   "cell_type": "code",
   "execution_count": 3,
   "metadata": {
    "slideshow": {
     "slide_type": "skip"
    }
   },
   "outputs": [
    {
     "data": {
      "image/png": "[encoded data removed]",
      "text/plain": [
       "<Figure size 432x288 with 1 Axes>"
      ]
     },
     "metadata": {
      "needs_background": "light"
     },
     "output_type": "display_data"
    }
   ],
   "source": [
    "'''number of girls births according to binomial (equal) distribution'''\n",
    "N = 10                                         # number of total births \n",
    "pi = 0.5                                       # probability of female under 0-hypothesis\n",
    "ngirls = np.arange(N+1)                        # all possible numbers of females 0..N\n",
    "distr = stats.binom(n=N, p=pi)                 # freeze distribution to parameter N, pi \n",
    "# calculate binomial distribution for all posible m out of N with probability pi\n",
    "P = np.asarray([distr.pmf(m) for m in ngirls]) # probabilities of all possible results \n",
    "descr = 'B(N={:d}, p={:.1f})'.format(N, pi)    # descriptional text for graph including numbers\n",
    "plt.plot(ngirls, P, 'ro', label=descr)         # 11 possible results: pobability vs. number of girls m\n",
    "plt.plot(ngirls, P, 'r-', alpha =.3)           # same with connecting lines\n",
    "plt.legend(loc='lower center')\n",
    "plt.hlines(0.0, -1, 11, colors='k', linestyles='--')\n",
    "plt.xlabel('x = possible number of girls among 10 births')\n",
    "plt.ylabel('probability p(x)');"
   ]
  },
  {
   "cell_type": "markdown",
   "metadata": {
    "slideshow": {
     "slide_type": "notes"
    }
   },
   "source": [
    "- Aufgetragen in X: Zahl von 0 bis 10 (nicht wie oben in der Formel für $\\pi$ die Wahrscheinlichkeit\n",
    "    - Umrechnung: mal N\n",
    "- Keine Zahl ist gänzlich unmöglich.\n",
    "- Aber eben unwahrscheinlich, wie hier 0 und 1.\n",
    "- Verwerfungsbereich\n",
    "    - 0 sicherlich, viel zu unwahrscheinlich, glauben wir nicht\n",
    "    - 1 sehr unhwahrscheinlich, auch nicht.\n",
    "    - 2 hat schon fast 5% Wahrscheinlichkeit\n",
    "    - 3 mit 12% noch mehr. \n",
    "    - Klingt auch nicht wirklich wahrscheinlich.\n",
    "    - **ABER** nirgends gibt es 50% oder höher.\n",
    "    - **ALSO** Bereich von bis, der Wahrscheinlich ist.\n",
    "    - Bereich zB von 3 bis 7.\n",
    "- Für den Verwerfungsbereich \n",
    "    - müssen wir alle Wahrscheinlichkeiten aufaddieren, \n",
    "    - daß drunter unwahrscheinlich, also 0.001 + 0.01 ..... \n",
    "    - Lassen wir Python rechnen:"
   ]
  },
  {
   "cell_type": "code",
   "execution_count": 4,
   "metadata": {
    "slideshow": {
     "slide_type": "subslide"
    }
   },
   "outputs": [
    {
     "name": "stdout",
     "output_type": "stream",
     "text": [
      "number of girls <=  0 with probability p=0.001\n",
      "number of girls <=  1 with probability p=0.011\n",
      "number of girls <=  2 with probability p=0.055\n",
      "number of girls <=  3 with probability p=0.172\n",
      "number of girls <=  4 with probability p=0.377\n",
      "number of girls <=  5 with probability p=0.623\n",
      "number of girls <=  6 with probability p=0.828\n",
      "number of girls <=  7 with probability p=0.945\n",
      "number of girls <=  8 with probability p=0.989\n",
      "number of girls <=  9 with probability p=0.999\n",
      "number of girls <= 10 with probability p=1.000\n"
     ]
    }
   ],
   "source": [
    "'''check sum of probabilities up to...'''\n",
    "psum = 0.\n",
    "for i, p in enumerate(P):\n",
    "    psum += p\n",
    "    print('number of girls <= {:2d} with probability p={:.3f}'.format(i, psum))"
   ]
  },
  {
   "cell_type": "code",
   "execution_count": 5,
   "metadata": {
    "slideshow": {
     "slide_type": "subslide"
    }
   },
   "outputs": [
    {
     "data": {
      "image/png": "[encoded data removed]",
      "text/plain": [
       "<Figure size 432x288 with 1 Axes>"
      ]
     },
     "metadata": {
      "needs_background": "light"
     },
     "output_type": "display_data"
    }
   ],
   "source": [
    "cdf = distr.cdf(ngirls)           # cumulative distribution function\n",
    "plt.plot(ngirls, cdf, 'ro');      # plot as dots and connect opaque\n",
    "plt.step(ngirls, cdf, 'r-', where='post', alpha=0.4)\n",
    "plt.hlines([0.0, 1.0], -1, 11, colors='k', linestyles='--')\n",
    "plt.title('distribution of births')\n",
    "plt.xlabel('number of girls')\n",
    "plt.ylabel('cumul. probability p');"
   ]
  },
  {
   "cell_type": "markdown",
   "metadata": {
    "slideshow": {
     "slide_type": "slide"
    }
   },
   "source": [
    "### Vorläufige Aussage\n",
    "Unter der Voraussetzung = **Nullhypothese** $H_0$: *Gleichverteilung* zwischen Jungen und Mädchen\n",
    "- ist es sehr unwahrscheinlich (1 Promille) 10 Mädchen zu erhalten\n",
    "\n",
    "aber bereits \n",
    "- über 10% Wahrscheinlichkeit für mindestens 3 Mädchen"
   ]
  },
  {
   "cell_type": "markdown",
   "metadata": {
    "slideshow": {
     "slide_type": "subslide"
    }
   },
   "source": [
    "### Schwelle?\n",
    "Ab welchem Wert ist es *ziemlich unwahrscheinlich*, daß ein konkretes Ergebnis einer Stichprobe noch mit der Nullhypothese in Einklang steht, ab welchem Wert wollen wir also die Nullhypothese **verwerfen**?\n",
    "\n",
    "### Festlegung\n",
    "Wir wählen willkürlich als *ziemlich unwahrscheinlich* $\\;\\alpha = 0.1$ oder $10\\%$."
   ]
  },
  {
   "cell_type": "markdown",
   "metadata": {
    "slideshow": {
     "slide_type": "subslide"
    }
   },
   "source": [
    "### Aufgabe\n",
    "Konstruiere \n",
    "- aus der festgelegten Schwelle *ziemlich unwahrscheinlich* $\\alpha= 10\\%$ \n",
    "- einen Bereich an Werten, \n",
    "    - in dem die kumulierte Wahrscheinlichkeit kleiner als das vorgegebene $\\alpha$ ist\n",
    "\n",
    "den ***Verwerfungsbereich***, ***Ablehnungsbereich***"
   ]
  },
  {
   "cell_type": "markdown",
   "metadata": {
    "slideshow": {
     "slide_type": "fragment"
    }
   },
   "source": [
    "### Ergebnis für Ablehnungsbereich\n",
    "{0, 1, 2}"
   ]
  },
  {
   "cell_type": "markdown",
   "metadata": {
    "slideshow": {
     "slide_type": "subslide"
    }
   },
   "source": [
    "### Folgerung\n",
    "#### Eine realisierte Stichprobe:\n",
    "- 3 Mädchen \n",
    "- Verhältnis 3:7\n",
    "- $\\checkmark$\n",
    "- $\\Rightarrow$ Die Nullhypothese wird nicht verworfen"
   ]
  },
  {
   "cell_type": "markdown",
   "metadata": {
    "slideshow": {
     "slide_type": "fragment"
    }
   },
   "source": [
    "### Irrtumswahrscheinlichkeit\n",
    "\n",
    "#### Eine andere realisierte Stichprobe:\n",
    "- 2 Mädchen\n",
    "- Verhältnis 2:8\n",
    "- $\\Rightarrow$  Wir verwerfen daher die Nullhypothese.\n",
    "\n",
    "Dabei gehen wir eine **Irrtumswahrscheinlichkeit** von $\\alpha$ ein. "
   ]
  },
  {
   "cell_type": "markdown",
   "metadata": {
    "slideshow": {
     "slide_type": "subslide"
    }
   },
   "source": [
    "### Problematik\n",
    "\n",
    "- Festlegung der *Irrtumswahrscheinlichkeit* $\\alpha$ unabdingbar\n",
    "- Verwerfungsbereich\n",
    "\n",
    "#### Aussage $\\Leftrightarrow$ Irrtum"
   ]
  },
  {
   "cell_type": "markdown",
   "metadata": {
    "slideshow": {
     "slide_type": "slide"
    }
   },
   "source": [
    "## Zweiseitiger Ablehnungsbereich\n",
    "\n",
    "Symmetrie unter Nullhypothese *gleich verteilt*\n",
    "$$p(n_M \\leq 2) = p(n_J \\leq 2) = p(n_M \\geq 8)$$\n",
    "\n",
    "#### Nullhypothese:\n",
    "$$H_0:\\; \\pi=0.5$$\n",
    "\n",
    "#### Alternativhypothese:\n",
    "$$H_A:\\;\\pi\\neq0.5$$\n",
    "\n",
    "####  Irrtumswahrscheinlichkeit\n",
    "- Zweiseitiger Ablehnungsbereich \n",
    "- (würde die Irrtumswahrscheinlichkeit verdoppeln)\n",
    "\n",
    "#### ... Ablehnungsbereich anpassen\n",
    "- gleiche Irrtumswahrscheinlichkeit\n",
    "- (jede der beiden Seiten des einseitigen Ablehnungsbereichs verkleinert sich dadurch)"
   ]
  },
  {
   "cell_type": "markdown",
   "metadata": {
    "slideshow": {
     "slide_type": "subslide"
    }
   },
   "source": [
    "### Beidseitige kumulierte Wahrscheinlichkeit:\n",
    "<br>\n",
    "$$p(n_M \\leq 0 ) +  p(n_M \\geq 10) = 0,002 \\qquad \\Rightarrow H_0 \\;\\text{ verwerfen}\\qquad$$\n",
    "$$p(n_M \\leq 1 ) +  p(n_M \\geq \\;9) = 0,021 \\qquad \\Rightarrow H_0 \\;\\text{ verwerfen}\\qquad$$\n",
    "$$p(n_M \\leq 2 ) +  p(n_M \\geq \\,8) = 0,110 \\qquad \\Rightarrow H_0 \\;\\text{nicht verwerfen}$$\n",
    "zur Irrtumswahrscheinlichkeit $\\alpha = 10\\%$"
   ]
  },
  {
   "cell_type": "code",
   "execution_count": 6,
   "metadata": {
    "slideshow": {
     "slide_type": "skip"
    }
   },
   "outputs": [
    {
     "data": {
      "image/png": "[encoded data removed]",
      "text/plain": [
       "<Figure size 576x360 with 1 Axes>"
      ]
     },
     "metadata": {
      "needs_background": "light"
     },
     "output_type": "display_data"
    }
   ],
   "source": [
    "# ms and cdf from above\n",
    "f = plt.figure(figsize=(8, 5))\n",
    "plt.plot(ngirls, cdf, 'bo', label='binomial B(10, 0.5)')\n",
    "plt.step(ngirls, cdf, 'b-', where='post', alpha=.3)\n",
    "plt.hlines([0.0, 1.0], -1, 11, colors='k', linestyles='--')\n",
    "plt.title('distribution of births')\n",
    "plt.ylabel('cumulative probability')\n",
    "plt.xlabel('x=number of girls')\n",
    "plt.plot( [0.,  5.], 2*[0.1],  'y--', label='10%')        # yellow line for 10%\n",
    "plt.plot( [5., 10.], 2*[0.9],  'c--', label='100%-10%')   # green line for 90%\n",
    "plt.plot( [0., 10.], 2*[0.05], 'r--', label='5% & 95%')   # black line for  5% \\\n",
    "plt.plot( [5., 10.], 2*[0.95], 'r--')                     # black line for 95% / sums to 10% outside\n",
    "plt.legend(loc='center left', frameon=False);"
   ]
  },
  {
   "cell_type": "markdown",
   "metadata": {
    "slideshow": {
     "slide_type": "slide"
    }
   },
   "source": [
    "## Test für die Binomialverteilung\n",
    "\n",
    "    scipy.stats.binom_test?\n",
    "\n",
    "#### Parameter\n",
    "\n",
    "    alternative : {'two-sided', 'greater', 'less'}, optional\n",
    "        Indicates the alternative hypothesis. The default value is 'two-sided'.\n",
    "\n",
    "\n",
    "#### Rückgabe:\n",
    "kumulierte Wahrscheinlichkeit **p-Wert**, der von der Stichprobe erreicht wurde."
   ]
  },
  {
   "cell_type": "markdown",
   "metadata": {
    "slideshow": {
     "slide_type": "subslide"
    }
   },
   "source": [
    "## p-Wert eines Tests\n",
    "\n",
    "erlaubt bequeme Bestimmung des p-Wertes ohne \"Umweg\" über Ablehnungsbereich.\n",
    "\n",
    "Entscheidung kann sofort (je nach vorher festgelegter Irrtumswahrscheinlichkeit $\\alpha$) gefällt werden.\n",
    "\n",
    "### Vergleich:\n",
    "$$p\\text{-Wert} \\geq \\alpha \\Rightarrow  \\quad \\text{vereinbar mit Nullhypothese}$$\n",
    "$$p\\text{-Wert} < \\alpha \\Rightarrow  \\quad \\text{Nullhypothese verwerfen}\\quad\\;$$"
   ]
  },
  {
   "cell_type": "code",
   "execution_count": 7,
   "metadata": {
    "slideshow": {
     "slide_type": "subslide"
    }
   },
   "outputs": [
    {
     "name": "stdout",
     "output_type": "stream",
     "text": [
      "m= 0  p= 0.002\n",
      "m= 1  p= 0.021\n",
      "m= 2  p= 0.109\n",
      "m= 3  p= 0.344\n",
      "m= 4  p= 0.754\n",
      "m= 5  p= 1.000\n",
      "m= 6  p= 0.754\n",
      "m= 7  p= 0.344\n",
      "m= 8  p= 0.109\n",
      "m= 9  p= 0.021\n",
      "m=10  p= 0.002\n"
     ]
    }
   ],
   "source": [
    "'''does the number m of girls deviate from 0-hypothesis 50%?'''\n",
    "N = 10                                  # number of births in one day\n",
    "pi = 0.5                                # 0-hypothesis 50%\n",
    "for m in range(N+1):                    # try all possible numbers of girls\n",
    "    p = stats.binom_test(m, N, 0.5)     # p-value if binomial(N, .5) distrib.\n",
    "    print('m={:2d}  p={:6.3f}'.format(m, p))"
   ]
  },
  {
   "cell_type": "markdown",
   "metadata": {
    "slideshow": {
     "slide_type": "subslide"
    }
   },
   "source": [
    "## p-Wert - Interpretation\n",
    "#### Voraussetzung\n",
    "Geburten für Jungen und Mädchen sind i.i.d. Zufallsvariablen mit Binomial-Verteilung.\n",
    "#### Nullhypothese\n",
    "Jungen und Mädchengeburten sind gleich häufig $\\;H_o:\\;\\pi = 0.5$\n",
    "####  Alternativhypothese\n",
    "Jungen und Mädchen unterschiedlich häufig: $\\;H_1:\\;\\pi \\neq 0.5$\n",
    "#### Test\n",
    "Zweiseitiger Test auf $\\alpha$-Niveau"
   ]
  },
  {
   "cell_type": "markdown",
   "metadata": {
    "slideshow": {
     "slide_type": "subslide"
    }
   },
   "source": [
    "#### p-Wert\n",
    "Der $p$-Wert eines Tests ist die Wahrscheinlichkeit unter der Nullhypothese, den beobachteten Prüfgrößenwert oder einen in Richtung der Alternative extremeren Wert zu erhalten. \n",
    "\n",
    "- Der $p$-Wert eines Tests erlaubt bequemen Vergleich mit Signifikanzniveau/Irrtumswahrscheinlichkeit ohne 'Umweg' über den Ablehnungsbereich\n",
    "\t- Entscheidung kann sofort (je nach vorher festgelegter Irrtumswahrscheinlichkeit $\\alpha$) gefällt werden\n",
    "    - $p < \\alpha \\quad \\Rightarrow$ Nullhypothese verwerfen\n",
    "- Der $p$-Wert zeigt dasjenige Niveau an, **ab** dem die Nullhypothese mit $\\alpha'=p$ verworfen worden wäre;\n",
    "    - ansonsten ist dieser Wert <span style=\"color:red\">sinnfrei</span>; auf diesen Wert wäre man vorher, ohne das Ergebnis des Experiments zu kennen, nie gekommen\n",
    "- Der $p$-Wert kann jedoch für jedes Niveau verglichen werden: \n",
    "    - ein kritischer Kollege ist beim Test mit $\\alpha=10\\%$ vielleicht nicht überzeugt \n",
    "    - zeigt man ihm direkt $p<0.001$, dann überzeugt ihn das mit *seinem* kritischeren Niveau\n",
    "    - Nachrechnen des Verwerfungsbereichs auf einem anderen Niveau benötigt die Originaldaten"
   ]
  },
  {
   "cell_type": "markdown",
   "metadata": {
    "slideshow": {
     "slide_type": "slide"
    }
   },
   "source": [
    "# Vorgehensweise Test\n",
    "# Zusammenfassung und Verallgemeinerung"
   ]
  },
  {
   "cell_type": "markdown",
   "metadata": {
    "slideshow": {
     "slide_type": "fragment"
    }
   },
   "source": [
    "- **1) Formulieren des Problems**\n",
    "- **2) Modellannahme**\n",
    "    - Welcher Art sind die Daten\n",
    "    - Welche Verteilung wird erwartet\n",
    "- **3) Aufstellen der Nullhypothese und der Alternativhypothese**\n",
    "    - Ziel soll es sein, die Nullhypothese ablehnen zu können\n",
    "    - einseitiger Test\n",
    "    - zweiseitiger Test\n",
    "- **4) Festlegen des Signifikanzniveaus**\n",
    "    - zulässige Irrtumswahrscheinlichkeit $\\alpha$\n",
    "- **5) Teststatistik / Prüfgröße aussuchen**\n",
    "    - verdichtet Information aus der Stichprobe\n",
    "    - Verteilung unter H$_A$ sollte sich deutlich von der unter H$_0$ unterscheiden"
   ]
  },
  {
   "cell_type": "markdown",
   "metadata": {
    "slideshow": {
     "slide_type": "subslide"
    }
   },
   "source": [
    "## ...\n",
    " \n",
    "- **6) Verteilungsfunktion $F$ bestimmen**\n",
    "    - theoretisch bestimmbar\n",
    "    - asymptotisch bestimmbar\n",
    "    - Simulation\n",
    "- **7) Verwerfungsbereich**\n",
    "    - Statistik: Verteilung der Prüfgröße\n",
    "    - Hypothese: Richtung einseitig/zweiseitig\n",
    "    - Signifikanzniveau: Irrtumswahrscheinlichkeit $\\alpha$\n",
    "- **$\\;$a) Verwerfungsbereich bestimmen**\n",
    "    - Wert für $t$ der Teststatistik $T$ aus Daten bestimmen\n",
    "    - Tabelle oder berechnen $\\qquad\\qquad\\qquad\\qquad\\qquad\\qquad$ oder\n",
    "- **$\\;$b) $p$-Wert bestimmen**\n",
    "    - Tabelle oder berechnen\n",
    "- **8) Entscheidung fällen**\n",
    "    - $t$ im Verwerfungsbereich: Verwerfen der Nullhypothese\n",
    "    - $p$ außerhalb $\\alpha$: Verwerfen der Nullhypothese\n",
    "    - sonst: $H_0$ nicht verwerfbar"
   ]
  },
  {
   "cell_type": "markdown",
   "metadata": {
    "slideshow": {
     "slide_type": "subslide"
    }
   },
   "source": [
    "----"
   ]
  },
  {
   "cell_type": "markdown",
   "metadata": {
    "slideshow": {
     "slide_type": "skip"
    }
   },
   "source": [
    "## Erweiterung des Beispiels: aktuelle Daten\n",
    "\n",
    "\n",
    "Quelle: http://www.statistik.baden-wuerttemberg.de/BevoelkGebiet/GeburtSterben/01065011.tab?R=GS416041"
   ]
  },
  {
   "cell_type": "markdown",
   "metadata": {
    "slideshow": {
     "slide_type": "subslide"
    }
   },
   "source": [
    "#### Festlegen der Irrtumswahrscheinlichkeit \n",
    "$$\\alpha=0.05$$\n",
    "\n",
    "#### Bestimmung des Verwerfungsbereichs\n",
    "\n",
    "Hilfreich ist von `scipy.stats` zu jeder Verteilung (zB. `binom`) die `ppf()`-Funktion *Perzentile*\n",
    "\n",
    "    stats.binom.ppf?\n",
    "    Percent point function (inverse of `cdf`) at q of the given RV.    "
   ]
  },
  {
   "cell_type": "code",
   "execution_count": 8,
   "metadata": {
    "slideshow": {
     "slide_type": "subslide"
    }
   },
   "outputs": [
    {
     "name": "stdout",
     "output_type": "stream",
     "text": [
      "median 444.00 has (point) probability 0.02677\n",
      "one side lower rejection region < 419  has probability 0.04347\n",
      "one side upper rejection region > 469  has probability 0.04347\n",
      "two sided rejection regions (<415, >473) have probability 0.04765\n",
      "binom_test(451, 888, 0.5) gives p=0.66268 for 451 girls\n"
     ]
    }
   ],
   "source": [
    "'''test for observed births in Tübingen 2017'''\n",
    "N = 888                                    # number of births in Tübingen 2017\n",
    "pi0 = 0.5                                  # null-hypothesis: probability of female\n",
    "alpha = 0.05                               # set level of significance to 5%\n",
    "bino2017 = stats.binom(N, pi0)             # freeze paramters for re-using...\n",
    "x05 =  bino2017.ppf(alpha).astype(int)     # don't reject above  5% one-sided\n",
    "x95 =  bino2017.ppf(1-alpha).astype(int)   # don't reject below 95% one-sided\n",
    "x025 = bino2017.ppf(alpha/2).astype(int)   # don't reject above   2,5% \\ two-sided\n",
    "x975 = bino2017.ppf(1-alpha/2).astype(int) #          and below  97,5% /\n",
    "med =  bino2017.ppf(0.5).astype(int)       # definition of median and it's (point-) probb.\n",
    "print( 'median {:.2f} has (point) probability {:.5f}'.format(med, bino2017.pmf(med)))\n",
    "print( 'one side lower rejection region < {}  has probability {:.5f}'\n",
    "      .format(x05, bino2017.cdf(x05-1)))   # cumulative lower tail below x10\n",
    "print( 'one side upper rejection region > {}  has probability {:.5f}'\n",
    "      .format(x95, 1.-bino2017.cdf(x95)))  # cumulative upper tail above x90\n",
    "print( 'two sided rejection regions (<{}, >{}) have probability {:.5f}'\n",
    "      .format(x025, x975, bino2017.cdf(x025-1) + (1.-bino2017.cdf(x975))))\n",
    "ngirls = 451                               # number of girls observed            \n",
    "print( 'binom_test({3}, {0}, {1}) gives p={2:.5f} for {3} girls'\n",
    "      .format(N, pi0, stats.binom_test(ngirls, N, pi0), ngirls))"
   ]
  },
  {
   "cell_type": "markdown",
   "metadata": {
    "slideshow": {
     "slide_type": "fragment"
    }
   },
   "source": [
    "#### [ÜA] Index?\n",
    "Erklären Sie warum der \"Index\" des *lower tail*s decrementiert werden muß, der des *upper tail*s hingegen nicht."
   ]
  },
  {
   "cell_type": "code",
   "execution_count": 10,
   "metadata": {
    "slideshow": {
     "slide_type": "skip"
    }
   },
   "outputs": [
    {
     "data": {
      "image/png": "[encoded data removed]",
      "text/plain": [
       "<Figure size 720x360 with 1 Axes>"
      ]
     },
     "metadata": {
      "needs_background": "light"
     },
     "output_type": "display_data"
    }
   ],
   "source": [
    "'''diagram of same distribution as before'''\n",
    "ng = np.linspace(0, N, N+1)                          # all possible values for #girls\n",
    "cg = bino2017.cdf(ng)                                # cdf each thereof\n",
    "plt.figure(figsize=(10, 5))\n",
    "plt.title('cumulative distribution for number of girls under null hypothesis')\n",
    "descr = 'B(N={:d}, p={:.1f})'.format(N, pi0)         # description for graph incl. numbers\n",
    "plt.step(ng, cg, 'b-', where='post', label=descr)    # show steps to clarify cdf and ppf\n",
    "xlimit = (bino2017.ppf(0.0001), bino2017.ppf(0.9999))# show only relevant part\n",
    "plt.xlim(xlimit)                                     # from above (1-promille)\n",
    "plt.plot( [0, x05],    2*[0.05],  'y--', label='lower side 5%')   # xXX from above\n",
    "plt.plot( [x95, 100],  2*[0.95],  'c--', label='upper side 5%')\n",
    "plt.plot( [0, x025],   2*[0.025], 'r--', label='both sides 5%')\n",
    "plt.plot( [x975, 100], 2*[0.975], 'r--')\n",
    "plt.plot( 2*[x05],  [0., 0.05], 'y-')            # x to rejection regions\n",
    "plt.plot( 2*[x95],  [0., 0.95], 'c-')            # aXX from above\n",
    "plt.plot( 2*[x025], [0., 0.025], 'r-')\n",
    "plt.plot( 2*[x975], [0., 0.975], 'r-')\n",
    "plt.xlabel('number of girls in N=100 births')\n",
    "plt.ylabel('cumulated probability')\n",
    "plt.hlines([0.0, 1.0], xlimit[0], xlimit[1], colors='k', linestyles='--')\n",
    "plt.legend(loc='center left');"
   ]
  },
  {
   "cell_type": "code",
   "execution_count": 11,
   "metadata": {
    "slideshow": {
     "slide_type": "skip"
    }
   },
   "outputs": [
    {
     "data": {
      "image/png": "[encoded data removed]",
      "text/plain": [
       "<Figure size 720x360 with 1 Axes>"
      ]
     },
     "metadata": {
      "needs_background": "light"
     },
     "output_type": "display_data"
    }
   ],
   "source": [
    "'''number of girls - cumulated probability in tails'''\n",
    "# aXX, bino2017 from above\n",
    "x = np.arange(0, N+1)                   # all possible values of number of births\n",
    "pmf = bino2017.pmf(x)                   # probabilty mass function of null hypothesis\n",
    "plt.figure(figsize=(10, 5))\n",
    "plt.title('probability mass function for number of girls')\n",
    "plt.xlim(xlimit)                        # same frame as before\n",
    "plt.plot((med, med), (0, bino2017.pmf(med)), 'k:', label='median={}'.format(med)) \n",
    "plt.plot(x, pmf, 'bo', label=descr)     # pmf, label as before\n",
    "plt.plot(x, pmf, 'b-', alpha=.3)        # same but connected\n",
    "# fill area of rejection regions\n",
    "xx = np.zeros(2*len(x))\n",
    "xx[0::2] = x-.5               # frontal border of rectangle\n",
    "xx[1::2] = x+.5               # postal border of rectangle\n",
    "px = np.zeros_like(xx)        # pmf \n",
    "px[0::2] = pmf                # within rectangle\n",
    "px[1::2] = pmf                # \n",
    "plt.hlines([0.0], xlimit[0], xlimit[1], colors='k', linestyles='--')\n",
    "# upper bound is included => +1 for first rejected above \n",
    "# lower bound is included => since slicing is exlusive, it subtracts automatically\n",
    "plt.fill_between(xx[:2*x05],    0, px[:2*x05],    color='y', alpha=0.5) # alpha<5% \n",
    "plt.fill_between(xx[2*x95+2:],  0, px[2*x95+2:],  color='c', alpha=0.5) # alpha>95%\n",
    "plt.fill_between(xx[:2*x025],   0, px[:2*x025],   color='k', alpha=0.5) # alpha<2.5%\n",
    "plt.fill_between(xx[2*x975+2:], 0, px[2*x975+2:], color='k', alpha=0.5) # and  >97.5%\n",
    "\n",
    "plt.annotate('alpha = 5%', xy=(x[x05-2]-.5, .5*pmf[x05-2]), xytext=(x[x05]+5, 0.002+pmf[x025-2]),\n",
    "             arrowprops=dict(facecolor='black', shrink=0.02, width=1) )\n",
    "plt.xlabel('x = number of girls in N=100 births')\n",
    "plt.ylabel('probability')\n",
    "plt.legend(loc='upper left');"
   ]
  },
  {
   "cell_type": "code",
   "execution_count": 12,
   "metadata": {
    "slideshow": {
     "slide_type": "skip"
    }
   },
   "outputs": [
    {
     "name": "stdout",
     "output_type": "stream",
     "text": [
      "for 437 girls in 888 births (49.21%) p(less)=0.33134 under 0-hypothesis \"equal\"\n"
     ]
    },
    {
     "data": {
      "image/png": "[encoded data removed]",
      "text/plain": [
       "<Figure size 864x360 with 2 Axes>"
      ]
     },
     "metadata": {
      "needs_background": "light"
     },
     "output_type": "display_data"
    }
   ],
   "source": [
    "# N = 59510                               # number of births in Germany Dezember 2017\n",
    "# g = 28886                               # girls among them\n",
    "N = 888                                   # number of births in Tübingen 2017\n",
    "g = N - 451                               # girls among them\n",
    "pi0 = 0.5                                 # H0: equal distribution \n",
    "alpha = 0.05                              # significance level 5%\n",
    "binom2017 = stats.binom(N, pi0)           # define the Binomial distribution N, pi0\n",
    "f = plt.figure(figsize=(12,5))            # \n",
    "\n",
    "f.add_subplot(1, 2, 1)                    # -- left plot --\n",
    "x1, x2 = binom2017.ppf([0.001, 0.999])    # sart and end of \n",
    "ms = np.arange(x1, x2, 1)                 # ROI number girls\n",
    "cdf = binom2017.cdf(ms)                   # cumulative distribution function\n",
    "plt.plot(ms, cdf,'b-', label='cdf')       # complete cdf graph \n",
    "plt.title('number of girls in Tü (2017)...')\n",
    "plt.xlim(x1, x2)\n",
    "plt.hlines([0.0, 1.0], x1, x2, colors='k', linestyles='--')\n",
    "ylevel = .4  # 0.09\n",
    "x3, x4 = binom2017.ppf([.01, ylevel])     # start and end of ROI, shaded here:\n",
    "plt.fill_between([x3, x4], 0, [ylevel, ylevel], color='k', alpha=0.1)\n",
    "plt.plot([x3, x4], 2*[alpha], 'r--', label='alpha=0.05')\n",
    "plt.plot(2*[g], [0, p], 'k--', label='number observed')\n",
    "plt.legend(loc='upper left', frameon=False)\n",
    "\n",
    "f.add_subplot(1, 2, 2)                    # -- right plot --\n",
    "ms = np.arange(x3, x4, 1)                 # ROI number girls\n",
    "cdf = binom2017.cdf(ms)                   # cumulative distribution function\n",
    "plt.plot(ms, cdf,'b-', label='cdf', drawstyle='steps-pre')       # ROI of cdf\n",
    "plt.xlim(x3, x4)\n",
    "plt.hlines([0.0], x3, x4, colors='k', linestyles='--')\n",
    "plt.ylim(0.0, ylevel)\n",
    "plt.title('... binomially distributed with N={}'.format(N))\n",
    "p = stats.binom_test(g, N, 0.5) / 2.      # 1-sided p-value for observed g girls\n",
    "print('for {} girls in {} births ({:.2f}%) p(less)={:.5f} under 0-hypothesis \"equal\"'\n",
    "      .format(g, N, g*100./N, p))\n",
    "plt.plot([x3, x4], 2*[alpha], 'r--', label='alpha=0.05')\n",
    "plt.plot([x3, x4], 2*[p], 'y--', label='p-value for number observed')\n",
    "plt.plot(2*[g], [0, .9*ylevel], 'k--', label='number observed')\n",
    "rr = binom2017.ppf(0.05).astype(int)      # border of the the reject region (1-sided)\n",
    "ri = np.rint(rr - x3).astype(int)         # index within ms on x-axis\n",
    "plt.fill_between(ms[:ri], 0, cdf[:ri], color='r', alpha=0.3)\n",
    "plt.legend(loc='upper left', frameon=False);"
   ]
  },
  {
   "cell_type": "markdown",
   "metadata": {
    "slideshow": {
     "slide_type": "slide"
    }
   },
   "source": [
    "## Zusammenfassung Binomial-Test\n",
    "\n",
    "Gemessene relative Häufigkeit $\\hat\\pi$ bzw. absolute Anzahl $n_x = n\\cdot\\hat\\pi$ mit Binomialverteilung $\\mathcal{B}(n, \\pi_0)$ vereinbar?\n",
    "\n",
    "#### Nullhypothese und Alternativhypothese(n)\n",
    "$$H_0: \\pi = \\pi_0\\;\\leftrightarrow\\;H_1:\\pi\\neq\\pi_0$$\n",
    "$$H_0: \\pi = \\pi_0\\;\\leftrightarrow\\;H_2:\\pi<\\pi_0$$\n",
    "$$H_0: \\pi = \\pi_0\\;\\leftrightarrow\\;H_3:\\pi>\\pi_0$$\n",
    "\n",
    "#### Irrtumswahrscheinlichkeit\n",
    "festlegen, z.B. $\\alpha=5\\%$"
   ]
  },
  {
   "cell_type": "markdown",
   "metadata": {
    "slideshow": {
     "slide_type": "subslide"
    }
   },
   "source": [
    "#### Verwerfungsbereich \n",
    "`n_alpha = scipy.stats.binom(n, pi).ppf(alpha)`\n",
    "\n",
    "#### Entscheidung\n",
    "Verwerfe die Nullhypothese, wenn für $n_x=n\\cdot\\hat\\pi$ gilt\n",
    "\n",
    "1. $\\quad n_x < n_{\\alpha/2}\\;$ -oder- $\\;n_x > n_{1-\\alpha/2}$\n",
    "2. $\\quad n_x < n_{\\alpha}$\n",
    "3. $\\quad n_x > n_{1-\\alpha}$"
   ]
  },
  {
   "cell_type": "markdown",
   "metadata": {
    "slideshow": {
     "slide_type": "subslide"
    }
   },
   "source": [
    "#### p-Wert\n",
    "\n",
    "    p_val = scipy.stats.binom_test(x, n, pi)                        # two sided test\n",
    "    p_val = scipy.stats.binom_test(x, n, pi, alternative='two-sided')\n",
    "    p_val = 0.5*scipy.stats.binom_test(x, n, pi)                    # one sided symmetrical test\n",
    "    p_val = scipy.stats.binom_test(x, n, pi, alternative='less')    # one sided test below\n",
    "    p_val = scipy.stats.binom(n, pi).cdf(x)                         # one sided test below\n",
    "    p_val = scipy.stats.binom_test(x, n, pi, alternative='greater') # one sided test above\n",
    "    p_val = 1-scipy.stats.binom(n, pi).cdf(x-1)                     # one sided test above\n",
    "    \n",
    "#### Parameter\n",
    "\n",
    "    alternative : {'two-sided', 'greater', 'less'}  (optional)\n",
    "        Indicates the alternative hypothesis. The default value is 'two-sided'.\n",
    "\n",
    "#### Entscheidung\n",
    "Verwerfe die Nullhypothese, wenn\n",
    "$$p_{val} < \\alpha$$"
   ]
  },
  {
   "cell_type": "markdown",
   "metadata": {
    "slideshow": {
     "slide_type": "subslide"
    }
   },
   "source": [
    "# Fragen?\n",
    "\n",
    "---- "
   ]
  },
  {
   "cell_type": "markdown",
   "metadata": {
    "slideshow": {
     "slide_type": "slide"
    }
   },
   "source": [
    "# Versuchsplanung"
   ]
  },
  {
   "cell_type": "code",
   "execution_count": 13,
   "metadata": {
    "slideshow": {
     "slide_type": "fragment"
    }
   },
   "outputs": [
    {
     "name": "stdout",
     "output_type": "stream",
     "text": [
      "m=    4 of      8  p=0.5000\n",
      "m=    8 of     16  p=0.5000\n",
      "m=   16 of     32  p=0.5000\n",
      "m=   31 of     64  p=0.4503\n",
      "m=   62 of    128  p=0.3955\n",
      "m=  124 of    256  p=0.3309\n",
      "m=  248 of    512  p=0.2537\n",
      "m=  497 of   1024  p=0.1824\n",
      "m=  993 of   2048  p=0.0888\n",
      "m= 1987 of   4096  p=0.0293\n",
      "m= 3973 of   8192  p=0.0034\n",
      "m= 7946 of  16384  p=0.0001\n"
     ]
    }
   ],
   "source": [
    "'''does the empirical finding p=51.5% boys deviate from 0-hypothesis 50%?\n",
    "   check for a different number of total births observed'''\n",
    "s = np.arange(3, 15)                                         # use s as exponent, start with n=8\n",
    "Ns = 2**s                                                    # 2^s\n",
    "pi0 = 0.5                                                    # 0-hypothesis\n",
    "emp = 1. - 0.515                                             # empirical ratio of girl-births \n",
    "for n in Ns:                                                 # how many births\n",
    "    m = int(np.round(emp*n))                                 # ratio -> number of girls\n",
    "    p = stats.binom_test(m, n, 0.5)                          # p-value for m out of n girls\n",
    "    print('m={:5d} of {:6d}  p={:6.4f}'.format(m, n, p/2.))  # one-sided test"
   ]
  },
  {
   "cell_type": "markdown",
   "metadata": {
    "slideshow": {
     "slide_type": "subslide"
    }
   },
   "source": [
    "### Versuchsplanung\n",
    "Wenn wir n=4096 Geburten beobachten<br>\n",
    "und dabei m=1987 Mädchen zählen (wie es den empirischen Daten entspricht)<br>\n",
    "dann erhalten wir ein sog. *signifikantes* Ergebnis ($\\alpha<5\\%$):\n",
    "\n",
    "Die Nullhypothese muß verworfen werden. \n",
    "\n",
    "#### Um die Nullhypothese verwerfen zu können müssen wir also mindestens 4000 Geburten abwarten.\n",
    "- Vorversuch oder Theorie zur ungefähren Erwartung des Effekts\n",
    "- Modellverteilung und \n",
    "- Teststatistik \n",
    "- Bestimmung der Stichprobengröße\n",
    "\n",
    "#### Falsch\n",
    "- ... wäre es, so lange Stichproben zu erheben, bis p \"signifikant\" ist!"
   ]
  },
  {
   "cell_type": "markdown",
   "metadata": {
    "slideshow": {
     "slide_type": "slide"
    }
   },
   "source": [
    "\n",
    "# Approximativer Binomialtest\n",
    "\n",
    "Für große $n>30$ nähert sich die Binomialverteilung der Normalverteilung an.\n",
    "$$\\mathcal{B}(n,\\;\\pi) \\approx \\mathcal{N}(n\\pi,\\; n\\pi(1\\!-\\!\\pi))$$\n",
    "\n",
    "womit sich für die standardisierte Summe ergibt:\n",
    "$$Z = \\frac{X-n\\pi}{\\sqrt{n\\pi(1\\!-\\!\\pi)}} \\sim \\mathcal{N}(0, 1)$$\n",
    "\n",
    "Damit kann für $\\quad n\\cdot\\pi(1\\!-\\!\\pi) > 9\\quad$ mit der $\\Phi$-Tabelle genähert werden.\n",
    "\n",
    "Daraus Ablehnungsbereich (für vorgegebene Irrtumswahrscheinlichkeit $\\alpha$) ablesen, auf X zurückrechnen.\n",
    "\n",
    "### Historisch\n",
    "Tabellen für Binomialverteilung für verschiedene $\\pi$ nur bis zu $n = 30$.<br>\n",
    "Tabellen der Standardnormalverteilung lagen vor."
   ]
  },
  {
   "cell_type": "code",
   "execution_count": 15,
   "metadata": {
    "slideshow": {
     "slide_type": "subslide"
    }
   },
   "outputs": [
    {
     "name": "stdout",
     "output_type": "stream",
     "text": [
      "nx=437 : norm.cdf(-0.470) = 0.31925\n",
      "nx=438 : norm.cdf(-0.403) = 0.34359\n",
      "nx=439 : norm.cdf(-0.336) = 0.36859\n",
      "nx=440 : norm.cdf(-0.268) = 0.39417\n",
      "nx=441 : norm.cdf(-0.201) = 0.42021\n",
      "nx=442 : norm.cdf(-0.134) = 0.44661\n"
     ]
    }
   ],
   "source": [
    "'''approximated one-sided Normal-Test - matches (almost)'''\n",
    "# N=888  pi0=0.50  g=437   from above\n",
    "g1, g2 = stats.binom(N, pi).ppf((.02, .06)).astype(int) # check 2.5% and 5% thresholds\n",
    "for x in range(g1, g2):                           # test Tü-result 2017 and above until alpha\n",
    "    zx = (x - N*pi0)/(np.sqrt(N*pi0*(1-pi0)))     # standardized girls rvs\n",
    "    pval = stats.norm.cdf(zx)                     # cumulate probability \"less girls\"\n",
    "    print('nx={} : norm.cdf({:.3f}) = {:.5f}'.format(x, zx, pval))"
   ]
  },
  {
   "cell_type": "markdown",
   "metadata": {
    "slideshow": {
     "slide_type": "subslide"
    }
   },
   "source": [
    "----"
   ]
  },
  {
   "cell_type": "markdown",
   "metadata": {
    "slideshow": {
     "slide_type": "slide"
    }
   },
   "source": [
    "#  Normalverteilung\n",
    "- für stetige Merkmale, die normalverteilt sind\n",
    "- für stetige Merkmale beliebiger Verteilung mit großem Stichprobenumfang \n",
    "    - Daumenregel $n > 30$\n",
    "- wenn Streuung / Varianz bekannt"
   ]
  },
  {
   "cell_type": "markdown",
   "metadata": {
    "slideshow": {
     "slide_type": "slide"
    }
   },
   "source": [
    "# Gauß-Test\n",
    "\n",
    "#### Beispiel\n",
    "Zur Herstellung unterschiedlicher Schrauben kann die Länge an der Maschine eingestellt werden.\n",
    "\n",
    "#### Frage:\n",
    "Haben die Schrauben die richtige (Soll-)Länge oder muß die Maschine nachgestellt werden?\n",
    "\n",
    "#### Modell:\n",
    "Normalverteilung (viele kleine Ursachen für Abweichung) mit bekannter Varianz (Maschinentoleranz, Erfahrung)\n",
    "- Erwartungswert $\\mu_0$\n",
    "- Varianz $\\sigma^2$ \n",
    "\n",
    "#### Nullhypothese:\n",
    "Maschine ist richtig eingestellt, die Länge entspricht der Soll-Länge $\\mu = \\mu_0$."
   ]
  },
  {
   "cell_type": "markdown",
   "metadata": {
    "slideshow": {
     "slide_type": "subslide"
    }
   },
   "source": [
    "#### Prüfgröße: \n",
    "Stichprobenmittel $\\overline{x}$\n",
    "\n",
    "#### Test mit Ablehnungsbereich\n",
    "1. zweiseitig: $\\;\\;\\lvert \\overline{x}-\\mu_0\\rvert > c_a$\n",
    "2. nach oben: $\\;\\;\\overline{x}-\\mu_0 > c_b$\n",
    "3. nach unten: $\\;\\mu_0 - \\overline{x} > c_c$\n",
    "\n",
    "Wie groß sind die Ablehnungsbereiche $c_i$ unter einem vorgegebenen Signifikanzniveau $\\alpha$ z.B. $\\alpha=0,01$?"
   ]
  },
  {
   "cell_type": "markdown",
   "metadata": {
    "slideshow": {
     "slide_type": "subslide"
    }
   },
   "source": [
    "### Wenn\n",
    "#### Nullhypothese: Schraubenlängen\n",
    "$$X \\sim \\mathcal{N}(\\mu_0, \\sigma^2)$$\n",
    "\n",
    "### dann erwarten wir\n",
    "für die Teststatistik: mittlere Schraubenlänge\n",
    "$$\\overline{X} = \\frac{1}{n}\\sum_{i=1}^n X_i$$\n",
    "\n",
    "eine Varianz von $\\frac{\\sigma^2}{n}$\n",
    "\n",
    "### damit der standardisierte Mittelwert\n",
    "$$Z = \\frac{\\overline{X}-\\mu_0}{\\sigma}\\sqrt{n} \\sim \\mathcal{N}(0, 1)$$\n"
   ]
  },
  {
   "cell_type": "code",
   "execution_count": 16,
   "metadata": {
    "slideshow": {
     "slide_type": "subslide"
    }
   },
   "outputs": [
    {
     "name": "stdout",
     "output_type": "stream",
     "text": [
      "1. length l=23.5mm has p-value of p=0.00135\n"
     ]
    }
   ],
   "source": [
    "'''example: test a sample screw out of production'''\n",
    "mu0 = 25.0              # specified mean length of production\n",
    "sigma = 0.5             # fixed standard deviation of machine\n",
    "l1 = 23.5               # measurement of a single control screw\n",
    "z1 = (l1 - mu0)/sigma   # standardized\n",
    "# one sided lower l1 < mu\n",
    "print('1. length l={:.1f}mm has p-value of p={:.5f}'\n",
    "      .format(l1, stats.norm.cdf(z1)))"
   ]
  },
  {
   "cell_type": "code",
   "execution_count": 17,
   "metadata": {
    "slideshow": {
     "slide_type": "subslide"
    }
   },
   "outputs": [
    {
     "name": "stdout",
     "output_type": "stream",
     "text": [
      "9 lengths lmean=24.69mm have p-value of p=0.03097\n",
      "[as a control std(measured)=0.401]\n"
     ]
    }
   ],
   "source": [
    "'''example: test a sample with nine screws out of production'''\n",
    "mu0 = 25.0              # specified mean length of production\n",
    "sigma = 0.5             # fixed standard deviation of machine\n",
    "# 9 controls\n",
    "l = np.array([24.1, 24.5, 24.8, 25.2, 24.8, 24.7, 24.2, 24.6, 25.3]) \n",
    "zn = (l.mean() - mu0)/sigma*np.sqrt(len(l))     # standardized \n",
    "# one sided test for lower: ln < mu\n",
    "print('{} lengths lmean={:.2f}mm have p-value of p={:.5f}'\n",
    "      .format(len(l), l.mean(), stats.norm.cdf(zn)))\n",
    "print('[as a control std(measured)={:.3f}]'.format(l.std(ddof=1)))"
   ]
  },
  {
   "cell_type": "markdown",
   "metadata": {
    "slideshow": {
     "slide_type": "slide"
    }
   },
   "source": [
    "## Zusammenfassung Gauss-Test\n",
    "\n",
    "Normalverteilte Zufallsvariable X mit bekannter Streuung $\\sigma$\n",
    "$$X\\sim\\mathcal{N}(\\mu_0, \\sigma^2)$$\n",
    "\n",
    "Stichprobe mit $n$ Werten hat Mittelwert\n",
    "$$\\frac{1}{n}\\sum_{i=1}^n X_i = \\overline{X}\\sim\\mathcal{N}(\\mu, \\frac{\\sigma^2}{n})$$\n",
    "\n",
    "#### Nullhypothese und Alternativhypothese\n",
    "$$H_0: \\mu = \\mu_0\\;\\leftrightarrow\\;H_1:\\mu\\neq\\mu_0$$\n",
    "$$H_0: \\mu = \\mu_0\\;\\leftrightarrow\\;H_2:\\mu<\\mu_0$$\n",
    "$$H_0: \\mu = \\mu_0\\;\\leftrightarrow\\;H_3:\\mu>\\mu_0$$"
   ]
  },
  {
   "cell_type": "markdown",
   "metadata": {
    "slideshow": {
     "slide_type": "subslide"
    }
   },
   "source": [
    "#### Testgröße\n",
    "Der standardisierte Mittelwert\n",
    "\n",
    "<div class=\"alert alert-block alert-success\">\n",
    "$$Z=\\frac{\\overline{X}-\\mu_0}{\\sigma}\\sqrt{n}$$\n",
    "</div>\n",
    "\n",
    "#### Verwerfungsbereich \n",
    "Verwerfe die Nullhypothese, wenn für den standardisierte Mittelwert \n",
    "\n",
    "1. $\\quad |z| > z_{1-\\alpha/2}$\n",
    "2. $\\quad z < z_{\\alpha}$\n",
    "3. $\\quad z > z_{1-\\alpha}$"
   ]
  },
  {
   "cell_type": "markdown",
   "metadata": {
    "slideshow": {
     "slide_type": "slide"
    }
   },
   "source": [
    "# Zusammenfassung Test\n",
    "- Modell\n",
    "- Nullhypothese\n",
    "- Alternativhypothese\n",
    "- Ablehungsbereich\n",
    "- kumulierte Wahrscheinlichkeit: p-Wert\n",
    "- Entscheidung"
   ]
  },
  {
   "cell_type": "markdown",
   "metadata": {
    "slideshow": {
     "slide_type": "subslide"
    }
   },
   "source": [
    "## Tests\n",
    "#### Binomialtest\n",
    "- Binomial veteilte Daten\n",
    "- `scipy.stats.binom_test()`\n",
    "\n",
    "#### Gauß-Test\n",
    "- normalverteilte Daten bekannter Varianz\n",
    "- standardisierter Mittelwert `x`\n",
    "- `scipy.stats.norm.cdf(x)`\n",
    "\n",
    "#### Ausblick\n",
    "- Ausblick: *t-Test*"
   ]
  },
  {
   "cell_type": "markdown",
   "metadata": {
    "slideshow": {
     "slide_type": "subslide"
    }
   },
   "source": [
    "----"
   ]
  },
  {
   "cell_type": "markdown",
   "metadata": {
    "slideshow": {
     "slide_type": "slide"
    }
   },
   "source": [
    "# Anmerkungen zu Tests"
   ]
  },
  {
   "cell_type": "markdown",
   "metadata": {
    "slideshow": {
     "slide_type": "slide"
    }
   },
   "source": [
    "# Alternativ-Hypothese\n",
    "Eine *Reihe* von Modellen (Parametern) wird zu den Messergebnissen *besser* passen.\n",
    "\n",
    "Beste: **Schätzer**!"
   ]
  },
  {
   "cell_type": "markdown",
   "metadata": {
    "slideshow": {
     "slide_type": "slide"
    }
   },
   "source": [
    "# [Vorsicht] *Beibehalten der Null-Hypothese*\n",
    "Das *Nicht-Verwerfen* der Nullhypothese bedeutet **nicht**, daß die Nullhypothese die beste Hypothese ist!\n",
    "\n",
    "#### \"*Beibehalten* der Nullhypothese\" ist falsch!\n",
    "\n",
    "(Natürlich wäre bei 8 Jungen die Alternativhypothese $\\pi=0.2$ besser)\n",
    "\n",
    "#### Hypothese und Alternativhypothese stellt man *vor* der Messung auf."
   ]
  },
  {
   "cell_type": "markdown",
   "metadata": {
    "slideshow": {
     "slide_type": "subslide"
    }
   },
   "source": [
    "### Beispiel: Absolute Mehrheit\n",
    "#### 1) testen auf *keine absolute Mehrheit*\n",
    "- Erfolg wäre: $H_0$ zu **verwerfen**\n",
    "- Ergebnis: **hat** absolute Mehrheit\n",
    "    \n",
    "#### 2) testen auf *absolute Mehrheit*\n",
    "- Misserfolg: nicht verwerfen\n",
    "- Ergebnis? \n",
    "    - Nichts!\n",
    "    - Es könnte trotzdem *nicht* absolut reichen, das haben sie nicht getestet!\n",
    "\n",
    "#### Unterschied:\n",
    "- obere oder untere Schranke!"
   ]
  },
  {
   "cell_type": "code",
   "execution_count": 19,
   "metadata": {
    "slideshow": {
     "slide_type": "subslide"
    }
   },
   "outputs": [
    {
     "name": "stdout",
     "output_type": "stream",
     "text": [
      "A=651 does exceed         upper rejection (5.0%) region 646; p=0.025\n",
      "A=651 does not fall below lower rejection (5.0%) region 588; p=0.975\n"
     ]
    }
   ],
   "source": [
    "'''Survey before election day: party A vs. B\n",
    "   Does A reach majority?'''\n",
    "N = 1234\n",
    "A = 651\n",
    "alpha = .05\n",
    "distrib = stats.binom(N, 0.5)\n",
    "# one sided upper rejection region: A has NO majority \n",
    "n_upper = distrib.ppf(1-alpha)\n",
    "print('A={} does exceed         upper rejection ({}%) region {:.0f}; p={:.3f}'.\n",
    "      format(A, 100*alpha, n_upper, 1 - distrib.cdf(A)))\n",
    "# one sided lower rejection region: A has majority \n",
    "n_lower = distrib.ppf(alpha)\n",
    "print('A={} does not fall below lower rejection ({}%) region {:.0f}; p={:.3f}'.\n",
    "      format(A, 100*alpha, n_lower, distrib.cdf(A)))"
   ]
  },
  {
   "cell_type": "markdown",
   "metadata": {
    "slideshow": {
     "slide_type": "slide"
    }
   },
   "source": [
    " \n",
    "# Verwerfen der Nullhypothese  \n",
    "Der Test hat ergeben, daß mit Irrtumswahrscheinlichkeit $\\alpha$ die Nullhypothese verworfen wird.\n",
    "\n",
    "## Signifikanz-Klassen\n",
    "\n",
    "    P >  0,05   nicht signifikant   n.s.\n",
    "    P >  0,01   signifikant         *\n",
    "    P >  0,001  stark signifikant   **\n",
    "    P <= 0,001  höchstsignifikant   ***"
   ]
  },
  {
   "cell_type": "markdown",
   "metadata": {
    "slideshow": {
     "slide_type": "slide"
    }
   },
   "source": [
    "# Vorsicht mit der *Irrtums* wahrscheinlichkeit\n",
    "\n",
    "Bei einem 5% Signifikanzniveau muß man nur 20x messen, um .... "
   ]
  },
  {
   "cell_type": "code",
   "execution_count": 20,
   "metadata": {
    "slideshow": {
     "slide_type": "fragment"
    }
   },
   "outputs": [
    {
     "name": "stdout",
     "output_type": "stream",
     "text": [
      " 1. Binomial(109, 365) p=0.01414\n",
      " 2. Binomial(150, 365) p=0.04374\n",
      " 3. Binomial(107, 365) p=0.00751\n",
      " 4. Binomial(154, 365) p=0.01631\n",
      " 5. Binomial(153, 365) p=0.02187\n",
      " 6. Binomial(155, 365) p=0.01202\n",
      " 7. Binomial(107, 365) p=0.00751\n",
      " 8. Binomial(152, 365) p=0.02544\n",
      " 9. Binomial(150, 365) p=0.04374\n",
      "10. Binomial(151, 365) p=0.03354\n",
      "11. Binomial(153, 365) p=0.02187\n",
      "12. Binomial(106, 365) p=0.00538\n",
      "13. Binomial(152, 365) p=0.02544\n",
      "14. Binomial(111, 365) p=0.02903\n",
      "15. Binomial(156, 365) p=0.00877\n",
      "16. Binomial(151, 365) p=0.03354\n",
      "17. Binomial(113, 365) p=0.04949\n",
      "18. Binomial(107, 365) p=0.00751\n"
     ]
    }
   ],
   "source": [
    "'''create 365 samples from same H0-distribution and compare them'''\n",
    "np.random.seed(9876543)\n",
    "N = 365                                     # number of experiments\n",
    "pi = 0.36                                   # some arbitrary probability\n",
    "mi = stats.binom(N, pi).rvs(size=N)         # draw the samples from Binomial(N, pi)\n",
    "j = 0\n",
    "for m in mi:                                # test every sample\n",
    "    p = stats.binom_test(m, N, pi)          #    against H0, the original true distribution\n",
    "    if p < 0.05:                            # and report, if test fails (H0 screwed)\n",
    "        j += 1\n",
    "        print('{:2d}. Binomial({}, {}) p={:.5f}'.format(j, m, N, p))"
   ]
  },
  {
   "cell_type": "markdown",
   "metadata": {
    "slideshow": {
     "slide_type": "slide"
    }
   },
   "source": [
    "# Fehler\n",
    "\n",
    "Mit der Irrtumswahrscheinlichkeit kommen auch Irrtümer vor.\n",
    "\n",
    "### Effekt\n",
    "Test ergibt \"*verwerfen der Nullhypothese*\".\n",
    "\n",
    "## 1) Tatsächlich\n",
    "Ein Effekt wurde beobachtet.\n",
    "\n",
    "Folglich muß eine alternative Hypothese stimmen.\n",
    "\n",
    "-*oder*-"
   ]
  },
  {
   "cell_type": "markdown",
   "metadata": {
    "slideshow": {
     "slide_type": "subslide"
    }
   },
   "source": [
    "## 2) Nullhypothese zufällig verletzt\n",
    "### Fehler 1. Art, $\\alpha$-Fehler\n",
    "Mit der Irrtumswahrscheinlichkeit $\\alpha$ wird die Nullhypothese verletzt obwohl sie eigentlich stimmt.\n",
    "\n",
    "$\\Rightarrow\\;$ Eintreten dieses Falles ist unvermeidbar."
   ]
  },
  {
   "cell_type": "markdown",
   "metadata": {
    "slideshow": {
     "slide_type": "subslide"
    }
   },
   "source": [
    "## 3) Nullhypothese *nicht verwerfen*, obwohl Alternativhypothese richtig wäre\n",
    "### Fehler 2. Art, $\\beta$-Fehler\n",
    "Die Nullhypothese wurde aufgrund des Tests nicht verworfen.\n",
    "\n",
    "$\\alpha$ und $\\beta$ beeinflussen sich gegenseitig:\n",
    "- verkleinert man die Irrtumswahrscheinlichkeit für $H_0$, vergrößert man unausweichlich den Fehler 2. Art.\n",
    "\n",
    "Deshalb sucht man immer einen Kompromiß.\n",
    "\n",
    "Gut wäre ein Test, der große *Trennschärfe* hat, der also zwischen $H_0$ und $H_A$ möglichst gut unterscheiden kann. \n",
    "- Dies nennt man Güte des Tests.\n",
    "- (englisch:) *power*"
   ]
  },
  {
   "cell_type": "markdown",
   "metadata": {
    "slideshow": {
     "slide_type": "subslide"
    }
   },
   "source": [
    "## 4) Störende Alternative\n",
    "\n",
    "Mögliche Ursachen:\n",
    "- systematischer Fehler in den Meßdaten\n",
    "- Messungen nicht unabhängig\n",
    "- Voraussetzungen für Test nicht erfüllt:\n",
    "    - Meßdaten nicht normalverteilt (beim Gauß-Test)\n",
    "    - Meßdaten nicht symmetrisch verteilt (beim Vorzeichen-Rangsummen-Test)\n",
    "    - Meßdaten nicht gleichverteilt (beim Vorzeichen-Test)\n",
    "\n",
    "Ein Eintreten dieser Fälle ist *nicht zufällig*. Es läßt sich vermeiden. Darauf muß explizit geachtet werden."
   ]
  },
  {
   "cell_type": "markdown",
   "metadata": {
    "slideshow": {
     "slide_type": "slide"
    }
   },
   "source": [
    "# Kumulierter $\\alpha$-Fehler \n",
    "\n",
    "#### Mehrere Tests\n",
    "Beispiel: ist ein Roulette-Spiel fair?\n",
    "- $N=(36+2) \\times$ Binomial-Tests auf $\\pi_0=\\frac{1}{38}$\n",
    "\n",
    "#### Problem:\n",
    "Irrtumswahrscheinlichkeit hat $N$-fach höhere Chance\n",
    "\n",
    "#### Lösung:\n",
    "- Bonferroni Korrektur\n",
    "$$\\alpha_i = \\frac{1}{N}\\alpha$$\n",
    "- Anderer Test<br>\n",
    "    $\\qquad$ (später ...)\n",
    "    \n",
    "#### Anwendung:\n",
    "- Bildauswertung, zB. fMRT"
   ]
  },
  {
   "cell_type": "markdown",
   "metadata": {
    "slideshow": {
     "slide_type": "slide"
    }
   },
   "source": [
    "# Störparameter\n",
    "Beispiel: Bei zwei Zufallsvariablen mit Verteilungen $X_1 \\sim \\mathcal{N}(\\mu, \\sigma^2)$ und $X_2 \\sim \\mathcal{N}(\\mu+\\delta, \\sigma^2)$ interessiert lediglich der Abstand, der Parameter $\\delta$.\n",
    "\n",
    "#### Schätzer für $\\delta$ \n",
    "- gepaarte Stichproben, daraus  $\\hat\\delta = \\overline{X_1 - X_2}$\n",
    "- $\\mu$ und $\\sigma$ sind \"*Störparameter*\". \n",
    "    - Spielen für die Fragestellung direkt keine Rolle\n",
    "    - bestimmen jedoch das Modell\n",
    "    - und damit den Test\n",
    "\n",
    "Der Test läßt sich für $\\delta$ wie zuvor ausführen...\n"
   ]
  },
  {
   "cell_type": "markdown",
   "metadata": {
    "slideshow": {
     "slide_type": "slide"
    }
   },
   "source": [
    "# Sinn und Unsinn von Tests\n",
    "\n",
    "- Signifikanzniveau dient als **Filter gegen Spekulation**\n",
    "- Signifikanz beantwortet **nicht** die Frage nach der **Relevanz**\n",
    "    - Was ist die **wichtige** Fragestellung?\n",
    "    - Wie groß sollte der Effekt sein: $\\delta$\n",
    "    - Mit zu kleinem $n$ ist Signifikanz schwer festzustellen\n",
    "    - Mit zu großem  $n$ ist alles irgendwann signifikant\n",
    "    - $n$ vor dem Versuch abschätzen und einhalten"
   ]
  },
  {
   "cell_type": "code",
   "execution_count": 21,
   "metadata": {
    "slideshow": {
     "slide_type": "fragment"
    }
   },
   "outputs": [
    {
     "data": {
      "image/png": "[encoded data removed]",
      "text/plain": [
       "<matplotlib.figure.Figure at 0x7f857d3316d8>"
      ]
     },
     "metadata": {},
     "output_type": "display_data"
    }
   ],
   "source": [
    "'''show relevance (delta) vs. significance (bars)'''"
   ]
  },
  {
   "cell_type": "markdown",
   "metadata": {
    "slideshow": {
     "slide_type": "slide"
    }
   },
   "source": [
    "# Hinweise zur Qualität\n",
    "Je weniger Voraussetzungen nötig sind, desto eher läßt sich ein Test anwenden.\n",
    "- Rangsummentest statt t-Test\n",
    "- Vorzeichentest statt Rangsummentest\n",
    "\n",
    "Aber. Je einfacher der Test, desto weniger trennscharf sind die Ergebnisse.\n",
    "\n",
    "## Fehler 2. Art:\n",
    "Wie wahrscheinlich ist ein beibehalten der Nullhypothese, obwohl die Alternative zutrifft?\n",
    "\n",
    "Diese Wahrscheinlichkeit nimmt mit abnehmender Trennschärfe des Tests zu!\n",
    "\n",
    "1. Wenn Verteilung symmetrisch, dann Rangsummentest.\n",
    "2. Sonst Vorzeichentest"
   ]
  },
  {
   "cell_type": "markdown",
   "metadata": {
    "slideshow": {
     "slide_type": "slide"
    }
   },
   "source": [
    "# Ausblick\n",
    "\n",
    "#### Varianz unbekannt\n",
    "Bei unbekannter Streuung muß die Varianz zusätzlich (zum Gauß-Test) geschätzt werden.\n",
    "[t-Test](T-Test.ipynb)\n",
    "#### Verteilung\n",
    "Von Interesse ist nicht nur ein Kennwert, sondern die *Verteilung*: \n",
    "[$\\chi^2$-Test](Chisquare.ipynb)"
   ]
  },
  {
   "cell_type": "markdown",
   "metadata": {
    "slideshow": {
     "slide_type": "subslide"
    }
   },
   "source": [
    "## Alternativen\n",
    "#### *nicht-parametrische* Tests\n",
    "Gauß- und t-Test setzen eine Normalverteilung voraus.\n",
    "- Oft in der Realität erfüllt\n",
    "\n",
    "Bei unbekannter Verteilung bleiben *Charakteristika* wie **Median** und **Quantile**.\n",
    "Dazu nicht-parametrische Tests wie z.B.\n",
    "- Vorzeichen-Test\n",
    "- Wilcoxon-Vorzeichen-Rangsummen-Test\n",
    "\n",
    "Literatur: *Fahrmeier et.al.*"
   ]
  },
  {
   "cell_type": "markdown",
   "metadata": {
    "slideshow": {
     "slide_type": "slide"
    }
   },
   "source": [
    "# Zusammenfassende Übersicht\n",
    "## Test\n",
    "- greift Grenze des Verwerfungsbereichs zum Signifikanzniveau $\\alpha$ an\n",
    "- kann eine Nullhypothese falsifizieren - **Das ist das Ziel!**\n",
    "- bietet eine standardisierte, akzeptierte Entscheidungsregel\n",
    "- geht Irrtumswahrscheinlichkeit $\\alpha$ ein\n",
    "\n",
    "## Test kann *nicht*\n",
    "- die Nullhypothese verifizieren\n",
    "\n",
    "## Problematik\n",
    "- Irrtumswahrscheinlichkeit\n",
    "- Missbrauch p-Wert\n",
    "- Versuch *vorher* planen"
   ]
  },
  {
   "cell_type": "markdown",
   "metadata": {
    "slideshow": {
     "slide_type": "slide"
    }
   },
   "source": [
    "## Fragen?"
   ]
  }
 ],
 "metadata": {
  "celltoolbar": "Slideshow",
  "kernelspec": {
   "display_name": "Python 3",
   "language": "python",
   "name": "python3"
  },
  "language_info": {
   "codemirror_mode": {
    "name": "ipython",
    "version": 3
   },
   "file_extension": ".py",
   "mimetype": "text/x-python",
   "name": "python",
   "nbconvert_exporter": "python",
   "pygments_lexer": "ipython3",
   "version": "3.5.2"
  }
 },
 "nbformat": 4,
 "nbformat_minor": 1
}
