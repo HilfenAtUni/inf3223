{
 "cells": [
  {
   "cell_type": "code",
   "execution_count": 1,
   "metadata": {
    "slideshow": {
     "slide_type": "skip"
    }
   },
   "outputs": [],
   "source": [
    "import numpy as np                       # mathematical methods\n",
    "from scipy import stats                  # statistical methods\n",
    "from matplotlib import pyplot as plt     # plotting methods\n",
    "from scipy import stats                  # statistic methods\n",
    "%matplotlib inline"
   ]
  },
  {
   "cell_type": "markdown",
   "metadata": {
    "slideshow": {
     "slide_type": "slide"
    }
   },
   "source": [
    "### Beschreibende Statistik\n",
    "### Wahrscheinlichkeitstheorie\n",
    "- Zufallsvariable und Wahrscheinlichkeitsverteilungen\n",
    "- i.i.d\n",
    "- Sätze der Statistik\n",
    "\n",
    "### <span style=\"color:blue\">Schließende Statistik</span>\n",
    "#### <span style=\"color:blue\">Punktschätzungen</span>\n",
    "- Stochastik: Statistik und Wahrscheinlichkeitstheorie\n",
    "- Punktschätzer\n",
    "    - Arithmetisches Mittel\n",
    "    - Stichproben-Varianz\n",
    "- Max-Likelihood-Prinzip\n",
    "- Robuste Schätzung\n",
    "\n",
    "#### Intervallschätzungen"
   ]
  },
  {
   "cell_type": "markdown",
   "metadata": {
    "slideshow": {
     "slide_type": "slide"
    }
   },
   "source": [
    "### Beschreibende Statistik\n",
    "\n",
    "Charakteristische Kennzahlen von Daten\n",
    "\n",
    "- Mittelwert, Median\n",
    "- Varianz, Standardabweichung, Quantile ...\n",
    "- Form"
   ]
  },
  {
   "cell_type": "markdown",
   "metadata": {
    "slideshow": {
     "slide_type": "fragment"
    }
   },
   "source": [
    "### Wahrscheinlichkeitstheorie\n",
    "\n",
    "Charakteristische Kennzahlen einer Wahrscheinlichkeits(dichte)-Verteilung\n",
    "- Erwartungswert\n",
    "- Varianz, Standardabweichung, Quantile...\n",
    "- Form der Verteilung\n",
    "    - Parameter $\\lambda, \\mu, \\sigma$"
   ]
  },
  {
   "cell_type": "markdown",
   "metadata": {
    "slideshow": {
     "slide_type": "subslide"
    }
   },
   "source": [
    "## Fragestellung:\n",
    "\n",
    "### Grundgesamtheit, wenn nur Stichprobe? \n",
    "### Parameter einer Verteilung, wenn nur Stichprobe? "
   ]
  },
  {
   "cell_type": "markdown",
   "metadata": {
    "slideshow": {
     "slide_type": "fragment"
    }
   },
   "source": [
    "## Wahrscheinlichkeitstheorie\n",
    "\n",
    "Zufallsvariable $X$\n",
    "\n",
    "Charakteristische Parameter von Modellverteilungsfunktionen $\\mu$, $\\sigma$, $N$, $\\pi$, $\\lambda$...\n",
    "\n",
    "Daraus berechenbar:\n",
    "\n",
    "- Erwartungswert $\\mathcal{E}(X)$, Median, ...\n",
    "- Varianz $Var(X)$, Standardabweichung, ...\n",
    "- Wahrscheinlichkeiten für Bereiche ...\n",
    "- ..."
   ]
  },
  {
   "cell_type": "markdown",
   "metadata": {
    "slideshow": {
     "slide_type": "subslide"
    }
   },
   "source": [
    "## Wiederholung\n",
    "#### Satz von Bernoulli\n",
    "\n",
    "$$h_j \\rightarrow p(X=x_j)$$ \n",
    "\n",
    "#### Hauptsatz der Statistik\n",
    "$$F_n(x) \\rightarrow F(x)$$\n",
    "\n",
    "#### Gesetz der großen Zahlen\n",
    "$$\\overline{X}_n \\rightarrow \\mu$$\n",
    "\n",
    "#### Zentraler Grenzwertsatz\n",
    "$$F_n(z)\\rightarrow\\Phi(z)$$\n",
    "\n",
    "$n \\rightarrow \\infty$ ! *Frequentistische Statistik*"
   ]
  },
  {
   "cell_type": "markdown",
   "metadata": {
    "slideshow": {
     "slide_type": "slide"
    }
   },
   "source": [
    "# Schließende Statistik\n",
    "\n",
    "#### \"*ars conjectandi*\"\n",
    "\n",
    "Kombiniert empirische Daten mit Wahrscheinlichkeitstheorie\n",
    "\n",
    "### Stichprobe $\\Rightarrow$ Schlussfolgerung auf Grundgesamtheit"
   ]
  },
  {
   "cell_type": "markdown",
   "metadata": {
    "slideshow": {
     "slide_type": "slide"
    }
   },
   "source": [
    "# Fragen der Schließenden Statistik\n",
    "\n",
    "- Welche Verteilung hat die Grundgesamtheit?\n",
    "    - $\\Rightarrow$ Theorie, Ockhams Rasiermesser, Vergleich\n",
    "\n",
    "- Welcher Parameterwert paßt am besten zu den Beobachtungen?\n",
    "    - $\\Rightarrow$ Schätzungen\n",
    "\n",
    "- Sind die Beobachtungen mit einem angenommenen Parameter vereinbar?\n",
    "    - $\\Rightarrow$ Testen einer Nullhypothese\n",
    "\n",
    "- Welche Parameterwerte sind mit den Beobachtungen vereinbar?\n",
    "    - $\\Rightarrow$ Vertrauensintervall\n",
    "\n",
    "- Wie kamen die Beobachtungen zustande?\n",
    "    - $\\Rightarrow$ Versuchsplanung  "
   ]
  },
  {
   "cell_type": "markdown",
   "metadata": {
    "slideshow": {
     "slide_type": "slide"
    }
   },
   "source": [
    "# Beispiel: \n",
    "## Grenzwertüberschreitung bei Asbestfasern\n",
    "\n",
    "- Grenzwert liegt bei $1000$ $\\text{Fasern/m}^3$. \n",
    "- Teure Messung $3\\times$ durchführen mit jeweils $5l$ Raumluft\n",
    "- Ergebnis: $x = (6, 4, 9)$ \n",
    "    - entspräche $(1200, 800, 1800)$ $\\text{Fasern/m}^3$. "
   ]
  },
  {
   "cell_type": "markdown",
   "metadata": {
    "slideshow": {
     "slide_type": "subslide"
    }
   },
   "source": [
    "## Welche Verteilung hat die Grundgesamtheit?\n",
    "### Modell\n",
    "\n",
    "Poisson-Verteilung $\\mathcal{P}(\\lambda)$ für $x\\in\\{0, 1, 2 ,\\dots\\}$\n",
    "\n",
    "$$P(X=x) = \\frac{\\lambda^x}{x!}e^{-\\lambda}$$\n",
    "\n",
    "- Erwartungswert $\\mathcal{E}(X) = \\lambda$ \n",
    "- Varianz $\\mathrm{Var}(X) = \\lambda$"
   ]
  },
  {
   "cell_type": "markdown",
   "metadata": {
    "slideshow": {
     "slide_type": "subslide"
    }
   },
   "source": [
    "#### Grenzwert\n",
    "\n",
    "In $5l = \\frac{1}{200}\\;\\text{m}^3$ erwarten wir $\\frac{1000}{200} = 5$ Fasern.\n",
    "\n",
    "Die zum gerade noch erlaubten Grenzwert passende Verteilung der $5l$-Proben wäre daher \n",
    "$$\\mathcal{P}(\\lambda\\!=\\!5): \\quad P(x) = \\frac{5^x}{x!}e^{-5}$$\n",
    "mit in einem Kubikmeter erwarteten \n",
    "$$\\mathcal{E}\\bigl(\\sum_{i=1}^{200}x_i\\bigr) = 200\\cdot\\lambda = 200\\cdot 5 = 1000$$\n",
    "Fasern"
   ]
  },
  {
   "cell_type": "markdown",
   "metadata": {
    "slideshow": {
     "slide_type": "slide"
    }
   },
   "source": [
    "## Welcher Parameterwert paßt am besten zu den Beobachtungen?"
   ]
  },
  {
   "cell_type": "markdown",
   "metadata": {
    "slideshow": {
     "slide_type": "fragment"
    }
   },
   "source": [
    "#### Die Stichprobe\n",
    "\n",
    "$(6, 4, 9)$ würde zu\n",
    "$$\\lambda = \\mathcal{E}(X)\\; \\stackrel{n\\rightarrow\\infty}{\\Leftarrow}\\; \\overline{x} = \\frac{1}{3}\\sum_{i=1}^3 x_i = \\frac{6+4+9}{3} = 6.33$$\n",
    "am besten passen\n",
    "\n",
    "$\\Rightarrow$ Grenzwert überschritten. Sanierung $!\\qquad ?$"
   ]
  },
  {
   "cell_type": "markdown",
   "metadata": {
    "slideshow": {
     "slide_type": "subslide"
    }
   },
   "source": [
    "### Ergebnis: *überschritten* \n",
    "### Ok?\n",
    "\n",
    "Ist es möglich, die gleichen Stichprobenwerte auch mit dem (gerade noch unbedenklichen) $\\lambda = 5$ zu erhalten?\n",
    "\n",
    "Wie genau ist das \"wahre\" $\\lambda$ durch diese drei Messungen festgelegt?"
   ]
  },
  {
   "cell_type": "code",
   "execution_count": 3,
   "metadata": {
    "slideshow": {
     "slide_type": "fragment"
    }
   },
   "outputs": [
    {
     "name": "stdout",
     "output_type": "stream",
     "text": [
      "expected fibres in 5l; within one standard deviation: 3.817 .. 8.850\n"
     ]
    }
   ],
   "source": [
    "'''measured sample of asbestos fibres'''\n",
    "xsample = [6, 4, 9]                     # (random) sample\n",
    "xmean = np.asarray(xsample).mean()      # measured mean thereof\n",
    "print('expected fibres in 5l; within one standard deviation: {:.3f} .. {:.3f}'\n",
    "      .format(xmean-np.sqrt(xmean), xmean+np.sqrt(xmean)))"
   ]
  },
  {
   "cell_type": "markdown",
   "metadata": {
    "slideshow": {
     "slide_type": "subslide"
    }
   },
   "source": [
    "----"
   ]
  },
  {
   "cell_type": "markdown",
   "metadata": {
    "slideshow": {
     "slide_type": "slide"
    }
   },
   "source": [
    "# Statistik - Modell Zufallsvariable\n",
    "\n",
    "Aus der Grundgesamtheit werden $n$ Werte gemessen.\n",
    "\n",
    "- Stichprobe besteht aus Zufallsvariablen $\\{X_1,\\dots, X_n\\}$\n",
    "    - endlicher Erwartungswert, endliche Varianz\n",
    "- *unabhängige* Messungen\n",
    "- aus ein und derselben Grundgesamtheit, *identische Wiederholung*\n",
    "- Stochastisches Modell"
   ]
  },
  {
   "cell_type": "markdown",
   "metadata": {
    "slideshow": {
     "slide_type": "slide"
    }
   },
   "source": [
    "## Schätzungen sind Zufallsvariable\n",
    "\n",
    "#### Punktschätzer \n",
    "(Intervallschätzer, siehe später) \n",
    "\n",
    "#### für Kennzahlen \n",
    "- Erwartungswert \n",
    "- Varianz \n",
    "- Korrelation\n",
    "- $\\dots$\n",
    "\n",
    "#### oder für Parameter\n",
    "- $\\lambda$ einer Poissonverteilung\n",
    "- $\\mu$ und $\\sigma^2$ einer Normalverteilung\n",
    "- $\\pi$ bei Binomialverteilung\n",
    "- $\\dots$"
   ]
  },
  {
   "cell_type": "markdown",
   "metadata": {
    "slideshow": {
     "slide_type": "slide"
    }
   },
   "source": [
    "## Bekannte Punktschätzer\n",
    "\n",
    "<div class=\"alert alert-block alert-success\">\n",
    "$\\overline{X} = \\frac{1}{n}\\sum_{i=1}^n X_i\\quad$  für den Erwartungswert $\\mu$, $\\quad\\mathcal{E}(X)=\\mu$ von $\\mathcal{N}(\\mu,\\sigma^2)$\n",
    "</div>\n",
    "<div class=\"alert alert-block alert-success\">\n",
    "$\\overline{X} = \\frac{1}{n}\\sum_{i=1}^n X_i\\quad$  für die Eintrittswahrscheinlichkeit $\\pi$, $\\quad\\mathcal{E}(X)=\\pi$ eines Bernoulli-Experiments $\\mathcal{B}(\\pi)$\n",
    "</div>\n",
    "<div class=\"alert alert-block alert-success\">\n",
    "$S^2 = \\frac{1}{n-1}\\sum_{i=1}^n (X_i-\\overline{X})^2\\quad$ für die Stichprobenvarianz $\\mathrm{Var}(X) = \\sigma^2$\n",
    "</div>\n",
    "<div class=\"alert alert-block alert-success\">\n",
    "$\\tilde{S^2} = \\frac{1}{n}\\sum_{i=1}^n (X_i-\\overline{X})^2\\quad\\;\\;\\;$ für die empirische Varianz $\\mathrm{Var}(X) = \\sigma^2$\n",
    "</div>"
   ]
  },
  {
   "cell_type": "markdown",
   "metadata": {
    "slideshow": {
     "slide_type": "subslide"
    }
   },
   "source": [
    "## Allgemeine Schätzfunktion\n",
    "Schätzfunktion $T_\\theta=g(X_1,\\dots,X_n)$ mit Schätzwert $t=g(x_1,\\dots,x_n)$ für den Parameter $\\theta$ der Grundgesamtheit.\n",
    "\n",
    "#### Realisierung\n",
    "Realisierung der Stichprobe $\\{x_1,\\dots,x_n\\}$ bestimmt den Wert des Schätzers.\n",
    "\n",
    "#### Schätzstatistik\n",
    "Wissen um die Verteilung der Zufallsvariable *Schätzer*."
   ]
  },
  {
   "cell_type": "markdown",
   "metadata": {
    "slideshow": {
     "slide_type": "slide"
    }
   },
   "source": [
    "## Eigenschaften von Schätzstatistiken"
   ]
  },
  {
   "cell_type": "markdown",
   "metadata": {
    "slideshow": {
     "slide_type": "slide"
    }
   },
   "source": [
    "### Erwartungstreue\n",
    "Erwartungswert der Schätzstatistik = Erwartungswert der Grundgesamtheit\n",
    "- weder über- noch unterschätzen\n",
    "- $\\mathcal{E}_\\theta(T) = \\theta$\n",
    "\n",
    "#### Restfehler *Bias*\n",
    "$Bias_\\theta(T) = \\mathcal{E}_\\theta(T) - \\theta$\n",
    "\n",
    "- idealerweise $Bias=0$\n",
    "- zumindest klein"
   ]
  },
  {
   "cell_type": "markdown",
   "metadata": {
    "slideshow": {
     "slide_type": "slide"
    }
   },
   "source": [
    "### Beispiel Stichprobenmittel\n",
    "Das *Stichprobenmittel* \n",
    "$$\\overline{X} = \\frac{1}{n}\\sum_{i=1}^n X_i$$\n",
    "ist erwartungstreu für den Erwartungswert $\\mathcal{E}(X) = \\mu$ der Grundgesamtheit. \n",
    "\n",
    "$\\hat\\mu$ ist ein erwartungstreuer Schätzer: \n",
    "$$\\hat\\mu = \\frac{1}{n}\\sum_{i=1}^n X_i$$"
   ]
  },
  {
   "cell_type": "markdown",
   "metadata": {
    "slideshow": {
     "slide_type": "fragment"
    }
   },
   "source": [
    "#### Beweis\n",
    "$\\mathcal{E}(\\hat\\mu) = \\mathcal{E}(\\frac{1}{n}\\sum_{i=1}^n X_i) = \\frac{1}{n}\\sum_{i=1}^n \\mathcal{E}(X) = \\mu$"
   ]
  },
  {
   "cell_type": "markdown",
   "metadata": {
    "slideshow": {
     "slide_type": "slide"
    }
   },
   "source": [
    "### Beispiel Stichprobenvarianz\n",
    "Die *Stichprobenvarianz* \n",
    "$$S^2 = \\frac{1}{n-1}\\sum_{i=1}^n (X_i-\\overline{X})^2\\quad$$\n",
    "ist erwartungstreu für die Varianz $\\mathrm{Var}(X) = \\sigma^2$ der Grundgesamtheit. \n",
    "\n",
    "$\\hat\\sigma^2$ ist ein erwartungstreuer Schätzer: \n",
    "$$\\hat\\sigma^2 = \\frac{1}{n-1}(\\sum_{i=1}^n X_i^2-n\\overline{X}^2)$$"
   ]
  },
  {
   "cell_type": "markdown",
   "metadata": {
    "slideshow": {
     "slide_type": "fragment"
    }
   },
   "source": [
    "#### Beweis\n",
    "Sei o.b.d.A $\\mathcal{E}(X)=0$, dann folgt mit $\\mathcal{E}(\\overline{X}^2) = \\mathrm{Var}(\\overline{X}) = \\frac{\\sigma^2}{n}$:\n",
    "$$\\mathcal{E}(\\hat\\sigma^2) \n",
    "= \\mathcal{E}\\Bigl(\\frac{1}{n-1}[\\sum_{i=1}^n X_i^2-n\\overline{X}^2]\\Bigr)$$\n",
    "$$= \\frac{1}{n-1}\\bigl(\\sum_{i=1}^n \\mathcal{E}(X_i^2)-n\\mathcal{E}(\\overline{X}^2)\\bigr)\n",
    "= \\frac{1}{n-1}(n\\sigma^2-n\\frac{1}{n}\\sigma^2)\n",
    "= \\sigma^2 = \\mathrm{Var}(X) = S^2$$\n",
    "\n",
    "#### Bemerkung:\n",
    "**Hier** liegt der tiefere Grund für den Faktor $\\frac{1}{N-1}$ der (empirischen) Stichproben-Varianz."
   ]
  },
  {
   "cell_type": "markdown",
   "metadata": {
    "slideshow": {
     "slide_type": "slide"
    }
   },
   "source": [
    "### Ergebnis: Eigenschaften Stichprobenvarianz\n",
    "- Die Stichproben-Varianz $S^2$ ist für alle Verteilungen ein erwartungstreuer Schätzer der Varianz $\\sigma^2$\n",
    "- Die Verteilung von $\\hat\\sigma^2$ hängt von der Verteilung von $X_i$ ab\n",
    "- (Wenn $X$ normalverteilt ist, dann hat $(n-1)\\hat\\sigma^2/\\sigma^2$ eine $\\chi^2$-Verteilung mit $m=n-1$ Freiheitsgraden)"
   ]
  },
  {
   "cell_type": "markdown",
   "metadata": {
    "slideshow": {
     "slide_type": "subslide"
    }
   },
   "source": [
    "### Gegenbeispiel Empirische Varianz\n",
    "Für die empirische Varianz $\\tilde{S^2}$ gilt\n",
    "$$\\mathcal{E}(\\tilde{S^2})=\\frac{n-1}{n}\\sigma^2$$\n",
    "\n",
    "- es bleibt eine systematische Messabweichung *Bias*\n",
    "$$\\mathrm{Bias}_{\\sigma^2}(\\tilde{S}^2) = \\mathcal{E}_{\\sigma^2}(\\tilde{S}^2)-\\sigma^2 = -\\frac{1}{n}\\sigma^2$$\n",
    "- womit die Varianz tendentiell unterschätzt wird\n",
    "- aber sie ist *asymptotisch erwartungstreu* für $n\\rightarrow\\infty$\n"
   ]
  },
  {
   "cell_type": "markdown",
   "metadata": {
    "slideshow": {
     "slide_type": "subslide"
    }
   },
   "source": [
    "----"
   ]
  },
  {
   "cell_type": "markdown",
   "metadata": {
    "slideshow": {
     "slide_type": "slide"
    }
   },
   "source": [
    "# Schätzfunktion\n",
    "#### Woher bekommen wir eine Schätzfunktion $T$ für einen Parameter $\\theta$ ?\n",
    "\n",
    "**Bisher:** Plausibel und nachgewiesen:\n",
    "\n",
    "- Arithmetischer Mittelwert für Erwartungswert $\\mathcal{E}(X)$\n",
    "- Stichprobenvarianz für $\\mathrm{Var}(X)$"
   ]
  },
  {
   "cell_type": "markdown",
   "metadata": {
    "slideshow": {
     "slide_type": "fragment"
    }
   },
   "source": [
    "Die Wahrscheinlichkeitsverteilung $F(x)$ bzw. Wahrscheinlichkeitsdichte $f(x)$ hänge von Parameter(n) $\\theta$ ab.\n",
    "\n",
    "#### Beispiel Bernoulli-Experiment:\n",
    "$$f(x|\\pi) = P(X\\!=\\!x|\\pi) = \\pi^x(1-\\pi)^{1-x}\\quad \\text{für}\\; x\\in\\{0,1\\}$$\n",
    "\n",
    "#### Beispiel Normalverteilung:\n",
    "$$f(x|\\mu, \\sigma) = \\frac{1}{\\sqrt{2\\pi}\\sigma} e^{-\\frac{(x-\\mu)^2}{2\\sigma^2}} \\quad \\text{für}\\; x\\in\\mathbb{R}$$"
   ]
  },
  {
   "cell_type": "markdown",
   "metadata": {
    "slideshow": {
     "slide_type": "subslide"
    }
   },
   "source": [
    "## entweder 1. Methode der kleinsten Quadrate\n",
    "Anfitten der parametrischen Verteilung an die Daten der Stichprobe durch Minimieren der Fehlerquadratsumme (*sum of squared residua*): $\\quad \\mathrm{SSR} = \\sum(x_i-\\mu)^2$\n",
    "$$\\underset{\\mu}{\\mathrm{argmin}} \\sum(x_i-\\mu)^2$$"
   ]
  },
  {
   "cell_type": "markdown",
   "metadata": {
    "slideshow": {
     "slide_type": "subslide"
    }
   },
   "source": [
    "## oder 2. Satz von Bayes\n",
    "- Gegeben: Modellverteilung $f(x)$\n",
    "- mit Parameter $\\theta$\n",
    "- Satz von Bayes\n",
    "$$f(\\theta|x) = \\frac{f(x|\\theta)f(\\theta)}{f(x)} $$\n",
    "- Gesuchter Parameter $\\theta$: $$\\qquad\\underset{\\theta}{\\mathrm{argmax}}\\bigl( f(\\theta|x) \\bigr)$$\n",
    "\n",
    "Siehe *Angewandte Statistik II*"
   ]
  },
  {
   "cell_type": "markdown",
   "metadata": {
    "slideshow": {
     "slide_type": "subslide"
    }
   },
   "source": [
    "## oder 3. Maximum-Likelihood-Prinzip\n",
    "Likelihood-Funktion\n",
    "<div class=\"alert alert-block alert-success\">\n",
    "$$L(\\theta) = f(x|\\theta)$$\n",
    "</div>"
   ]
  },
  {
   "cell_type": "markdown",
   "metadata": {
    "slideshow": {
     "slide_type": "fragment"
    }
   },
   "source": [
    "### Bekannte Verteilung, unbekannter Parameter, realisierte Stichprobe\n",
    "Ist der Wert der Stichprobe $x$ gegeben (das Zufallsexperiment $X$ also durchgeführt), dann ist\n",
    "$$L(\\theta) = f(x|\\theta)$$\n",
    "eine Funktion von $\\theta$"
   ]
  },
  {
   "cell_type": "markdown",
   "metadata": {
    "slideshow": {
     "slide_type": "slide"
    }
   },
   "source": [
    "# Maximum Likelihood Prinzip\n",
    "Der Schätzer $\\widehat\\theta$ zum realisierten Messwert $x$ ergibt sich aus der Maximierung der Likelihood-Funktion $L(\\theta)$:\n",
    "$$L(\\widehat\\theta) = \\mathrm{max}_{\\theta} L(\\theta)$$"
   ]
  },
  {
   "cell_type": "markdown",
   "metadata": {
    "slideshow": {
     "slide_type": "slide"
    }
   },
   "source": [
    "## Ein Beispiel: geometrische Verteilung:\n",
    "$P(X\\!=\\!x) = p_{\\pi}(x) = (1-\\pi)^{x-1}\\cdot \\pi^1$"
   ]
  },
  {
   "cell_type": "markdown",
   "metadata": {
    "slideshow": {
     "slide_type": "fragment"
    }
   },
   "source": [
    "#### Experiment:\n",
    "Messung $x=3$"
   ]
  },
  {
   "cell_type": "markdown",
   "metadata": {
    "slideshow": {
     "slide_type": "fragment"
    }
   },
   "source": [
    "#### Frage:\n",
    "Welche Verteilung $p_{\\pi}$ bzw. welcher Parameter $\\pi$ paßt am besten zur Messung?"
   ]
  },
  {
   "cell_type": "markdown",
   "metadata": {
    "slideshow": {
     "slide_type": "fragment"
    }
   },
   "source": [
    "#### Likelihood:\n",
    "Betrachte $p_{\\pi}(x)$ als Funktion von $\\pi$\n",
    "$$L(\\pi) = p_{\\pi}(x) = (1-\\pi)^{x-1}\\cdot \\pi$$"
   ]
  },
  {
   "cell_type": "markdown",
   "metadata": {
    "slideshow": {
     "slide_type": "subslide"
    }
   },
   "source": [
    "Likelihood: $\\qquad L(\\pi) = p_{\\pi}(x) = (1-\\pi)^{x-1}\\cdot \\pi$\n",
    "\n",
    "#### Maximieren\n",
    "Notwendige Bedingung: Ableitung\n",
    "$$\\frac{\\partial L(\\pi)}{\\partial\\pi} =\n",
    "-\\pi(x-1)(1-\\pi)^{x-2}+1\\cdot(1-\\pi)^{x-1} =\n",
    "(1-\\pi)^{x-2}[1- \\pi\\cdot x]$$\n",
    "\n",
    "Nullsetzen\n",
    "$$\\frac{\\partial L(\\pi)}{\\partial\\pi} =  (1-\\pi)^{x-2}[1- \\pi\\cdot x] = 0$$\n",
    "\n",
    "Auflösen nach $\\pi$ maximiert $L(\\pi)$ bzw. $p_{\\pi}(x)$ für $\\widehat{\\pi}$\n",
    "$$\\widehat{\\pi}=\\frac{1}{x} = \\frac{1}{3}$$\n",
    "\n",
    "Zweite Ableitung kleiner Null?\n",
    "\n",
    "Randwerte?"
   ]
  },
  {
   "cell_type": "markdown",
   "metadata": {
    "slideshow": {
     "slide_type": "subslide"
    }
   },
   "source": [
    "#### Ergebnis:\n",
    "Für das Beispiel, nach 3 Stunden den ersten Rechnerabsturz gesehen zu haben, erhält man als plausibelsten *Likelihood*-Parameter für die geometrische Verteilung den Wert $\\widehat\\pi=\\frac{1}{3}$\n",
    "\n",
    "Der Erwartungswert für $X\\sim\\mathcal{Geom}(\\frac{1}{3}) = \\dots$"
   ]
  },
  {
   "cell_type": "code",
   "execution_count": 4,
   "metadata": {
    "slideshow": {
     "slide_type": "fragment"
    }
   },
   "outputs": [
    {
     "name": "stdout",
     "output_type": "stream",
     "text": [
      "expectation value of geom(0.33333) is 3.00000\n"
     ]
    }
   ],
   "source": [
    "pi = 1./3\n",
    "print('expectation value of geom({:.5f}) is {:.5f}'.format(pi, stats.geom(pi).expect()))"
   ]
  },
  {
   "cell_type": "markdown",
   "metadata": {
    "slideshow": {
     "slide_type": "slide"
    }
   },
   "source": [
    "## Bisher: Stichprobe *ein* Wert\n",
    "## Jetzt: *mehrere*  i.i.d. Zufallsvariable\n",
    "\n",
    "Experiment $X$ wird $n$-mal durchgeführt: $x_1, x_2, \\dots x_n$\n",
    "\n",
    "Bei gegebenem $\\theta$ sind die $x_i$ gemäß $f(x)$ verteilt, die Verbund-Wahrscheinlichkeit diese n Werte zu erhalten beträgt also:\n",
    "$$f(x_1, x_2, \\dots x_n|\\theta) = f(x_1|\\theta)\\cdot f(x_2|\\theta)\\dotsb f(x_n|\\theta)$$"
   ]
  },
  {
   "cell_type": "markdown",
   "metadata": {
    "slideshow": {
     "slide_type": "fragment"
    }
   },
   "source": [
    "## Likelihood-Funktion\n",
    "### Bekannte Verteilung, unbekannter Parameter, realisierte Stichprobe\n",
    "Sind die Werte $x_i$ gegeben (das Experiment $X$ also $n$-mal *i.i.d.* durchgeführt), dann ist die Likelihood-Funktion\n",
    "$$L(\\theta) = f(x_1, x_2, \\dots x_n|\\theta) = \\prod_{i=1}^n f(x_i|\\theta)$$"
   ]
  },
  {
   "cell_type": "markdown",
   "metadata": {
    "slideshow": {
     "slide_type": "slide"
    }
   },
   "source": [
    "## Log-Likelihood-Funktion\n",
    "\n",
    "Mit Hilfe der streng monotonen Logarithmus-Funktion ergibt sich aus der Likelihood-Funktion die *Log-Likelihood-Funktion* $l=log(L)$\n",
    "$$l(\\theta) = \\text{log}\\;L(\\theta)= \\text{log}\\;\\prod_{i=1}^n f(x_i|\\theta) = \\sum_{i=1}^n \\text{log}\\;f(x_i|\\theta)$$\n",
    "die sich leichter optimieren läßt und trotzdem das selbe Maximum für $\\theta$ liefert."
   ]
  },
  {
   "cell_type": "markdown",
   "metadata": {
    "slideshow": {
     "slide_type": "subslide"
    }
   },
   "source": [
    "## Maximum-Log-Likelihood-Prinzip\n",
    "Die Zufallsvariable $X$ habe die Wahrscheinlichkeitsverteilung $f(x|\\theta)$ mit unbekanntem zu bestimmenden Parameter $\\theta$.\n",
    "\n",
    "Der Schätzer $\\widehat\\theta$ zu $n\\;$ *i.i.d.* Messwerten $x_i$ maximiert die Log-Likelihood-Funktion $l(\\theta) = \\sum_{i=1}^n \\text{log}\\;f(x_i|\\theta)$:\n",
    "\n",
    "$$l(\\widehat\\theta) = \\text{max}_{\\theta}\\; l(\\theta)$$"
   ]
  },
  {
   "cell_type": "markdown",
   "metadata": {
    "slideshow": {
     "slide_type": "fragment"
    }
   },
   "source": [
    "Ableitung vereinfacht sich mit \n",
    "$$\\Psi(x, \\theta) := \\frac{\\partial}{\\partial\\theta} \\log\\;f(x|\\theta)$$\n",
    "\n",
    "zu\n",
    "$$\\frac{\\partial l(x_i, \\theta)}{\\partial\\theta} =  \\sum_i \\Psi(x_i, \\theta)$$"
   ]
  },
  {
   "cell_type": "markdown",
   "metadata": {
    "slideshow": {
     "slide_type": "fragment"
    }
   },
   "source": [
    "**[ÜA]** Schätzer für $\\mu$ und $\\sigma$ der Normalverteilung"
   ]
  },
  {
   "cell_type": "markdown",
   "metadata": {
    "slideshow": {
     "slide_type": "subslide"
    }
   },
   "source": [
    "## Maximum-Log-Likelihood-Prinzip\n",
    "### Anmerkungen\n",
    "- Log-Likelihood-Prinzip ist allgemein anwendbar\n",
    "- kann oft geschlossen gelöst werden.\n",
    "- eignet sich **nicht** für Abschätzung der *Verteilung* von $\\theta$\n",
    "\n",
    "### Vergleich zu Kleinste-Quadrate\n",
    "- Ergebnis ist meist dasselbe\n",
    "- Log-Likelihood benötigt Gesamt-Wahrscheinlichkeitsverteilung\n",
    "    - Kleinste-Quadrate kommt mit Mittelwert (und Varianz/Kovarianz) aus\n",
    "- Log-Likelihood kann manchmal nur numerisch simuliert werden"
   ]
  },
  {
   "cell_type": "markdown",
   "metadata": {
    "slideshow": {
     "slide_type": "slide"
    }
   },
   "source": [
    "## Zurück zum Beispiel Asbestfasern\n",
    "Grenzwert $x_G = 5.0$\n",
    "\n",
    "$n=3$ Messwerte $x_1=6,\\; x_2=4,\\; x_3=9$ entstammen einer Poissonverteilung mit unbekanntem Parameter $\\lambda$."
   ]
  },
  {
   "cell_type": "markdown",
   "metadata": {
    "slideshow": {
     "slide_type": "fragment"
    }
   },
   "source": [
    "Die Likelihood-Funktion dafür ist\n",
    "$$L(\\lambda) = f(x_1|\\lambda)\\cdot f(x_2|\\lambda) \\cdot f(x_3|\\lambda) = e^{-\\lambda}\\frac{\\lambda^6}{6!}\\cdot e^{-\\lambda}\\frac{\\lambda^4}{4!}\\cdot e^{-\\lambda}\\frac{\\lambda^9}{9!} = e^{-3\\lambda}\\frac{\\lambda^{19}}{6!4!9!}$$"
   ]
  },
  {
   "cell_type": "markdown",
   "metadata": {
    "slideshow": {
     "slide_type": "fragment"
    }
   },
   "source": [
    "Die Log-Likelihood-Funktion ist\n",
    "$$l(\\lambda) = \\text{ln}\\,L(\\lambda) = -3\\lambda + 19\\text{ln}\\,\\lambda - \\text{ln}\\,{6!4!9!}$$"
   ]
  },
  {
   "cell_type": "markdown",
   "metadata": {
    "slideshow": {
     "slide_type": "subslide"
    }
   },
   "source": [
    "$$l(\\lambda) = \\text{ln}\\,L(\\lambda) = -3\\lambda + 19\\text{ln}\\,\\lambda - \\text{ln}\\,{6!4!9!}$$\n",
    "Ableitung nullsetzen\n",
    "$$\\frac{\\partial\\,l(\\lambda)}{\\partial\\lambda} = -3 + \\frac{19}{\\lambda} = 0$$\n",
    "ergibt Extremwert für \n",
    "$$\\widehat\\lambda = \\frac{19}{3} = 6.33$$"
   ]
  },
  {
   "cell_type": "markdown",
   "metadata": {
    "slideshow": {
     "slide_type": "fragment"
    }
   },
   "source": [
    "Zweite Ableitung bestätigt *Maximum*\n",
    "$$\\frac{\\partial^2\\,l(\\lambda)}{\\partial\\lambda^2} = -\\frac{19}{\\lambda^2} < 0$$"
   ]
  },
  {
   "cell_type": "markdown",
   "metadata": {
    "slideshow": {
     "slide_type": "fragment"
    }
   },
   "source": [
    "#### und damit $\\hat\\lambda = \\overline{x}$ "
   ]
  },
  {
   "cell_type": "markdown",
   "metadata": {
    "slideshow": {
     "slide_type": "subslide"
    }
   },
   "source": [
    "## Zwischenergebnis: Poissonverteilung\n",
    "Der Maximum-Likelihood-Schätzer (*MLE*) für den Parameter $\\lambda$ der Poissonverteilung ist das Stichprobenmittel\n",
    "$$\\hat\\lambda = \\frac{1}{n}\\sum_{i=1}^n x_i$$"
   ]
  },
  {
   "cell_type": "markdown",
   "metadata": {
    "slideshow": {
     "slide_type": "slide"
    }
   },
   "source": [
    "# Zusammenfassung Maximum-Log-Likelihood-Prinzip\n",
    "\n",
    "#### 1. Modellverteilung mit Parameter $\\theta$ für die Zufallsvariable $X$\n",
    "$$f_{\\theta}(X)$$\n",
    "\n",
    "#### 2. Daraus Likelihood für Parameter $\\theta$ bei Meßwerten $\\mathbf{x}$ angeben\n",
    "$$L_X(\\theta) = f_{\\theta}(\\mathbf{x}) = f_{\\theta}(x_1)\\cdot f_{\\theta}(x_2)\\dotsb f_{\\theta}(x_n)$$\n",
    "\n",
    "#### beziehungsweise Log-Likelihood-Funktion\n",
    "$$l_X(\\theta) = \\text{ln}\\,f_{\\theta}(\\mathbf{x}) = \\sum_{i=1}^n \\text{ln}\\,f_{\\theta}(x_i)$$"
   ]
  },
  {
   "cell_type": "markdown",
   "metadata": {
    "slideshow": {
     "slide_type": "subslide"
    }
   },
   "source": [
    "#### und diese 3. maximieren:\n",
    "$$\\frac{\\partial l(\\theta)}{\\partial\\theta}=0$$\n",
    "  \n",
    "$$\\frac{\\partial^2 l(\\theta)}{\\partial\\theta^2}<0$$\n",
    "  \n",
    "$$\\text{keine Randwerte > Maximum}$$\n",
    "  \n",
    "#### 4. Messung der Stichprobe\n",
    "$$\\mathbf{x} = \\{x_i\\}$$\n",
    "  \n",
    "#### 5. Berechnen des Maximum-Likelihood-Parameters\n",
    "$$\\widehat \\theta$$"
   ]
  },
  {
   "cell_type": "markdown",
   "metadata": {
    "slideshow": {
     "slide_type": "slide"
    }
   },
   "source": [
    "### Antwort auf Frage\n",
    "### Welcher Parameterwert paßt am besten zu den Beobachtungen?\n",
    "\n",
    "- Bestimme Schätzer\n",
    "- Max-Log-Likelihood-Prinzip\n",
    "\n",
    "----"
   ]
  },
  {
   "cell_type": "markdown",
   "metadata": {
    "slideshow": {
     "slide_type": "subslide"
    }
   },
   "source": [
    "## Ist die Beobachtung mit einem gegebenen Parameterwert vereinbar?\n",
    "Insbesondere hier vereinbar mit dem Grenzwert?\n",
    "\n",
    "$\\Rightarrow$ nächstes Kapitel [\"Statistische Tests\"](Test.ipynb)"
   ]
  },
  {
   "cell_type": "markdown",
   "metadata": {
    "slideshow": {
     "slide_type": "subslide"
    }
   },
   "source": [
    "## Welche Parameterwerte sind mit der Beobachtung vereinbar?\n",
    "$\\Rightarrow$ nächstes Kapitel [\"Vertrauensintervalle\"](Vertrauensintervall.ipynb)"
   ]
  },
  {
   "cell_type": "markdown",
   "metadata": {
    "slideshow": {
     "slide_type": "subslide"
    }
   },
   "source": [
    "----"
   ]
  },
  {
   "cell_type": "markdown",
   "metadata": {
    "slideshow": {
     "slide_type": "slide"
    }
   },
   "source": [
    "# Robuste Schätzung\n",
    "\n",
    "#### Problem\n",
    "Schätzungen gelten nur, wenn die Voraussetzungen der Modellverteilung die *richtige* ist.\n",
    "\n",
    "#### Umgehung des Problems\n",
    "Oft wird (zu Recht) die Normalverteilung angenommen. \n",
    "\n",
    "Jedoch ist die Schätzung einer Normalverteilung empfindlich gegen *Ausreisser*.\n",
    "\n",
    "### Ein Beispiel:"
   ]
  },
  {
   "cell_type": "code",
   "execution_count": 5,
   "metadata": {
    "slideshow": {
     "slide_type": "skip"
    }
   },
   "outputs": [
    {
     "data": {
      "image/png": "[encoded data removed]",
      "text/plain": [
       "<matplotlib.figure.Figure at 0x7f0a96674e10>"
      ]
     },
     "metadata": {},
     "output_type": "display_data"
    }
   ],
   "source": [
    "'''outliers influence mean (and median)'''\n",
    "np.random.seed(56789)                      # obtain the same, but random result again \n",
    "x9 = stats.norm.rvs(size=9)                # nine standard-normally distributed values\n",
    "plt.figure(figsize=(12,5))\n",
    "plt.scatter(x9,np.zeros_like(x9), color='r',  label='x[1..9] measurements')\n",
    "plt.plot(2*[x9.mean()],     (-.5, .5), 'r--', label='x[1..9] mean')\n",
    "plt.plot(2*[np.median(x9)], (-.5, .5), 'r:',  label='x[1..9] median')\n",
    "plt.xlabel('x')\n",
    "plt.title('9 values')\n",
    "plt.plot((-4, 4), (0, 0) , 'w,')\n",
    "plt.yticks([])\n",
    "plt.legend(loc='lower right');"
   ]
  },
  {
   "cell_type": "markdown",
   "metadata": {
    "slideshow": {
     "slide_type": "subslide"
    }
   },
   "source": [
    "#### Arithmetisches Mittel\n",
    "$$\\begin{aligned}\n",
    "\\overline{x_9}    &= \\frac{1}{9}\\sum_{i=1}^{9} x_i \\\\\n",
    "\\text{ein neuer Messwert dazu:} \\\\\n",
    "\\overline{x_{10}} &= \\frac{1}{10}\\sum_{i=0}^{9} x_i \\\\\n",
    "                  &= \\frac{9}{10} \\overline{x_9} + \\frac{1}{10} x_{0}\n",
    "\\end{aligned}$$"
   ]
  },
  {
   "cell_type": "code",
   "execution_count": 5,
   "metadata": {
    "slideshow": {
     "slide_type": "skip"
    }
   },
   "outputs": [
    {
     "name": "stdout",
     "output_type": "stream",
     "text": [
      "means:    [-0.46192852 -0.45192852 -0.44192852]  -  [ 0.31807148  0.32807148  0.33807148]\n",
      "medians:  [-0.10973318 -0.10973318 -0.10973318]  -  [ 0.06628869  0.06628869  0.06628869]\n"
     ]
    },
    {
     "data": {
      "image/png": "[encoded data removed]",
      "text/plain": [
       "<matplotlib.figure.Figure at 0x7f68276b8a90>"
      ]
     },
     "metadata": {},
     "output_type": "display_data"
    }
   ],
   "source": [
    "'''outliers influence mean (and median)'''\n",
    "np.random.seed(56789)                      # obtain the same, but random result again \n",
    "x9 = stats.norm.rvs(size=9)                # nine standard-normally distributed values\n",
    "x0 = np.linspace(-4., 4., 81)              # one of these additional values to the nine x_1..9\n",
    "xmeans = np.asarray( [np.append(x9, x).mean() for x in x0] )    # mean - depending on x0\n",
    "print('means:   ', xmeans[:3], ' - ', xmeans[-3:])\n",
    "plt.figure(figsize=(12,5))\n",
    "plt.plot(x0, xmeans, label='mean')\n",
    "xmeds = np.asarray( [np.median(np.append(x9, x)) for x in x0] ) # median - depending on x0\n",
    "print('medians: ', xmeds[:3], ' - ', xmeds[-3:])\n",
    "plt.plot(x0, xmeds, 'g-', label='median')\n",
    "plt.scatter(x9,np.zeros_like(x9), color='r', label='x[1..9] measurements')\n",
    "plt.plot((-4, 4), 2*[x9.mean()], 'r--', label='x[1..9] mean')\n",
    "plt.plot((-4, 4), 2*[np.median(x9)], 'r:', label='x[1..9] median')\n",
    "plt.xlabel('outlier x0')\n",
    "plt.ylabel('estimated value')\n",
    "plt.title('mean and median depend on one outlier x0')\n",
    "plt.legend(loc='lower right');"
   ]
  },
  {
   "cell_type": "markdown",
   "metadata": {
    "slideshow": {
     "slide_type": "slide"
    }
   },
   "source": [
    "## Robuste Verfahren\n",
    "\n",
    "#### Wichtigste Kenngrößen \n",
    "- Lage\n",
    "- Streuung einer Verteilung.\n",
    "\n",
    "#### Problem\n",
    "- Die Lage wird durch Ausreisser stark beeinflußt.\n",
    "- Die Streuung wird durch Ausreisser stark beeinflußt.\n",
    "\n",
    "#### Ausweg\n",
    "Gib Vorgabe *Normalverteilung* auf, zugunsten einer langschwänzigen (*high kurtosis*) Verteilung.\n",
    "    \n",
    "#### Vorteil\n",
    "- berechnet arithmetisches Mittel besser, wenn Ausreisser in den Beobachtungen.\n",
    "- stört wenig, wenn doch normalverteilt"
   ]
  },
  {
   "cell_type": "markdown",
   "metadata": {
    "slideshow": {
     "slide_type": "slide"
    }
   },
   "source": [
    "### Beispiel für langschwänzige Verteilungsfunktion: tanh(x)"
   ]
  },
  {
   "cell_type": "code",
   "execution_count": 6,
   "metadata": {
    "collapsed": true,
    "slideshow": {
     "slide_type": "fragment"
    }
   },
   "outputs": [],
   "source": [
    "'''create a complete distribution by just defining the cdf'''\n",
    "class tanh_gen(stats.rv_continuous):\n",
    "     def _cdf(self, x):\n",
    "         return .5+.5*np.tanh(x)        # the tanh-function as cdf"
   ]
  },
  {
   "cell_type": "code",
   "execution_count": 7,
   "metadata": {
    "collapsed": true,
    "slideshow": {
     "slide_type": "fragment"
    }
   },
   "outputs": [],
   "source": [
    "highkurtosis = tanh_gen(name=\"high kurt tanh\") # call once to establish"
   ]
  },
  {
   "cell_type": "code",
   "execution_count": 8,
   "metadata": {
    "slideshow": {
     "slide_type": "subslide"
    }
   },
   "outputs": [
    {
     "name": "stdout",
     "output_type": "stream",
     "text": [
      "kurtosis of tanh-distribution is 1.200\n"
     ]
    },
    {
     "data": {
      "image/png": "[encoded data removed]",
      "text/plain": [
       "<matplotlib.figure.Figure at 0x7f6824a18470>"
      ]
     },
     "metadata": {},
     "output_type": "display_data"
    }
   ],
   "source": [
    "'''show cumulative distribution function of high kurtotic tanh'''\n",
    "fig = plt.figure(figsize=(9, 4))\n",
    "xs = np.linspace(-4., 4., 601)\n",
    "plt.plot(xs, highkurtosis.cdf(xs), label='tanh')\n",
    "plt.plot(xs, stats.norm.cdf(xs), 'r--', label='normal')    # compare with standard normal distribution\n",
    "plt.title('high kurtotic distribution')\n",
    "plt.xlabel('x')\n",
    "plt.ylabel('probability')\n",
    "plt.legend(loc='lower right');\n",
    "kurtosis = highkurtosis.stats(moments='mvsk')[3]           # gives mean, var, skew and kurt\n",
    "print('kurtosis of tanh-distribution is {:.3f}'.format(np.float(kurtosis)))"
   ]
  },
  {
   "cell_type": "code",
   "execution_count": 9,
   "metadata": {
    "slideshow": {
     "slide_type": "skip"
    }
   },
   "outputs": [
    {
     "data": {
      "image/png": "[encoded data removed]",
      "text/plain": [
       "<matplotlib.figure.Figure at 0x7f682495fe10>"
      ]
     },
     "metadata": {},
     "output_type": "display_data"
    }
   ],
   "source": [
    "'''show probability density function of \"high kurt tanh\" - despite not defined'''\n",
    "x = np.linspace(-10., 10., 1001)           # x in 0.01 resolution\n",
    "p_n = stats.norm.pdf(x)                    # comparison: standard normal distribution\n",
    "p_s = stats.norm(0, .8).pdf(x)             # comparison: tighter normal distribution\n",
    "p_t = highkurtosis.pdf(x)                  # the defined high kurtotic distribution\n",
    "f=plt.figure(figsize=(12, 5))\n",
    "f.add_subplot(1, 2, 1)                     # main plot: x=-3 to 1\n",
    "plt.xlim(-3.0, 1.0)\n",
    "plt.ylim(0., 0.6)\n",
    "plt.plot(x, p_t, 'b-')\n",
    "plt.plot(x, p_n, 'r--')\n",
    "plt.plot(x, p_s, 'g--')\n",
    "plt.title('pdf: tanh & normal')\n",
    "plt.xlabel('x')\n",
    "plt.ylabel('probability');\n",
    "f.add_subplot(1, 2, 2)                     # 10x magnified: x=1 to 6\n",
    "plt.xlim(2.0, 6.0)\n",
    "plt.ylim(0., 0.06)\n",
    "plt.plot(x, p_t, 'b-', label='$1-tanh^2(s)$')     # pdf of tanh.cdf\n",
    "plt.plot(x, p_n, 'r--', label='standard normal')  # standard normal pdf\n",
    "plt.plot(x, p_s, 'g--', label='normal std=0.8')   # tighter normal pdf\n",
    "plt.xlabel('x')\n",
    "plt.legend(loc='upper right');"
   ]
  },
  {
   "cell_type": "code",
   "execution_count": 10,
   "metadata": {
    "slideshow": {
     "slide_type": "skip"
    }
   },
   "outputs": [
    {
     "name": "stdout",
     "output_type": "stream",
     "text": [
      "means:    [-0.46192852 -0.45192852 -0.44192852]  -  [ 0.31807148  0.32807148  0.33807148]\n",
      "medians:  [-0.10973318 -0.10973318 -0.10973318]  -  [ 0.06628869  0.06628869  0.06628869]\n"
     ]
    },
    {
     "data": {
      "image/png": "[encoded data removed]",
      "text/plain": [
       "<matplotlib.figure.Figure at 0x7f68248601d0>"
      ]
     },
     "metadata": {},
     "output_type": "display_data"
    }
   ],
   "source": [
    "'''outliers influence mean but less high kurtotic distribution'''\n",
    "# same as above\n",
    "np.random.seed(56789)\n",
    "x9 = stats.norm.rvs(size=9)  \n",
    "x0 = np.linspace(-4., 4., 81)\n",
    "xmeans = np.asarray( [np.append(x9, x).mean() for x in x0] ) \n",
    "print('means:   ', xmeans[:3], ' - ', xmeans[-3:])\n",
    "plt.figure(figsize=(12,5))\n",
    "plt.plot(x0, xmeans, label='mean')\n",
    "xmeds = np.asarray( [np.median(np.append(x9, x)) for x in x0] )\n",
    "print('medians: ', xmeds[:3], ' - ', xmeds[-3:])\n",
    "plt.plot(x0, xmeds, 'g-', label='median')\n",
    "\n",
    "hkms = [highkurtosis.fit(np.append(x9, x))[0] for x in x0]  # means of high-kurtotic fit\n",
    "plt.plot(x0, hkms, 'r-', label='high kurtotic mean')        # the new plot here\n",
    "\n",
    "plt.scatter(x9, np.zeros_like(x9), color='k', label='x[1..9] measurements')\n",
    "plt.plot((-4, 4), 2*[x9.mean()], 'k--', label='x[1..9] mean')\n",
    "plt.plot((-4, 4), 2*[np.median(x9)], 'k:', label='x[1..9] median')\n",
    "plt.xlabel('outlier x0')\n",
    "plt.ylabel('estimated value')\n",
    "plt.title('mean and median depend on one outlier x0')\n",
    "plt.legend(loc='lower right');"
   ]
  },
  {
   "cell_type": "markdown",
   "metadata": {
    "slideshow": {
     "slide_type": "slide"
    }
   },
   "source": [
    "## Ausblick\n",
    "\n",
    "Testen, wie viele Ausreisser die Berechnung verträgt, um dennoch sinnvolle Werte zu erhalten:\n",
    "\n",
    "- Bruchpunkt, Anteil $m$ an Ausreissern an gesamten Beobachtungen $n$. \n",
    "- Spätestens bei $m>\\frac{n}{2}$ bricht die Schätzung zusammen. \n",
    "\n",
    "Siehe auch Kapitel \"Bootstrap\"."
   ]
  },
  {
   "cell_type": "markdown",
   "metadata": {
    "slideshow": {
     "slide_type": "slide"
    }
   },
   "source": [
    "# Zusammenfassung Punktschätzer\n",
    "\n",
    "#### Stochastik\n",
    "- Zufallsvariable mit Wahrscheinlichkeitsverteilung(sdichte) $f(x)$\n",
    "- **i.i.d.** als Voraussetzung\n",
    "\n",
    "#### Punktschätzer\n",
    "- Für Parameter\n",
    "    - $\\mu$ und $\\sigma^2$ der Normalverteilung\n",
    "    - $\\lambda$ der Poissonverteilung\n",
    "    - ...\n",
    "- Für Kenngrößen\n",
    "    - Arithmetisches Mittel schätzt Erwartungswert, Mittelwert der Grundgesamtheit \n",
    "    - Stichproben-Varianz schätzt Varianz der Grundgesamtheit\n",
    "    - ..."
   ]
  },
  {
   "cell_type": "markdown",
   "metadata": {
    "slideshow": {
     "slide_type": "subslide"
    }
   },
   "source": [
    "# ...\n",
    "\n",
    "#### Punkschätzer finden\n",
    "- Kleinste-Quadrate-Methode\n",
    "- Max-Log-Likelihood-Prinzip\n",
    "- Bayes-Statistik\n",
    "\n",
    "#### Robuste Schätzung\n",
    "- verringert Fehler des Lageparameters gegenüber Ausreißern\n",
    "- gelockerte Verteilung, akzeptiert Ausreißer mit höherer Wahrscheinlichkeit\n",
    "- obwohl nur näherungsweise zur Theorie passend ($\\mathcal{N}$)"
   ]
  },
  {
   "cell_type": "markdown",
   "metadata": {
    "slideshow": {
     "slide_type": "subslide"
    }
   },
   "source": [
    "# Ausblick\n",
    "\n",
    "#### Intervallschätzer\n",
    "- Konfidenzintervalle\n",
    "\n",
    "#### Teststatistik\n",
    "- Unterschied von Werten\n",
    "- Verhältnis von Werten\n"
   ]
  },
  {
   "cell_type": "markdown",
   "metadata": {
    "collapsed": true,
    "slideshow": {
     "slide_type": "slide"
    }
   },
   "source": [
    "# Fragen?"
   ]
  }
 ],
 "metadata": {
  "kernelspec": {
   "display_name": "Python 3",
   "language": "python",
   "name": "python3"
  },
  "language_info": {
   "codemirror_mode": {
    "name": "ipython",
    "version": 3
   },
   "file_extension": ".py",
   "mimetype": "text/x-python",
   "name": "python",
   "nbconvert_exporter": "python",
   "pygments_lexer": "ipython3",
   "version": "3.5.2"
  }
 },
 "nbformat": 4,
 "nbformat_minor": 1
}
