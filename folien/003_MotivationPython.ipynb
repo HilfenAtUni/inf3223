{
 "cells": [
  {
   "cell_type": "markdown",
   "metadata": {
    "slideshow": {
     "slide_type": "slide"
    }
   },
   "source": [
    "# Warum Python?\n",
    "\n",
    "### klar verständlich\n",
    "\n",
    "*Wenn Sie ein Programm sehen und es gleich verstehen, dann ist es sehr wahrscheinlich Python*"
   ]
  },
  {
   "cell_type": "markdown",
   "metadata": {
    "slideshow": {
     "slide_type": "subslide"
    }
   },
   "source": [
    "### universell\n",
    "\n",
    "- Versuche durchführen\n",
    "- Meßgeräte steuern und auslesen\n",
    "- Daten erheben, speichern, bearbeiten\n",
    "- Auswerten\n",
    "- Darstellen\n",
    "    - interaktiv"
   ]
  },
  {
   "cell_type": "markdown",
   "metadata": {
    "slideshow": {
     "slide_type": "subslide"
    }
   },
   "source": [
    "### mächtig\n",
    "\n",
    "Bibliotheken... \n",
    "\n",
    "- Linere Algebra\n",
    "- Graphiken\n",
    "- Bild-, Audio-, Daten-bearbeitung\n",
    "- Statistik\n",
    "- ..."
   ]
  },
  {
   "cell_type": "markdown",
   "metadata": {
    "slideshow": {
     "slide_type": "subslide"
    }
   },
   "source": [
    "### weit verbreitet\n",
    "\n",
    "- Linux, Unix, ...\n",
    "    - Raspbian\n",
    "- Mac\n",
    "- Windows"
   ]
  },
  {
   "cell_type": "markdown",
   "metadata": {
    "slideshow": {
     "slide_type": "subslide"
    }
   },
   "source": [
    "### open source\n",
    "\n",
    "- https://docs.python.org/3/license.html\n",
    "- Python Software Foundation (PSF, see https://www.python.org/psf/ , non-profit)\n",
    "- GPL compatible"
   ]
  },
  {
   "cell_type": "markdown",
   "metadata": {
    "slideshow": {
     "slide_type": "subslide"
    }
   },
   "source": [
    "### das Notebook\n",
    "\n",
    "ipython und Jupyter als Arbeitsumgebung\n",
    "\n",
    "#### Quelle\n",
    "\n",
    "Fernando Pérez, Brian E. Granger, IPython: A System for Interactive Scientific Computing, Computing in Science and Engineering, vol. 9, no. 3, pp. 21-29, May/June 2007, doi:10.1109/MCSE.2007.53. URL: http://ipython.org"
   ]
  },
  {
   "cell_type": "markdown",
   "metadata": {
    "slideshow": {
     "slide_type": "notes"
    }
   },
   "source": [
    "Module:\n",
    "\n",
    "- Mathematik\n",
    "- Psychophysik\n",
    "- Parallelrechnen (cuda)\n",
    "- high sophisticated: Machine-Learning, MarkovChainsMonteCarlo, ICA ...\n",
    "- Schnittstellen: serielle, Netzwerk, Webserver, Webbrowser\n",
    "\n",
    "#### Notebook\n",
    "\n",
    "Leicht verständlich wie ich hier demonstrieren möchte:"
   ]
  },
  {
   "cell_type": "markdown",
   "metadata": {
    "slideshow": {
     "slide_type": "slide"
    }
   },
   "source": [
    "# Notebook\n",
    "\n",
    "https://jupyter.org\n",
    "\n",
    "#### Zellen\n",
    "\n",
    "- code\n",
    "- markdown\n",
    "    - Sourcecode\n",
    "    - Bilder\n",
    "    - LaTeX: $\\;a^2=b^2+c^2$\n",
    "    - Listen (auch verschachtelt, self)\n",
    "    - ...\n",
    "\n",
    "#### Quelltext\n",
    "\n",
    "- Ausführen\n",
    "    - Python-Kernel\n",
    "- Ausgabe, wird mit abgespeichert\n",
    "    - Text\n",
    "    - Graphik"
   ]
  },
  {
   "cell_type": "markdown",
   "metadata": {
    "slideshow": {
     "slide_type": "subslide"
    }
   },
   "source": [
    "# Notebook\n",
    "\n",
    "...\n",
    "\n",
    "#### Exportieren\n",
    "\n",
    "- ipynb\n",
    "    - online Notebook-Viewer http://nbviewer.jupyter.org/\n",
    "- Slideshow\n",
    "- pdf\n",
    "\n",
    "#### Hinweise\n",
    "\n",
    "- umbenennen\n",
    "- `m` markdown, `y` Quelltext\n",
    "- merge/split\n",
    "- Tastatursteuerung: Help%Shortcuts\n",
    "- Aktive Kernel\n",
    "- Save, Close&Halt"
   ]
  },
  {
   "cell_type": "markdown",
   "metadata": {
    "slideshow": {
     "slide_type": "slide"
    }
   },
   "source": [
    "## Einfache Datentypen\n",
    "\n",
    "- integer\n",
    "    - beliebige Präzision, automatisch\n",
    "- float\n",
    "    - *\"Python's built-in str() function produces 12 significant digits\"*\n",
    "    - Normalerweise wird mit *17* Stellen gearbeitet\n",
    "- boolean:  <tt>True</tt>, <tt>False</tt>\n",
    "- string\n",
    "    - einfache (') oder doppelte (\") Anführungszeichen\n",
    "    - keine <tt>character</tt>\n",
    "\n",
    "Alles sind Objekte\n",
    "\n",
    "#### Vorsicht\n",
    "\n",
    "später"
   ]
  },
  {
   "cell_type": "markdown",
   "metadata": {
    "slideshow": {
     "slide_type": "subslide"
    }
   },
   "source": [
    "## Kommentare\n",
    "\n",
    "benutzen!!"
   ]
  },
  {
   "cell_type": "code",
   "execution_count": 1,
   "metadata": {
    "collapsed": true,
    "slideshow": {
     "slide_type": "fragment"
    }
   },
   "outputs": [],
   "source": [
    "'''this is a comment'''\n",
    "\n",
    "'''triple-quote-comments can spread \n",
    "   over several lines\n",
    "   doc-strings are formatted like this\n",
    "'''\n",
    "\n",
    "r = 3     # create an integer object <3> and assign it to the name <r>"
   ]
  },
  {
   "cell_type": "markdown",
   "metadata": {
    "slideshow": {
     "slide_type": "subslide"
    }
   },
   "source": [
    "## Zeichenketten"
   ]
  },
  {
   "cell_type": "code",
   "execution_count": 2,
   "metadata": {
    "slideshow": {
     "slide_type": "fragment"
    }
   },
   "outputs": [
    {
     "name": "stdout",
     "output_type": "stream",
     "text": [
      "String in 'single'or in \"double\" quotes\n",
      "r = 1.23456\n",
      "the square of 1.235 is   1.52414\n"
     ]
    }
   ],
   "source": [
    "# concatenate with '+', single or double quotes, possible to encapsulate\n",
    "print(\"String in 'single' \" + 'or in \"double\" quotes')\n",
    "\n",
    "# include numbers in strings with '{}'.format() method:\n",
    "r = 1.23456\n",
    "print('r = {}'.format(r))\n",
    "\n",
    "# and format the numbers\n",
    "print('the square of {:.3f} is {:9.5f}'.format(r, r**2))"
   ]
  },
  {
   "cell_type": "markdown",
   "metadata": {
    "slideshow": {
     "slide_type": "notes"
    }
   },
   "source": [
    "#### by the way, it's in English, because:\n",
    "\n",
    "- syntax is somehow English anyhow\n",
    "- doc is English\n",
    "- technical terms most of the time are\n",
    "- examples in web are\n",
    "- if you publish, you will internationalize, too\n",
    "- will be simple enough ;-)\n",
    "- ask!"
   ]
  },
  {
   "cell_type": "markdown",
   "metadata": {
    "slideshow": {
     "slide_type": "subslide"
    }
   },
   "source": [
    "## Zahlen"
   ]
  },
  {
   "cell_type": "code",
   "execution_count": 3,
   "metadata": {
    "slideshow": {
     "slide_type": "fragment"
    }
   },
   "outputs": [
    {
     "name": "stdout",
     "output_type": "stream",
     "text": [
      "x=2  is a <class 'int'>  with object id 140316490279488\n"
     ]
    }
   ],
   "source": [
    "x = 2                                           # integer\n",
    "print('x={}  is a {}  with object id {}'.format(x, type(x), id(x)))"
   ]
  },
  {
   "cell_type": "code",
   "execution_count": 4,
   "metadata": {
    "slideshow": {
     "slide_type": "fragment"
    }
   },
   "outputs": [
    {
     "name": "stdout",
     "output_type": "stream",
     "text": [
      "x=2.6  is a <class 'float'>  with object id 140316282940512\n"
     ]
    }
   ],
   "source": [
    "x = 2.6                                        # float\n",
    "print('x={}  is a {}  with object id {}'.format(x, type(x), id(x)))"
   ]
  },
  {
   "cell_type": "code",
   "execution_count": 5,
   "metadata": {
    "slideshow": {
     "slide_type": "fragment"
    }
   },
   "outputs": [
    {
     "name": "stdout",
     "output_type": "stream",
     "text": [
      "x=2.6000000000000001  is a <class 'float'>  with object id 140316282940512\n",
      "y=2.6000000000000001  is a <class 'float'>  with object id 140316282940512\n",
      "y=2.8000000000000003  is a <class 'float'>  with object id 140316282940488\n",
      "y=2.6000000000000001  is a <class 'float'>  with object id 140316282940632\n",
      "x and y have same value: True\n",
      "x and y have same id:    False\n"
     ]
    }
   ],
   "source": [
    "y = x\n",
    "print('x={:.16f}  is a {}  with object id {}'.format(x, type(x), id(x)))\n",
    "print('y={:.16f}  is a {}  with object id {}'.format(y, type(y), id(y)))\n",
    "y += 0.2\n",
    "print('y={:.16f}  is a {}  with object id {}'.format(y, type(y), id(y)))\n",
    "y -= 0.2\n",
    "print('y={:.16f}  is a {}  with object id {}'.format(y, type(y), id(y)))\n",
    "print('x and y have same value: {}'.format(x==y))\n",
    "print('x and y have same id:    {}'.format(x is y))"
   ]
  },
  {
   "cell_type": "code",
   "execution_count": 6,
   "metadata": {
    "slideshow": {
     "slide_type": "fragment"
    }
   },
   "outputs": [
    {
     "name": "stdout",
     "output_type": "stream",
     "text": [
      "Variable   Type     Data/Info\n",
      "-----------------------------\n",
      "r          float    1.23456\n",
      "x          float    2.6\n",
      "y          float    2.6\n"
     ]
    }
   ],
   "source": [
    "whos"
   ]
  },
  {
   "cell_type": "markdown",
   "metadata": {
    "slideshow": {
     "slide_type": "notes"
    }
   },
   "source": [
    "- gleicher Variablenname\n",
    "- nicht gleiches Objekt mit anderem Inhalt\n",
    "- sondern neues Objekt und Referenz auf den Namen \"x\"\n",
    "- interne Liste von Variablen:\n",
    "    - who: Liste                # nur in ipython/Jupyter\n",
    "    - whos: mit Typ und Inhalt  # nur -\"-\n",
    "    - dir(), globals(), locals() geben viel Brimborium aus wegen ipython-Umgebung"
   ]
  },
  {
   "cell_type": "markdown",
   "metadata": {
    "slideshow": {
     "slide_type": "slide"
    }
   },
   "source": [
    "## Tupel\n",
    "\n",
    "- fassen Elemente zusammen, die zusammengehören\n",
    "    - Bsp: x-y-Koordinatenpaar\n",
    "    - Bsp: Ton = (Frequenz, Dauer, Amplitude, Name)\n",
    "- Definition \n",
    "    - getrennt durch Komma ',' (zwingend)\n",
    "    - durch runde Klammern '(' und ')' (optional, Konvention)\n",
    "- Elementzugriff\n",
    "    - durch eckige Klammern '[' und ']'\n",
    "    - Index muß Integer sein\n",
    "    - Index beginnt bei 0 (wie in C)"
   ]
  },
  {
   "cell_type": "code",
   "execution_count": 2,
   "metadata": {
    "slideshow": {
     "slide_type": "fragment"
    }
   },
   "outputs": [],
   "source": [
    "tone = (440.0, 250, 0.8, 'a')"
   ]
  },
  {
   "cell_type": "code",
   "execution_count": 3,
   "metadata": {
    "slideshow": {
     "slide_type": "fragment"
    }
   },
   "outputs": [
    {
     "name": "stdout",
     "output_type": "stream",
     "text": [
      "x=(1, 2, 3.0) and x is a <class 'tuple'>\n"
     ]
    }
   ],
   "source": [
    "x = (1, 2, 3.)       # a tuple\n",
    "print('x={} and x is a {}'.format(x, type(x)))"
   ]
  },
  {
   "cell_type": "code",
   "execution_count": 4,
   "metadata": {
    "slideshow": {
     "slide_type": "subslide"
    }
   },
   "outputs": [
    {
     "name": "stdout",
     "output_type": "stream",
     "text": [
      "first element=1, last=3.0\n"
     ]
    }
   ],
   "source": [
    "n = len(x)                                               # length = number of elements in tuple\n",
    "print('first element={}, last={}'.format(x[0], x[n-1]))  # select two elements"
   ]
  },
  {
   "cell_type": "code",
   "execution_count": 5,
   "metadata": {
    "slideshow": {
     "slide_type": "fragment"
    }
   },
   "outputs": [
    {
     "name": "stdout",
     "output_type": "stream",
     "text": [
      "x=(1, 2, 3.0) and x is a <class 'tuple'> with elements <class 'int'>, <class 'int'> and <class 'float'>\n"
     ]
    }
   ],
   "source": [
    "print('x={} and x is a {} with elements {}, {} and {}'\n",
    "      .format(x, type(x), type(x[0]), type(x[1]), type(x[2])))"
   ]
  },
  {
   "cell_type": "code",
   "execution_count": 6,
   "metadata": {
    "slideshow": {
     "slide_type": "fragment"
    }
   },
   "outputs": [
    {
     "name": "stdout",
     "output_type": "stream",
     "text": [
      "(44, 55, (1, 2, 3.0))\n",
      "44\n",
      "2\n"
     ]
    }
   ],
   "source": [
    "d = (44, 55, x)                 # encapsulate tuple x within tuple d\n",
    "print(d)\n",
    "print(d[0])\n",
    "print(d[2][1])"
   ]
  },
  {
   "cell_type": "code",
   "execution_count": 13,
   "metadata": {
    "slideshow": {
     "slide_type": "fragment"
    }
   },
   "outputs": [
    {
     "name": "stdout",
     "output_type": "stream",
     "text": [
      "1\n"
     ]
    }
   ],
   "source": [
    "#%whos\n",
    "\n",
    "print(d[2][0])\n"
   ]
  },
  {
   "cell_type": "markdown",
   "metadata": {
    "slideshow": {
     "slide_type": "subslide"
    }
   },
   "source": [
    "- Zusammenfügen mit plus '+'"
   ]
  },
  {
   "cell_type": "code",
   "execution_count": 13,
   "metadata": {
    "slideshow": {
     "slide_type": "fragment"
    }
   },
   "outputs": [
    {
     "name": "stdout",
     "output_type": "stream",
     "text": [
      "(1, 2, 3.0)  +  (2.0, 3.14159, 66)  =  (1, 2, 3.0, 2.0, 3.14159, 66)\n"
     ]
    }
   ],
   "source": [
    "y = 2.0, 3.14159, 66             # another tuple, (no brackets)\n",
    "z = x + y                        # concatenate two tuples\n",
    "print(x, ' + ', y, ' = ', z)     # it's not like adding two vectors!"
   ]
  },
  {
   "cell_type": "code",
   "execution_count": 14,
   "metadata": {
    "slideshow": {
     "slide_type": "fragment"
    }
   },
   "outputs": [
    {
     "name": "stdout",
     "output_type": "stream",
     "text": [
      "(2.0, 3.14159, 66, 2.0, 3.14159, 66)\n"
     ]
    }
   ],
   "source": [
    "print(2*y)          # multiple concatenation; not element-wise multiplication"
   ]
  },
  {
   "cell_type": "markdown",
   "metadata": {
    "collapsed": true,
    "slideshow": {
     "slide_type": "notes"
    }
   },
   "source": [
    "### Tafel: z hinmalen, brauchen wir noch."
   ]
  },
  {
   "cell_type": "markdown",
   "metadata": {
    "slideshow": {
     "slide_type": "subslide"
    }
   },
   "source": [
    "- Scheibenweise (*slicing*) mit Doppelpunkt <von>':'<bis>\n",
    "    - Obacht: bis zum **vor**letzten Element\n",
    "    - weglassen = erstes / letztes Element\n",
    "    - negative Inicees zählen von hinten"
   ]
  },
  {
   "cell_type": "code",
   "execution_count": 15,
   "metadata": {
    "slideshow": {
     "slide_type": "fragment"
    }
   },
   "outputs": [
    {
     "name": "stdout",
     "output_type": "stream",
     "text": [
      "(2, 3.0, 2.0)\n"
     ]
    }
   ],
   "source": [
    "print(z[1:4])           # starting from #1 = 2nd, ending before 4th element"
   ]
  },
  {
   "cell_type": "code",
   "execution_count": 16,
   "metadata": {
    "slideshow": {
     "slide_type": "fragment"
    }
   },
   "outputs": [
    {
     "name": "stdout",
     "output_type": "stream",
     "text": [
      "(3.0, 2.0, 3.14159)\n"
     ]
    }
   ],
   "source": [
    "print(z[2:-1])          # starting from #2 = 3rd, ending at last element"
   ]
  },
  {
   "cell_type": "code",
   "execution_count": 17,
   "metadata": {
    "slideshow": {
     "slide_type": "fragment"
    }
   },
   "outputs": [
    {
     "name": "stdout",
     "output_type": "stream",
     "text": [
      "(3.0, 2.0, 3.14159, 66)\n"
     ]
    }
   ],
   "source": [
    "print(z[2:])            # starting from 3rd element; ending default is last"
   ]
  },
  {
   "cell_type": "markdown",
   "metadata": {
    "slideshow": {
     "slide_type": "notes"
    }
   },
   "source": [
    "- Wie Messer: Schneiden **vor** dem Index"
   ]
  },
  {
   "cell_type": "markdown",
   "metadata": {
    "slideshow": {
     "slide_type": "subslide"
    }
   },
   "source": [
    "- Sprungweite hinter zweitem Doppelpunkt\n",
    "    - Reihenfolge invertieren mit \":-1\""
   ]
  },
  {
   "cell_type": "code",
   "execution_count": 18,
   "metadata": {
    "slideshow": {
     "slide_type": "fragment"
    }
   },
   "outputs": [
    {
     "name": "stdout",
     "output_type": "stream",
     "text": [
      "(1, 3.0, 3.14159)\n"
     ]
    }
   ],
   "source": [
    "print(z[::2])            # every 2nd element"
   ]
  },
  {
   "cell_type": "code",
   "execution_count": 19,
   "metadata": {
    "slideshow": {
     "slide_type": "fragment"
    }
   },
   "outputs": [
    {
     "name": "stdout",
     "output_type": "stream",
     "text": [
      "(3.0, 2, 1)\n"
     ]
    }
   ],
   "source": [
    "print(z[2::-1])          # reverse order"
   ]
  },
  {
   "cell_type": "markdown",
   "metadata": {
    "slideshow": {
     "slide_type": "subslide"
    }
   },
   "source": [
    "Tupel unterscheiden sich von Vektoren/Matrizen. (später mehr)\n",
    "\n",
    "Zur Erzeugung von Tupeln: \n",
    "\n",
    "### Einschub  `for`-Schleife"
   ]
  },
  {
   "cell_type": "code",
   "execution_count": 20,
   "metadata": {
    "slideshow": {
     "slide_type": "fragment"
    }
   },
   "outputs": [
    {
     "name": "stdout",
     "output_type": "stream",
     "text": [
      "44\n",
      "55\n",
      "(1, 2, 3.0)\n"
     ]
    }
   ],
   "source": [
    "for i in d:          # key word \"for\" and colon\n",
    "    print(i)         # .... indentation, default 4 chars\n",
    "                     # that's it! "
   ]
  },
  {
   "cell_type": "markdown",
   "metadata": {
    "slideshow": {
     "slide_type": "notes"
    }
   },
   "source": [
    "- Schlüsselwort \"for\"\n",
    "- Doppelpunkt am Ende\n",
    "- Einrückung allen Codes der Schleife (Standard 4 Spaces)\n",
    "- anstatt von...bis reicht \"in\" und ein Objekt mit Inhalt"
   ]
  },
  {
   "cell_type": "code",
   "execution_count": 21,
   "metadata": {
    "slideshow": {
     "slide_type": "subslide"
    }
   },
   "outputs": [
    {
     "name": "stdout",
     "output_type": "stream",
     "text": [
      "0\n",
      "1\n",
      "2\n",
      "3\n",
      "after loop, x=3\n"
     ]
    }
   ],
   "source": [
    "for x in range(4):    # range creates a special object: from 0 on N elements (until last = N-1)\n",
    "    print(x)\n",
    "print('after loop, x={}'.format(x))     # scope outside"
   ]
  },
  {
   "cell_type": "code",
   "execution_count": 22,
   "metadata": {
    "slideshow": {
     "slide_type": "fragment"
    }
   },
   "outputs": [
    {
     "name": "stdout",
     "output_type": "stream",
     "text": [
      "d[0] is 44\n",
      "d[1] is 55\n",
      "d[2] is (1, 2, 3.0)\n"
     ]
    }
   ],
   "source": [
    "# if you need the index, then additionally:\n",
    "for i, a in enumerate(d):               # get index *and* elements\n",
    "    print('d[{}] is {}'.format(i, a))   # still no need to index d[i]"
   ]
  },
  {
   "cell_type": "markdown",
   "metadata": {
    "slideshow": {
     "slide_type": "notes"
    }
   },
   "source": [
    "- range ist spezielles Aufzählungsobjekt\n",
    "   - ähnlich Tupel, ist aber keins\n",
    "   - wie Tupel-Indicees: von 0 ab N Stück, damit nur bis Index N-1\n",
    "- Index von d nicht explizit nötig, a wird gleichzeitig extrahiert"
   ]
  },
  {
   "cell_type": "code",
   "execution_count": 23,
   "metadata": {
    "slideshow": {
     "slide_type": "subslide"
    }
   },
   "outputs": [
    {
     "name": "stdout",
     "output_type": "stream",
     "text": [
      "b= 2 belongs to a=  2\n",
      "b= 5 belongs to a=  4\n",
      "b= 7 belongs to a=  6\n",
      "b=13 belongs to a= 10\n"
     ]
    }
   ],
   "source": [
    "'''need more than one element simultaneously?'''\n",
    "a = (2, 4, 6, 10)\n",
    "b = (2, 5, 7, 13)\n",
    "for j, k in zip(a, b):      # like the zipper element-to-element (not zip like compact)\n",
    "    print('b={:2d} belongs to a={:3d}'. format(k, j))"
   ]
  },
  {
   "cell_type": "markdown",
   "metadata": {
    "slideshow": {
     "slide_type": "subslide"
    }
   },
   "source": [
    "### Tupel erzeugen"
   ]
  },
  {
   "cell_type": "code",
   "execution_count": 23,
   "metadata": {
    "slideshow": {
     "slide_type": "fragment"
    }
   },
   "outputs": [
    {
     "name": "stdout",
     "output_type": "stream",
     "text": [
      "a=() is a <class 'tuple'> and has 0 elements\n",
      "a=(1, 3, 5, 7, 9) is a <class 'tuple'> and has 5 elements\n"
     ]
    }
   ],
   "source": [
    "a = ()                        # empty tuple\n",
    "print('a={} is a {} and has {} elements'.format(a, type(a), len(a)))\n",
    "for i in range(1, 10, 2):     # odd numbers, from 1 to <10 step 2   \n",
    "    a += (i,)                 # tuple needs semicolon\n",
    "print('a={} is a {} and has {} elements'.format(a, type(a), len(a)))"
   ]
  },
  {
   "cell_type": "code",
   "execution_count": 24,
   "metadata": {
    "slideshow": {
     "slide_type": "fragment"
    }
   },
   "outputs": [
    {
     "ename": "TypeError",
     "evalue": "'tuple' object does not support item assignment",
     "output_type": "error",
     "traceback": [
      "\u001b[0;31m---------------------------------------------------------------------------\u001b[0m",
      "\u001b[0;31mTypeError\u001b[0m                                 Traceback (most recent call last)",
      "\u001b[0;32m<ipython-input-24-17b5fa6fd3ad>\u001b[0m in \u001b[0;36m<module>\u001b[0;34m()\u001b[0m\n\u001b[0;32m----> 1\u001b[0;31m \u001b[0ma\u001b[0m\u001b[0;34m[\u001b[0m\u001b[0;36m1\u001b[0m\u001b[0;34m]\u001b[0m \u001b[0;34m=\u001b[0m \u001b[0;36m2\u001b[0m        \u001b[0;31m# you cannot change a tuple element\u001b[0m\u001b[0;34m\u001b[0m\u001b[0m\n\u001b[0m",
      "\u001b[0;31mTypeError\u001b[0m: 'tuple' object does not support item assignment"
     ]
    }
   ],
   "source": [
    "a[1] = 2        # you cannot change a tuple element"
   ]
  },
  {
   "cell_type": "markdown",
   "metadata": {
    "slideshow": {
     "slide_type": "slide"
    }
   },
   "source": [
    "## Listen\n",
    "- Listen sind Aufzählungstypen\n",
    "    - oft, wenn auch nicht zwingend desselben Typs\n",
    "- Listen werden von eckigen Klammern umgeben\n",
    "- Listenelemente lassen sich ändern\n",
    "\n",
    "#### fast alle Operationen wie bei Tupeln möglich"
   ]
  },
  {
   "cell_type": "code",
   "execution_count": 25,
   "metadata": {
    "slideshow": {
     "slide_type": "fragment"
    }
   },
   "outputs": [
    {
     "name": "stdout",
     "output_type": "stream",
     "text": [
      "l=[1, 2, 4, 4, 5.1] is a <class 'list'> with 5 elements; first of <class 'int'>\n"
     ]
    }
   ],
   "source": [
    "l = [1, 2, 3, 4, 5.1]\n",
    "l[2] += 1\n",
    "print('l={} is a {} with {} elements; first of {}'.format(l, type(l), len(l), type(l[0])))"
   ]
  },
  {
   "cell_type": "code",
   "execution_count": 26,
   "metadata": {
    "slideshow": {
     "slide_type": "fragment"
    }
   },
   "outputs": [
    {
     "name": "stdout",
     "output_type": "stream",
     "text": [
      "2*l+l: [1, 2, 4, 4, 5.1, 1, 2, 4, 4, 5.1, 1, 2, 4, 4, 5.1]\n",
      "l[1:-1:2] [2, 4]\n"
     ]
    }
   ],
   "source": [
    "print('2*l+l:', 2*l+l)\n",
    "print('l[1:-1:2]', l[1:-1:2])"
   ]
  },
  {
   "cell_type": "code",
   "execution_count": 27,
   "metadata": {
    "slideshow": {
     "slide_type": "subslide"
    }
   },
   "outputs": [
    {
     "name": "stdout",
     "output_type": "stream",
     "text": [
      "object id x    140316184554056, y    140316184554056 \n",
      "object id x[1] 140316282941160, y[1] 140316282941160 \n",
      "after y[1]=0.2  y[1]=0.2\n",
      "object id x    140316184554056, y    140316184554056 \n",
      "object id x[1] 140316184047736, y[1] 140316184047736 \n"
     ]
    }
   ],
   "source": [
    "'''careful with objects'''\n",
    "x = [1.2, 2.3, 3.4]\n",
    "y = x\n",
    "print('object id x    {}, y    {} '.format(id(x), id(y)))\n",
    "print('object id x[1] {}, y[1] {} '.format(id(x[1]), id(y[1])))\n",
    "y[1] = 0.2\n",
    "print('after y[1]={}  y[1]={}'.format(y[1], x[1]))\n",
    "print('object id x    {}, y    {} '.format(id(x), id(y)))\n",
    "print('object id x[1] {}, y[1] {} '.format(id(x[1]), id(y[1])))"
   ]
  },
  {
   "cell_type": "markdown",
   "metadata": {
    "slideshow": {
     "slide_type": "notes"
    }
   },
   "source": [
    "- Also Obacht ID ändert sich auch rückwärts, weil dasselbe Objekt innerhalb der List in selber Liste"
   ]
  },
  {
   "cell_type": "markdown",
   "metadata": {
    "slideshow": {
     "slide_type": "subslide"
    }
   },
   "source": [
    "### Erzeugung: *list comprehension*\n",
    "Mit eingebauter for-Schleife sehr elegant"
   ]
  },
  {
   "cell_type": "code",
   "execution_count": 28,
   "metadata": {
    "slideshow": {
     "slide_type": "fragment"
    }
   },
   "outputs": [
    {
     "name": "stdout",
     "output_type": "stream",
     "text": [
      "[0, 1, 4, 9, 16, 25, 36, 49, 64, 81]\n"
     ]
    }
   ],
   "source": [
    "'''create list with internal for-loop'''\n",
    "squares = [x**2 for x in range(10)]    # list with built in for-loop\n",
    "print(squares)"
   ]
  },
  {
   "cell_type": "code",
   "execution_count": 29,
   "metadata": {
    "slideshow": {
     "slide_type": "fragment"
    }
   },
   "outputs": [
    {
     "name": "stdout",
     "output_type": "stream",
     "text": [
      "[1, 1, 1, 1, 1, 1, 1, 1, 1, 1]\n",
      "[0, 1, 2, 3, 4, 5, 6, 7, 8, 9]\n",
      "[0, 1, 4, 9, 16, 25, 36, 49, 64, 81]\n",
      "[0, 1, 8, 27, 64, 125, 216, 343, 512, 729]\n",
      "5**3 = 125\n"
     ]
    }
   ],
   "source": [
    "'''multidimensional'''\n",
    "# inner loop: 10 elements x (0..9)\n",
    "# outer loop: 4 rows (power 0..3) \n",
    "powers = [[x**n for x in range(10)] for n in range(4)]   # list of lists\n",
    "for row in powers:\n",
    "    print(row)\n",
    "i, j = (5, 3)                   # search for 5^3\n",
    "print('{}**{} = {}'.format(powers[1][i], j, powers[j][i]))"
   ]
  },
  {
   "cell_type": "markdown",
   "metadata": {
    "slideshow": {
     "slide_type": "subslide"
    }
   },
   "source": [
    "#### Ausblick Vektoren\n"
   ]
  },
  {
   "cell_type": "code",
   "execution_count": 30,
   "metadata": {
    "slideshow": {
     "slide_type": "fragment"
    }
   },
   "outputs": [
    {
     "ename": "TypeError",
     "evalue": "unsupported operand type(s) for ** or pow(): 'list' and 'int'",
     "output_type": "error",
     "traceback": [
      "\u001b[0;31m---------------------------------------------------------------------------\u001b[0m",
      "\u001b[0;31mTypeError\u001b[0m                                 Traceback (most recent call last)",
      "\u001b[0;32m<ipython-input-30-9e2eb4e24082>\u001b[0m in \u001b[0;36m<module>\u001b[0;34m()\u001b[0m\n\u001b[1;32m      1\u001b[0m \u001b[0;34m'''mathematical vector calculation'''\u001b[0m\u001b[0;34m\u001b[0m\u001b[0m\n\u001b[0;32m----> 2\u001b[0;31m \u001b[0msquares\u001b[0m \u001b[0;34m=\u001b[0m \u001b[0mx\u001b[0m\u001b[0;34m**\u001b[0m\u001b[0;36m2\u001b[0m           \u001b[0;31m# squaring a vector?\u001b[0m\u001b[0;34m\u001b[0m\u001b[0m\n\u001b[0m",
      "\u001b[0;31mTypeError\u001b[0m: unsupported operand type(s) for ** or pow(): 'list' and 'int'"
     ]
    }
   ],
   "source": [
    "'''mathematical vector calculation'''\n",
    "squares = x**2           # squaring a vector?"
   ]
  },
  {
   "cell_type": "code",
   "execution_count": 31,
   "metadata": {
    "slideshow": {
     "slide_type": "fragment"
    }
   },
   "outputs": [
    {
     "ename": "TypeError",
     "evalue": "list indices must be integers or slices, not tuple",
     "output_type": "error",
     "traceback": [
      "\u001b[0;31m---------------------------------------------------------------------------\u001b[0m",
      "\u001b[0;31mTypeError\u001b[0m                                 Traceback (most recent call last)",
      "\u001b[0;32m<ipython-input-31-116512b94dfa>\u001b[0m in \u001b[0;36m<module>\u001b[0;34m()\u001b[0m\n\u001b[1;32m      1\u001b[0m \u001b[0;34m'''matrix access'''\u001b[0m\u001b[0;34m\u001b[0m\u001b[0m\n\u001b[0;32m----> 2\u001b[0;31m \u001b[0mx\u001b[0m \u001b[0;34m=\u001b[0m \u001b[0mpowers\u001b[0m\u001b[0;34m[\u001b[0m\u001b[0;36m1\u001b[0m\u001b[0;34m,\u001b[0m \u001b[0;36m2\u001b[0m\u001b[0;34m]\u001b[0m\u001b[0;34m\u001b[0m\u001b[0m\n\u001b[0m",
      "\u001b[0;31mTypeError\u001b[0m: list indices must be integers or slices, not tuple"
     ]
    }
   ],
   "source": [
    "'''matrix access'''\n",
    "x = powers[1, 2]"
   ]
  },
  {
   "cell_type": "markdown",
   "metadata": {
    "slideshow": {
     "slide_type": "slide"
    }
   },
   "source": [
    "### dictionary\n",
    "- benannte Einträge\n",
    "    - unterschiedliche Einträge möglich"
   ]
  },
  {
   "cell_type": "code",
   "execution_count": 32,
   "metadata": {
    "slideshow": {
     "slide_type": "fragment"
    }
   },
   "outputs": [
    {
     "name": "stdout",
     "output_type": "stream",
     "text": [
      "250 250\n"
     ]
    }
   ],
   "source": [
    "tone2 = {'freq': 440.0, 'duration': 250, 'ampl': 0.8, 'name': 'a'}\n",
    "print(tone[1], tone2['duration'])"
   ]
  },
  {
   "cell_type": "code",
   "execution_count": 33,
   "metadata": {
    "slideshow": {
     "slide_type": "fragment"
    }
   },
   "outputs": [
    {
     "ename": "KeyError",
     "evalue": "1",
     "output_type": "error",
     "traceback": [
      "\u001b[0;31m---------------------------------------------------------------------------\u001b[0m",
      "\u001b[0;31mKeyError\u001b[0m                                  Traceback (most recent call last)",
      "\u001b[0;32m<ipython-input-33-e030098c0e89>\u001b[0m in \u001b[0;36m<module>\u001b[0;34m()\u001b[0m\n\u001b[0;32m----> 1\u001b[0;31m \u001b[0mprint\u001b[0m\u001b[0;34m(\u001b[0m\u001b[0mtone2\u001b[0m\u001b[0;34m[\u001b[0m\u001b[0;36m1\u001b[0m\u001b[0;34m]\u001b[0m\u001b[0;34m)\u001b[0m\u001b[0;34m\u001b[0m\u001b[0m\n\u001b[0m",
      "\u001b[0;31mKeyError\u001b[0m: 1"
     ]
    }
   ],
   "source": [
    "print(tone2[1])"
   ]
  },
  {
   "cell_type": "code",
   "execution_count": 34,
   "metadata": {
    "slideshow": {
     "slide_type": "subslide"
    }
   },
   "outputs": [
    {
     "name": "stdout",
     "output_type": "stream",
     "text": [
      "ampl 0.8\n",
      "name a\n",
      "freq 440.0\n",
      "duration 250\n"
     ]
    }
   ],
   "source": [
    "for key, value in tone2.items():    # access paired elements of dictionary \n",
    "    print (key, value)"
   ]
  },
  {
   "cell_type": "code",
   "execution_count": 35,
   "metadata": {
    "slideshow": {
     "slide_type": "fragment"
    }
   },
   "outputs": [
    {
     "name": "stdout",
     "output_type": "stream",
     "text": [
      "key name is ampl and its value is 0.8\n",
      "key name is name and its value is a\n",
      "key name is freq and its value is 440.0\n",
      "key name is duration and its value is 250\n"
     ]
    }
   ],
   "source": [
    "for key in tone2.keys():            # access keys only  of dictionary\n",
    "    print('key name is {} and its value is {}'.format(key, tone2[key]))"
   ]
  },
  {
   "cell_type": "markdown",
   "metadata": {
    "collapsed": true,
    "slideshow": {
     "slide_type": "fragment"
    }
   },
   "source": [
    "- ein dictionary ist weder Liste noch Tupel\n",
    "- kein Zugriff auf einzelne Paare"
   ]
  },
  {
   "cell_type": "markdown",
   "metadata": {
    "slideshow": {
     "slide_type": "slide"
    }
   },
   "source": [
    "# numpy : mathematische Bibliothek\n",
    "- Link: http://www.numpy.org/\n",
    "- Open source Lizenz\n",
    "    - BSD-new license (3-clause) http://www.numpy.org/license.html\n",
    "- Installieren\n",
    "    - apt-get install python-numpy\n",
    "    - conda install numpy\n",
    "    - https://www.scipy.org/install.html\n",
    "- Importieren\n",
    "    - Namenskonvention für Schreibfaulheit <tt>np</tt>"
   ]
  },
  {
   "cell_type": "code",
   "execution_count": 36,
   "metadata": {
    "slideshow": {
     "slide_type": "fragment"
    }
   },
   "outputs": [
    {
     "name": "stdout",
     "output_type": "stream",
     "text": [
      "v=[ 1.2  0.2  3.4] is a <class 'numpy.ndarray'> with 3 elements of <class 'numpy.float64'>\n"
     ]
    }
   ],
   "source": [
    "import numpy as np     # allow access to all numpy functions, datatypes, ...\n",
    "\n",
    "'''numpy vector'''\n",
    "v = np.array(x)        # make numpy vector from previous list-object\n",
    "print('v={} is a {} with {} elements of {}'.format(v, type(v), len(v), type(v[0])))"
   ]
  },
  {
   "cell_type": "code",
   "execution_count": 37,
   "metadata": {
    "slideshow": {
     "slide_type": "subslide"
    }
   },
   "outputs": [
    {
     "name": "stdout",
     "output_type": "stream",
     "text": [
      "sq=[  1.44   0.04  11.56] is a <class 'numpy.ndarray'> with 3 elements of <class 'numpy.float64'>\n"
     ]
    }
   ],
   "source": [
    "'''vector maths'''\n",
    "sq = v**2              # now we can calculate with vectors (numpy arrays)\n",
    "print('sq={} is a {} with {} elements of {}'.format(sq, type(sq), len(sq), type(sq[0])))"
   ]
  },
  {
   "cell_type": "code",
   "execution_count": 38,
   "metadata": {
    "slideshow": {
     "slide_type": "fragment"
    }
   },
   "outputs": [
    {
     "name": "stdout",
     "output_type": "stream",
     "text": [
      "norm |v|=13.04\n"
     ]
    }
   ],
   "source": [
    "print('norm |v|={}'.format(np.dot(v, v) ))   # scalar product"
   ]
  },
  {
   "cell_type": "code",
   "execution_count": 39,
   "metadata": {
    "slideshow": {
     "slide_type": "fragment"
    }
   },
   "outputs": [
    {
     "name": "stdout",
     "output_type": "stream",
     "text": [
      "v has 3 values of float64 with a mean=1.600 and sd=1.337\n"
     ]
    }
   ],
   "source": [
    "print('v has {} values of {} with a mean={:.3f} and sd={:.3f}'.\n",
    "     format(v.shape[0], v.dtype, v.mean(), v.std()))"
   ]
  },
  {
   "cell_type": "code",
   "execution_count": 40,
   "metadata": {
    "slideshow": {
     "slide_type": "fragment"
    }
   },
   "outputs": [
    {
     "name": "stdout",
     "output_type": "stream",
     "text": [
      "the maximum of v is 3.400 located at index 2\n"
     ]
    }
   ],
   "source": [
    "print('the maximum of v is {:.3f} located at index {}'.format(v.max(), v.argmax()))"
   ]
  },
  {
   "cell_type": "code",
   "execution_count": 41,
   "metadata": {
    "slideshow": {
     "slide_type": "subslide"
    }
   },
   "outputs": [
    {
     "name": "stdout",
     "output_type": "stream",
     "text": [
      "po=\n",
      "[[  1   1   1   1   1   1   1   1   1   1]\n",
      " [  0   1   2   3   4   5   6   7   8   9]\n",
      " [  0   1   4   9  16  25  36  49  64  81]\n",
      " [  0   1   8  27  64 125 216 343 512 729]] \n",
      "is a <class 'numpy.ndarray'> with shape (4, 10) of <class 'numpy.int64'>\n"
     ]
    }
   ],
   "source": [
    "'''matrix'''\n",
    "po = np.asarray(powers)\n",
    "print('po=\\n{} \\nis a {} with shape {} of {}'.format(po, type(po), po.shape, type(po[0, 0])))"
   ]
  },
  {
   "cell_type": "code",
   "execution_count": 42,
   "metadata": {
    "slideshow": {
     "slide_type": "subslide"
    }
   },
   "outputs": [
    {
     "name": "stdout",
     "output_type": "stream",
     "text": [
      "[47 37 33]\n"
     ]
    }
   ],
   "source": [
    "'''matrix calculation'''\n",
    "A = np.array([[1, 2, 3], [3, 2, 1], [3, 3, 0]])    # matrix\n",
    "x = np.array([5, 6, 10])                           # vector\n",
    "y = np.dot(A, x)                                   # multiplication \n",
    "print(y)                                           # result, always a row-vector"
   ]
  },
  {
   "cell_type": "code",
   "execution_count": 43,
   "metadata": {
    "slideshow": {
     "slide_type": "fragment"
    }
   },
   "outputs": [
    {
     "name": "stdout",
     "output_type": "stream",
     "text": [
      "[  0.00000000e+00   3.55271368e-15   0.00000000e+00]\n"
     ]
    }
   ],
   "source": [
    "'''matrix functions'''\n",
    "Ai = np.linalg.inv(A)    # sub module linalg of numpy provides matrix inversion\n",
    "z = np.dot(Ai, y)        # test inversion\n",
    "print(z-x)               # accuracy is about 15 decimal digits"
   ]
  },
  {
   "cell_type": "code",
   "execution_count": 44,
   "metadata": {
    "slideshow": {
     "slide_type": "fragment"
    }
   },
   "outputs": [
    {
     "name": "stdout",
     "output_type": "stream",
     "text": [
      "[[  1.00000000e+00   4.44089210e-16   0.00000000e+00]\n",
      " [  0.00000000e+00   1.00000000e+00  -1.11022302e-16]\n",
      " [  0.00000000e+00   4.44089210e-16   1.00000000e+00]]\n",
      "True\n"
     ]
    }
   ],
   "source": [
    "'''inverse?'''\n",
    "E = np.dot(A, Ai)\n",
    "print(E)                                  # we expect 1\n",
    "print(np.all(np.isclose(E, np.eye(3))))   # every element within given precision?"
   ]
  },
  {
   "cell_type": "code",
   "execution_count": 45,
   "metadata": {
    "slideshow": {
     "slide_type": "subslide"
    }
   },
   "outputs": [
    {
     "name": "stdout",
     "output_type": "stream",
     "text": [
      "[220 248 252]\n"
     ]
    }
   ],
   "source": [
    "'''matrix chains'''\n",
    "print(A.dot(A.dot(x)))   # easy to interpret, transposes"
   ]
  },
  {
   "cell_type": "code",
   "execution_count": 46,
   "metadata": {
    "slideshow": {
     "slide_type": "subslide"
    }
   },
   "outputs": [
    {
     "data": {
      "text/plain": [
       "array([[ 0.,  0.,  0.,  0.,  0.],\n",
       "       [ 0.,  0.,  0.,  0.,  0.],\n",
       "       [ 0.,  0.,  0.,  0.,  0.]])"
      ]
     },
     "execution_count": 46,
     "metadata": {},
     "output_type": "execute_result"
    }
   ],
   "source": [
    "'''zero matrix'''\n",
    "np.zeros((3, 5))   # outer 3 rows x inner 5 columns"
   ]
  },
  {
   "cell_type": "code",
   "execution_count": 47,
   "metadata": {
    "slideshow": {
     "slide_type": "fragment"
    }
   },
   "outputs": [
    {
     "name": "stdout",
     "output_type": "stream",
     "text": [
      "[[1 1 1]\n",
      " [1 1 1]\n",
      " [1 1 1]]\n"
     ]
    }
   ],
   "source": [
    "print(np.ones_like(A))   # all elements 1; in shape of A, that means 3x3"
   ]
  },
  {
   "cell_type": "code",
   "execution_count": 48,
   "metadata": {
    "slideshow": {
     "slide_type": "fragment"
    }
   },
   "outputs": [
    {
     "name": "stdout",
     "output_type": "stream",
     "text": [
      "[[1 3 3]\n",
      " [2 2 3]\n",
      " [3 1 0]] is the transposed of A\n"
     ]
    }
   ],
   "source": [
    "print('{} is the transposed of A'.format(A.T))"
   ]
  },
  {
   "cell_type": "markdown",
   "metadata": {
    "slideshow": {
     "slide_type": "notes"
    }
   },
   "source": [
    "- Matrix aus Liste von Listen (gleicher Länge natürlich)\n",
    "- Zugriff auf einzelnes Element mit 2 Indices möglich po[0, 0]\n",
    "- dot: Vektor/Matrix-Multiplikation\n",
    "    - alle Vektoren sind Zeilenvektoren\n",
    "    - dot interpretiert als Spaltenvektor."
   ]
  },
  {
   "cell_type": "code",
   "execution_count": 49,
   "metadata": {
    "slideshow": {
     "slide_type": "subslide"
    }
   },
   "outputs": [
    {
     "name": "stdout",
     "output_type": "stream",
     "text": [
      "[[ 1.  1.  1.  1.  1.]\n",
      " [ 1.  1.  1.  1.  1.]\n",
      " [ 1.  1.  1.  1.  1.]]\n",
      "[ 1.  1.  1.  1.  1.]\n",
      "[ 5.  5.  5.]\n"
     ]
    }
   ],
   "source": [
    "'''all 1d numpy ndarrays are row-vectors.\n",
    "   numpy.dot transposes row-vector to column-vector, multiplicates\n",
    "   and returns row-vector'''\n",
    "Ma = np.ones((3,5))\n",
    "Va = np.ones(5)\n",
    "print(Ma)\n",
    "print(Va)\n",
    "print(np.dot(Ma, Va))"
   ]
  },
  {
   "cell_type": "code",
   "execution_count": 50,
   "metadata": {
    "slideshow": {
     "slide_type": "fragment"
    }
   },
   "outputs": [
    {
     "name": "stdout",
     "output_type": "stream",
     "text": [
      "flatten A: [1 2 3 3 2 1 3 3 0]\n"
     ]
    }
   ],
   "source": [
    "print('flatten A: {}'.format(A.ravel()))"
   ]
  },
  {
   "cell_type": "code",
   "execution_count": 51,
   "metadata": {
    "slideshow": {
     "slide_type": "fragment"
    }
   },
   "outputs": [
    {
     "name": "stdout",
     "output_type": "stream",
     "text": [
      "[[ 0  1  2  3]\n",
      " [ 4  5  6  7]\n",
      " [ 8  9 10 11]] reshaped from 12 values\n"
     ]
    }
   ],
   "source": [
    "print('{} reshaped from {} values'.format(np.arange(3*4).reshape((3, 4)), 3*4))"
   ]
  },
  {
   "cell_type": "code",
   "execution_count": 52,
   "metadata": {
    "slideshow": {
     "slide_type": "subslide"
    }
   },
   "outputs": [
    {
     "name": "stdout",
     "output_type": "stream",
     "text": [
      "[[2 3]\n",
      " [2 1]]\n"
     ]
    }
   ],
   "source": [
    "'''slicing'''\n",
    "print(A[:-1, 1:])   # skip last row; skip first column"
   ]
  },
  {
   "cell_type": "code",
   "execution_count": 53,
   "metadata": {
    "slideshow": {
     "slide_type": "fragment"
    }
   },
   "outputs": [
    {
     "name": "stdout",
     "output_type": "stream",
     "text": [
      "[[1 2 3]\n",
      " [3 2 1]\n",
      " [3 3 0]\n",
      " [5 6 7]] A with additional row\n",
      "[[1 2 3 4]\n",
      " [3 2 1 0]\n",
      " [3 3 0 0]] A with additional column\n"
     ]
    }
   ],
   "source": [
    "'''concatenate column or row'''\n",
    "print('{} A with additional row'.format(np.vstack((A, [[5, 6, 7]]))))\n",
    "print('{} A with additional column'.format(np.hstack((A, [[4], [0], [0]]))))"
   ]
  },
  {
   "cell_type": "markdown",
   "metadata": {
    "slideshow": {
     "slide_type": "subslide"
    }
   },
   "source": [
    "#### Literatur:\n",
    "- https://docs.scipy.org/doc/numpy/reference/arrays.ndarray.html\n",
    "- https://docs.scipy.org/doc/numpy/reference/routines.array-manipulation.html\n",
    "- https://docs.scipy.org/doc/numpy/reference/routines.linalg.html\n",
    "- https://docs.scipy.org/doc/numpy/user/numpy-for-matlab-users.html"
   ]
  },
  {
   "cell_type": "markdown",
   "metadata": {
    "slideshow": {
     "slide_type": "slide"
    }
   },
   "source": [
    "## Funktionen\n",
    "- Definition\n",
    "    - Schlüsselwort \"<tt>def</tt>\"\n",
    "    - Doppelpunkt nach Definitionszeile\n",
    "    - Argumente in Klammern\n",
    "    - eingerückter Quelltext (Standard 4 Leerzeichen)"
   ]
  },
  {
   "cell_type": "code",
   "execution_count": 54,
   "metadata": {
    "slideshow": {
     "slide_type": "fragment"
    }
   },
   "outputs": [
    {
     "name": "stdout",
     "output_type": "stream",
     "text": [
      "16\n"
     ]
    }
   ],
   "source": [
    "def square(a):\n",
    "    return a**2\n",
    "\n",
    "print(square(4))"
   ]
  },
  {
   "cell_type": "markdown",
   "metadata": {
    "slideshow": {
     "slide_type": "subslide"
    }
   },
   "source": [
    "### Bitte Kommentare!"
   ]
  },
  {
   "cell_type": "code",
   "execution_count": 55,
   "metadata": {
    "collapsed": true,
    "slideshow": {
     "slide_type": "subslide"
    }
   },
   "outputs": [],
   "source": [
    "def square(a):\n",
    "    '''\n",
    "    function my_func\n",
    "    \n",
    "    Parameters\n",
    "    ----------\n",
    "    a : int, float or numpy-array\n",
    "    \n",
    "    Returns\n",
    "    -------\n",
    "    y : a^2; element wise square of a\n",
    "    \n",
    "    Examples\n",
    "    --------\n",
    "    >>>my_func(90)\n",
    "    8101\n",
    "    \n",
    "    Note\n",
    "    ----\n",
    "    useful for showing how to comment a function with docstring\n",
    "    '''\n",
    "    return a**2"
   ]
  },
  {
   "cell_type": "code",
   "execution_count": 56,
   "metadata": {
    "collapsed": true,
    "slideshow": {
     "slide_type": "fragment"
    }
   },
   "outputs": [],
   "source": [
    "square?"
   ]
  },
  {
   "cell_type": "code",
   "execution_count": 58,
   "metadata": {
    "slideshow": {
     "slide_type": "subslide"
    }
   },
   "outputs": [
    {
     "name": "stdout",
     "output_type": "stream",
     "text": [
      "a <class 'list'> is \n",
      "a <class 'list'> is \n",
      "a <class 'list'> is \n",
      "a <class 'list'>\n"
     ]
    }
   ],
   "source": [
    "'''recursion'''\n",
    "def d( a ):\n",
    "    if len(a)>1:                           # finished?\n",
    "        print('a {} is '.format(type(a)))\n",
    "        d(a[1])                            # go further ...\n",
    "    else:\n",
    "        print('a {}'.format(type(a)))      # result\n",
    "\n",
    "mylist = [0, [1, [2, [3]]]]\n",
    "d(mylist)"
   ]
  },
  {
   "cell_type": "markdown",
   "metadata": {
    "slideshow": {
     "slide_type": "notes"
    }
   },
   "source": [
    "- verschachtelte Einrückung\n",
    "- Rekursion"
   ]
  },
  {
   "cell_type": "markdown",
   "metadata": {
    "slideshow": {
     "slide_type": "subslide"
    }
   },
   "source": [
    "#### Argument beim Namen nennen"
   ]
  },
  {
   "cell_type": "code",
   "execution_count": 1,
   "metadata": {
    "slideshow": {
     "slide_type": "fragment"
    }
   },
   "outputs": [
    {
     "name": "stdout",
     "output_type": "stream",
     "text": [
      "erstes 1, zweites 2 und drittes 3 Argument\n"
     ]
    }
   ],
   "source": [
    "def myfunc(a1, a2, a3):\n",
    "    print('erstes {}, zweites {} und drittes {} Argument'.format(a1, a2, a3))\n",
    "\n",
    "myfunc(1, 2, 3 )"
   ]
  },
  {
   "cell_type": "code",
   "execution_count": 2,
   "metadata": {
    "slideshow": {
     "slide_type": "fragment"
    }
   },
   "outputs": [
    {
     "name": "stdout",
     "output_type": "stream",
     "text": [
      "erstes 10, zweites 20 und drittes 30 Argument\n"
     ]
    }
   ],
   "source": [
    "myfunc(a2=20, a3=30, a1=10)"
   ]
  },
  {
   "cell_type": "markdown",
   "metadata": {
    "slideshow": {
     "slide_type": "fragment"
    }
   },
   "source": [
    "#### default Argumente"
   ]
  },
  {
   "cell_type": "code",
   "execution_count": 3,
   "metadata": {
    "slideshow": {
     "slide_type": "fragment"
    }
   },
   "outputs": [
    {
     "name": "stdout",
     "output_type": "stream",
     "text": [
      "erstes 1, zweites 22 und drittes 3 Argument\n"
     ]
    }
   ],
   "source": [
    "def myfunc(a1=1, a2=2, a3=3):\n",
    "    print('erstes {}, zweites {} und drittes {} Argument'.format(a1, a2, a3))\n",
    "\n",
    "myfunc(a2=22)"
   ]
  },
  {
   "cell_type": "markdown",
   "metadata": {
    "slideshow": {
     "slide_type": "slide"
    }
   },
   "source": [
    "## Verzweigung"
   ]
  },
  {
   "cell_type": "code",
   "execution_count": 59,
   "metadata": {
    "slideshow": {
     "slide_type": "fragment"
    }
   },
   "outputs": [
    {
     "name": "stdout",
     "output_type": "stream",
     "text": [
      "- the else case: -\n",
      "  different\n"
     ]
    }
   ],
   "source": [
    "'''if-then-elif-else'''\n",
    "a = 3.1\n",
    "b = 3.141\n",
    "if a==b:\n",
    "    print('  equal')\n",
    "elif a>b:\n",
    "    print('  greater')\n",
    "else:\n",
    "    print('- the else case: -')\n",
    "    print('  different')"
   ]
  },
  {
   "cell_type": "markdown",
   "metadata": {
    "slideshow": {
     "slide_type": "subslide"
    }
   },
   "source": [
    "#### Vergleichsoperatoren\n",
    "\n",
    "    <, >, ==, >=, <=, !=      # gleiche Priorität, unterhalb Arithmetik\n",
    "\n",
    "Siehe: https://docs.python.org/3/reference/expressions.html#comparisons"
   ]
  },
  {
   "cell_type": "code",
   "execution_count": 60,
   "metadata": {
    "slideshow": {
     "slide_type": "fragment"
    }
   },
   "outputs": [
    {
     "name": "stdout",
     "output_type": "stream",
     "text": [
      "this 0-element=1\n",
      "this 0-element=2\n",
      "this 0-element=3\n",
      "this 0-element=4\n",
      "rest of l: []\n"
     ]
    }
   ],
   "source": [
    "'''while loop'''\n",
    "l = [1, 2, 3, 4]\n",
    "while len(l):          # 0 is equivalent to False, any other to True\n",
    "    print('this 0-element={}'.format(l[0]))\n",
    "    l = l[1:]\n",
    "\n",
    "print('rest of l: {}'.format(l))"
   ]
  },
  {
   "cell_type": "markdown",
   "metadata": {
    "slideshow": {
     "slide_type": "fragment"
    }
   },
   "source": [
    "Kann meistens eleganter durch for ersetzt werden durch Verwendung von in: <tt>for x in list:</tt>"
   ]
  },
  {
   "cell_type": "code",
   "execution_count": 61,
   "metadata": {
    "slideshow": {
     "slide_type": "subslide"
    }
   },
   "outputs": [
    {
     "name": "stdout",
     "output_type": "stream",
     "text": [
      "Type something <ENTER>, \"x\" stops: A\n",
      "you pressed A\n",
      "Type something <ENTER>, \"x\" stops: B\n",
      "you pressed B\n",
      "Type something <ENTER>, \"x\" stops: C\n",
      "you pressed C\n",
      "Type something <ENTER>, \"x\" stops: x\n",
      "you pressed x\n",
      "done\n"
     ]
    }
   ],
   "source": [
    "'''do-while replacement'''\n",
    "a = 'y'\n",
    "\n",
    "while a != 'x':\n",
    "    a = input('Type something <ENTER>, \"x\" stops: ')\n",
    "    print('you pressed {}'.format(a))\n",
    "\n",
    "print('done')"
   ]
  },
  {
   "cell_type": "markdown",
   "metadata": {
    "collapsed": true,
    "slideshow": {
     "slide_type": "subslide"
    }
   },
   "source": [
    "#### switch-case\n",
    "ist nicht in Python implementiert.\n",
    "\n",
    "Ersatz durch <tt>if-elif-else</tt>  oder siehe etwa hier:  http://code.activestate.com/recipes/410692/"
   ]
  },
  {
   "cell_type": "markdown",
   "metadata": {
    "slideshow": {
     "slide_type": "slide"
    }
   },
   "source": [
    "## matplotlib Graphiken\n",
    "- Projekthomepage http://matplotlib.org/index.html\n",
    "- Beispiele http://matplotlib.org/gallery.html\n",
    "- Einführung http://matplotlib.org/users/pyplot_tutorial.html\n",
    "\n",
    "#### Lizenz \n",
    "- based on the Python Software Foundation (PSF) license"
   ]
  },
  {
   "cell_type": "code",
   "execution_count": 62,
   "metadata": {
    "collapsed": true,
    "slideshow": {
     "slide_type": "fragment"
    }
   },
   "outputs": [],
   "source": [
    "'''add graphics-(sub)-library, and set as output within notebook:'''\n",
    "from matplotlib import pyplot as plt\n",
    "%matplotlib inline"
   ]
  },
  {
   "cell_type": "code",
   "execution_count": 63,
   "metadata": {
    "slideshow": {
     "slide_type": "subslide"
    }
   },
   "outputs": [
    {
     "data": {
      "text/plain": [
       "[<matplotlib.lines.Line2D at 0x7f9dc4d74d30>]"
      ]
     },
     "execution_count": 63,
     "metadata": {},
     "output_type": "execute_result"
    },
    {
     "data": {
      "image/png": "[encoded data removed]",
      "text/plain": [
       "<matplotlib.figure.Figure at 0x7f9dc4e0b4a8>"
      ]
     },
     "metadata": {},
     "output_type": "display_data"
    }
   ],
   "source": [
    "'''define x and y and plot y vs x'''\n",
    "x = powers[1]\n",
    "y = powers[2]\n",
    "plt.plot(x,y)"
   ]
  },
  {
   "cell_type": "code",
   "execution_count": 64,
   "metadata": {
    "slideshow": {
     "slide_type": "subslide"
    }
   },
   "outputs": [
    {
     "data": {
      "image/png": "[encoded data removed]",
      "text/plain": [
       "<matplotlib.figure.Figure at 0x7f9dc4d98080>"
      ]
     },
     "metadata": {},
     "output_type": "display_data"
    }
   ],
   "source": [
    "'''plot it nicely'''\n",
    "fig = plt.figure(figsize=(8, 4))         # create a figure with size 8x4 inches\n",
    "plt.title('squares of x')                # write a headline on top of the figure\n",
    "plt.xlabel('x-values')                   # write x-axis' label\n",
    "plt.ylabel('y-values')                   # write y-axis' label\n",
    "plt.axis([0, 10, 0, 82])                 # restrict x- and y-axis\n",
    "plt.plot(x, y, 'go', label='y = f(x)')   # plot y vs x; use green circles; set plotlabel\n",
    "plt.plot(x, y, 'r--', label='y')         # ...  and also interpolating red dashed lines\n",
    "plt.legend(loc='upper left');            # ';' prevents object output"
   ]
  },
  {
   "cell_type": "code",
   "execution_count": 65,
   "metadata": {
    "slideshow": {
     "slide_type": "subslide"
    }
   },
   "outputs": [
    {
     "name": "stdout",
     "output_type": "stream",
     "text": [
      "plotting x to the power of 0 in color 'b'\n",
      "plotting x to the power of 1 in color 'g'\n",
      "plotting x to the power of 2 in color 'r'\n",
      "plotting x to the power of 3 in color 'y'\n"
     ]
    },
    {
     "data": {
      "image/png": "[encoded data removed]",
      "text/plain": [
       "<matplotlib.figure.Figure at 0x7f9dc4cfa2e8>"
      ]
     },
     "metadata": {},
     "output_type": "display_data"
    }
   ],
   "source": [
    "'''plot nicely multiple graphs in different colors'''\n",
    "fig = plt.figure(figsize=(8, 4))         # create a figure with size 8x4 inches\n",
    "x = powers[1]\n",
    "plt.title('powers of x')                 # write a headline on top of the figure\n",
    "plt.xlabel('x-values')                   # write x-axis' label\n",
    "plt.ylabel('y-values')                   # write y-axis' label\n",
    "plt.axis([0, 10, 0, 80])                 # restrict x- and y-axis\n",
    "plt.plot(x, np.asarray(powers).T, 'ko')  # plot all 4 ys vs x at once; use black circles\n",
    "for i, (row, col) in enumerate(zip(powers, ['b', 'g', 'r', 'y'])):\n",
    "    print(\"plotting x to the power of {} in color '{}'\".format(i, col))\n",
    "    plt.plot(x, row, color=col, linestyle='-', label='x**{}'.format(i)) \n",
    "plt.legend(loc='upper left');"
   ]
  },
  {
   "cell_type": "markdown",
   "metadata": {
    "slideshow": {
     "slide_type": "notes"
    }
   },
   "source": [
    "- Verschönern:\n",
    "    - Titel\n",
    "    - Achsen\n",
    "    - Legende mit Beschriftungen\n",
    "    - Punkte\n",
    "    - Verbinden\n",
    "- der ';' verhindert die Ausgabe des Objekts"
   ]
  },
  {
   "cell_type": "markdown",
   "metadata": {
    "slideshow": {
     "slide_type": "subslide"
    }
   },
   "source": [
    "### LaTeX\n",
    "\n",
    "http://matplotlib.org/users/mathtext.html"
   ]
  },
  {
   "cell_type": "code",
   "execution_count": 66,
   "metadata": {
    "slideshow": {
     "slide_type": "fragment"
    }
   },
   "outputs": [
    {
     "data": {
      "image/png": "[encoded data removed]",
      "text/plain": [
       "<matplotlib.figure.Figure at 0x7f9dc4cfa550>"
      ]
     },
     "metadata": {},
     "output_type": "display_data"
    }
   ],
   "source": [
    "'''LaTeX-math is working under graphics matplotlib\n",
    "   see http://matplotlib.org/users/mathtext.html'''\n",
    "import matplotlib.pyplot as plt         # enable graphics; within notebook:\n",
    "%matplotlib inline\n",
    "\n",
    "plt.figure(figsize=(6,1))\n",
    "plt.title(r'overview $x \\in \\Omega$');  # r=raw string; $...$ frames math"
   ]
  },
  {
   "cell_type": "markdown",
   "metadata": {
    "slideshow": {
     "slide_type": "slide"
    }
   },
   "source": [
    "## Statistik\n",
    "Siehe http://docs.scipy.org/doc/scipy/reference/stats.html"
   ]
  },
  {
   "cell_type": "markdown",
   "metadata": {
    "slideshow": {
     "slide_type": "notes"
    }
   },
   "source": [
    "#### Wir beschäftigen uns *ausgiebig* mit Statistik. \n",
    "Hier nur ein keines Beispiel, alles weitere wenn erforderlich."
   ]
  },
  {
   "cell_type": "code",
   "execution_count": 67,
   "metadata": {
    "slideshow": {
     "slide_type": "fragment"
    }
   },
   "outputs": [
    {
     "data": {
      "image/png": "[encoded data removed]",
      "text/plain": [
       "<matplotlib.figure.Figure at 0x7f9dc4a6f198>"
      ]
     },
     "metadata": {},
     "output_type": "display_data"
    }
   ],
   "source": [
    "'''plot a Gaussian distribution'''\n",
    "from scipy import stats             # statistics library in scientific library\n",
    "x = np.linspace(-4, 4)              # linear spaced x-values in a numpy array, default 50\n",
    "plt.xkcd()                          # just call XKCD-style\n",
    "# plot the famous normal probability density function\n",
    "plt.plot(x, stats.norm.pdf(x), label='mexican hat')\n",
    "plt.axis((-4, 4, 0, 0.5))           # restrict x and y \n",
    "plt.xlabel('values')\n",
    "plt.ylabel('probability')\n",
    "plt.legend(loc='upper right');"
   ]
  },
  {
   "cell_type": "markdown",
   "metadata": {
    "slideshow": {
     "slide_type": "slide"
    }
   },
   "source": [
    "## Betriebssystem"
   ]
  },
  {
   "cell_type": "code",
   "execution_count": 68,
   "metadata": {
    "slideshow": {
     "slide_type": "skip"
    }
   },
   "outputs": [
    {
     "name": "stdout",
     "output_type": "stream",
     "text": [
      "-- my System:\n",
      "3.10.0-327.36.2.el7.x86_64 x86_64\n",
      "Python 3.5.2 :: Continuum Analytics, Inc.\n",
      "-- where am i?\n",
      "/home/wannek/VL/statistik\n",
      "-- some python files:\n",
      "getch_half.py  getch.py  hello.py  Kruschke.py\n",
      "-- hello.py contains:\n",
      "print('hello world')\n"
     ]
    }
   ],
   "source": [
    "print('-- my System:')\n",
    "! uname -mr\n",
    "! python --version\n",
    "print('-- where am i?')\n",
    "! pwd\n",
    "print('-- some python files:')\n",
    "! ls *.py\n",
    "print('-- hello.py contains:')\n",
    "! cat hello.py"
   ]
  },
  {
   "cell_type": "code",
   "execution_count": 4,
   "metadata": {
    "slideshow": {
     "slide_type": "fragment"
    }
   },
   "outputs": [
    {
     "name": "stdout",
     "output_type": "stream",
     "text": [
      "-- my System:\n",
      "4.4.140-1.el7.elrepo.x86_64 x86_64\n",
      "Python 3.7.0\n",
      "-- where am i?\n",
      "/home/wannek/VL/statistik\n",
      "-- some python files:\n",
      "AngStII_Bayes.py  getch_half.py  getch.py  hello.py\n",
      "-- hello.py contains:\n",
      "print('hello world')\n"
     ]
    }
   ],
   "source": [
    "print('-- my System:')\n",
    "! uname -mr\n",
    "! python --version\n",
    "print('-- where am i?')\n",
    "! pwd\n",
    "print('-- some python files:')\n",
    "! ls *.py\n",
    "print('-- hello.py contains:')\n",
    "! cat hello.py"
   ]
  },
  {
   "cell_type": "markdown",
   "metadata": {
    "slideshow": {
     "slide_type": "slide"
    }
   },
   "source": [
    "## Line magics %\n",
    "\n",
    "https://ipython.org/ipython-doc/dev/interactive/magics.html\n",
    "\n",
    "    %load hello.py"
   ]
  },
  {
   "cell_type": "code",
   "execution_count": 69,
   "metadata": {
    "slideshow": {
     "slide_type": "fragment"
    }
   },
   "outputs": [
    {
     "name": "stdout",
     "output_type": "stream",
     "text": [
      "hello world\n"
     ]
    }
   ],
   "source": [
    "# %load hello.py\n",
    "print('hello world')\n"
   ]
  },
  {
   "cell_type": "markdown",
   "metadata": {
    "slideshow": {
     "slide_type": "notes"
    }
   },
   "source": [
    "- Erster Aufruf lädt (und setzt Kommentar)\n",
    "- Zweiter Aufruf führt aus"
   ]
  },
  {
   "cell_type": "code",
   "execution_count": 70,
   "metadata": {
    "slideshow": {
     "slide_type": "subslide"
    }
   },
   "outputs": [
    {
     "name": "stdout",
     "output_type": "stream",
     "text": [
      "hello world\n"
     ]
    }
   ],
   "source": [
    "%run hello.py"
   ]
  },
  {
   "cell_type": "code",
   "execution_count": 71,
   "metadata": {
    "slideshow": {
     "slide_type": "fragment"
    }
   },
   "outputs": [
    {
     "name": "stdout",
     "output_type": "stream",
     "text": [
      "Writing hello2.py\n"
     ]
    }
   ],
   "source": [
    "%%writefile hello2.py\n",
    "print('hello world #2')"
   ]
  },
  {
   "cell_type": "code",
   "execution_count": 72,
   "metadata": {
    "slideshow": {
     "slide_type": "fragment"
    }
   },
   "outputs": [
    {
     "name": "stdout",
     "output_type": "stream",
     "text": [
      "print('hello world #2')"
     ]
    }
   ],
   "source": [
    "! cat hello2.py"
   ]
  },
  {
   "cell_type": "code",
   "execution_count": 73,
   "metadata": {
    "collapsed": true,
    "slideshow": {
     "slide_type": "subslide"
    }
   },
   "outputs": [],
   "source": [
    "%matplotlib inline"
   ]
  },
  {
   "cell_type": "markdown",
   "metadata": {
    "collapsed": true,
    "slideshow": {
     "slide_type": "fragment"
    }
   },
   "source": [
    "Export als *notebook* aus *ipython* heraus:\n",
    "\n",
    "    %notebook -e FILENAME"
   ]
  },
  {
   "cell_type": "markdown",
   "metadata": {
    "slideshow": {
     "slide_type": "notes"
    }
   },
   "source": [
    "- Falls Sie *nicht* **jupyter notebook** verwenden, können Sie so auch ein Notebook erstellen."
   ]
  },
  {
   "cell_type": "code",
   "execution_count": 74,
   "metadata": {
    "collapsed": true,
    "slideshow": {
     "slide_type": "subslide"
    }
   },
   "outputs": [],
   "source": [
    "%pinfo A"
   ]
  },
  {
   "cell_type": "markdown",
   "metadata": {
    "slideshow": {
     "slide_type": "fragment"
    }
   },
   "source": [
    "    Type:            ndarray\n",
    "    String form:    \n",
    "    [[1 2 3]\n",
    "     [3 2 1]\n",
    "     [3 3 0]]\n",
    "    Length:          3\n",
    "    File:            /home/data/anacondaCent/envs/statistik/lib/python3.5/site-packages/numpy/__init__.py\n",
    "    Docstring:       <no docstring>\n",
    "    Class docstring:\n",
    "    ndarray(shape, dtype=float, buffer=None, offset=0,\n",
    "            strides=None, order=None)\n",
    "    \n",
    "    An array object represents a multidimensional, homogeneous array\n",
    "    of fixed-size items.  An associated data-type object describes the\n",
    "    format of each element in the array (its byte-order, how many bytes it\n",
    "    occupies in memory, whether it is an integer, a floating point number,\n",
    "    or something else, etc.)\n"
   ]
  },
  {
   "cell_type": "markdown",
   "metadata": {
    "slideshow": {
     "slide_type": "slide"
    }
   },
   "source": [
    "# Hilfe\n",
    "\n",
    "- In *ipython*/*jupyter* funktioniert die **automatische TAB**-Vervollständigung.\n",
    "- Aufruf eines Befehls mit anghängtem **Fragezeichen** zeigt die Hilfe in einem extra Fenster.\n",
    "- `help()`-Funktion\n",
    "- Mittels print die **doc-Strings** anzeigen ."
   ]
  },
  {
   "cell_type": "markdown",
   "metadata": {
    "slideshow": {
     "slide_type": "notes"
    }
   },
   "source": [
    "- `print( .__doc__)` auch in ipython Textkonsole fortlaufend im Text\n",
    "- `help()`\n",
    "    - in jupyter-code-Zelle dann in der Ausgabe\n",
    "    - in ipython als Editor-Frame überlagert\n",
    "- `?` in jupyter notebook als dauerhaftes Info-Fenster (schließbar)"
   ]
  },
  {
   "cell_type": "markdown",
   "metadata": {
    "slideshow": {
     "slide_type": "subslide"
    }
   },
   "source": [
    "    >>> from scipy import stats\n",
    "    >>> print( stats.norm.__doc__ )\n",
    "    A normal continuous random variable.\n",
    "      The location (loc) keyword specifies the mean.\n",
    "      The scale (scale) keyword specifies the standard deviation.\n",
    "      Continuous random variables are defined from a standard form and may\n",
    "      require some shape parameters to complete its specification.  Any\n",
    "      optional keyword parameters can be passed to the methods of the RV\n",
    "      object as given below:\n",
    "      \n",
    "      Methods\n",
    "      -------\n",
    "      ``rvs(loc=0, scale=1, size=1)``\n",
    "          Random variates.\n",
    "      ``pdf(x, loc=0, scale=1)``\n",
    "          Probability density function.\n",
    "      ``logpdf(x, loc=0, scale=1)``\n",
    "          Log of the probability density function.\n",
    "      ``cdf(x, loc=0, scale=1)``\n",
    "          Cumulative density function.\n",
    "    [...]"
   ]
  },
  {
   "cell_type": "markdown",
   "metadata": {
    "slideshow": {
     "slide_type": "subslide"
    }
   },
   "source": [
    "    \n",
    "    >>> print( stats.norm.pdf.__doc__ )\n",
    "    Probability density function at x of the given RV.\n",
    "\n",
    "      Parameters\n",
    "      ----------\n",
    "      x : array_like\n",
    "          quantiles\n",
    "      arg1, arg2, arg3,... : array_like\n",
    "          The shape parameter(s) for the distribution (see docstring of the\n",
    "          instance object for more information)\n",
    "      loc : array_like, optional\n",
    "          location parameter (default=0)\n",
    "      scale : array_like, optional\n",
    "          scale parameter (default=1)\n",
    "      Returns\n",
    "      -------\n",
    "      pdf : ndarray\n",
    "          Probability density function evaluated at x"
   ]
  },
  {
   "cell_type": "markdown",
   "metadata": {
    "slideshow": {
     "slide_type": "subslide"
    }
   },
   "source": [
    "    help(plt.scatter)\n",
    "\n",
    "    Help on function scatter in module matplotlib.pyplot:\n",
    "\n",
    "    scatter(x, y, s=20, c=None, marker='o', cmap=None, norm=None, vmin=None, vmax=None,\n",
    "            alpha=None, linewidths=None, verts=None, edgecolors=None, hold=None, data=None,\n",
    "            **kwargs)\n",
    "    Make a scatter plot of x vs y, where x and y are sequence like objects\n",
    "    of the same lengths.\n",
    "    \n",
    "    Parameters\n",
    "    ----------\n",
    "    x, y : array_like, shape (n, )\n",
    "        Input data\n",
    "    \n",
    "    s : scalar or array_like, shape (n, ), optional, default: 20\n",
    "        size in points^2.\n",
    "    \n",
    "    c : color or sequence of color, optional, default : 'b'\n",
    "        `c` can be a single color format string, or a sequence of color\n",
    "        specifications of length `N`, or a sequence of `N` numbers to be\n",
    "        mapped to colors using the `cmap` and `norm` specified via kwargs\n",
    "        (see below). Note that `c` should not be a single numeric RGB or\n",
    "        RGBA sequence because that is indistinguishable from an array of\n",
    "        values to be colormapped.  `c` can be a 2-D array in which the\n",
    "        rows are RGB or RGBA, however, including the case of a single\n",
    "        row to specify the same color for all points.\n",
    "    \n",
    "    marker : `~matplotlib.markers.MarkerStyle`, optional, default: 'o'\n",
    "        See `~matplotlib.markers` for more information on the different\n",
    "    [...]    "
   ]
  },
  {
   "cell_type": "markdown",
   "metadata": {
    "slideshow": {
     "slide_type": "slide"
    }
   },
   "source": [
    "## Links\n",
    "\n",
    "THE ipython cookbook. Code available. http://ipython-books.github.io/cookbook/ \n",
    "\n",
    "Einführung! http://nbviewer.ipython.org/github/gestaltrevision/python_for_visres/blob/master/index.ipynb\n",
    "\n",
    "Natural Image Statistics http://nbviewer.ipython.org/github/gestaltrevision/python_for_visres/blob/master/Part7/Part7_Image_Statistics.ipynb\n",
    "\n",
    "Sammlung Psych/Neuro: https://github.com/jupyter/jupyter/wiki/A-gallery-of-interesting-Jupyter-Notebooks#psychology-and-neuroscience\n",
    "\n",
    "Nice graph-examples and options http://www.labri.fr/perso/nrougier/teaching/matplotlib/,     \n",
    "http://www.ster.kuleuven.be/~pieterd/python/html/plotting/matplotlib.html\n",
    "\n",
    "Nice plots with different libraries, eg. density kernel plot, makes use of skripting: http://nbviewer.ipython.org/gist/msund/7ac1203ded66fe8134cc\n",
    "\n",
    "scipy.optimize mit Psychometrischer Funktion http://nbviewer.ipython.org/github/arokem/teach_optimization/blob/master/optimization.ipynb\n",
    "\n",
    "\n",
    "#### Für Matlab Umsteiger:\n",
    "https://docs.scipy.org/doc/numpy/user/numpy-for-matlab-users.html\n",
    "\n",
    "http://mathesaurus.sourceforge.net/matlab-numpy.html\n"
   ]
  },
  {
   "cell_type": "markdown",
   "metadata": {
    "collapsed": true,
    "slideshow": {
     "slide_type": "slide"
    }
   },
   "source": [
    "# Fragen?"
   ]
  }
 ],
 "metadata": {
  "celltoolbar": "Slideshow",
  "kernelspec": {
   "display_name": "Python 3",
   "language": "python",
   "name": "python3"
  },
  "language_info": {
   "codemirror_mode": {
    "name": "ipython",
    "version": 3
   },
   "file_extension": ".py",
   "mimetype": "text/x-python",
   "name": "python",
   "nbconvert_exporter": "python",
   "pygments_lexer": "ipython3",
   "version": "3.6.5"
  }
 },
 "nbformat": 4,
 "nbformat_minor": 1
}
