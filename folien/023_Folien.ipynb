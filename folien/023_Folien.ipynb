{
 "cells": [
  {
   "cell_type": "code",
   "execution_count": 1,
   "metadata": {
    "slideshow": {
     "slide_type": "skip"
    }
   },
   "outputs": [],
   "source": [
    "from matplotlib import pyplot as plt\n",
    "import numpy as np\n",
    "%matplotlib inline"
   ]
  },
  {
   "cell_type": "markdown",
   "metadata": {
    "slideshow": {
     "slide_type": "slide"
    }
   },
   "source": [
    "# Beschreibende Statistik\n",
    "\n",
    "## Übersicht\n",
    "\n",
    "#### Lagemaß\n",
    "#### Streuung\n",
    "#### Graphiken\n",
    "#### Mehrdimensionale Daten\n",
    "#### <span style=\"color:blue\">Abhängigkeit</span>\n",
    "- Korrelation\n",
    "- <span style=\"color:blue\">Regression</span>\n",
    "    - <span style=\"color:blue\">linear</span>\n",
    "    - <span style=\"color:blue\">polynomial</span>"
   ]
  },
  {
   "cell_type": "markdown",
   "metadata": {
    "slideshow": {
     "slide_type": "slide"
    }
   },
   "source": [
    "## Mehrdimensionale Daten - Regression\n",
    "\n",
    "#### Korrelation\n",
    "- Voraussetzung: Zusammenhang von zusammengehörigen Daten ist nachgewiesen\n",
    "- Korrelationskoeffizient $\\neq 0$\n",
    "\n",
    "#### Beispiele:\n",
    "- Strom und Spannung: festes Verhältnis gemäß Ohmschen Gesetzes\n",
    "- Luftdruck und Höhe über Meer: Barometrische Höhenformel\n",
    "\n",
    "## Frage: Wie *stark* hängt y von x ab?"
   ]
  },
  {
   "cell_type": "markdown",
   "metadata": {
    "slideshow": {
     "slide_type": "subslide"
    }
   },
   "source": [
    "#### Beispiel: Fahrstrecke *x* und Fahrzeit *t*\n",
    "- Zusammenhang: je mehr Zeit *t*, desto weiter die Strecke *s*\n",
    "    - linear $x\\sim t$ \n",
    "    - Proportionalitätsfaktor \"*Geschwindigkeit v*\": $x=v\\cdot t$\n",
    "- Für $x=10$km benötigen Sie $t=12$Minuten"
   ]
  },
  {
   "cell_type": "code",
   "execution_count": 4,
   "metadata": {
    "slideshow": {
     "slide_type": "fragment"
    }
   },
   "outputs": [
    {
     "name": "stdout",
     "output_type": "stream",
     "text": [
      "Going 10 km in 12 mins, your speed is 50.0 km/h\n"
     ]
    }
   ],
   "source": [
    "'''Python as a pocket calculator: calculate car speed'''\n",
    "xmin = 12                   # time in minutes\n",
    "xh = xmin/60                # time in hours\n",
    "y = 10                      # distance in km\n",
    "v = y / xh                  # speed in km/h\n",
    "print('Going {} km in {} mins, your speed is {} km/h'.format(y, xmin, v))"
   ]
  },
  {
   "cell_type": "markdown",
   "metadata": {
    "slideshow": {
     "slide_type": "subslide"
    }
   },
   "source": [
    "#### Anwendung\n",
    "Bei linearer Abhängigkeit $x = v\\cdot t$ erlaubt der Proportionalitätsfaktor Vorhersagen\n",
    "\n",
    "Beispielsweise: wie lang ist die zurückgelegte Strecke in 1 Sekunde?\n",
    "\n",
    "$$x = v\\cdot t = \\frac{10\\text{km}}{10\\text{min}}\\cdot 1s = \\frac{10000\\text{m}}{10\\cdot 60\\text{s}} \\cdot 1s = 16.7m$$\n",
    "\n",
    "#### Ergebnis: \n",
    "In der Reaktionszeit von 1s legt ein Auto im Stadtverkehr 17m zurück"
   ]
  },
  {
   "cell_type": "markdown",
   "metadata": {
    "slideshow": {
     "slide_type": "slide"
    }
   },
   "source": [
    "### Mehrere Messungen\n",
    "Mehrere ($n$) Messungen $y_i$ zu verschiedenen Werten der $x$-Variable, hier Schrittperiodendauer (Zeiten, Längen, Alter, Höhe, ...)"
   ]
  },
  {
   "cell_type": "code",
   "execution_count": 13,
   "metadata": {
    "slideshow": {
     "slide_type": "fragment"
    }
   },
   "outputs": [
    {
     "name": "stdout",
     "output_type": "stream",
     "text": [
      "data is of size (2, 297), a <class 'numpy.ndarray'> of <class 'numpy.ndarray'> of <class 'numpy.float64'>\n",
      "period [60. 70. 70. 70. 70.] ...\n",
      "speed [29.  34.  34.6 30.3 26.9] ...\n"
     ]
    }
   ],
   "source": [
    "'''read data: speed vs stepping period of walking fly Drosophila\n",
    "   two columns space-separated: period [ms], speed [mm/s] '''\n",
    "data = np.genfromtxt('data/Drosophila_geschw-periode.dat').T #ranspose\n",
    "print('data is of size {}, a {} of {} of {}'\n",
    "      .format(data.shape, type(data), type(data[0]), type(data[0, 1])))\n",
    "print('period {} ...'.format(data[0, :5]))   # 1d-array of periods\n",
    "print('speed {} ...'.format(data[1, :5]))    # 1d-array of speed"
   ]
  },
  {
   "cell_type": "code",
   "execution_count": 14,
   "metadata": {
    "slideshow": {
     "slide_type": "subslide"
    }
   },
   "outputs": [
    {
     "data": {
      "image/png": "[encoded data removed]",
      "text/plain": [
       "<Figure size 432x288 with 1 Axes>"
      ]
     },
     "metadata": {
      "needs_background": "light"
     },
     "output_type": "display_data"
    }
   ],
   "source": [
    "'''show the data'''\n",
    "plt.plot(data[0], data[1], 'bo', label='Drosophila WT(B)\\nn={}'.format(len(data[0])))\n",
    "plt.axis((50, 150, 8, 38))\n",
    "plt.title('flies do walk')\n",
    "plt.xlabel('stepping period [ms]')\n",
    "plt.ylabel('speed [mm/s]')\n",
    "plt.legend(loc='upper right');"
   ]
  },
  {
   "cell_type": "markdown",
   "metadata": {
    "slideshow": {
     "slide_type": "fragment"
    }
   },
   "source": [
    "### Korrelation?"
   ]
  },
  {
   "cell_type": "code",
   "execution_count": 15,
   "metadata": {
    "slideshow": {
     "slide_type": "subslide"
    }
   },
   "outputs": [
    {
     "name": "stdout",
     "output_type": "stream",
     "text": [
      "correlation coefficient r_xy = -0.819\n"
     ]
    }
   ],
   "source": [
    "'''correlation between speed and period?'''\n",
    "r_xy = np.corrcoef(data)[0, 1]\n",
    "print('correlation coefficient r_xy = {:.3f}'.format(r_xy))"
   ]
  },
  {
   "cell_type": "markdown",
   "metadata": {
    "slideshow": {
     "slide_type": "slide"
    }
   },
   "source": [
    "### Regression? \n",
    "lineare Abhängigkeit\n",
    "- mehrere x-Werte (Periodendauern)\n",
    "- mehrere Messungen (Geschwindigkeit)\n",
    "\n",
    "#### *Ausgleichsgerade*"
   ]
  },
  {
   "cell_type": "markdown",
   "metadata": {
    "slideshow": {
     "slide_type": "subslide"
    }
   },
   "source": [
    "### Methode der *Kleinsten Quadratischen Abweichung* \n",
    "(C. F. Gauss 1809, A. M. Legendre 1805)\n",
    "$$\\underset{a, b}{\\mathrm{argmin}}\\sum_i(y_i-f_{a,b}(x_i))^2$$ \n",
    "des linearen Zusammenhangs \n",
    "$$y = f_{a,b}(x) = a\\cdot x + b$$"
   ]
  },
  {
   "cell_type": "markdown",
   "metadata": {
    "slideshow": {
     "slide_type": "fragment"
    }
   },
   "source": [
    "#### führt zu\n",
    "$$\\begin{aligned}\n",
    "a&=\\frac{\\sum_i(y_i-\\bar{y})x_i}{\\sum_i(x_i-\\bar{x})x_i} \\\\\n",
    "\\\\\n",
    "b&=\\bar{y}-a\\cdot\\bar{x}\n",
    "\\end{aligned}$$"
   ]
  },
  {
   "cell_type": "markdown",
   "metadata": {
    "slideshow": {
     "slide_type": "fragment"
    }
   },
   "source": [
    "Die Steigung oder lineare Abhängigkeit $a$ wird auch **Regressionskoeefizient** genannt und entspricht\n",
    "\n",
    "$$a=r_{XY}\\cdot\\frac{\\sigma_Y}{\\sigma_X}$$\n",
    "\n",
    "#### Beweise: [ÜA]\n",
    "\n"
   ]
  },
  {
   "cell_type": "markdown",
   "metadata": {},
   "source": [
    "$\\begin{aligned}\n",
    "    a &= \\frac{\\sum_{i}(y_i-\\bar{y})x_{i}}{\\sum_{i}(x_{i}-\\bar{x})x_{i}}\\\\\n",
    "        &= r_{XY}\\frac{\\sigma_{Y}}{\\sigma_{X}} \\\\\n",
    "        &= \\frac{Cov(X,Y)}{\\sigma_{X}\\sigma_{Y}}\\cdot \\frac{\\sigma_{Y}}{\\sigma_{X}} \\\\\n",
    "        &= \n",
    "\\end{aligned}$"
   ]
  },
  {
   "cell_type": "markdown",
   "metadata": {
    "slideshow": {
     "slide_type": "subslide"
    }
   },
   "source": [
    "#### Im Allgemeinen\n",
    "$$r_{XY} = r_{YX}$$\n",
    "\n",
    "$$a_{XY} \\neq a_{YX}$$\n",
    "\n",
    "$$a_{XY} \\neq \\frac{1}{a_{YX}}$$\n",
    "\n",
    "Später mehr..."
   ]
  },
  {
   "cell_type": "code",
   "execution_count": 7,
   "metadata": {
    "slideshow": {
     "slide_type": "subslide"
    }
   },
   "outputs": [
    {
     "name": "stdout",
     "output_type": "stream",
     "text": [
      "manually fitted:  y = -0.298*x + 50.907\n"
     ]
    }
   ],
   "source": [
    "'''linear function y=f(x)=a*x+b\n",
    "   input:  x: scalar or np.array (x values)\n",
    "           a: scalar (regression parameter)\n",
    "           b: scalar (offset parameter)\n",
    "   output: same type and size as x            '''\n",
    "def fct_y( x, a, b ): \n",
    "    return a*x + b\n",
    "\n",
    "''' make handy names for data: '''\n",
    "x = data[0]    # the period durations\n",
    "y = data[1]    # the measured walking speed\n",
    "\n",
    "'''calculate linear regression according to formula above'''\n",
    "a = ((y - y.mean())*x).sum() / ((x - x.mean())*x).sum()\n",
    "b = y.mean() - a*x.mean()  \n",
    "print('manually fitted:  y = {:.3f}*x + {:.3f}'.format(a, b))"
   ]
  },
  {
   "cell_type": "code",
   "execution_count": 8,
   "metadata": {
    "slideshow": {
     "slide_type": "subslide"
    }
   },
   "outputs": [
    {
     "data": {
      "image/png": "[encoded data removed]",
      "text/plain": [
       "<matplotlib.figure.Figure at 0x7f0e39e82780>"
      ]
     },
     "metadata": {},
     "output_type": "display_data"
    }
   ],
   "source": [
    "'''show the fit result'''\n",
    "plt.plot(x, y, 'bo', label='data of Drosophila')         # raw data as dots\n",
    "plt.plot(x, fct_y(x, a, b), 'r-', label='fit a={:.3f} b={:.3f}'.format(a, b))\n",
    "plt.title('linear regression y=ax+b')                    # fitted line\n",
    "plt.axis((50, 150, 8, 38))\n",
    "plt.xlabel('stepping period [ms]')\n",
    "plt.ylabel('speed [mm/s]')\n",
    "plt.legend(loc='upper right');"
   ]
  },
  {
   "cell_type": "markdown",
   "metadata": {
    "slideshow": {
     "slide_type": "slide"
    }
   },
   "source": [
    "### fit with scipy.stats"
   ]
  },
  {
   "cell_type": "code",
   "execution_count": 9,
   "metadata": {
    "slideshow": {
     "slide_type": "fragment"
    }
   },
   "outputs": [
    {
     "name": "stdout",
     "output_type": "stream",
     "text": [
      "fitted by scipy:  y = -0.298*x + 50.907\n"
     ]
    }
   ],
   "source": [
    "'''fit it with scipy directly'''\n",
    "from scipy import stats          # contains also fitting routines, \n",
    "fit = stats.linregress(x, y)     #     e.g. linear regression fit\n",
    "print('fitted by scipy:  y = {:.3f}*x + {:.3f}'.format(fit.slope, fit.intercept))"
   ]
  },
  {
   "cell_type": "code",
   "execution_count": 11,
   "metadata": {
    "slideshow": {
     "slide_type": "subslide"
    }
   },
   "outputs": [
    {
     "name": "stdout",
     "output_type": "stream",
     "text": [
      "linear fit:  x = -2.248*y + 144.473\n"
     ]
    },
    {
     "data": {
      "image/png": "[encoded data removed]",
      "text/plain": [
       "<matplotlib.figure.Figure at 0x7f0e39ee0cc0>"
      ]
     },
     "metadata": {},
     "output_type": "display_data"
    }
   ],
   "source": [
    "'''fit the reverse values x(y)'''\n",
    "fit_r = stats.linregress(y, x)               # linear regression of reverse data\n",
    "print('linear fit:  x = {:.3f}*y + {:.3f}'.format(fit_r.slope, fit_r.intercept))\n",
    "plt.plot(y, x, 'go', label='inverse data')\n",
    "plt.plot(y, fct_y(y, fit_r.slope, fit_r.intercept), 'y-',\n",
    "         label='fit a={:.3f} b={:.3f}'.format(fit_r.slope, fit_r.intercept))\n",
    "plt.title('linear regression $x=a_1*y+b_1$') # yes, matplotlib speaks LaTeX\n",
    "plt.axis((8, 38, 50, 150))\n",
    "plt.ylabel('stepping period [ms]')\n",
    "plt.xlabel('speed [mm/s]')\n",
    "plt.legend(loc='upper right');"
   ]
  },
  {
   "cell_type": "code",
   "execution_count": 12,
   "metadata": {
    "slideshow": {
     "slide_type": "subslide"
    }
   },
   "outputs": [
    {
     "name": "stdout",
     "output_type": "stream",
     "text": [
      "slope -0.298 * inverse slope -2.248 = 0.670 does not equal 1.000\n",
      "but correlation coefficients match: -0.81869 = -0.81869\n"
     ]
    }
   ],
   "source": [
    "''' Correlation coefficient Pearson r, see 022 lecture'''\n",
    "def ccpearson( a, b ):\n",
    "    return np.corrcoef(a, b)[0][1]     # side element of correlation matrix\n",
    "\n",
    "'''compare fits of data versus reverse-data'''\n",
    "print('slope {:.3f} * inverse slope {:.3f} = {:.3f} does not equal 1.000'\n",
    "      .format(fit.slope, fit_r.slope, fit.slope*fit_r.slope))\n",
    "print('but correlation coefficients match: {:.5f} = {:.5f}'\n",
    "      .format(ccpearson(x, y), ccpearson(y, x)))"
   ]
  },
  {
   "cell_type": "markdown",
   "metadata": {
    "slideshow": {
     "slide_type": "slide"
    }
   },
   "source": [
    "## Nicht-lineares Beispiel: Wurfparabel"
   ]
  },
  {
   "cell_type": "code",
   "execution_count": 13,
   "metadata": {
    "collapsed": true,
    "slideshow": {
     "slide_type": "fragment"
    }
   },
   "outputs": [],
   "source": [
    "np.random.seed(98765)\n",
    "deltaT = 0.1                       # time steps in seconds\n",
    "period = 6                         # duration of flight in sec\n",
    "g = 9.81                           # gravity constant\n",
    "ae = 0.15                          # speed dependent noise amplitude\n",
    "be = 0.05                          # constant noise amplitude\n",
    "v0 = 15                            # speed at start in m/s\n",
    "numOfPoints = int(period/deltaT)   # measured points\n",
    "t_a  = np.zeros(numOfPoints)       # time value[]\n",
    "v_a  = np.zeros(numOfPoints)       # vertical speed[]\n",
    "yt_a = np.zeros(numOfPoints)       # y theoretically[]\n",
    "y_a  = np.zeros(numOfPoints)       # y result: with noise[]\n",
    "for it in range(numOfPoints):      # calculate\n",
    "    t = it*deltaT                  # time now\n",
    "    t_a[it] = t                    # store\n",
    "    v = v0-g*t                     # speed reduced by gravity\n",
    "    v_a[it] = v                    # store\n",
    "    yt = -g*t**2/2+v0*t            # squared by gravitational acceleration\n",
    "    yt_a[it] = yt                  # store\n",
    "    error = np.random.normal(loc=0, scale=ae*abs(v)+be)\n",
    "    y_a[it] = yt+error             # add noise"
   ]
  },
  {
   "cell_type": "code",
   "execution_count": 14,
   "metadata": {
    "slideshow": {
     "slide_type": "subslide"
    }
   },
   "outputs": [
    {
     "data": {
      "image/png": "[encoded data removed]",
      "text/plain": [
       "<matplotlib.figure.Figure at 0x7f0e31a5cbe0>"
      ]
     },
     "metadata": {},
     "output_type": "display_data"
    }
   ],
   "source": [
    "plt.title('Ball shot up and then dropping')\n",
    "plt.ylabel('Vertical position [m]')\n",
    "plt.xlabel('Time [s]')\n",
    "plt.plot(t_a, y_a, 'k.', label='obs. vert. pos.')  # observed points with noise\n",
    "plt.plot(t_a, yt_a, 'r-', label='true vert. pos.') # theoretical position\n",
    "plt.legend(loc=\"lower left\");"
   ]
  },
  {
   "cell_type": "code",
   "execution_count": 15,
   "metadata": {
    "collapsed": true,
    "slideshow": {
     "slide_type": "subslide"
    }
   },
   "outputs": [],
   "source": [
    "'''How to fit a polynomial dependency (example: squared)?'''\n",
    "np.polyfit?"
   ]
  },
  {
   "cell_type": "code",
   "execution_count": 16,
   "metadata": {
    "slideshow": {
     "slide_type": "fragment"
    }
   },
   "outputs": [
    {
     "name": "stdout",
     "output_type": "stream",
     "text": [
      "fitted polynom has parameters pp=[ -4.54965459  13.37918126   1.2131438 ]\n"
     ]
    }
   ],
   "source": [
    "'''use polyfit (square----v) to extract parabolic parameters'''\n",
    "pp = np.polyfit(t_a, y_a, 2)        # polynomparameters from fit of degree 2\n",
    "print('fitted polynom has parameters pp={}'.format(pp))"
   ]
  },
  {
   "cell_type": "code",
   "execution_count": 17,
   "metadata": {
    "slideshow": {
     "slide_type": "subslide"
    }
   },
   "outputs": [
    {
     "name": "stdout",
     "output_type": "stream",
     "text": [
      "gravitational constant =  9.099 m/s^2\n",
      "starting speed was v0  = 13.379 m/s\n"
     ]
    },
    {
     "data": {
      "image/png": "[encoded data removed]",
      "text/plain": [
       "<matplotlib.figure.Figure at 0x7f0e31acceb8>"
      ]
     },
     "metadata": {},
     "output_type": "display_data"
    }
   ],
   "source": [
    "'''compare measured and fitted values (with randomly drawn distribution)'''\n",
    "plt.plot(t_a, y_a, 'k.', label='measured')\n",
    "plt.plot(t_a, yt_a, 'r--', label='theoretical')\n",
    "py = np.poly1d(pp)           # define polynomial function with fitted parameters\n",
    "plt.plot(t_a, py(t_a), 'b-', label='fitted')# show fitted locations versus time\n",
    "plt.legend(loc='lower left')\n",
    "plt.title(\"noisy parabolic flight\")\n",
    "plt.xlabel('time')\n",
    "plt.ylabel('height')\n",
    "print('gravitational constant = {:6.3f} m/s^2'.format(-2*pp[0])) # from y ~ -g*t^2/2\n",
    "print('starting speed was v0  = {:6.3f} m/s'.format(pp[1]))      # derivative at t=0"
   ]
  },
  {
   "cell_type": "markdown",
   "metadata": {
    "slideshow": {
     "slide_type": "subslide"
    }
   },
   "source": [
    "#### Siehe auch\n",
    "- `numpy.polyfit`\n",
    "- `scipy.optimize.curve_fit`"
   ]
  },
  {
   "cell_type": "code",
   "execution_count": 18,
   "metadata": {
    "slideshow": {
     "slide_type": "subslide"
    }
   },
   "outputs": [
    {
     "name": "stdout",
     "output_type": "stream",
     "text": [
      "fitted polynom of degree 14 has parameters p14=\n",
      "[ -1.71045973e-03   7.25881832e-02  -1.37704393e+00   1.54074336e+01\n",
      "  -1.12969223e+02   5.70392805e+02  -2.02844834e+03   5.10788156e+03\n",
      "  -9.02800340e+03   1.09398432e+04  -8.70967673e+03   4.23721214e+03\n",
      "  -1.11180856e+03   1.33379787e+02  -1.67218166e+00]\n"
     ]
    },
    {
     "data": {
      "image/png": "[encoded data removed]",
      "text/plain": [
       "<matplotlib.figure.Figure at 0x7f0e31ad50f0>"
      ]
     },
     "metadata": {},
     "output_type": "display_data"
    }
   ],
   "source": [
    "p14 = np.polyfit(t_a, y_a, 14)       # polynomparameters from fit of degree 14 (?)\n",
    "print('fitted polynom of degree {} has parameters p14=\\n{}'.format(len(p14)-1, p14))\n",
    "plt.plot(t_a, y_a, 'k.', label='measured')\n",
    "plt.plot(t_a, yt_a, 'r--', label='theoretical')\n",
    "py = np.poly1d(p14)                  # define polynomial function with parameters\n",
    "plt.plot(t_a, py(t_a), 'c-', label='fitted poly-14')\n",
    "plt.legend(loc='lower left')\n",
    "plt.title(\"noisy parabolic flight\");"
   ]
  },
  {
   "cell_type": "code",
   "execution_count": 19,
   "metadata": {
    "slideshow": {
     "slide_type": "subslide"
    }
   },
   "outputs": [
    {
     "name": "stdout",
     "output_type": "stream",
     "text": [
      "polynomial models with 3 / 15 parameters decreases residual error from 668.9 to 581.9\n",
      "last 3 parameters of  3-parameter model:    -4.55,    13.38,     1.21\n",
      "last 3 parameters of 15-parameter model: -1111.81,   133.38,    -1.67\n"
     ]
    }
   ],
   "source": [
    "'''compare polynomial coefficients and residual error'''\n",
    "pp14, residual14, rk, sv, rc = np.polyfit(t_a, y_a, 14, full=True)\n",
    "pp2, residual2, rk, sv, rc = np.polyfit(t_a, y_a, 2, full=True)\n",
    "print('polynomial models with {} / {} parameters decreases residual error from {:.1f} to {:.1f}'.\n",
    "      format(len(pp2), len(pp14), residual2[0], residual14[0]))\n",
    "for ppx in [pp2, pp14]:\n",
    "    l = len(ppx)\n",
    "    print('last 3 parameters of {:2d}-parameter model: {:8.2f}, {:8.2f}, {:8.2f}'.\n",
    "          format(l, ppx[l-3], ppx[l-2], ppx[l-1]))"
   ]
  },
  {
   "cell_type": "markdown",
   "metadata": {
    "slideshow": {
     "slide_type": "fragment"
    }
   },
   "source": [
    "#### Ergebnis:\n",
    "- obwohl der Restfehler weniger wird \n",
    "    - für das 14-parametrige Modell\n",
    "    - gegenüber dem (korrekten) parabolischen\n",
    "- ist das Ergebnis zweifelhaft\n",
    "    - Ein Ball steigt nicht wieder\n",
    "    - der quadratische Koeffizient ist unsinnig hoch"
   ]
  },
  {
   "cell_type": "markdown",
   "metadata": {
    "collapsed": true,
    "slideshow": {
     "slide_type": "slide"
    }
   },
   "source": [
    "# Fragen?"
   ]
  },
  {
   "cell_type": "markdown",
   "metadata": {
    "slideshow": {
     "slide_type": "slide"
    }
   },
   "source": [
    "# Zusammenfassung beschreibende Statistik\n",
    "- Datenreduktion\n",
    "- Kenngrößen herausarbeiten\n",
    "    - Mittelwert\n",
    "    - Standardabweichung\n",
    "    - Korrelationskoeffizient\n",
    "- Struktur in den Daten erkennen\n",
    "    - Form (Normalverteilung, Gleichverteilung, ...)\n",
    "- Anschauliche Darstellung\n",
    "    - Box-Plot\n",
    "    - Fehlerbalken\n",
    "    - Histogramm\n",
    "    - 2D-Histogramm\n",
    "- Vergleichbarkeit unter ähnlichen Bedingungen\n",
    "- Abhängigkeit mehrerer Variabler\n",
    "    - Korrelation\n",
    "    - Regression"
   ]
  },
  {
   "cell_type": "markdown",
   "metadata": {
    "slideshow": {
     "slide_type": "subslide"
    }
   },
   "source": [
    "# Fragen an die Statistik\n",
    "- Was ist die *wahre* Größe bei mehreren Messungen/Daten?\n",
    "- Wie genau ist das erlangte Wissen?\n",
    "- Was sind Ausreisser\n",
    "- Effekt zwischen unterschiedlichen Versuchsbedingungen?\n",
    "    - andere Wert?\n",
    "    - andere Verteilung?\n",
    "    - Zufall?\n",
    "- Abhängigkeit wenn nichtlinear?"
   ]
  },
  {
   "cell_type": "markdown",
   "metadata": {
    "slideshow": {
     "slide_type": "fragment"
    }
   },
   "source": [
    "# Ausblick\n",
    "- Wahrscheinlichkeitstheoretische Modelle\n",
    "    - Entspricht das Histogramm einer bekannten Verteilung?\n",
    "    - Wie kommen die Daten zustande?\n",
    "- Schließende Statistik arbeitet mit Wahrscheinlichkeiten\n",
    "    - Gibt es grundlegende Parameter der Daten?"
   ]
  },
  {
   "cell_type": "markdown",
   "metadata": {
    "slideshow": {
     "slide_type": "fragment"
    }
   },
   "source": [
    "# Links\n",
    "- Matplotlib Graphikgalerie http://matplotlib.org/gallery.html\n",
    "- Pandas Graphiken: http://pandas.pydata.org/pandas-docs/stable/visualization.html\n"
   ]
  },
  {
   "cell_type": "markdown",
   "metadata": {
    "collapsed": true,
    "slideshow": {
     "slide_type": "slide"
    }
   },
   "source": [
    "# Fragen?"
   ]
  }
 ],
 "metadata": {
  "kernelspec": {
   "display_name": "Python 3",
   "language": "python",
   "name": "python3"
  },
  "language_info": {
   "codemirror_mode": {
    "name": "ipython",
    "version": 3
   },
   "file_extension": ".py",
   "mimetype": "text/x-python",
   "name": "python",
   "nbconvert_exporter": "python",
   "pygments_lexer": "ipython3",
   "version": "3.7.0b3"
  }
 },
 "nbformat": 4,
 "nbformat_minor": 1
}
