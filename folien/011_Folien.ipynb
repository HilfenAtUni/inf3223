{
 "cells": [
  {
   "cell_type": "markdown",
   "metadata": {
    "slideshow": {
     "slide_type": "slide"
    }
   },
   "source": [
    "# Beschreibende Statistik\n",
    "\n",
    "auch *deskriptive* oder *empirische* Statistik"
   ]
  },
  {
   "cell_type": "markdown",
   "metadata": {
    "slideshow": {
     "slide_type": "fragment"
    }
   },
   "source": [
    "## Übersicht\n",
    "- Warum Statistik\n",
    "\n",
    "#### <span style=\"color:blue\">Lagemaß</span>\n",
    "#### Streuung\n",
    "#### Graphiken\n",
    "#### Abhängigkeit"
   ]
  },
  {
   "cell_type": "markdown",
   "metadata": {
    "slideshow": {
     "slide_type": "subslide"
    }
   },
   "source": [
    "# Beschreibende Statistik\n",
    "\n",
    "### Daten oft komplex"
   ]
  },
  {
   "cell_type": "code",
   "execution_count": 1,
   "metadata": {
    "slideshow": {
     "slide_type": "skip"
    }
   },
   "outputs": [],
   "source": [
    "from matplotlib import pyplot as plt\n",
    "import numpy as np\n",
    "%matplotlib inline"
   ]
  },
  {
   "cell_type": "code",
   "execution_count": 5,
   "metadata": {
    "slideshow": {
     "slide_type": "fragment"
    }
   },
   "outputs": [
    {
     "name": "stdout",
     "output_type": "stream",
     "text": [
      "data x is a <class 'numpy.ndarray'> and has (3136,) values of int64\n",
      "x = [128 128 128 128 127 126 126 126 126 128 129 130 131 131 129 127] ...\n",
      "... [134 146 150 147 139 131 124 120 120 122 127 135 143 148 147 139] ...\n",
      "... [125 128 131 132 132 130 128 127 126 125 126 126 127 128 128 128]    \n"
     ]
    }
   ],
   "source": [
    "# we have some data x (from below...)\n",
    "print('data x is a {} and has {} values of {}'.format(type(x), x.shape, x.dtype))\n",
    "c = int(len(x)/2)\n",
    "print('x = {} ...'.format(x[:16]))\n",
    "print('... {} ...'.format(x[c-8:c+8]))\n",
    "print('... {}    '.format(x[-16:]))"
   ]
  },
  {
   "cell_type": "markdown",
   "metadata": {
    "slideshow": {
     "slide_type": "subslide"
    }
   },
   "source": [
    "### Graphik"
   ]
  },
  {
   "cell_type": "code",
   "execution_count": 6,
   "metadata": {
    "slideshow": {
     "slide_type": "fragment"
    }
   },
   "outputs": [
    {
     "data": {
      "image/png": "[encoded data removed]",
      "text/plain": [
       "<Figure size 864x72 with 1 Axes>"
      ]
     },
     "metadata": {
      "needs_background": "light"
     },
     "output_type": "display_data"
    }
   ],
   "source": [
    "'''occurence of data values'''\n",
    "fig = plt.figure(figsize=(12,1))            # create long graph\n",
    "plt.scatter(x, np.zeros_like(x))            # draw dots along x-axis (y=0)\n",
    "fig.gca().get_yaxis().set_visible(False)    # switch off y-axis numbers\n",
    "plt.xlabel('data');                         # label: suppress object"
   ]
  },
  {
   "cell_type": "markdown",
   "metadata": {
    "slideshow": {
     "slide_type": "fragment"
    }
   },
   "source": [
    "### Datenreduktion\n",
    "\n",
    "... auf einige Kenngrößen:\n",
    "\n",
    "- Lagemaß\n",
    "- Streuung\n",
    "- Verteilung\n",
    "\n",
    "#### Finde wichtige Information\n",
    "#### Ohne relevante Information zu verlieren"
   ]
  },
  {
   "cell_type": "code",
   "execution_count": 4,
   "metadata": {
    "scrolled": false,
    "slideshow": {
     "slide_type": "skip"
    }
   },
   "outputs": [
    {
     "name": "stdout",
     "output_type": "stream",
     "text": [
      "image shape = 56x56\n",
      "[120 122 127 135 143 148 147 139 124 105  89  81  88 110 142 177 202 207\n",
      " 187 145  91  43  15  20  58 119 185 236 255 236 185 119  58  20  15  43\n",
      "  91 145 187 207 202 177 142 110  88  81  89 105 124 139 147 148 143 135\n",
      " 127 122] linescan\n"
     ]
    },
    {
     "data": {
      "image/png": "[encoded data removed]",
      "text/plain": [
       "<Figure size 864x288 with 2 Axes>"
      ]
     },
     "metadata": {
      "needs_background": "light"
     },
     "output_type": "display_data"
    }
   ],
   "source": [
    "'''load data of an example image \"Gabor-patch\"\n",
    "   show histogram\n",
    "   This is the source of the data from above... '''\n",
    "from matplotlib import image as mpi           # image related routines\n",
    "\n",
    "img = mpi.imread('data/gabor.png')            # read image data from file\n",
    "fig = plt.figure(figsize=(12, 4))             # rect canvas 12x4 inches\n",
    "fig.add_subplot(1, 2, 1)                      # 1 row, 2 columns: 1st graph = image\n",
    "plt.imshow(img, cmap=plt.cm.gray, interpolation='nearest')  # the pixel image\n",
    "\n",
    "fig.add_subplot(1, 2, 2)                      # 1 row, 2 columns: 2nd sub-graph = hist\n",
    "imgvector3D = np.array(img)                   # convert colors to values in matrix\n",
    "lenx, leny = imgvector3D.shape[:2]            # width x height [x colors]\n",
    "print('image shape = {}x{}'.format(lenx, leny))\n",
    "# take first color (R), round to 8Bit integer, flatten x and y\n",
    "x = np.rint(255*np.reshape(imgvector3D[:,:,0],lenx*leny)).astype(int)  \n",
    "plt.hist(x, bins=np.linspace(0, 256, 256+1)) # histogram with 1Bit-bins\n",
    "print('{} linescan'.format(x[int(lenx/2)*leny:int(lenx/2+1)*leny])) # a (middle) line scan"
   ]
  },
  {
   "cell_type": "code",
   "execution_count": 7,
   "metadata": {
    "slideshow": {
     "slide_type": "subslide"
    }
   },
   "outputs": [],
   "source": [
    "np.histogram?"
   ]
  },
  {
   "cell_type": "markdown",
   "metadata": {
    "slideshow": {
     "slide_type": "slide"
    }
   },
   "source": [
    "# Lagemaß"
   ]
  },
  {
   "cell_type": "markdown",
   "metadata": {
    "slideshow": {
     "slide_type": "slide"
    }
   },
   "source": [
    "## Modus\n",
    "Der Wert, der am häufigsten vorkommt\n",
    "- Es kann mehrere Modi geben\n",
    "- Modus kann atypisch sein"
   ]
  },
  {
   "cell_type": "code",
   "execution_count": 8,
   "metadata": {
    "slideshow": {
     "slide_type": "subslide"
    }
   },
   "outputs": [
    {
     "name": "stdout",
     "output_type": "stream",
     "text": [
      "the modus of data x is 128 and has 116 values\n"
     ]
    }
   ],
   "source": [
    "nmax = 0\n",
    "for i in range(256):\n",
    "    n = x[x==i].shape[0]\n",
    "    if n > nmax:\n",
    "        nmax = n\n",
    "        imax = i\n",
    "print('the modus of data x is {} and has {} values'.format(imax, nmax))"
   ]
  },
  {
   "cell_type": "markdown",
   "metadata": {
    "slideshow": {
     "slide_type": "subslide"
    }
   },
   "source": [
    "#### Nachteil:\n",
    "- Modus kann Randwerte annehmen\n",
    "- Es kann zwei oder mehr Modi geben (\"*multimodale Verteilung*\")"
   ]
  },
  {
   "cell_type": "markdown",
   "metadata": {
    "slideshow": {
     "slide_type": "slide"
    }
   },
   "source": [
    "## Median \n",
    "\n",
    "- Mindestens eine Hälfte der Werte ist kleiner gleich\n",
    "- mindestens eine Hälfte der Werte größer gleich\n",
    "\n",
    "In der sortierten Liste aller Daten $x_{(i)}$ mit $i \\in\\{1\\dots n\\}$ und $x_{(1)}\\leq \\dots \\leq x_{(N)}$ ist der Median \n",
    "\n",
    "$$\\tilde{x} = \\begin{cases}\n",
    "x_{(\\frac{N+1}{2})}  & \\qquad N \\; \\text{ungerade} \\\\\n",
    "\\frac{1}{2}(x_{(\\frac{N}{2})}+x_{(\\frac{N}{2}+1)}) & \\qquad N \\; \\text{gerade}\n",
    "\\end{cases}$$"
   ]
  },
  {
   "cell_type": "markdown",
   "metadata": {
    "slideshow": {
     "slide_type": "subslide"
    }
   },
   "source": [
    "### Minimale Betrags-Abweichung\n",
    "Sei $f(t) = \\sum_{i=1}^N|x_i-t|$\n",
    "\n",
    "dann gilt $f(t) =  \\sum_{i=1}^N|x_i-t| \\geq \\sum_{i=1}^N|x_i-\\tilde{x}| = f(\\tilde{x}) \\quad \\forall t\\in \\mathbb{R} $"
   ]
  },
  {
   "cell_type": "markdown",
   "metadata": {},
   "source": [
    "x schlange: Median"
   ]
  },
  {
   "cell_type": "markdown",
   "metadata": {
    "slideshow": {
     "slide_type": "subslide"
    }
   },
   "source": [
    "**Beweis** (für ungerade $N=2k+1$):"
   ]
  },
  {
   "cell_type": "markdown",
   "metadata": {},
   "source": [
    "> - $x_(i)$ d.h. $x$ ist sortiert.\n",
    "> - $x_i$ d.h. $x$ ist nicht sortiert."
   ]
  },
  {
   "cell_type": "markdown",
   "metadata": {
    "slideshow": {
     "slide_type": "fragment"
    }
   },
   "source": [
    "$\\sum_{i=1}^N|x_i-\\tilde{x}| = \\sum_{i=1}^N|x_{(i)}-\\tilde{x}|$\n",
    "\n",
    "$ \\quad = \\tilde{x}-x_{(1)}+\\dots+\\tilde{x}-x_{(k-1)}\\;+\\;x_{(k+1)}-\\tilde{x}+\\dots+x_{(N)}-\\tilde{x}$"
   ]
  },
  {
   "cell_type": "markdown",
   "metadata": {
    "slideshow": {
     "slide_type": "fragment"
    }
   },
   "source": [
    "$ \\quad = -x_{(1)}-\\dots-x_{(k-1)}\\;+\\;x_{(k+1)}+\\dots+x_{(N)}$\n",
    "\n",
    "$ \\quad = t-x_{(1)}+\\dots+t-x_{(k-1)}\\;+\\;x_{(k+1)}-t+\\dots+x_{(N)}-t$"
   ]
  },
  {
   "cell_type": "markdown",
   "metadata": {
    "slideshow": {
     "slide_type": "fragment"
    }
   },
   "source": [
    "$ \\quad \\leq |t-x_{(1)}|+\\dots+|t-x_{(k-1)}|\\;+\\;|t-x_{(k)}|\\;+\\;|x_{(k+1)}-t|+\\dots+|x_{(N)}-t|$\n",
    "\n",
    "$ \\quad = |x_{(1)}-t|+\\dots+|x_{(k-1)}-t|\\;+\\;|x_{(k)}-t|\\;+\\;|x_{(k+1)}-t|+\\dots+|x_{(N)}-t|$"
   ]
  },
  {
   "cell_type": "markdown",
   "metadata": {
    "slideshow": {
     "slide_type": "fragment"
    }
   },
   "source": [
    "$ \\quad = \\sum_{i=1}^N|x_{(i)}-t|$\n",
    "$ \\quad = \\sum_{i=1}^N|x_{i}-t|$"
   ]
  },
  {
   "cell_type": "markdown",
   "metadata": {
    "slideshow": {
     "slide_type": "subslide"
    }
   },
   "source": [
    "### Median unter linearer Transformation\n",
    "\n",
    "<br>\n",
    "\n",
    "$$y = ax + b \\qquad \\Rightarrow \\qquad \\tilde{y} = a\\tilde{x} + b$$"
   ]
  },
  {
   "cell_type": "markdown",
   "metadata": {
    "slideshow": {
     "slide_type": "subslide"
    }
   },
   "source": [
    "### Wie den Median berechnen?\n",
    "*numpy* stellt die Funktion <tt>median()</tt> bereit."
   ]
  },
  {
   "cell_type": "code",
   "execution_count": 9,
   "metadata": {
    "slideshow": {
     "slide_type": "subslide"
    }
   },
   "outputs": [
    {
     "name": "stdout",
     "output_type": "stream",
     "text": [
      "Median = 127.000\n"
     ]
    }
   ],
   "source": [
    "xmedian = np.median(x)                    # <== numpy calculates the median\n",
    "print('Median = {:.3f}'.format(xmedian))  # (three meaningful digits)"
   ]
  },
  {
   "cell_type": "code",
   "execution_count": 11,
   "metadata": {
    "slideshow": {
     "slide_type": "skip"
    }
   },
   "outputs": [
    {
     "name": "stdout",
     "output_type": "stream",
     "text": [
      "median=127.0000 between x(1567)=127.0000 and x(1568)=127.0000\n"
     ]
    },
    {
     "data": {
      "image/png": "[encoded data removed]",
      "text/plain": [
       "<Figure size 720x360 with 1 Axes>"
      ]
     },
     "metadata": {
      "needs_background": "light"
     },
     "output_type": "display_data"
    }
   ],
   "source": [
    "'''sorted data - values vs index'''\n",
    "xsorted=np.sort(x[:])                               # sort by numpy; ':' makes copy\n",
    "medx = np.median(xsorted)                           # the median of sorted data\n",
    "n = len(xsorted)                                    # how many values?\n",
    "n1 = int(np.round(n/2.-1))                          # highest index under\n",
    "n2 = int(np.round(n/2.))                            # lowest index above median\n",
    "print('median={:.4f} between x({})={:.4f} and x({})={:.4f}'.\n",
    "      format(medx, n1, xsorted[n1], n2, xsorted[n2]))\n",
    "indices = np.arange(n)                              # array of index numbers\n",
    "\n",
    "fig = plt.figure(figsize=(10,5))                    # wide canvas\n",
    "plt.plot( indices, xsorted, 'b,', label='x')        # at each value-point step upward 1\n",
    "plt.xlabel('sorted index')\n",
    "plt.ylabel('values')\n",
    "plt.plot((0, n), 2*[medx], 'y--', label='median')   # include the median in x-\n",
    "plt.plot(2*[.5*n], (0., xsorted[-1]), 'y--')        #                   and y-direction\n",
    "plt.axis((0, n, 0, x.max()))                        # restrict area to full data range\n",
    "plt.legend(loc='lower right');"
   ]
  },
  {
   "cell_type": "code",
   "execution_count": 12,
   "metadata": {
    "slideshow": {
     "slide_type": "skip"
    }
   },
   "outputs": [
    {
     "name": "stdout",
     "output_type": "stream",
     "text": [
      "median=127.0000 between x(1567)=127.0000 and x(1568)=127.0000\n"
     ]
    },
    {
     "data": {
      "image/png": "[encoded data removed]",
      "text/plain": [
       "<Figure size 720x360 with 1 Axes>"
      ]
     },
     "metadata": {
      "needs_background": "light"
     },
     "output_type": "display_data"
    }
   ],
   "source": [
    "'''sorted data - index vs value'''\n",
    "# same data as above\n",
    "print('median={:.4f} between x({})={:.4f} and x({})={:.4f}'.\n",
    "      format(medx, n1, xsorted[n1], n2, xsorted[n2]))\n",
    "\n",
    "fig = plt.figure(figsize=(10,5))                    # wide canvas\n",
    "plt.plot( xsorted, indices, 'g,', label='x')        # x-axis now really x-values; y-axis has indices\n",
    "plt.ylabel('sorted index')\n",
    "plt.xlabel('values')\n",
    "plt.plot(2*[medx], (0, n), 'y--', label='median')   # include the median in y-\n",
    "plt.plot((0., xsorted[-1]), 2*[.5*n], 'y--')        #                   and x-direction\n",
    "plt.axis((0, x.max(), 0, n))                        # restrict area to full data range\n",
    "plt.legend(loc='lower right');"
   ]
  },
  {
   "cell_type": "markdown",
   "metadata": {
    "slideshow": {
     "slide_type": "slide"
    }
   },
   "source": [
    "# Mittelwerte"
   ]
  },
  {
   "cell_type": "markdown",
   "metadata": {
    "slideshow": {
     "slide_type": "slide"
    }
   },
   "source": [
    "## Arithmetisches Mittel\n",
    "\n",
    "Gegeben seien $i=\\{1\\dots N\\}$ Werte $x_i$, dann ist deren <div class=\"alert alert-block alert-success\">arithmetisches Mittel\n",
    "$$\\bar{x} = \\frac{1}{N}\\sum_{i=1}^Nx_i$$\n",
    "</div>\n",
    "\n",
    "#### Beispiel\n",
    "Gewicht der Personen im Fahrstuhl\n",
    "- Wären alle gleich schwer, wie groß ist dieser Durchschnitt?"
   ]
  },
  {
   "cell_type": "markdown",
   "metadata": {
    "slideshow": {
     "slide_type": "subslide"
    }
   },
   "source": [
    "### Minimale quadratische Abweichung\n",
    "\n",
    "Sei $f(t) = \\sum_{i=1}^N(x_i-t)^2$\n",
    "\n",
    "dann gilt $f(t) \\geq f(\\bar{x}) \\quad \\forall \\quad t\\in \\mathbb{R} $"
   ]
  },
  {
   "cell_type": "markdown",
   "metadata": {},
   "source": [
    "最小方差"
   ]
  },
  {
   "cell_type": "markdown",
   "metadata": {
    "slideshow": {
     "slide_type": "subslide"
    }
   },
   "source": [
    "#### Beweis:"
   ]
  },
  {
   "cell_type": "markdown",
   "metadata": {
    "slideshow": {
     "slide_type": "fragment"
    }
   },
   "source": [
    "$f(t) = \\sum_{i=1}^N[(x_i-\\bar{x})+(\\bar{x}-t)]^2)$<br>"
   ]
  },
  {
   "cell_type": "markdown",
   "metadata": {
    "slideshow": {
     "slide_type": "fragment"
    }
   },
   "source": [
    "$\\quad = \\sum_{i=1}^N(x_i-\\bar{x})^2 + 2\\sum_{i=1}^N(\\bar{x}-t)(x_i-\\bar{x}) + \\sum_{i=1}^N(\\bar{x}-t)^2$<br>"
   ]
  },
  {
   "cell_type": "markdown",
   "metadata": {
    "slideshow": {
     "slide_type": "fragment"
    }
   },
   "source": [
    "$\\quad = \\sum_{i=1}^N(x_i-\\bar{x})^2 + 2(\\bar{x}-t)\\sum_{i=1}^N(x_i-\\bar{x}) + (\\bar{x}-t)^2 \\sum_{i=1}^{N}1$<br>"
   ]
  },
  {
   "cell_type": "markdown",
   "metadata": {
    "slideshow": {
     "slide_type": "fragment"
    }
   },
   "source": [
    "$\\quad = f(\\bar{x}) + 0 + n(\\bar{x}-t)^2$<br>"
   ]
  },
  {
   "cell_type": "markdown",
   "metadata": {
    "slideshow": {
     "slide_type": "fragment"
    }
   },
   "source": [
    "$\\quad \\geq f(\\bar{x})$"
   ]
  },
  {
   "cell_type": "markdown",
   "metadata": {
    "slideshow": {
     "slide_type": "subslide"
    }
   },
   "source": [
    "### Wie den Mittelwert berechnen?\n",
    "- *numpy-ndarray* hat die Methode ` .mean()`\n",
    "- *numpy* hat die Funktion ` np.mean()`"
   ]
  },
  {
   "cell_type": "code",
   "execution_count": 13,
   "metadata": {
    "slideshow": {
     "slide_type": "fragment"
    }
   },
   "outputs": [
    {
     "name": "stdout",
     "output_type": "stream",
     "text": [
      "mean   of x = 127.36575\n",
      "median of x = 127.00000\n"
     ]
    },
    {
     "data": {
      "image/png": "[encoded data removed]",
      "text/plain": [
       "<Figure size 864x72 with 1 Axes>"
      ]
     },
     "metadata": {
      "needs_background": "light"
     },
     "output_type": "display_data"
    }
   ],
   "source": [
    "fig = plt.figure(figsize=(12,1))\n",
    "plt.scatter(x, np.zeros_like(x), label='x')\n",
    "xmean = x.mean()\n",
    "print('mean   of x = {:.5f}'.format(xmean))\n",
    "print('median of x = {:.5f}'.format(xmedian))\n",
    "plt.plot(2*[xmean], [-.5, .5], 'r--', label='mean')\n",
    "fig.gca().get_yaxis().set_visible(False);    # switch off y-axis numbers"
   ]
  },
  {
   "cell_type": "markdown",
   "metadata": {
    "slideshow": {
     "slide_type": "subslide"
    }
   },
   "source": [
    "### Lineare Transformation \n",
    "Das arithmetische Mittel transformiert sich ebenso wie die Daten unter einer linearen Transformation:\n",
    "$$y_i = ax_i + b \\qquad \\Rightarrow \\qquad \\bar{y} = a\\bar{x} + b$$\n",
    "\n",
    "#### Beweis:\n",
    "[ÜA]"
   ]
  },
  {
   "cell_type": "markdown",
   "metadata": {
    "slideshow": {
     "slide_type": "subslide"
    }
   },
   "source": [
    "### Summe von Mittelwerten\n",
    "Gegeben seien $N$ Werte $x_i$ mit Mittelwert $\\bar{x}$ und $M$ Werte $y_j$ mit Mittelwert  $\\bar{y}$ . Dann ist das gemeinsame arithmetische Mittel\n",
    "$$\\bar{z} = \\frac{1}{N+M}(N\\cdot \\bar{x} + M\\cdot \\bar{y})$$\n",
    "im allgemeinen $\\neq \\frac{1}{2}(\\bar{x}+\\bar{y})$\n",
    "#### Beweis\n",
    "[ÜA]"
   ]
  },
  {
   "cell_type": "markdown",
   "metadata": {
    "slideshow": {
     "slide_type": "subslide"
    }
   },
   "source": [
    "### Merkwürdiges Beispiel\n",
    "Wenn beide Teilmittelwerte kleiner werden, wird das gemeinsame Mittel auch kleiner?"
   ]
  },
  {
   "cell_type": "markdown",
   "metadata": {
    "slideshow": {
     "slide_type": "fragment"
    }
   },
   "source": [
    "\n",
    "Die Einkommen aller $N$ Einwohner in Stadt A $\\;a_i \\; i\\in\\{1..N\\}$ <br>\n",
    "seien niedriger als diejenigen der $M$ Einwohner in Stadt B mit $\\;b_j \\; j\\in\\{1..M\\}$:<br>\n",
    "$a_i < b_j \\quad \\forall i, j$\n",
    "\n",
    "#### Der Reichste aus A zieht nach B\n",
    "- Das Durchschnittseinkommen in A wird kleiner\n",
    "- Das Durchschnittseinkommen in B wird kleiner"
   ]
  },
  {
   "cell_type": "markdown",
   "metadata": {
    "slideshow": {
     "slide_type": "fragment"
    }
   },
   "source": [
    "Aber\n",
    "- Das Durchschnittseinkommen alle Einwohner in beiden Städten zusammen bleibt gleich!"
   ]
  },
  {
   "cell_type": "markdown",
   "metadata": {
    "slideshow": {
     "slide_type": "subslide"
    }
   },
   "source": [
    "### Anwendung\n",
    "- *herkömmlicher* Mittelwert \n",
    "    - $N*\\bar{x} = \\sum x_i$\n",
    "- Sanfte Berücksichtigung der \"Fehler\" um den Mittelwert\n",
    "- Starke Berücksichtigung der weit außen liegenden \"Fehler\""
   ]
  },
  {
   "cell_type": "markdown",
   "metadata": {
    "slideshow": {
     "slide_type": "slide"
    }
   },
   "source": [
    "## Andere Mittelwerte"
   ]
  },
  {
   "cell_type": "markdown",
   "metadata": {
    "slideshow": {
     "slide_type": "fragment"
    }
   },
   "source": [
    "#### Beispiel Preissteigerung\n",
    "Die Inflation beschreibt die jährliche Preissteigerung bei etwa gleichbleibendem Warenkorb. Als Referenz wird ein Jahr festgelegt und darauf auf 100% normiert.\n",
    "<img src=\"images/destatis_inflation_bis2016.png\" width=\"50%\">\n",
    "Quelle: [destatis.de](https://www.destatis.de/DE/ZahlenFakten/GesamtwirtschaftUmwelt/Preise/Verbraucherpreisindizes/Tabellen_/VerbraucherpreiseKategorien.html)\n"
   ]
  },
  {
   "cell_type": "markdown",
   "metadata": {
    "slideshow": {
     "slide_type": "subslide"
    }
   },
   "source": [
    "- Index[Jahr]\n",
    "- Rate[Jahr] = Index[Jahr] / Index[Jahr-1]\n",
    "- Steigerung = (Rate - 1) x 100 %"
   ]
  },
  {
   "cell_type": "code",
   "execution_count": 14,
   "metadata": {
    "slideshow": {
     "slide_type": "skip"
    }
   },
   "outputs": [
    {
     "name": "stdout",
     "output_type": "stream",
     "text": [
      "#years= 27 , difference= 26 years, total ratio = +55.698%\n",
      "mean yearly growth rate = 1.723%\n"
     ]
    },
    {
     "data": {
      "image/png": "[encoded data removed]",
      "text/plain": [
       "<Figure size 432x288 with 1 Axes>"
      ]
     },
     "metadata": {
      "needs_background": "light"
     },
     "output_type": "display_data"
    }
   ],
   "source": [
    "import pandas as pd                                         # Pandas handles data conveniently\n",
    "inflation = pd.read_table('data/inflation_de.dat', sep=' +', \n",
    "                          header=None, engine='python')     # separator allows reg-expressions: 1+\n",
    "years = np.asarray(inflation[0])                            # first column: years\n",
    "indices = np.asarray(inflation[1])                          # second column: total inflation rates \n",
    "plt.plot(years, indices, label='indices 2010=100%')         #    relativ to 2010 = 100%\n",
    "print('#years= {} , difference= {} years, total ratio = +{:.3f}%'.format(\n",
    "        len(years), years[0]-years[-1], 100*(indices[0]/indices[-1]-1.)) )\n",
    "# calculate single rates every year\n",
    "rates = np.asarray([indices[j]/indices[j+1] for j, ind in enumerate(indices[:-1])])\n",
    "plt.plot(years[:-1], 100*rates, label='yearly rates [%]')\n",
    "ratemean = rates.mean()-1.                                  # mean of yearly growing rates\n",
    "print('mean yearly growth rate = {:.3f}%'.format(100*ratemean))\n",
    "plt.plot([years[0], years[-1]], 2*[100*(1+ratemean)], 'g--', label='average yearly rate [%]')\n",
    "plt.plot([years[0], years[-1]], 2*[100], 'k:')  # base line: no change=100% of previous year\n",
    "plt.legend(loc='lower right');"
   ]
  },
  {
   "cell_type": "markdown",
   "metadata": {
    "slideshow": {
     "slide_type": "subslide"
    }
   },
   "source": [
    "#### Test\n",
    "$\\text{Index}[2017] = \\text{Index}[1990] \\cdot \\text{mittlereRate}^{26}$"
   ]
  },
  {
   "cell_type": "code",
   "execution_count": 15,
   "metadata": {
    "slideshow": {
     "slide_type": "fragment"
    }
   },
   "outputs": [
    {
     "name": "stdout",
     "output_type": "stream",
     "text": [
      "from index[1990] = 70.2 with 26 times a rate of 1.0172322892824832\n",
      "leads to index[2017] of 109.46131973108793\n",
      "but in [2017] should be 109.3\n"
     ]
    }
   ],
   "source": [
    "print('from index[1990] = {} with {} times a rate of {}' \n",
    "      .format(indices[-1], years[0]-years[-1], rates.mean()))\n",
    "print('leads to index[{}] of {}'\n",
    "      .format(years[0], indices[-1]*rates.mean()**(years[0]-years[-1])))\n",
    "print('but in [{}] should be {}'.format(years[0], indices[0]))"
   ]
  },
  {
   "cell_type": "markdown",
   "metadata": {
    "slideshow": {
     "slide_type": "subslide"
    }
   },
   "source": [
    "### mittlere Steigerung?\n",
    "\n",
    "Sei der Ausgangswert $p_0$ und die **Rate** im i-ten Intervall zum vorherigen $x_i=\\frac{p_i}{p_{i-1}}$, dann gilt bis zum Intervall $n$<br>\n",
    "$p_0\\cdot x_1\\cdot x_2\\cdot \\dotsc \\cdot x_n = p_0 \\cdot \\frac{p_1}{p_0} \\cdot \\frac{p_2}{p_1} \\cdot \\dotsc \\cdot \\frac{p_n}{p_{n-1}} = p_n$\n",
    "\n",
    "Gesucht ist die mittlere Wachstumsrate $w$, so daß gilt<br>\n",
    "$p_0\\cdot w^n = p_n$<br>\n",
    "beziehungsweise<br>\n",
    "$x_1\\cdot\\dotsc\\cdot x_n = w^n$\n",
    "\n",
    "\n",
    "\n",
    "Dann ist $w$, die mittlere Wachstumsrate, das *geometrische Mittel* der einzelnen Wachstumsraten."
   ]
  },
  {
   "cell_type": "markdown",
   "metadata": {
    "slideshow": {
     "slide_type": "slide"
    }
   },
   "source": [
    "## Geometrisches Mittel\n",
    "$$\\bar{x}_{geom} = \\sqrt[N]{x_1\\cdot x_2 \\cdot \\dotsc\\cdot x_N} = \\left( \\prod_{i=1}^N x_i\\right) ^{\\frac{1}{N}}$$"
   ]
  },
  {
   "cell_type": "code",
   "execution_count": 16,
   "metadata": {
    "slideshow": {
     "slide_type": "fragment"
    }
   },
   "outputs": [
    {
     "name": "stdout",
     "output_type": "stream",
     "text": [
      "arithmetic mean = 1.72323%\n",
      "geometric mean  = 1.71746% by scipy.stats.gmean()\n"
     ]
    }
   ],
   "source": [
    "m0 = rates.mean()\n",
    "print('arithmetic mean = {:.5f}%'.format(100*(m0-1)))\n",
    "\n",
    "import scipy.stats                         # contains geometric mean and lots of statistics...\n",
    "m2 = scipy.stats.gmean(rates)\n",
    "print('geometric mean  = {:.5f}% by scipy.stats.gmean()'.format(100*(m2-1)))"
   ]
  },
  {
   "cell_type": "code",
   "execution_count": 17,
   "metadata": {
    "slideshow": {
     "slide_type": "fragment"
    }
   },
   "outputs": [
    {
     "name": "stdout",
     "output_type": "stream",
     "text": [
      "The real data in 2017 is                                      109.3\n",
      "Starting with 70.2 in 1991 the arithmetic mean 1.017232 gives 109.46 in 2017\n",
      "Starting with 70.2 in 1991 the geometric  mean 1.017175 gives 109.30 in 2017\n"
     ]
    }
   ],
   "source": [
    "print('The real data in {} is                                      {}'\n",
    "      .format(years[0], indices[0]))\n",
    "print('Starting with {} in {} the arithmetic mean {:.6f} gives {:.2f} in {}'\n",
    "      .format(indices[-1], years[-1], m0, indices[-1]*(m0)**(years[0]-years[-1]), years[0]))\n",
    "print('Starting with {} in {} the geometric  mean {:.6f} gives {:.2f} in {}'\n",
    "      .format(indices[-1], years[-1], m2, indices[-1]*(m2)**(years[0]-years[-1]), years[0]))"
   ]
  },
  {
   "cell_type": "markdown",
   "metadata": {
    "slideshow": {
     "slide_type": "slide"
    }
   },
   "source": [
    "### Ein weiteres *Gegen*-Beispiel\n",
    "Jeden Tag tanken für 20€ bei sich ändernden Preisen. Welches ist der durchschnittliche Preis?\n",
    "\n",
    "Man erhält \n",
    "- bei einem Preis von $e$ €/l\n",
    "- für 20€\n",
    "- $l=\\frac{20}{e}$ Liter."
   ]
  },
  {
   "cell_type": "code",
   "execution_count": 18,
   "metadata": {
    "slideshow": {
     "slide_type": "fragment"
    }
   },
   "outputs": [
    {
     "name": "stdout",
     "output_type": "stream",
     "text": [
      "total liters bought: 137.9356 and total money 200.00EUR spent\n",
      "makes an average price of 1.4500 €/l\n",
      "arithmetic mean: 1.4600 €/l\n",
      "geometric mean: 1.4550 €/l\n"
     ]
    }
   ],
   "source": [
    "d = 10                      # number of days\n",
    "fixedeuros = 20.            # amount in Eur\n",
    "ppl = np.array([1.64, 1.62, 1.30, 1.49, 1.50, 1.58, 1.45, 1.38, 1.30, 1.34])  # prices\n",
    "liters = fixedeuros/ppl\n",
    "totaleuros = d*fixedeuros\n",
    "totalliters = liters.sum()\n",
    "print('total liters bought: {:.4f} and total money {:.2f}EUR spent'.format(totalliters, totaleuros))\n",
    "print('makes an average price of {:.4f} €/l'.format(totaleuros/totalliters))\n",
    "print('arithmetic mean: {:.4f} €/l'.format(ppl.mean()))\n",
    "print('geometric mean: {:.4f} €/l'.format(scipy.stats.gmean(ppl)))"
   ]
  },
  {
   "cell_type": "markdown",
   "metadata": {
    "slideshow": {
     "slide_type": "slide"
    }
   },
   "source": [
    "## harmonisches Mittel\n",
    "\n",
    "<br>\n",
    "\n",
    "$$\\bar{x}_{harm} = \\frac{1}{\\frac{1}{N} \\sum_{i=1}^N \\frac{1}{x_i}}$$"
   ]
  },
  {
   "cell_type": "markdown",
   "metadata": {
    "slideshow": {
     "slide_type": "fragment"
    }
   },
   "source": [
    "- Sinnvoll bei Verhältniszahlen\n",
    "- kann durchaus extremere Unterschiede zeigen wie im Beispiel<br>\n",
    "$x=\\{1, 4, 4\\}$ mit *arithmetischem* Mittel $3$ und *harmonischem* Mittel $2$"
   ]
  },
  {
   "cell_type": "code",
   "execution_count": 19,
   "metadata": {
    "slideshow": {
     "slide_type": "fragment"
    }
   },
   "outputs": [
    {
     "name": "stdout",
     "output_type": "stream",
     "text": [
      "harmonic mean: 1.4500 €/l\n"
     ]
    }
   ],
   "source": [
    "print('harmonic mean: {:.4f} €/l'.format(scipy.stats.hmean(ppl)))"
   ]
  },
  {
   "cell_type": "markdown",
   "metadata": {
    "slideshow": {
     "slide_type": "subslide"
    }
   },
   "source": [
    "### Anwendung Elektronik: Parallelschaltung von Widerständen\n",
    "Ohmsches Gesetz: $R=\\frac{U}{I}$, bei gleicher Spannung $U$ addieren sich die Stromstärken $I$\n",
    "\n",
    "$$R_{parallel} = \\frac{U}{I_1+I_2+\\dots+I_n} = \\frac{U}{\\frac{U}{R_1}+\\dots+\\frac{U}{R_n}} = \\frac{1}{\\frac{1}{R_1}+\\dots+\\frac{1}{R_n}}$$"
   ]
  },
  {
   "cell_type": "markdown",
   "metadata": {
    "slideshow": {
     "slide_type": "slide"
    }
   },
   "source": [
    "## Mittelwerte im Vergleich\n",
    "\n",
    "<br>\n",
    "\n",
    "$$x_{min} \\leq \\bar{x}_{harm} \\leq \\bar{x}_{geom} \\leq \\bar{x}_{arithm} \\leq x_{max} $$"
   ]
  },
  {
   "cell_type": "markdown",
   "metadata": {
    "slideshow": {
     "slide_type": "slide"
    }
   },
   "source": [
    "## Zusammenfassung\n",
    "\n",
    "Der Mittelwert liefert **eine** wichtige Kennzahl für die Daten\n",
    "- Modus\n",
    "$$x_i\\;:\\quad h_i \\geq h_j\\quad \\forall j$$\n",
    "- Median\n",
    "$$\\tilde{x} = x_{(\\frac{N+1}{2})} \\qquad (N \\; \\text{ungerade})$$\n",
    "- arithmetisches Mittel\n",
    "$$\\bar{x} = \\frac{1}{N}\\sum_{i=1}^Nx_i$$\n",
    "- geometrisches Mittel\n",
    "$$\\bar{x}_{geom} = \\sqrt[N]{x_1\\cdot x_2 \\cdot \\dotsc\\cdot x_N}$$\n",
    "- harmonisches Mittel\n",
    "$$\\bar{x}_{harm} = \\frac{1}{\\frac{1}{N} \\sum_{i=1}^N \\frac{1}{x_i}}$$"
   ]
  },
  {
   "cell_type": "markdown",
   "metadata": {
    "collapsed": true,
    "slideshow": {
     "slide_type": "slide"
    }
   },
   "source": [
    "# Fragen?"
   ]
  }
 ],
 "metadata": {
  "celltoolbar": "Slideshow",
  "kernelspec": {
   "display_name": "Python 3",
   "language": "python",
   "name": "python3"
  },
  "language_info": {
   "codemirror_mode": {
    "name": "ipython",
    "version": 3
   },
   "file_extension": ".py",
   "mimetype": "text/x-python",
   "name": "python",
   "nbconvert_exporter": "python",
   "pygments_lexer": "ipython3",
   "version": "3.7.0b3"
  }
 },
 "nbformat": 4,
 "nbformat_minor": 1
}
