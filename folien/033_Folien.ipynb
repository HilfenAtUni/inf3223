{
 "cells": [
  {
   "cell_type": "code",
   "execution_count": 1,
   "metadata": {
    "slideshow": {
     "slide_type": "skip"
    }
   },
   "outputs": [],
   "source": [
    "import numpy as np                       # mathematical methods"
   ]
  },
  {
   "cell_type": "markdown",
   "metadata": {
    "slideshow": {
     "slide_type": "slide"
    }
   },
   "source": [
    "# Wahrscheinlichkeitstheorie"
   ]
  },
  {
   "cell_type": "markdown",
   "metadata": {
    "slideshow": {
     "slide_type": "fragment"
    }
   },
   "source": [
    "## Diskrete Wahrscheinlichkeitstheorie - Überblick\n",
    "\n",
    "#### 1. Zufall\n",
    "\n",
    "- Zufallsvariable\n",
    "- Zufallsexperiment\n",
    "- Wahrscheinlichkeitsmaß\n",
    "- Wahrscheinlichkeitsverteilung\n",
    "- Axiome von Kolmogorov\n",
    "\n",
    "#### 2. Zusammengesetzte Wahrscheinlichkeiten\n",
    "\n",
    "- bedingte Wahrscheinlichkeit\n",
    "- gemeinsame Wahrscheinlichkeit\n",
    "- totale Wahrscheinlichkeit\n",
    "- Satz von Bayes\n",
    "\n",
    "#### <span style=\"color:blue\">3. Kenngrößen</span>\n",
    "\n",
    "- Erwartungswert\n",
    "- Varianz\n",
    "\n",
    "#### 4. Modellverteilungen"
   ]
  },
  {
   "cell_type": "markdown",
   "metadata": {
    "slideshow": {
     "slide_type": "skip"
    }
   },
   "source": [
    "## Wahrscheinlichkeitsraum  $(\\Omega, \\Sigma, P)$\n",
    "\n",
    "- Ergebnisraum $\\Omega = \\{\\omega_i\\}$: Menge aller elementaren Ergebnisse\n",
    "- Ereignisraum $\\Sigma$, bestehend aus allen möglichen Teilmengen von $\\Omega$\n",
    "- Wahrscheinlichkeitsmaß P\n",
    "    - ordnet jedem Ereignis aus $\\Sigma$ eine Wahrscheinlichkeit $P$ zu\n",
    "- Zufallsexperiment\n",
    "- Kolmogorov-Axiome\n",
    "    - σ-Additivität"
   ]
  },
  {
   "cell_type": "code",
   "execution_count": 1,
   "metadata": {
    "slideshow": {
     "slide_type": "skip"
    }
   },
   "outputs": [
    {
     "data": {
      "image/png": "[encoded data removed]",
      "text/plain": [
       "<IPython.core.display.Image object>"
      ]
     },
     "execution_count": 1,
     "metadata": {
      "image/png": {
       "width": "33%"
      }
     },
     "output_type": "execute_result"
    }
   ],
   "source": []
  },
  {
   "cell_type": "markdown",
   "metadata": {
    "slideshow": {
     "slide_type": "slide"
    }
   },
   "source": [
    "# Erfolg?\n",
    "## Beispiel Glücksrad"
   ]
  },
  {
   "cell_type": "code",
   "execution_count": 3,
   "metadata": {
    "slideshow": {
     "slide_type": "fragment"
    }
   },
   "outputs": [
    {
     "name": "stdout",
     "output_type": "stream",
     "text": [
      "[3 3 3 1 3 3 3 3 1 2 3 3 3 2 3 2 2 2 3 1] ...\n",
      "my win: 23\n"
     ]
    }
   ],
   "source": [
    "'''wheel of fortune\n",
    "   win 1€    if number 3\n",
    "   lose 1€   if number 1\n",
    "   no effect if number 2 '''\n",
    "N = 100                               # number of games to play\n",
    "# wheel randomization: 3's probability is twice the one of 1 and 2\n",
    "x = np.random.choice([1, 2, 3], size=N, p=[1/4, 1/4, 1/2])  \n",
    "print(x[:20],'...')                   # show 1st 20 numbers drawn from wheel \n",
    "wallet = 0                            # start with empty pockets, assume credit for bet\n",
    "for i in x:                           # all N bets sum up to\n",
    "    wallet += i-2                     # win = number - bet\n",
    "print('my win: {}'.format(wallet))"
   ]
  },
  {
   "cell_type": "code",
   "execution_count": 4,
   "metadata": {
    "slideshow": {
     "slide_type": "subslide"
    }
   },
   "outputs": [
    {
     "name": "stdout",
     "output_type": "stream",
     "text": [
      "x=[  0.0000  10.0000   2.0000   3.0000   4.0000  11.0000]\n",
      "p=[  0.3750   0.1250   0.1250   0.1250   0.1250   0.1250]\n",
      "y=[  0.0000   1.2500   0.2500   0.3750   0.5000   1.3750]\n",
      "drawing one card gives in average a value of 3.75\n",
      "  total pips in deck = 120.0\n",
      "  btw. mean of x is 5.0\n"
     ]
    }
   ],
   "source": [
    "'''---cards reloaded---'''\n",
    "# cards     789  10  J  Q  K  A\n",
    "x = np.array([0, 10, 2, 3, 4, 11])   # value of card\n",
    "p = np.ones_like(x)/8.               # probability of card 4/32\n",
    "p[0]*=3.                             # except for x=0  3 cards: 7,8,9\n",
    "y = p*x                              # probability times value\n",
    "original = np.get_printoptions()     # allow formatted printing\n",
    "np.set_printoptions(formatter={'float': '{: 8.4f}'.format})\n",
    "print('x={}'.format(1.0*x))\n",
    "print('p={}'.format(p))\n",
    "print('y={}'.format(y))\n",
    "ym = y.sum()                         # average value\n",
    "print('drawing one card gives in average a value of {}'.format(ym))\n",
    "print('  total pips in deck = {}'.format(32.*ym))\n",
    "np.set_printoptions(**original)      # restore print formatting \n",
    "print('  btw. mean of x is {}'.format(x.mean()))"
   ]
  },
  {
   "cell_type": "markdown",
   "metadata": {
    "slideshow": {
     "slide_type": "slide"
    }
   },
   "source": [
    "# Erwartungswert\n",
    "\n",
    "#### Beschreibende Statistik\n",
    "Mittelwert aus mehreren Beobachtungen\n",
    "$$\\overline{x} = \\frac{1}{N}\\sum_{i=1}^N x_i$$\n",
    "Beim Histogramm (Klasseneinteilung)\n",
    "$$\\approx \\overline{x'}=\\frac{1}{\\sum_{k=1}^{N_k}h_k}\\sum_{k=1}^{N_k}h_k(x_k)\\cdot x_k$$\n",
    "\n",
    "#### Häufigkeitsinterpretation\n",
    "Der Wert der bei sehr vielen $n\\rightarrow\\infty$ Versuchen im Mittel erreicht wird.\n",
    "\n",
    "$\\quad\\Leftrightarrow$ wahrscheinlichster Wert\n",
    "\n",
    "#### Wert, den wir fairerweise erwarten\n",
    "- Wettquote, langfristige Gewinnchance\n",
    "- Abgeleitet aus theoretischen Überlegungen"
   ]
  },
  {
   "cell_type": "markdown",
   "metadata": {
    "slideshow": {
     "slide_type": "subslide"
    }
   },
   "source": [
    "### die Werte *und* deren Verteilung\n",
    "Der Erwartungswert hängt von den Werten *und* von der Wahrscheinlichkeitsverteilung für die Werte ab\n",
    "- seltene tragen weniger dazu bei als häufigere\n",
    "- ist ein *fester* Wert"
   ]
  },
  {
   "cell_type": "markdown",
   "metadata": {
    "slideshow": {
     "slide_type": "slide"
    }
   },
   "source": [
    "## Definition Erwartungswert\n",
    "\n",
    "Sei $X$ eine diskrete **Zufallsvariable**\n",
    "- mit **Ergebnissen** (Elementarereignissen) $x_i$ $\\; i\\in\\{1,2,\\dots, N\\}$\n",
    "- und deren **Wahrscheinlichkeitsverteilung** $P(X=x)$, Abkürzung $p_i=p(X=x_i)$\n",
    "\n",
    "dann ist der **Erwartungswert** von $X$:\n",
    "\n",
    "<br>\n",
    "<div class=\"alert alert-block alert-success\">\n",
    "$$\\mu_X = \\mathcal{E}(X) = \\sum_{i=1}^N p_i\\cdot x_i$$\n",
    "</div>"
   ]
  },
  {
   "cell_type": "markdown",
   "metadata": {
    "slideshow": {
     "slide_type": "subslide"
    }
   },
   "source": [
    "$$\\mathcal{E}(X) = \\mu = \\sum_{i=1}^N p_i\\cdot x_i$$\n",
    "\n",
    "### Beispiel Glücksrad von vorhin\n",
    "    Einsatz:    2 €\n",
    "    Gewinn:  Zahl €\n",
    "\n",
    "    x=-1  p=1/4\n",
    "    x= 0  p=1/4\n",
    "    x=+1  p=1/2\n",
    "\n",
    "$\\mathcal{E}(X) = \\frac{1}{4}$"
   ]
  },
  {
   "cell_type": "code",
   "execution_count": 5,
   "metadata": {
    "slideshow": {
     "slide_type": "fragment"
    }
   },
   "outputs": [
    {
     "name": "stdout",
     "output_type": "stream",
     "text": [
      "normalized probability distribution? sum=1.000\n",
      "expectation value of x = 0.250\n"
     ]
    }
   ],
   "source": [
    "'''example: wheel of fortune'''\n",
    "xbsp = np.array([-1, 0, 1])            # outcomes -1 if number=1; +1 if number=3; 0 else\n",
    "pbsp = np.array([.25, .25, .50])       # probability according to angle on wheel\n",
    "print('normalized probability distribution? sum={:.3f}'.format(pbsp.sum()))\n",
    "expectation = np.asarray([x*p for x, p in zip(xbsp, pbsp)]).sum()\n",
    "print('expectation value of x = {:.3f}'.format(expectation))"
   ]
  },
  {
   "cell_type": "markdown",
   "metadata": {
    "slideshow": {
     "slide_type": "subslide"
    }
   },
   "source": [
    "## Transformationsregel für Erwartungswerte\n",
    "Sei $g(x)$ eine reelle Funktion, dann gilt für $Y=g(X)$\n",
    "\n",
    "$$\\mathcal{E}(Y) = \\mathcal{E}(g(X)) = \\sum_{i=1}^N g(x_i) p_i$$"
   ]
  },
  {
   "cell_type": "markdown",
   "metadata": {
    "slideshow": {
     "slide_type": "fragment"
    }
   },
   "source": [
    "### Lineare Transformation für Erwartungswerte\n",
    "Sei $Y=aX+b$, dann ist\n",
    "\n",
    "$$\\mathcal{E}(Y) = \\mathcal{E}(aX+b) = a\\mathcal{E}(X) + b$$"
   ]
  },
  {
   "cell_type": "markdown",
   "metadata": {
    "slideshow": {
     "slide_type": "fragment"
    }
   },
   "source": [
    "#### Beweis\n",
    "\n",
    "$\\mathcal{E}(aX+b)=\\sum_{i=1}^N (ax_i + b)p_i = a\\sum_{i=1}^N x_ip_i + b\\sum_{i=1}^N p_i = a\\mathcal{E}(X) + b\\cdot 1$"
   ]
  },
  {
   "cell_type": "markdown",
   "metadata": {
    "slideshow": {
     "slide_type": "subslide"
    }
   },
   "source": [
    "## Zusammenfassung Erwartungswert\n",
    "Definition: \n",
    "\n",
    "$$\\mathcal{E}(X) = \\mu_X = \\sum_{i=1}^N p_i\\cdot x_i$$\n",
    "\n",
    "- entspricht dem arithmetischen Mittelwert, wenn Laplace'sche *Gleichverteilung* angenommen wird\n",
    "    - $p=1/N$\n",
    "- entspricht dem arithmetischen Mittelwert, wenn relative Häufigkeiten (Klasseneinteilung) angenommen werden\n",
    "    - $p_i=\\frac{n_i}{N}$\n",
    "- Erstes Moment von $x$ über seiner Wahrscheinlichkeitsverteilung $p_i=p(x_i)$\n",
    "- durch Wahrscheinlichkeitsverteilung *fest*gelegt. \n",
    "    - charakteristischer Wert\n",
    "    - *jedes einzelne* Zufallsergebnis kann und wird durchaus vom Erwartungswert abweichen\n",
    "    - das durchschnittliche Ergebnis von *vielen gleichen* Zufallsexperimenten    "
   ]
  },
  {
   "cell_type": "markdown",
   "metadata": {
    "slideshow": {
     "slide_type": "slide"
    }
   },
   "source": [
    "# Streuung\n",
    "\n",
    "## Definition Varianz\n",
    "\n",
    "Sei $X$ eine Zufallsvariable mit Ausprägungen $x_i$ $\\; i\\in\\{1,2,\\dots, N\\}$, Erwartungswert $\\mu$ und  Wahrscheinlichkeitsverteilung $P(X=x)$, Abkürzung $p_i=p(X=x_i)$, dann ist die Varianz von $X$\n",
    "\n",
    "<div class=\"alert alert-block alert-success\">\n",
    "$$\\sigma^2 = \\mathrm{Var}(X) = \\sum_{i=1}^N p_i(x_i-\\mu)^2$$\n",
    "</div>"
   ]
  },
  {
   "cell_type": "code",
   "execution_count": 6,
   "metadata": {
    "slideshow": {
     "slide_type": "subslide"
    }
   },
   "outputs": [
    {
     "name": "stdout",
     "output_type": "stream",
     "text": [
      "variance as defined = 0.6875\n"
     ]
    }
   ],
   "source": [
    "'''variance for example wheel of fortune - a)'''\n",
    "# erw = np.asarray([x*p          for x, p in zip(xbsp, pbsp)]).sum()          # from above\n",
    "var_a = np.asarray([p*(x-expectation)**2 for x, p in zip(xbsp, pbsp)]).sum()  # variance defined\n",
    "print('variance as defined = {:.4f}'.format(var_a))"
   ]
  },
  {
   "cell_type": "markdown",
   "metadata": {
    "slideshow": {
     "slide_type": "subslide"
    }
   },
   "source": [
    "$$\\mathrm{Var}(X) = \\sigma^2 = \\sum_{i=1}^N p_i(x_i-\\mu)^2$$\n",
    "### Varianz als quadratische Abweichung\n",
    "Führt man eine neue Zufallsvariable $(X-\\mu)^2$ ein, so ist\n",
    "$$\\mathrm{Var}(X) = \\mathcal{E}((X-\\mu)^2)$$\n",
    "\n",
    "#### Interpretation\n",
    "Erwartete quadratische Abweichung von $X$ vom Mittelwert $\\mu$. \n",
    "\n",
    "Empirische Statistik: *durchschnittliche* quadratische Abweichung \n",
    "$$\\tilde{s}^2 = \\frac{1}{n}\\sum_{i=1}^n(x_i-\\overline{x})^2$$\n"
   ]
  },
  {
   "cell_type": "code",
   "execution_count": 7,
   "metadata": {
    "slideshow": {
     "slide_type": "fragment"
    }
   },
   "outputs": [
    {
     "name": "stdout",
     "output_type": "stream",
     "text": [
      "variance as expected squared difference = 0.6875\n"
     ]
    }
   ],
   "source": [
    "'''variance for example wheel of fortune - b)'''\n",
    "var_b = np.asarray([x*p for x, p in zip((xbsp-expectation)**2, pbsp)]).sum()\n",
    "print('variance as expected squared difference = {:.4f}'.format(var_b))"
   ]
  },
  {
   "cell_type": "markdown",
   "metadata": {
    "slideshow": {
     "slide_type": "subslide"
    }
   },
   "source": [
    "### Verschiebungssatz für Varianzen\n",
    "$$\\mathrm{Var}(X) = \\mathcal{E}(X^2-\\mathcal{E}(X)^2) = \\mathcal{E}(X^2)-\\mu^2$$"
   ]
  },
  {
   "cell_type": "markdown",
   "metadata": {
    "slideshow": {
     "slide_type": "fragment"
    }
   },
   "source": [
    "#### Beweis\n",
    "$\\begin{aligned}\n",
    "\\mathrm{Var}(X) &= \\mathcal{E}((X-\\mu)^2) \\\\\n",
    "\\; &= \\mathcal{E}((X^2 - 2\\mu X + \\mu^2)\\\\\n",
    "\\; &= \\mathcal{E}(X^2) + \\mathcal{E}(-2\\mu X) + \\mathcal{E}(\\mu^2)\\\\\n",
    "\\; &= \\mathcal{E}(X^2) - 2\\mu\\mathcal{E}(X) + \\mu^2\\\\\n",
    "\\; &= \\mathcal{E}(X^2) - 2\\mu^2 + \\mu^2\n",
    "\\end{aligned}$"
   ]
  },
  {
   "cell_type": "code",
   "execution_count": 8,
   "metadata": {
    "slideshow": {
     "slide_type": "fragment"
    }
   },
   "outputs": [
    {
     "name": "stdout",
     "output_type": "stream",
     "text": [
      "variance centralized = 0.6875\n"
     ]
    }
   ],
   "source": [
    "'''variance for example wheel of fortune - c)'''\n",
    "var_c = np.asarray([x*p for x, p in zip(xbsp**2, pbsp)]).sum()\n",
    "var_c -= expectation**2\n",
    "print('variance centralized = {:.4f}'.format(var_b))"
   ]
  },
  {
   "cell_type": "markdown",
   "metadata": {
    "slideshow": {
     "slide_type": "subslide"
    }
   },
   "source": [
    "### Varianz unter linearer Transformation\n",
    "$$\\mathrm{Var}(aX+b) = a^2 \\mathrm{Var}(X)$$\n",
    "\n",
    "#### Beweis:\n",
    "$\\mathrm{Var}(aX+b) = \\mathcal{E}([aX+b-\\mathcal{E}(aX+b)]^2)$\n",
    "\n",
    "$\\qquad = \\mathcal{E}([aX+b-a\\mathcal{E}(X)-b]^2)$\n",
    "\n",
    "$\\qquad = a^2\\mathcal{E}([X-\\mathcal{E}(X)]^2) = a^2\\mathrm{Var}(X)$"
   ]
  },
  {
   "cell_type": "code",
   "execution_count": 9,
   "metadata": {
    "slideshow": {
     "slide_type": "fragment"
    }
   },
   "outputs": [
    {
     "name": "stdout",
     "output_type": "stream",
     "text": [
      "variance under linear transformation 2x-3 = 2.7500\n"
     ]
    }
   ],
   "source": [
    "'''displacement rule for example wheel of fortune'''\n",
    "expT = np.asarray([x*p for x, p in zip(2*xbsp-3, pbsp)]).sum()\n",
    "varT = np.asarray([x*p for x, p in zip(((2*xbsp-3)-expT)**2, pbsp)]).sum()\n",
    "print('variance under linear transformation 2x-3 = {:.4f}'.format(varT))"
   ]
  },
  {
   "cell_type": "markdown",
   "metadata": {
    "slideshow": {
     "slide_type": "slide"
    }
   },
   "source": [
    "# Zusammenfassung:\n",
    "### Wichtige Kennzahlen einer Zufallsvariablen $X$ sind\n",
    "#### Erwartungswert\n",
    "$$\\mathcal{E}(X) = \\mu_X = \\sum_{i=1}^N p_i\\cdot x_i$$\n",
    "#### Varianz\n",
    "$$\\begin{aligned}\n",
    "\\mathrm{Var}(X) = \\sigma^2_X &= \\sum_{i=1}^N p_i(x_i-\\mu)^2\\\\\n",
    " &= \\mathcal{E}\\left( (X-\\mu_X)^2 \\right)\n",
    "\\end{aligned}$$\n",
    "\n",
    "#### Beides sind *feste* Größen der Zufallsvariablen $X$\n",
    "- Ergebnisse, Werte(bereich) $x_i$\n",
    "- Wahrscheinlichkeitsverteilung $p_i$"
   ]
  },
  {
   "cell_type": "markdown",
   "metadata": {
    "slideshow": {
     "slide_type": "subslide"
    }
   },
   "source": [
    "### Vergleiche mit\n",
    "Arithmetischem Mittelwert\n",
    "$$\\overline{x} = \\frac{1}{N}\\sum_{i=1}^Nx_i$$\n",
    "\n",
    "Empirischer Varianz\n",
    "$$s^2 = \\frac{1}{N} \\sum_{i=1}^{N} \\left( x_i-\\overline{x} \\right)^2$$"
   ]
  },
  {
   "cell_type": "code",
   "execution_count": 10,
   "metadata": {
    "slideshow": {
     "slide_type": "subslide"
    }
   },
   "outputs": [],
   "source": [
    "'''random variable X in Python'''\n",
    "omega = np.array([1, 2, 3])                # possible results of random experiment, e.g. wheel of fortune\n",
    "probabilities = np.array([.25, .25, .50])  # ... and their corresponding probabilities"
   ]
  },
  {
   "cell_type": "code",
   "execution_count": 11,
   "metadata": {
    "slideshow": {
     "slide_type": "fragment"
    }
   },
   "outputs": [
    {
     "name": "stdout",
     "output_type": "stream",
     "text": [
      "the result of 100 draws gave 2.3300 points in average\n"
     ]
    }
   ],
   "source": [
    "'''draw:\n",
    "   out of random variable X with elementary results X1..X3\n",
    "   with probabilities p1..p3 (same number as X, sum up to 1 (normalization))\n",
    "   N=100 random experiments'''\n",
    "xi = np.random.choice(omega, size=100, p=probabilities)\n",
    "print('the result of {} draws gave {:.4f} points in average'.format(len(xi), xi.mean()))"
   ]
  },
  {
   "cell_type": "code",
   "execution_count": 12,
   "metadata": {
    "slideshow": {
     "slide_type": "fragment"
    }
   },
   "outputs": [
    {
     "name": "stdout",
     "output_type": "stream",
     "text": [
      "Wheel of fortune has expectation value of 2.25 with standard deviation 0.82916\n"
     ]
    }
   ],
   "source": [
    "'''calculate Expectation Value'''\n",
    "expectation = (probabilities*omega).sum()      # numpy '*' multiplies element wise\n",
    "'''calculate Variance'''\n",
    "Var = (probabilities*(omega-expectation)**2).sum()\n",
    "print('Wheel of fortune has expectation value of {} with standard deviation {:.5f}'\n",
    "      .format(expectation, np.sqrt(Var)))"
   ]
  },
  {
   "cell_type": "markdown",
   "metadata": {
    "collapsed": true,
    "slideshow": {
     "slide_type": "slide"
    }
   },
   "source": [
    "# Fragen?"
   ]
  }
 ],
 "metadata": {
  "kernelspec": {
   "display_name": "Python 3",
   "language": "python",
   "name": "python3"
  },
  "language_info": {
   "codemirror_mode": {
    "name": "ipython",
    "version": 3
   },
   "file_extension": ".py",
   "mimetype": "text/x-python",
   "name": "python",
   "nbconvert_exporter": "python",
   "pygments_lexer": "ipython3",
   "version": "3.7.0b3"
  }
 },
 "nbformat": 4,
 "nbformat_minor": 1
}
